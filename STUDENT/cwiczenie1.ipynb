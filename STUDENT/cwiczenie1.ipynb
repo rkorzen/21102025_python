{
 "cells": [
  {
   "cell_type": "code",
   "execution_count": 5,
   "id": "f633b552-225d-4307-9ac3-a5822420bb01",
   "metadata": {},
   "outputs": [],
   "source": [
    "dane = [x for x in range(10)]\n",
    "labelki = [f\"numb_{x}\" for x in range(10)]"
   ]
  },
  {
   "cell_type": "code",
   "execution_count": 4,
   "id": "39eecb4b-61ea-4bec-93f7-16f0986eb017",
   "metadata": {},
   "outputs": [
    {
     "data": {
      "text/plain": [
       "[0, 1, 2, 3, 4, 5, 6, 7, 8, 9]"
      ]
     },
     "execution_count": 4,
     "metadata": {},
     "output_type": "execute_result"
    }
   ],
   "source": [
    "dane"
   ]
  },
  {
   "cell_type": "code",
   "execution_count": null,
   "id": "7d78dece-7d39-4895-902e-1e9b0b3e9b52",
   "metadata": {},
   "outputs": [],
   "source": []
  },
  {
   "cell_type": "code",
   "execution_count": null,
   "id": "fbac2428-62b6-49de-9401-8a841dc229d8",
   "metadata": {},
   "outputs": [],
   "source": []
  }
 ],
 "metadata": {
  "kernelspec": {
   "display_name": "Python 3 (ipykernel)",
   "language": "python",
   "name": "python3"
  },
  "language_info": {
   "codemirror_mode": {
    "name": "ipython",
    "version": 3
   },
   "file_extension": ".py",
   "mimetype": "text/x-python",
   "name": "python",
   "nbconvert_exporter": "python",
   "pygments_lexer": "ipython3",
   "version": "3.13.8"
  }
 },
 "nbformat": 4,
 "nbformat_minor": 5
}
