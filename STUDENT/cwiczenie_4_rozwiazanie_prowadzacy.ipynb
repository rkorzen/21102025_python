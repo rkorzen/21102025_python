{
 "cells": [
  {
   "cell_type": "code",
   "execution_count": 20,
   "id": "daeb2a76-78d0-46f7-8c00-78cca10253ce",
   "metadata": {},
   "outputs": [
    {
     "name": "stdout",
     "output_type": "stream",
     "text": [
      "{}\n",
      "{}\n",
      "{'cena': 10}\n",
      "{'cena': 10, 'cena_z_vat': 12.3}\n",
      "{'cena': 10, 'cena_z_vat': 12.3}\n"
     ]
    }
   ],
   "source": [
    "#Zaprojektuj funkcje, ktora przyjmie dowolna liczbe tekstow oraz dodatkowych parametrow, ktore beda wartosciami do podmiany w tych tekstach\n",
    "\n",
    "def dlugosc_pierwszego_elementu(item):\n",
    "    return len(item[0])\n",
    "\n",
    "\n",
    "def formatuj(*args, **kwargs):\n",
    "    print(kwargs)\n",
    "    text = \"\\n\".join(args)\n",
    "\n",
    "    for k, v in sorted(kwargs.items(), key=dlugosc_pierwszego_elementu, reverse=True):\n",
    "        text = text.replace(f\"${k}\", str(v))\n",
    "    return text    \n",
    "\n",
    "\n",
    "\n",
    "assert formatuj() == \"\"\n",
    "assert formatuj(\"A\", \"B\") == \"A\\nB\"\n",
    "assert formatuj(\"Cena wynosi: $cena\", cena=10) == \"Cena wynosi: 10\"\n",
    "\n",
    "formatuj(\"Cena wynosi: $cena\", \"Vat to $cena * 1.23 = $cena_z_vat\",  cena=10, cena_z_vat=10*1.23) \n",
    "assert (\n",
    "    formatuj(\"Cena wynosi: $cena\", \"Vat to $cena * 1.23 = $cena_z_vat\",  cena=10, cena_z_vat=10*1.23) == \n",
    "f\"Cena wynosi: 10\\nVat to 10 * 1.23 = {10*1.23}\")\n"
   ]
  },
  {
   "cell_type": "code",
   "execution_count": 12,
   "id": "c4ca48b5-3305-4c08-b16c-3b200a3f0c9d",
   "metadata": {},
   "outputs": [],
   "source": [
    "d = {'cena': 10, 'cena_z_vat': 12.3}"
   ]
  },
  {
   "cell_type": "code",
   "execution_count": 17,
   "id": "647fd8b7-d8bf-4ada-af58-c95dd5ec9242",
   "metadata": {},
   "outputs": [
    {
     "data": {
      "text/plain": [
       "[('cena_z_vat', 12.3), ('cena', 10)]"
      ]
     },
     "execution_count": 17,
     "metadata": {},
     "output_type": "execute_result"
    }
   ],
   "source": [
    "sorted(d.items(), key=lambda x: len(x[0]), reverse=True)"
   ]
  },
  {
   "cell_type": "code",
   "execution_count": 22,
   "id": "766493c5-b472-4e99-b60c-324cac38d346",
   "metadata": {},
   "outputs": [
    {
     "data": {
      "text/plain": [
       "[('cena_z_vat', 12.3), ('cena', 10)]"
      ]
     },
     "execution_count": 22,
     "metadata": {},
     "output_type": "execute_result"
    }
   ],
   "source": [
    "sorted(d.items(), reverse=True)"
   ]
  },
  {
   "cell_type": "code",
   "execution_count": 23,
   "id": "0e9edfc5-1db2-4d84-b42b-617fa1613b5e",
   "metadata": {},
   "outputs": [],
   "source": [
    "dane = [(3, \"a\"), (2, \"b\"), (1, \"c\")]"
   ]
  },
  {
   "cell_type": "code",
   "execution_count": 26,
   "id": "45e99cc0-2ff8-4f25-b31d-588232a80a18",
   "metadata": {},
   "outputs": [
    {
     "data": {
      "text/plain": [
       "[(1, 'c'), (2, 'b'), (3, 'a')]"
      ]
     },
     "execution_count": 26,
     "metadata": {},
     "output_type": "execute_result"
    }
   ],
   "source": [
    "sorted(dane, key=lambda x: x[1], reverse=True)"
   ]
  },
  {
   "cell_type": "code",
   "execution_count": null,
   "id": "6689b8db-2432-4191-bd47-354fbf337cae",
   "metadata": {},
   "outputs": [],
   "source": []
  }
 ],
 "metadata": {
  "kernelspec": {
   "display_name": "Python 3 (ipykernel)",
   "language": "python",
   "name": "python3"
  },
  "language_info": {
   "codemirror_mode": {
    "name": "ipython",
    "version": 3
   },
   "file_extension": ".py",
   "mimetype": "text/x-python",
   "name": "python",
   "nbconvert_exporter": "python",
   "pygments_lexer": "ipython3",
   "version": "3.13.8"
  }
 },
 "nbformat": 4,
 "nbformat_minor": 5
}
