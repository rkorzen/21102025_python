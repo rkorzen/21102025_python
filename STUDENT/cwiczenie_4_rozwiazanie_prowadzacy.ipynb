{
 "cells": [
  {
   "cell_type": "code",
   "execution_count": null,
   "id": "daeb2a76-78d0-46f7-8c00-78cca10253ce",
   "metadata": {},
   "outputs": [],
   "source": [
    "#Zaprojektuj funkcje, ktora przyjmie dowolna liczbe tekstow oraz dodatkowych parametrow, ktore beda wartosciami do podmiany w tych tekstach\n",
    "\n",
    "\n",
    "\n",
    "\n",
    "\n",
    "\n",
    "assert formatuj() == \"\"\n",
    "assert formatuj(\"A\", \"B\") == \"A\\nB\"\n",
    "assert formatuj(\"Cena wynosi: $cena\", cena=10) == \"Cena wynosi: 10\"\n",
    "\n",
    "assert (\n",
    "    formatuj(\"Cena wynosi: $cena\", \"Vat to $cena * 1.23 = $cena_z_vat\",  cena=10, cena_z_vat=10*1.23) == \n",
    "f\"Cena wynosi: 10\\nVat to 10 * 1.23 = {10*1.23}\")\n"
   ]
  }
 ],
 "metadata": {
  "kernelspec": {
   "display_name": "Python 3 (ipykernel)",
   "language": "python",
   "name": "python3"
  },
  "language_info": {
   "codemirror_mode": {
    "name": "ipython",
    "version": 3
   },
   "file_extension": ".py",
   "mimetype": "text/x-python",
   "name": "python",
   "nbconvert_exporter": "python",
   "pygments_lexer": "ipython3",
   "version": "3.13.8"
  }
 },
 "nbformat": 4,
 "nbformat_minor": 5
}
