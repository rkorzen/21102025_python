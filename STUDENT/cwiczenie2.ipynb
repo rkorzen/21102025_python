{
 "cells": [
  {
   "cell_type": "markdown",
   "id": "0ee65475-5051-4243-a622-59944cb51a47",
   "metadata": {},
   "source": [
    "W zadanym tekscie policz wystapienia kazdego znaku.\n",
    "\n"
   ]
  },
  {
   "cell_type": "code",
   "execution_count": 1,
   "id": "b341c031-e1d5-4c75-95b0-8cfd6158a6a5",
   "metadata": {},
   "outputs": [],
   "source": [
    "text = \"ddsdsd\""
   ]
  },
  {
   "cell_type": "code",
   "execution_count": null,
   "id": "e3a15268-504d-46cb-985d-2f4909cc7228",
   "metadata": {},
   "outputs": [],
   "source": []
  }
 ],
 "metadata": {
  "kernelspec": {
   "display_name": "Python 3 (ipykernel)",
   "language": "python",
   "name": "python3"
  },
  "language_info": {
   "codemirror_mode": {
    "name": "ipython",
    "version": 3
   },
   "file_extension": ".py",
   "mimetype": "text/x-python",
   "name": "python",
   "nbconvert_exporter": "python",
   "pygments_lexer": "ipython3",
   "version": "3.13.8"
  }
 },
 "nbformat": 4,
 "nbformat_minor": 5
}
