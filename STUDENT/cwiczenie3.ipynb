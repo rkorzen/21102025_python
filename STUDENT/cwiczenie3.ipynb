{
 "cells": [
  {
   "metadata": {},
   "cell_type": "markdown",
   "source": [
    "## Ćwiczenia do wykonania\n",
    "1. Napisz funkcję konwertującą liczbę z dowolnego systemu (2–16) na dziesiętny i odwrotnie, z walidacją wejścia. (W systemie dziesietnym nie ma np cyfry 'a' a w ósemkowym cyfry 9)"
   ],
   "id": "6a837c3d807f7da0"
  },
  {
   "metadata": {},
   "cell_type": "code",
   "outputs": [],
   "execution_count": null,
   "source": "",
   "id": "524744254a2ea797"
  },
  {
   "metadata": {},
   "cell_type": "markdown",
   "source": [
    "\n",
    "2. Porównaj wyniki obliczeń procentowych dla `float`, `Decimal` i `Fraction` w scenariuszu rozliczeń finansowych (np. rabat 17,5% od kwoty 319,99)."
   ],
   "id": "de2a5158e26fdd25"
  },
  {
   "metadata": {},
   "cell_type": "code",
   "outputs": [],
   "execution_count": null,
   "source": "",
   "id": "c312773dadf002d5"
  },
  {
   "metadata": {
    "collapsed": true
   },
   "cell_type": "markdown",
   "source": [
    "\n",
    "## 🧩 Ćwiczenie: konfiguracja sklepu internetowego\n",
    "\n",
    "Masz trzy źródła ustawień dla aplikacji sklepu:\n",
    "\n",
    "```python\n",
    "defaults = {\n",
    "    \"currency\": \"PLN\",\n",
    "    \"discount\": 0.0,\n",
    "    \"debug\": False,\n",
    "}\n",
    "\n",
    "env_config = {\n",
    "    \"debug\": True,\n",
    "}\n",
    "\n",
    "user_config = {\n",
    "    \"discount\": 0.15,\n",
    "}\n",
    "```\n",
    "\n",
    "Twoim zadaniem jest:\n",
    "\n",
    "1. 🔹 Utworzyć `ChainMap`, który **łączy** te konfiguracje w kolejności:\n",
    "   `user_config > env_config > defaults`\n",
    "   (czyli użytkownik ma najwyższy priorytet).\n",
    "\n",
    "2. 🔹 Wypisać:\n",
    "\n",
    "   * aktualną walutę (`currency`)\n",
    "   * rabat (`discount`)\n",
    "   * tryb debug (`debug`)\n",
    "\n",
    "3. 🔹 Dodać nową warstwę tymczasową (np. `{\"currency\": \"EUR\"}`),\n",
    "   i sprawdzić, **czy waluta** zmieni się tylko w tej warstwie.\n",
    "\n",
    "---\n",
    "\n",
    "### ✅ Oczekiwany wynik\n",
    "\n",
    "```\n",
    "discount: 0.15\n",
    "currency: PLN\n",
    "debug: True\n",
    "---\n",
    "po dodaniu warstwy tymczasowej:\n",
    "currency: EUR\n",
    "```\n",
    "\n",
    "---\n",
    "\n",
    "### 💬 Dla chętnych:\n",
    "\n",
    "* Spróbuj zmienić `settings[\"discount\"] = 0.2`\n",
    "  i sprawdź, **który słownik** w `settings.maps` został zmodyfikowany.\n",
    "* Wyświetl `settings.maps`, żeby zobaczyć kolejność warstw."
   ],
   "id": "5e6b2281a149d021"
  },
  {
   "metadata": {},
   "cell_type": "code",
   "outputs": [],
   "execution_count": null,
   "source": "",
   "id": "33439629e72f975a"
  }
 ],
 "metadata": {
  "kernelspec": {
   "display_name": "Python 3",
   "language": "python",
   "name": "python3"
  },
  "language_info": {
   "codemirror_mode": {
    "name": "ipython",
    "version": 2
   },
   "file_extension": ".py",
   "mimetype": "text/x-python",
   "name": "python",
   "nbconvert_exporter": "python",
   "pygments_lexer": "ipython2",
   "version": "2.7.6"
  }
 },
 "nbformat": 4,
 "nbformat_minor": 5
}
