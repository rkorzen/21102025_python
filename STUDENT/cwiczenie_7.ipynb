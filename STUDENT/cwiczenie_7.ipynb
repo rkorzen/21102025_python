{
 "cells": [
  {
   "cell_type": "markdown",
   "id": "f153ae68-1acb-45f5-8def-090f2a4cd4c6",
   "metadata": {},
   "source": [
    "### zadanie: napisz dekoratoryu bold i italic, ktore beda dzialac w ten sposob, ze wynik oryginalnej funkcji otocza znacznikami, odpowiednio:\n",
    "\n",
    "```\n",
    "    <b>oryginalny wynik</b>\n",
    "    <i>osdsdsd</i>\n",
    "```\n",
    "\n",
    "```python\n",
    "    @bold\n",
    "    def hello():\n",
    "        return \"hello world\"\n",
    "    \n",
    "    \n",
    "    assert hello() == \"<b>hello world</b>\"\n",
    "    \n",
    "    \n",
    "    @italic\n",
    "    def hello():\n",
    "        return \"hello world\"\n",
    "    \n",
    "    assert hello() == \"<i>hello world</i>\"\n",
    "    \n",
    "    @bold\n",
    "    @italic\n",
    "    def hello():\n",
    "        return \"hello world\"\n",
    "    \n",
    "    assert hello() == \"<b><i>hello world</i></b>\"\n",
    "\n",
    "```"
   ]
  },
  {
   "cell_type": "code",
   "execution_count": null,
   "id": "d434e315-d522-460f-95c6-54045a9dd739",
   "metadata": {},
   "outputs": [],
   "source": []
  }
 ],
 "metadata": {
  "kernelspec": {
   "display_name": "Python 3 (ipykernel)",
   "language": "python",
   "name": "python3"
  },
  "language_info": {
   "codemirror_mode": {
    "name": "ipython",
    "version": 3
   },
   "file_extension": ".py",
   "mimetype": "text/x-python",
   "name": "python",
   "nbconvert_exporter": "python",
   "pygments_lexer": "ipython3",
   "version": "3.13.8"
  }
 },
 "nbformat": 4,
 "nbformat_minor": 5
}
