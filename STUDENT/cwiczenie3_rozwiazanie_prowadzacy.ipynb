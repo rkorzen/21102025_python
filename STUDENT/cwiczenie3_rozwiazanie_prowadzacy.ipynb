{
 "cells": [
  {
   "cell_type": "markdown",
   "id": "6a837c3d807f7da0",
   "metadata": {},
   "source": [
    "## Ćwiczenia do wykonania\n",
    "1. Napisz funkcję konwertującą liczbę z dowolnego systemu (2–16) na dziesiętny i odwrotnie, z walidacją wejścia. (W systemie dziesietnym nie ma np cyfry 'a' a w ósemkowym cyfry 9)"
   ]
  },
  {
   "cell_type": "code",
   "execution_count": 47,
   "id": "524744254a2ea797",
   "metadata": {},
   "outputs": [],
   "source": [
    "VALUE_DIGITS = \"0123456789ABCDEF\"\n",
    "\n",
    "def valid_range(v, name, start=2, stop=16):\n",
    "    if not start <= v <= stop:\n",
    "        raise ValueError(f\"{name} musi mieć wartości od 2 do 16\")\n",
    "\n",
    "def valid_values(collection, allowed, base_from):\n",
    "    if any(ch not in allowed for ch in collection):\n",
    "        raise ValueError(f\"Wartość '{value}' nie pasuje do systemu {base_from}\")\n",
    "\n",
    "def convert_number(value, base_from, base_to):\n",
    "\n",
    "    valid_range(base_from, \"base_from\")\n",
    "    valid_range(base_to, \"base_to\")\n",
    "\n",
    "    # normalizacja wejscia\n",
    "    value = value.strip().upper()\n",
    "\n",
    "    allowed = VALUE_DIGITS[:base_from]\n",
    "\n",
    "    valid_values(value, allowed, base_from)\n",
    "\n",
    "    # konwersja na dziesietny\n",
    "    decimal_value = int(value, base_from)\n",
    "\n",
    "    if base_to == 10:\n",
    "        return str(decimal_value)\n",
    "\n",
    "    # konwersja z dziesietnego na docelowy\n",
    "\n",
    "    digits = []\n",
    "    while decimal_value > 0:\n",
    "        remainder = decimal_value % base_to\n",
    "        digits.append(valid_digits[remainder])\n",
    "        decimal_value //= base_to\n",
    "\n",
    "    return \"\".join(reversed(digits))"
   ]
  },
  {
   "cell_type": "code",
   "execution_count": 48,
   "id": "6d7c612a-49a8-4585-a0df-63d336f61aba",
   "metadata": {},
   "outputs": [
    {
     "data": {
      "text/plain": [
       "'15'"
      ]
     },
     "execution_count": 48,
     "metadata": {},
     "output_type": "execute_result"
    }
   ],
   "source": [
    "convert_number(\"F\", 16, 10)"
   ]
  },
  {
   "cell_type": "code",
   "execution_count": 49,
   "id": "b9f75740-695c-4116-80b7-f79f11905031",
   "metadata": {},
   "outputs": [],
   "source": [
    "assert convert_number(\"1\", 2, 10) == \"1\"\n",
    "assert convert_number(\"10\", 2, 10) == \"2\"\n",
    "assert convert_number(\"F\", 16, 10) == \"15\"\n"
   ]
  },
  {
   "cell_type": "markdown",
   "id": "de2a5158e26fdd25",
   "metadata": {},
   "source": [
    "\n",
    "2. Porównaj wyniki obliczeń procentowych dla `float`, `Decimal` i `Fraction` w scenariuszu rozliczeń finansowych (np. rabat 17,5% od kwoty 319,99)."
   ]
  },
  {
   "cell_type": "code",
   "execution_count": 22,
   "id": "c312773dadf002d5",
   "metadata": {},
   "outputs": [],
   "source": [
    "from decimal import Decimal\n",
    "from fractions import Fraction"
   ]
  },
  {
   "cell_type": "code",
   "execution_count": 25,
   "id": "9b68a1e7-9169-4669-8bf6-bc2367d021b1",
   "metadata": {},
   "outputs": [
    {
     "name": "stdout",
     "output_type": "stream",
     "text": [
      "float: 263.99174999999997\n",
      "decimal: 263.99175\n",
      "fraction: 1055967/4000\n",
      "fraction: 263.99175\n"
     ]
    }
   ],
   "source": [
    "# zestaw float\n",
    "\n",
    "kwota_f = 319.99\n",
    "rabat_f = 0.175\n",
    "wynik_f = kwota_f * (1 - rabat_f)\n",
    "print(\"float:\", wynik_f)\n",
    "\n",
    "kwota_d = Decimal(\"319.99\")\n",
    "rabat_d = Decimal(\"0.175\")\n",
    "wynik_d = kwota_d * (Decimal(1) - rabat_d)\n",
    "print(\"decimal:\", wynik_d)\n",
    "\n",
    "kwota_fr = Fraction(31999, 100)\n",
    "rabat_fr = Fraction(175, 1000)\n",
    "wynik_fr = kwota_fr * (1 - rabat_fr)\n",
    "print(\"fraction:\", wynik_fr)\n",
    "print(\"fraction:\", float(wynik_fr))\n"
   ]
  },
  {
   "cell_type": "markdown",
   "id": "5e6b2281a149d021",
   "metadata": {
    "collapsed": true,
    "jupyter": {
     "outputs_hidden": true
    }
   },
   "source": [
    "\n",
    "## 🧩 Ćwiczenie: konfiguracja sklepu internetowego\n",
    "\n",
    "Masz trzy źródła ustawień dla aplikacji sklepu:\n",
    "\n",
    "```python\n",
    "defaults = {\n",
    "    \"currency\": \"PLN\",\n",
    "    \"discount\": 0.0,\n",
    "    \"debug\": False,\n",
    "}\n",
    "\n",
    "env_config = {\n",
    "    \"debug\": True,\n",
    "}\n",
    "\n",
    "user_config = {\n",
    "    \"discount\": 0.15,\n",
    "}\n",
    "```\n",
    "\n",
    "Twoim zadaniem jest:\n",
    "\n",
    "1. 🔹 Utworzyć `ChainMap`, który **łączy** te konfiguracje w kolejności:\n",
    "   `user_config > env_config > defaults`\n",
    "   (czyli użytkownik ma najwyższy priorytet).\n",
    "\n",
    "2. 🔹 Wypisać:\n",
    "\n",
    "   * aktualną walutę (`currency`)\n",
    "   * rabat (`discount`)\n",
    "   * tryb debug (`debug`)\n",
    "\n",
    "3. 🔹 Dodać nową warstwę tymczasową (np. `{\"currency\": \"EUR\"}`),\n",
    "   i sprawdzić, **czy waluta** zmieni się tylko w tej warstwie.\n",
    "\n",
    "---\n",
    "\n",
    "### ✅ Oczekiwany wynik\n",
    "\n",
    "```\n",
    "discount: 0.15\n",
    "currency: PLN\n",
    "debug: True\n",
    "---\n",
    "po dodaniu warstwy tymczasowej:\n",
    "currency: EUR\n",
    "```\n",
    "\n",
    "---\n",
    "\n",
    "### 💬 Dla chętnych:\n",
    "\n",
    "* Spróbuj zmienić `settings[\"discount\"] = 0.2`\n",
    "  i sprawdź, **który słownik** w `settings.maps` został zmodyfikowany.\n",
    "* Wyświetl `settings.maps`, żeby zobaczyć kolejność warstw."
   ]
  },
  {
   "cell_type": "code",
   "execution_count": 1,
   "id": "33439629e72f975a",
   "metadata": {},
   "outputs": [],
   "source": [
    "from collections import ChainMap\n",
    "\n",
    "defaults = {\n",
    "    \"currency\": \"PLN\",\n",
    "    \"discount\": 0.0,\n",
    "    \"debug\": False,\n",
    "}\n",
    "\n",
    "env_config = {\n",
    "    \"debug\": True,\n",
    "}\n",
    "\n",
    "user_config = {\n",
    "    \"discount\": 0.15,\n",
    "}"
   ]
  },
  {
   "cell_type": "code",
   "execution_count": 2,
   "id": "db5ea45f-4fb8-47ed-9ae9-421df20a7625",
   "metadata": {},
   "outputs": [],
   "source": [
    "settings = ChainMap(user_config, env_config, defaults)\n"
   ]
  },
  {
   "cell_type": "code",
   "execution_count": 5,
   "id": "0cddb936-e59c-4ebd-851b-49142b5e7d00",
   "metadata": {},
   "outputs": [
    {
     "name": "stdout",
     "output_type": "stream",
     "text": [
      "KeysView(ChainMap({'discount': 0.15}, {'debug': True}, {'currency': 'PLN', 'discount': 0.0, 'debug': False}))\n"
     ]
    }
   ],
   "source": [
    "print(settings.keys())"
   ]
  },
  {
   "cell_type": "code",
   "execution_count": 10,
   "id": "4c13ca81-e8ee-4477-ba0b-a0768ca29ff7",
   "metadata": {},
   "outputs": [
    {
     "name": "stdout",
     "output_type": "stream",
     "text": [
      "currency: PLN\n",
      "discount: 0.15\n",
      "debug: True\n"
     ]
    }
   ],
   "source": [
    "for k, v in settings.items():\n",
    "    print(f\"{k}: {v}\")"
   ]
  },
  {
   "cell_type": "code",
   "execution_count": 11,
   "id": "898dfd8e-4f23-4140-996e-d7ef0eb4f3c6",
   "metadata": {},
   "outputs": [
    {
     "data": {
      "text/plain": [
       "['_MutableMapping__marker',\n",
       " '__abstractmethods__',\n",
       " '__bool__',\n",
       " '__class__',\n",
       " '__class_getitem__',\n",
       " '__contains__',\n",
       " '__copy__',\n",
       " '__delattr__',\n",
       " '__delitem__',\n",
       " '__dict__',\n",
       " '__dir__',\n",
       " '__doc__',\n",
       " '__eq__',\n",
       " '__firstlineno__',\n",
       " '__format__',\n",
       " '__ge__',\n",
       " '__getattribute__',\n",
       " '__getitem__',\n",
       " '__getstate__',\n",
       " '__gt__',\n",
       " '__hash__',\n",
       " '__init__',\n",
       " '__init_subclass__',\n",
       " '__ior__',\n",
       " '__iter__',\n",
       " '__le__',\n",
       " '__len__',\n",
       " '__lt__',\n",
       " '__missing__',\n",
       " '__module__',\n",
       " '__ne__',\n",
       " '__new__',\n",
       " '__or__',\n",
       " '__reduce__',\n",
       " '__reduce_ex__',\n",
       " '__repr__',\n",
       " '__reversed__',\n",
       " '__ror__',\n",
       " '__setattr__',\n",
       " '__setitem__',\n",
       " '__sizeof__',\n",
       " '__slots__',\n",
       " '__static_attributes__',\n",
       " '__str__',\n",
       " '__subclasshook__',\n",
       " '__weakref__',\n",
       " '_abc_impl',\n",
       " 'clear',\n",
       " 'copy',\n",
       " 'fromkeys',\n",
       " 'get',\n",
       " 'items',\n",
       " 'keys',\n",
       " 'maps',\n",
       " 'new_child',\n",
       " 'parents',\n",
       " 'pop',\n",
       " 'popitem',\n",
       " 'setdefault',\n",
       " 'update',\n",
       " 'values']"
      ]
     },
     "execution_count": 11,
     "metadata": {},
     "output_type": "execute_result"
    }
   ],
   "source": [
    "dir(settings)"
   ]
  },
  {
   "cell_type": "code",
   "execution_count": 15,
   "id": "c3bf3447-03a3-4a14-b1d5-21495c37be55",
   "metadata": {},
   "outputs": [],
   "source": [
    "temp_settings = settings.new_child({\"currency\": \"EUR\"})"
   ]
  },
  {
   "cell_type": "code",
   "execution_count": 14,
   "id": "94f443f8-63bd-4036-9b27-ec05a8480184",
   "metadata": {},
   "outputs": [
    {
     "data": {
      "text/plain": [
       "ChainMap({'discount': 0.15}, {'debug': True}, {'currency': 'PLN', 'discount': 0.0, 'debug': False})"
      ]
     },
     "execution_count": 14,
     "metadata": {},
     "output_type": "execute_result"
    }
   ],
   "source": [
    "settings"
   ]
  },
  {
   "cell_type": "code",
   "execution_count": 17,
   "id": "64b680a6-9c0c-4499-84ef-ecb1ba9cf224",
   "metadata": {},
   "outputs": [
    {
     "data": {
      "text/plain": [
       "'EUR'"
      ]
     },
     "execution_count": 17,
     "metadata": {},
     "output_type": "execute_result"
    }
   ],
   "source": [
    "temp_settings[\"currency\"]"
   ]
  },
  {
   "cell_type": "code",
   "execution_count": 18,
   "id": "f76c7626-011f-45cd-b5c5-f5286baf0697",
   "metadata": {},
   "outputs": [
    {
     "data": {
      "text/plain": [
       "'PLN'"
      ]
     },
     "execution_count": 18,
     "metadata": {},
     "output_type": "execute_result"
    }
   ],
   "source": [
    "settings[\"currency\"]"
   ]
  },
  {
   "cell_type": "code",
   "execution_count": 21,
   "id": "0ee6d484-c080-4045-8fc0-f204ff4bd8e5",
   "metadata": {},
   "outputs": [
    {
     "data": {
      "text/plain": [
       "ChainMap({'discount': 0.15}, {'debug': True}, {'currency': 'PLN', 'discount': 0.0, 'debug': False})"
      ]
     },
     "execution_count": 21,
     "metadata": {},
     "output_type": "execute_result"
    }
   ],
   "source": [
    "temp_settings.parents"
   ]
  },
  {
   "cell_type": "code",
   "execution_count": null,
   "id": "edcf7d61-0ae9-442a-9e94-4b1b737dc82e",
   "metadata": {},
   "outputs": [],
   "source": []
  }
 ],
 "metadata": {
  "kernelspec": {
   "display_name": "Python 3 (ipykernel)",
   "language": "python",
   "name": "python3"
  },
  "language_info": {
   "codemirror_mode": {
    "name": "ipython",
    "version": 3
   },
   "file_extension": ".py",
   "mimetype": "text/x-python",
   "name": "python",
   "nbconvert_exporter": "python",
   "pygments_lexer": "ipython3",
   "version": "3.13.8"
  }
 },
 "nbformat": 4,
 "nbformat_minor": 5
}
