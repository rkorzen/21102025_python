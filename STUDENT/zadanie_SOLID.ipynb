{
 "cells": [
  {
   "cell_type": "markdown",
   "metadata": {},
   "source": [
    "### **Zadanie: Refaktoryzacja kodu pod kątem SOLID**\n",
    "\n",
    "Masz kod, który działa, ale łamie kilka zasad SOLID. Twoim zadaniem jest poprawienie go tak, aby przestrzegał tych zasad. Kod jest prosty, ale pełen potencjalnych problemów związanych z rozszerzalnością i utrzymaniem.\n",
    "\n",
    "---\n",
    "\n",
    "#### **Zastany kod:**\n",
    "```python\n",
    "class Order:\n",
    "    def __init__(self, items, total_price):\n",
    "        self.items = items\n",
    "        self.total_price = total_price\n",
    "\n",
    "    def calculate_discount(self, customer_type):\n",
    "        if customer_type == \"regular\":\n",
    "            return self.total_price * 0.9\n",
    "        elif customer_type == \"vip\":\n",
    "            return self.total_price * 0.8\n",
    "        else:\n",
    "            return self.total_price\n",
    "\n",
    "    def generate_invoice(self):\n",
    "        invoice = f\"Invoice:\\nItems: {self.items}\\nTotal: {self.total_price}\"\n",
    "        with open(\"invoice.txt\", \"w\") as file:\n",
    "            file.write(invoice)\n",
    "        return invoice\n",
    "\n",
    "    def send_email(self, email):\n",
    "        invoice = self.generate_invoice()\n",
    "        print(f\"Sending email to {email} with the following invoice:\\n{invoice}\")\n",
    "```\n",
    "\n",
    "---\n",
    "\n",
    "#### **Twoje zadanie:**\n",
    "\n",
    "1. **Zidentyfikuj problemy:**\n",
    "   - Które zasady SOLID są łamane?\n",
    "   - Dlaczego kod jest trudny do rozszerzenia i utrzymania?\n",
    "\n",
    "2. **Zrefaktoryzuj kod:**\n",
    "   - Zastosuj odpowiednie zasady SOLID.\n",
    "   - Upewnij się, że kod jest elastyczny, łatwy w testowaniu i zgodny z dobrymi praktykami.\n",
    "\n",
    "---\n",
    "\n",
    "#### **Wynik oczekiwany:**\n",
    "\n",
    "1. Kod powinien być podzielony na mniejsze, bardziej odpowiedzialne klasy.\n",
    "2. Logika rabatów, generowania faktur i wysyłania e-maili powinna być oddzielona.\n",
    "3. Nowe typy rabatów (np. „student”) powinny być łatwe do dodania bez modyfikowania istniejącego kodu.\n",
    "\n"
   ]
  },
  {
   "cell_type": "markdown",
   "metadata": {},
   "source": []
  }
 ],
 "metadata": {
  "language_info": {
   "name": "python"
  }
 },
 "nbformat": 4,
 "nbformat_minor": 2
}
