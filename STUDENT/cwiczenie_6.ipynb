{
 "cells": [
  {
   "cell_type": "markdown",
   "id": "154031e9-d92c-4d55-a708-1822143abf94",
   "metadata": {},
   "source": [
    "Utworz fabryke funkcji potegujacych - wykorzystaj domkniecia (clojures)"
   ]
  },
  {
   "cell_type": "code",
   "execution_count": null,
   "id": "c935f13f-2376-4155-81b5-e49ddd128ea1",
   "metadata": {},
   "outputs": [],
   "source": []
  }
 ],
 "metadata": {
  "kernelspec": {
   "display_name": "Python 3 (ipykernel)",
   "language": "python",
   "name": "python3"
  },
  "language_info": {
   "codemirror_mode": {
    "name": "ipython",
    "version": 3
   },
   "file_extension": ".py",
   "mimetype": "text/x-python",
   "name": "python",
   "nbconvert_exporter": "python",
   "pygments_lexer": "ipython3",
   "version": "3.13.8"
  }
 },
 "nbformat": 4,
 "nbformat_minor": 5
}
