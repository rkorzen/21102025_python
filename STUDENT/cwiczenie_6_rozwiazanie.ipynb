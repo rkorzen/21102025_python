{
 "cells": [
  {
   "cell_type": "markdown",
   "id": "154031e9-d92c-4d55-a708-1822143abf94",
   "metadata": {},
   "source": [
    "Utworz fabryke funkcji potegujacych - wykorzystaj domkniecia (clojures)"
   ]
  },
  {
   "cell_type": "code",
   "execution_count": 3,
   "id": "c935f13f-2376-4155-81b5-e49ddd128ea1",
   "metadata": {},
   "outputs": [],
   "source": [
    "\n",
    "def make_power(n):\n",
    "     def power(x):\n",
    "         return x ** n\n",
    "     return power \n",
    "\n",
    "square = make_power(n=2)\n",
    "cube = make_power(3)\n",
    "to_forth = make_power(4)\n",
    "\n",
    "\n",
    "assert square(x=5) == 25\n",
    "assert cube(3) == 27\n",
    "assert to_forth(2) == 16\n",
    "\n",
    "\n",
    "assert make_power(2)(x=5) == 25\n",
    "assert make_power(n=3)(x=3) == 27\n",
    "assert make_power(4)(2) == 16"
   ]
  },
  {
   "cell_type": "code",
   "execution_count": null,
   "id": "8d8b0d0c-0481-493b-bb9a-2e29e634f861",
   "metadata": {},
   "outputs": [],
   "source": [
    "def make_power(n, x):\n",
    "    retrun x ** n"
   ]
  }
 ],
 "metadata": {
  "kernelspec": {
   "display_name": "Python 3 (ipykernel)",
   "language": "python",
   "name": "python3"
  },
  "language_info": {
   "codemirror_mode": {
    "name": "ipython",
    "version": 3
   },
   "file_extension": ".py",
   "mimetype": "text/x-python",
   "name": "python",
   "nbconvert_exporter": "python",
   "pygments_lexer": "ipython3",
   "version": "3.13.8"
  }
 },
 "nbformat": 4,
 "nbformat_minor": 5
}
