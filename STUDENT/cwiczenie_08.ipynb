{
 "cells": [
  {
   "cell_type": "markdown",
   "id": "741d51cb-654c-4477-9e82-f45058f32782",
   "metadata": {},
   "source": [
    "Stworz klase Employee, ktora umozliwia rejestracje czasu oraz wyplate pensji\n",
    "\n",
    "\n",
    "    e = Employee(name=\"Rafal\", rate_per_hour=200)\n",
    "    e.register_time(5)\n",
    "    assert e.pay_salary() == 5 * 200\n",
    "    e.register_time(10)\n",
    "    assert e.pay_salary() == 8 * 200 + 2 * 400\n",
    "    assert e.pay_salary() == 0\n",
    "\n",
    "\n",
    "stworz klase PremiumEmploye\n",
    "\n",
    "    bonus = QuotaBouns(200)\n",
    "    \n",
    "    e.add_bonus(bonus)\n",
    "\n",
    "    percent_bonus = PercentBonus(10)\n",
    "    \n",
    "    e.add_bonus(percent_bonus)\n",
    "\n",
    "do podstawowej pensji najpierw stosujemy bonusy procentowe (np jak ma dwa po 10 procent, to je sumujemy i naliczamy)\n",
    "doliczamy do tego potem bonusy kwotowe\n",
    "\n"
   ]
  },
  {
   "cell_type": "code",
   "execution_count": null,
   "id": "fca1f5e6-afa1-4d9f-a049-b7dc29eb937c",
   "metadata": {},
   "outputs": [],
   "source": []
  }
 ],
 "metadata": {
  "kernelspec": {
   "display_name": "Python 3 (ipykernel)",
   "language": "python",
   "name": "python3"
  },
  "language_info": {
   "codemirror_mode": {
    "name": "ipython",
    "version": 3
   },
   "file_extension": ".py",
   "mimetype": "text/x-python",
   "name": "python",
   "nbconvert_exporter": "python",
   "pygments_lexer": "ipython3",
   "version": "3.13.8"
  }
 },
 "nbformat": 4,
 "nbformat_minor": 5
}
