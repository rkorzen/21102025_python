{
 "cells": [
  {
   "cell_type": "code",
   "execution_count": null,
   "id": "initial_id",
   "metadata": {},
   "outputs": [],
   "source": [
    "def powitaj(imie: str, powitanie: str = \"Cześć\") -> str:\n",
    "    \"\"\"Dokumentacja funkcji...\n",
    "    \n",
    "    kolejna linia\n",
    "    \"\"\"\n",
    "    text = f\"{powitanie} {imie}\"\n",
    "    return text\n",
    "\n",
    "powitaj(\"Rafał\", \"Hello\")  "
   ]
  },
  {
   "cell_type": "code",
   "execution_count": null,
   "id": "ec3e24e7-fb93-4e33-8b87-632100c1c2c0",
   "metadata": {},
   "outputs": [],
   "source": []
  },
  {
   "cell_type": "code",
   "execution_count": null,
   "id": "64dba05a-b0e8-481c-984c-82d2fff61e71",
   "metadata": {},
   "outputs": [],
   "source": [
    "powitaj(imie=\"Rafał\", powitanie=\"Hello\")  "
   ]
  },
  {
   "cell_type": "code",
   "execution_count": null,
   "id": "5ff917f0-b746-4507-b642-d131dc29b8c7",
   "metadata": {},
   "outputs": [],
   "source": [
    "powitaj(powitanie=\"Hello\", imie=\"Rafał\")  "
   ]
  },
  {
   "cell_type": "code",
   "execution_count": null,
   "id": "8b28ad27-c4ba-4f3d-a069-cbcc5165ad48",
   "metadata": {},
   "outputs": [],
   "source": [
    "powitaj(imie=\"Rafał\", \"Hello\")  "
   ]
  },
  {
   "cell_type": "code",
   "execution_count": null,
   "id": "a2e7b57c-b2e9-468b-9550-6fbe37a23444",
   "metadata": {},
   "outputs": [],
   "source": [
    "powitaj(\"Rafał\", imie=\"Hello\")  "
   ]
  },
  {
   "cell_type": "code",
   "execution_count": null,
   "id": "1b19a63c-b228-47b0-b849-cd7950d4b8cb",
   "metadata": {},
   "outputs": [],
   "source": [
    "powitaj.__name__ = \"pozegnaj\"\n",
    "print(powitaj.__doc__)\n",
    "print(powitaj.__annotations__)"
   ]
  },
  {
   "cell_type": "code",
   "execution_count": null,
   "id": "929a8113-1265-4e74-99fe-9697d88a8d17",
   "metadata": {},
   "outputs": [],
   "source": [
    "help(powitaj)"
   ]
  },
  {
   "cell_type": "code",
   "execution_count": null,
   "id": "06c36d3d-3b27-4bfe-ad3f-13af116bff5b",
   "metadata": {},
   "outputs": [],
   "source": [
    "powitaj?"
   ]
  },
  {
   "cell_type": "code",
   "execution_count": null,
   "id": "75924f77-c314-44af-a3d3-5753a9f71029",
   "metadata": {},
   "outputs": [],
   "source": [
    "dir(powitaj)"
   ]
  },
  {
   "cell_type": "code",
   "execution_count": null,
   "id": "b9e43aa7-05e8-4136-a154-6f9c16fe5b3d",
   "metadata": {},
   "outputs": [],
   "source": [
    "def powitaj(imie: str, *, powitanie: str = \"Cześć\") -> str:\n",
    "    \"\"\"Dokumentacja funkcji...\n",
    "    \n",
    "    kolejna linia\n",
    "    \"\"\"\n",
    "    text = f\"{powitanie} {imie}\"\n",
    "    return text"
   ]
  },
  {
   "cell_type": "code",
   "execution_count": null,
   "id": "944f6c4b-fec3-4348-9b59-ed95c984b162",
   "metadata": {},
   "outputs": [],
   "source": [
    "powitaj(imie=\"Rafał\", powitanie=\"Hello\")  "
   ]
  },
  {
   "cell_type": "code",
   "execution_count": null,
   "id": "f45d9cae-835f-41ff-8f8a-3f217c8c1e1e",
   "metadata": {},
   "outputs": [],
   "source": [
    "powitaj(\"Rafał\", powitanie=\"Hello\")  "
   ]
  },
  {
   "cell_type": "code",
   "execution_count": null,
   "id": "8bdf49a4-1689-429f-bfcc-eeb750d0391c",
   "metadata": {},
   "outputs": [],
   "source": [
    "# powitaj(\"Rafał\", \"Hello\")  "
   ]
  },
  {
   "cell_type": "code",
   "execution_count": null,
   "id": "72d35b10-2f77-49e0-a21f-4299d8905901",
   "metadata": {},
   "outputs": [],
   "source": [
    "def powitaj(imie: str, /, *, powitanie: str = \"Cześć\") -> str:\n",
    "    \"\"\"Dokumentacja funkcji...\n",
    "    \n",
    "    kolejna linia\n",
    "    \"\"\"\n",
    "    text = f\"{powitanie} {imie}\"\n",
    "    return text"
   ]
  },
  {
   "cell_type": "code",
   "execution_count": null,
   "id": "db91cb70-01c6-43b5-a6d0-75aaae5f52c1",
   "metadata": {},
   "outputs": [],
   "source": [
    "powitaj(\"Rafał\", powitanie=\"Hello\")  "
   ]
  },
  {
   "cell_type": "code",
   "execution_count": null,
   "id": "8905ff18-524c-4262-b0b7-7e9218f4336b",
   "metadata": {},
   "outputs": [],
   "source": [
    "powitaj(imie=\"Rafał\", powitanie=\"Hello\")  "
   ]
  },
  {
   "cell_type": "markdown",
   "id": "74112a2e-6370-4541-8a41-5bc878d149d2",
   "metadata": {},
   "source": [
    "## *args i **kwargs"
   ]
  },
  {
   "cell_type": "code",
   "execution_count": null,
   "id": "dba91e1c-a614-447f-8fd6-f247d077263e",
   "metadata": {},
   "outputs": [],
   "source": [
    "a, b, *c = [1, 2, 3, 4, 5]"
   ]
  },
  {
   "cell_type": "code",
   "execution_count": null,
   "id": "14b4cc05-31fd-47f0-a0a9-fa1e64166a52",
   "metadata": {},
   "outputs": [],
   "source": [
    "def add(a, b, *args):\n",
    "    print(args)\n",
    "\n",
    "\n",
    "add(1, 2)\n",
    "add(1, 2, 3, 4, 5)\n",
    "add(1, 2, 3, 4, 5, 1, 2, 3, 4, 5, 6)"
   ]
  },
  {
   "cell_type": "code",
   "execution_count": null,
   "id": "77dc2905-5053-4eb9-ad42-60e65e5d406a",
   "metadata": {},
   "outputs": [],
   "source": [
    "def zlacz_teksty(*teksty, lacznik=\"\\n\"):\n",
    "    return lacznik.join(teksty)\n"
   ]
  },
  {
   "cell_type": "code",
   "execution_count": null,
   "id": "eb546927-7093-49b7-b479-c12d9acead77",
   "metadata": {},
   "outputs": [],
   "source": [
    "zlacz_teksty(\"A\", \"B\")"
   ]
  },
  {
   "cell_type": "code",
   "execution_count": null,
   "id": "a5a5c5eb-8caa-426a-bb10-67b8b533ef51",
   "metadata": {},
   "outputs": [],
   "source": [
    "zlacz_teksty(\"A\")"
   ]
  },
  {
   "cell_type": "code",
   "execution_count": null,
   "id": "3d940c22-80f7-44d0-8585-71ec5c30d28a",
   "metadata": {},
   "outputs": [],
   "source": [
    "zlacz_teksty(\"A\", \"A\", \"VB\", \"C\", \"D\")"
   ]
  },
  {
   "cell_type": "code",
   "execution_count": null,
   "id": "591bfc3a-d372-4609-9f40-0aeb6d5c6fb9",
   "metadata": {},
   "outputs": [],
   "source": [
    "def func(x, **parametry):\n",
    "    print(parametry)\n",
    "\n",
    "    xx = parametry.get(\"xx\")\n",
    "    if xx: print(xx.upper())\n",
    "\n",
    "func(10, a=1, b=2)\n",
    "func(20, a=1, b=2, d=20, xx=\"ala ma kota\")"
   ]
  },
  {
   "cell_type": "markdown",
   "id": "4f705a7f-3f20-4b16-978b-4b0c162cc978",
   "metadata": {},
   "source": [
    "Zaprojektuj funkcje, ktora przyjmie dowolna liczbe tekstow oraz dodatkowych parametrow, ktore beda wartosciami do podmiany w tych tekstach\n"
   ]
  },
  {
   "cell_type": "code",
   "execution_count": null,
   "id": "24f6a995-c579-4d14-b634-daf24bb8e3db",
   "metadata": {},
   "outputs": [],
   "source": [
    "#Zaprojektuj funkcje, ktora przyjmie dowolna liczbe tekstow oraz dodatkowych parametrow, ktore beda wartosciami do podmiany w tych tekstach\n",
    "\n",
    "# assert formatuj() == \"\"\n",
    "# assert formatuj(\"A\", \"B\") == \"A\\nB\"\n",
    "# assert formatuj(\"Cena wynosi: $cena\", cena=10) == \"Cena wynosi: 10\"\n",
    "\n",
    "# assert (\n",
    "#     formatuj(\"Cena wynosi: $cena\", \"Vat to $cena * 1.23 = $cena_z_vat\",  cena=10, cena_z_vat=10*1.23) == \n",
    "# f\"Cena wynosi: 10\\nVat to 10 * 1.23 = {10*1.23}\")\n",
    "\n",
    "\n"
   ]
  },
  {
   "cell_type": "code",
   "execution_count": null,
   "id": "b599ed3e-a948-445c-bd8b-77fbbaf3f7f8",
   "metadata": {},
   "outputs": [],
   "source": [
    "eval(\"1 + 2\")"
   ]
  },
  {
   "cell_type": "code",
   "execution_count": null,
   "id": "6112e915-aac6-4e9a-8979-eeeef658d17c",
   "metadata": {},
   "outputs": [],
   "source": [
    "expression = \"\"\"\n",
    "def func(): return 12\n",
    "\n",
    "print(func())\n",
    "\"\"\"\n",
    "\n"
   ]
  },
  {
   "cell_type": "code",
   "execution_count": null,
   "id": "00d83846-fbe1-472b-b0d9-00bb8d454b97",
   "metadata": {},
   "outputs": [],
   "source": [
    "exec(expression)"
   ]
  },
  {
   "cell_type": "markdown",
   "id": "5f2945fa-3d77-4e59-b0bf-6da9534e35d8",
   "metadata": {},
   "source": [
    "## domkniecia"
   ]
  },
  {
   "cell_type": "code",
   "execution_count": null,
   "id": "55efb776-cce2-4b24-9b15-6937595c2b18",
   "metadata": {},
   "outputs": [],
   "source": [
    "def mnoz(mnoznik):\n",
    "\n",
    "    def inner(a: int):\n",
    "        return a * mnoznik\n",
    "\n",
    "    return inner\n",
    "\n",
    "mnoz_przez_2 = mnoz(2)\n",
    "mnoz_przez_22 = mnoz(22)\n",
    "\n",
    "mnoz_przez_2(10), mnoz_przez_22(10)"
   ]
  },
  {
   "cell_type": "markdown",
   "id": "68dea940-2702-4101-b70f-02f9d8c2a5d0",
   "metadata": {},
   "source": [
    "## funkcje wyzszego rzedu - np. wzorzec strategia"
   ]
  },
  {
   "cell_type": "code",
   "execution_count": null,
   "id": "4a63e81b-58cc-4c20-82b4-0dc6b963f2eb",
   "metadata": {},
   "outputs": [],
   "source": [
    "from typing import Callable\n",
    "\n",
    "def process(data: list, strategia: Callable) -> list:\n",
    "    return [strategia(x) for x in data]"
   ]
  },
  {
   "cell_type": "code",
   "execution_count": null,
   "id": "13a5e324-6f11-4ba2-b223-f1eb4cf474c1",
   "metadata": {},
   "outputs": [],
   "source": [
    "print(process([1, 100, 1000], mnoz_przez_2))"
   ]
  },
  {
   "cell_type": "code",
   "execution_count": null,
   "id": "699a345a-f39b-4aec-99bd-065706492db5",
   "metadata": {},
   "outputs": [],
   "source": [
    "print(process([1, 100, 1000], mnoz_przez_22))"
   ]
  },
  {
   "cell_type": "markdown",
   "id": "c9e32d4f-4137-4363-a4f3-f1916d8d5aef",
   "metadata": {},
   "source": [
    "## domkniecie ze stanem"
   ]
  },
  {
   "cell_type": "code",
   "execution_count": null,
   "id": "ea8e19da-01bf-4694-9c53-a8decaa13dd6",
   "metadata": {},
   "outputs": [],
   "source": [
    "def make_counter():\n",
    "    count = 0\n",
    "    def counter():\n",
    "        nonlocal count\n",
    "        count += 1\n",
    "        return count\n",
    "    return counter\n",
    "\n",
    "c1 = make_counter()\n",
    "\n",
    "c2 = make_counter()\n",
    "\n"
   ]
  },
  {
   "cell_type": "code",
   "execution_count": null,
   "id": "5d79f78a-91a4-49af-b306-6db0f6bc97a1",
   "metadata": {},
   "outputs": [],
   "source": [
    "c1()"
   ]
  },
  {
   "cell_type": "code",
   "execution_count": null,
   "id": "749242bb-0251-4bdd-aa85-37bbf017e159",
   "metadata": {},
   "outputs": [],
   "source": [
    "c2()"
   ]
  },
  {
   "cell_type": "markdown",
   "id": "456b28a2-4826-46bf-9aa3-e669209ed575",
   "metadata": {},
   "source": [
    "## funkcja jako obiekt z metoda `__call__`"
   ]
  },
  {
   "cell_type": "code",
   "execution_count": null,
   "id": "8973dac0-9c19-4a77-a88b-3fdd46b52c27",
   "metadata": {},
   "outputs": [],
   "source": [
    "class Adder:\n",
    "    def __init__(self, step): \n",
    "        self.step = step\n",
    "\n",
    "    def __call__(self, x):\n",
    "        return x + self.step\n",
    "\n",
    "add10 = Adder(10)\n",
    "add10(66)"
   ]
  },
  {
   "cell_type": "markdown",
   "id": "ac7e5d17-c2fc-4488-a095-d2b0f0acc935",
   "metadata": {},
   "source": [
    "## Dekoratory"
   ]
  },
  {
   "cell_type": "code",
   "execution_count": null,
   "id": "127053f9-bd75-4296-bff4-c280461e64ed",
   "metadata": {},
   "outputs": [],
   "source": [
    "def decorator(func: Callable) -> Callable:\n",
    "\n",
    "    def wrapper():\n",
    "        print(f\"Wywolalem funkcje: {func.__name__}\")\n",
    "        r = func()\n",
    "        \n",
    "        return r\n",
    "\n",
    "    return wrapper\n",
    "\n",
    "\n",
    "        "
   ]
  },
  {
   "cell_type": "code",
   "execution_count": null,
   "id": "3ed5ef33-8f5c-493a-9864-bea112371c3f",
   "metadata": {},
   "outputs": [],
   "source": [
    "def foo():\n",
    "    print(\"Jestem foo\")"
   ]
  },
  {
   "cell_type": "code",
   "execution_count": null,
   "id": "79dac8e1-8688-4123-833b-155b11db2458",
   "metadata": {},
   "outputs": [],
   "source": [
    "foo()"
   ]
  },
  {
   "cell_type": "code",
   "execution_count": null,
   "id": "ef20cfd5-629b-487a-aa2d-3284668601de",
   "metadata": {},
   "outputs": [],
   "source": [
    "udekorowane_foo = decorator(foo)"
   ]
  },
  {
   "cell_type": "code",
   "execution_count": null,
   "id": "44fb797f-ead7-40f0-8bf6-e7fb9c80b957",
   "metadata": {},
   "outputs": [],
   "source": [
    "udekorowane_foo()"
   ]
  },
  {
   "cell_type": "code",
   "execution_count": null,
   "id": "2543a5c8-aa54-46a3-b304-c89bb1b17034",
   "metadata": {},
   "outputs": [],
   "source": [
    "def bar():\n",
    "    print(\"Jestem bar\")\n",
    "\n",
    "bar = decorator(bar)\n",
    "bar()"
   ]
  },
  {
   "cell_type": "code",
   "execution_count": null,
   "id": "6193cfc1-79eb-40b4-aa67-9397d6adab1f",
   "metadata": {},
   "outputs": [],
   "source": [
    "@decorator\n",
    "def bazz():\n",
    "    print(\"Bazzzz\")"
   ]
  },
  {
   "cell_type": "code",
   "execution_count": null,
   "id": "7fa18b9b-1de6-465f-ab12-56394b7a1af7",
   "metadata": {},
   "outputs": [],
   "source": [
    "bazz()"
   ]
  },
  {
   "cell_type": "markdown",
   "id": "457c7f2d-20fe-4613-bb22-fe1b88c4f707",
   "metadata": {},
   "source": [
    "### zadanie: napisz dekoratoryu bold i italic, ktore beda dzialac w ten sposob, ze wynik oryginalnej funkcji otocza znacznikami, odpowiednio:\n",
    "\n",
    "```\n",
    "    <b>oryginalny wynik</b>\n",
    "    <i>osdsdsd</i>\n",
    "```\n",
    "\n",
    "```python\n",
    "    @bold\n",
    "    def hello():\n",
    "        return \"hello world\"\n",
    "    \n",
    "    \n",
    "    assert hello() == \"<b>hello world</b>\"\n",
    "    \n",
    "    \n",
    "    @italic\n",
    "    def hello():\n",
    "        return \"hello world\"\n",
    "    \n",
    "    assert hello() == \"<i>hello world</i>\"\n",
    "    \n",
    "    @bold\n",
    "    @italic\n",
    "    def hello():\n",
    "        return \"hello world\"\n",
    "    \n",
    "    assert hello() == \"<b><i>hello world</i></b>\"\n",
    "\n",
    "```"
   ]
  },
  {
   "cell_type": "code",
   "execution_count": null,
   "id": "23cfbcfd-6efd-44b3-a69c-8f6370934b90",
   "metadata": {},
   "outputs": [],
   "source": [
    "from functools import wraps\n",
    "\n",
    "def bold(func):\n",
    "    @wraps(func)\n",
    "    def wrapper(*args, **kwargs):\n",
    "        \"to jest wrapper\"\n",
    "        return f\"<b>{func(*args, **kwargs)}</b>\"\n",
    "\n",
    "    # wrapper.__doc__ = func.__doc__\n",
    "    # wrapper.__name__ = func.__name__\n",
    "    # wrapper.__annotations__ = func.__annotations__\n",
    "    return wrapper\n",
    "\n",
    "def italic(func):\n",
    "    @wraps(func)\n",
    "    def wrapper():\n",
    "        return f\"<i>{func()}</i>\"\n",
    "    return wrapper"
   ]
  },
  {
   "cell_type": "code",
   "execution_count": null,
   "id": "9a387b57-f2db-4712-a919-f476b6b60d04",
   "metadata": {},
   "outputs": [],
   "source": [
    "@bold\n",
    "def hello(a, b) -> str:\n",
    "    \"\"\"Funkcja wypisujaca powitanie\"\"\"\n",
    "    return f\"hello world {a} {b}\"\n",
    "    \n",
    "\n",
    "help(hello)\n",
    "print(hello(\"sss\"))\n",
    "\n",
    "# assert hello() == \"<b>hello world </b>\"\n",
    "\n",
    "# assert hello(\"sss\") == \"<b>hello world sss</b>\"\n",
    "# @italic\n",
    "# def hello():\n",
    "#     return \"hello world\"\n",
    "\n",
    "# assert hello() == \"<i>hello world</i>\"\n",
    "\n",
    "# @bold\n",
    "# @italic\n",
    "# def hello():\n",
    "#     return \"hello world\"\n",
    "\n",
    "# assert hello() == \"<b><i>hello world</i></b>\""
   ]
  },
  {
   "cell_type": "markdown",
   "id": "132f9476-384a-4de1-8402-4bcb5ed649cf",
   "metadata": {},
   "source": [
    "## dekorator z argumentami"
   ]
  },
  {
   "cell_type": "code",
   "execution_count": null,
   "id": "ee2ccf84-74e2-42e1-ab85-1046f8c0ac6a",
   "metadata": {},
   "outputs": [],
   "source": [
    "from functools import wraps\n",
    "\n",
    "def repeat(n: int):\n",
    "    def dekorator(func):\n",
    "        @wraps(func)\n",
    "        def wrapper(*args, **kwargs):\n",
    "            wynik = None\n",
    "            for _ in range(n):\n",
    "                wynik = func(*args, **kwargs)\n",
    "            return wynik\n",
    "        return wrapper\n",
    "    return dekorator\n",
    "\n",
    "@repeat(3)\n",
    "def hello():\n",
    "    print(\"hello\")"
   ]
  },
  {
   "cell_type": "code",
   "execution_count": null,
   "id": "d0b08212-ff3b-42ba-88db-0c4e9c98fbfb",
   "metadata": {},
   "outputs": [],
   "source": []
  },
  {
   "cell_type": "code",
   "execution_count": null,
   "id": "283d0437-83d8-48a9-9116-103c5737e57e",
   "metadata": {},
   "outputs": [],
   "source": [
    "hello()"
   ]
  },
  {
   "cell_type": "code",
   "execution_count": 4,
   "id": "975a5e05-406f-4816-a9fe-8b967612c7b4",
   "metadata": {},
   "outputs": [],
   "source": [
    "from functools import wraps\n",
    "\n",
    "def dekorator(func, n):\n",
    "    @wraps(func)\n",
    "    def wrapper(*args, **kwargs):\n",
    "        wynik = None\n",
    "        for _ in range(n):\n",
    "            wynik = func(*args, **kwargs)\n",
    "        return wynik\n",
    "    return wrapper\n",
    "\n",
    "\n",
    "def hello():\n",
    "    print(\"hello\")"
   ]
  },
  {
   "cell_type": "code",
   "execution_count": null,
   "id": "b0dcfbc6-2938-40fb-92b1-c043ca1972a5",
   "metadata": {},
   "outputs": [],
   "source": []
  },
  {
   "cell_type": "code",
   "execution_count": 5,
   "id": "abaca165-4a1e-453e-a5c6-0ca63efb50de",
   "metadata": {},
   "outputs": [
    {
     "name": "stdout",
     "output_type": "stream",
     "text": [
      "hello\n"
     ]
    }
   ],
   "source": [
    "hello()"
   ]
  },
  {
   "cell_type": "code",
   "execution_count": 6,
   "id": "43313383-de88-4822-824a-b5ab75f7442b",
   "metadata": {},
   "outputs": [],
   "source": [
    "hello = dekorator(hello, 3)"
   ]
  },
  {
   "cell_type": "code",
   "execution_count": 7,
   "id": "7c09db54-8583-49c4-bdd7-de37bfe33c83",
   "metadata": {},
   "outputs": [
    {
     "name": "stdout",
     "output_type": "stream",
     "text": [
      "hello\n",
      "hello\n",
      "hello\n"
     ]
    }
   ],
   "source": [
    "hello()"
   ]
  },
  {
   "cell_type": "code",
   "execution_count": 8,
   "id": "e82e7fd2-632a-4451-b45e-9e0cfb94467b",
   "metadata": {},
   "outputs": [
    {
     "ename": "TypeError",
     "evalue": "dekorator() missing 1 required positional argument: 'n'",
     "output_type": "error",
     "traceback": [
      "\u001b[31m---------------------------------------------------------------------------\u001b[39m",
      "\u001b[31mTypeError\u001b[39m                                 Traceback (most recent call last)",
      "\u001b[36mCell\u001b[39m\u001b[36m \u001b[39m\u001b[32mIn[8]\u001b[39m\u001b[32m, line 1\u001b[39m\n\u001b[32m----> \u001b[39m\u001b[32m1\u001b[39m \u001b[38;5;129m@dekorator\u001b[39m\u001b[43m(\u001b[49m\u001b[32;43m3\u001b[39;49m\u001b[43m)\u001b[49m\n\u001b[32m      2\u001b[39m \u001b[38;5;28;01mdef\u001b[39;00m\u001b[38;5;250m \u001b[39m\u001b[34mfoo\u001b[39m():\n\u001b[32m      3\u001b[39m     \u001b[38;5;28mprint\u001b[39m(\u001b[33m\"\u001b[39m\u001b[33mxxx\u001b[39m\u001b[33m\"\u001b[39m)\n",
      "\u001b[31mTypeError\u001b[39m: dekorator() missing 1 required positional argument: 'n'"
     ]
    }
   ],
   "source": [
    "@dekorator\n",
    "def foo():\n",
    "    print(\"xxx\")"
   ]
  },
  {
   "cell_type": "markdown",
   "id": "f11e239e-ce4d-4237-b34c-b9b215d5dbf7",
   "metadata": {},
   "source": [
    "## rekurencja\n",
    "\n",
    "0! = 1\n",
    "n! = n * (n-1)!"
   ]
  },
  {
   "cell_type": "code",
   "execution_count": 9,
   "id": "49969a2c-c3d4-47d1-9ee6-ea0ff0f51800",
   "metadata": {},
   "outputs": [],
   "source": [
    "def silnia(n):\n",
    "    if n == 0:\n",
    "        return 1\n",
    "    else:\n",
    "        return n * silnia(n-1)\n",
    "        "
   ]
  },
  {
   "cell_type": "code",
   "execution_count": 11,
   "id": "f867688d-9775-469f-8be9-32ac3e91eccc",
   "metadata": {},
   "outputs": [
    {
     "data": {
      "text/plain": [
       "120"
      ]
     },
     "execution_count": 11,
     "metadata": {},
     "output_type": "execute_result"
    }
   ],
   "source": [
    "silnia(5)"
   ]
  },
  {
   "cell_type": "markdown",
   "id": "55c78a23-f3a0-4fe6-afb5-04d2c820158d",
   "metadata": {},
   "source": [
    "## Zadanko z rekurencja\n",
    "\n",
    "napisz funkcje, ktore splaszczy liste\n",
    "\n",
    "[1, 2, 3, [5, 6 ,7, [8], 9], 10] -> [1, 2, 3, 5, 6, 7, 8, 9, 10]"
   ]
  },
  {
   "cell_type": "code",
   "execution_count": 12,
   "id": "179e586f-b019-4bb0-a7da-33c6dc6a725a",
   "metadata": {},
   "outputs": [],
   "source": [
    "lista = [1, 2, [1, 2]]"
   ]
  },
  {
   "cell_type": "code",
   "execution_count": 13,
   "id": "5e336169-af94-498d-8a46-838d5f69ce3e",
   "metadata": {},
   "outputs": [
    {
     "name": "stdout",
     "output_type": "stream",
     "text": [
      "to jest int\n",
      "to jest int\n",
      "to jest lista\n"
     ]
    }
   ],
   "source": [
    "for el in lista:\n",
    "    if isinstance(el, int):\n",
    "        print(\"to jest int\")\n",
    "    elif isinstance(el, list):\n",
    "        print(\"to jest lista\")"
   ]
  },
  {
   "cell_type": "code",
   "execution_count": 20,
   "id": "f3d9b3e9-4d3f-49a4-b819-9322e89a448b",
   "metadata": {},
   "outputs": [],
   "source": [
    "def splaszcz(lista):\n",
    "    out = []\n",
    "    for el in lista:\n",
    "        if isinstance(el, int):\n",
    "            out.append(el)\n",
    "        elif isinstance(el, list):\n",
    "            out.extend(splaszcz(el))\n",
    "    return out\n",
    "            "
   ]
  },
  {
   "cell_type": "code",
   "execution_count": 21,
   "id": "156cc121-5dd4-45c4-a1cd-13893f7d5d17",
   "metadata": {},
   "outputs": [],
   "source": [
    "assert splaszcz([1, 2, 3, [5, 6 ,7, [8], 9], 10]) == [1, 2, 3, 5, 6, 7, 8, 9, 10]"
   ]
  },
  {
   "cell_type": "code",
   "execution_count": 15,
   "id": "dbad5a16-23b2-4a4f-a591-e34635253381",
   "metadata": {},
   "outputs": [],
   "source": [
    "def incr(i):\n",
    "    print(i)\n",
    "    incr(i+1)\n"
   ]
  },
  {
   "cell_type": "code",
   "execution_count": 17,
   "id": "b1822377-2163-44db-80c9-7a9af58591a5",
   "metadata": {},
   "outputs": [],
   "source": [
    "# incr(0)"
   ]
  },
  {
   "cell_type": "markdown",
   "id": "eabd4788-d257-4532-a183-f467cb4ac7ca",
   "metadata": {},
   "source": [
    "## lambda"
   ]
  },
  {
   "cell_type": "code",
   "execution_count": 23,
   "id": "8a1a22ab-82ae-445d-9da8-f43244dc93d9",
   "metadata": {},
   "outputs": [
    {
     "data": {
      "text/plain": [
       "<function __main__.<lambda>(x, y)>"
      ]
     },
     "execution_count": 23,
     "metadata": {},
     "output_type": "execute_result"
    }
   ],
   "source": [
    "lambda x, y: x + y"
   ]
  },
  {
   "cell_type": "code",
   "execution_count": null,
   "id": "4a532b7a-8aa6-4b18-ac5e-ea7d4abf4b92",
   "metadata": {},
   "outputs": [],
   "source": [
    "def func(x, y): return x + y"
   ]
  },
  {
   "cell_type": "markdown",
   "id": "0876327a-c92f-42ed-ab71-876579178646",
   "metadata": {},
   "source": [
    "## generatory"
   ]
  },
  {
   "cell_type": "code",
   "execution_count": 25,
   "id": "7335adfa-fe48-49a8-941c-70dd0661758e",
   "metadata": {},
   "outputs": [],
   "source": [
    "def mygen():\n",
    "    yield 1\n",
    "    yield 2\n",
    "    yield 3"
   ]
  },
  {
   "cell_type": "code",
   "execution_count": 26,
   "id": "72cffa9d-6f09-479d-85c1-d6845efd3ab7",
   "metadata": {},
   "outputs": [],
   "source": [
    "g = mygen()"
   ]
  },
  {
   "cell_type": "code",
   "execution_count": 31,
   "id": "fcb6af0d-5b0d-44be-9886-e5ce82aee642",
   "metadata": {},
   "outputs": [
    {
     "ename": "StopIteration",
     "evalue": "",
     "output_type": "error",
     "traceback": [
      "\u001b[31m---------------------------------------------------------------------------\u001b[39m",
      "\u001b[31mStopIteration\u001b[39m                             Traceback (most recent call last)",
      "\u001b[36mCell\u001b[39m\u001b[36m \u001b[39m\u001b[32mIn[31]\u001b[39m\u001b[32m, line 1\u001b[39m\n\u001b[32m----> \u001b[39m\u001b[32m1\u001b[39m \u001b[38;5;28;43mnext\u001b[39;49m\u001b[43m(\u001b[49m\u001b[43mg\u001b[49m\u001b[43m)\u001b[49m\n",
      "\u001b[31mStopIteration\u001b[39m: "
     ]
    }
   ],
   "source": [
    "next(g)"
   ]
  },
  {
   "cell_type": "code",
   "execution_count": 32,
   "id": "acc9c356-f095-4bdf-ac0e-76643f1e430a",
   "metadata": {},
   "outputs": [
    {
     "name": "stdout",
     "output_type": "stream",
     "text": [
      "1\n",
      "2\n",
      "3\n"
     ]
    }
   ],
   "source": [
    "for i in mygen():\n",
    "    print(i)"
   ]
  },
  {
   "cell_type": "code",
   "execution_count": 35,
   "id": "8a7cd484-fe7b-4e80-b218-086628e39a48",
   "metadata": {
    "collapsed": true,
    "jupyter": {
     "outputs_hidden": true
    }
   },
   "outputs": [
    {
     "data": {
      "text/plain": [
       "[10, 12, 15, 18, 20, 21, 24, 25, 27, 30, 33, 35, 36, 39, 40, 42, 45, 48]"
      ]
     },
     "execution_count": 35,
     "metadata": {},
     "output_type": "execute_result"
    }
   ],
   "source": [
    "def liczby_w_przedziale(start, stop):\n",
    "    for wartosc in range(start, stop):\n",
    "        if wartosc % 3 == 0 or wartosc % 5 == 0:\n",
    "            yield wartosc\n",
    "\n",
    "list(liczby_w_przedziale(10, 50))"
   ]
  },
  {
   "cell_type": "markdown",
   "id": "a49ebdf4-6be5-4062-9006-26c7fcaefc5c",
   "metadata": {},
   "source": [
    "## functools"
   ]
  },
  {
   "cell_type": "code",
   "execution_count": 42,
   "id": "b5ff9976-f6cf-4eca-9681-eeeeec8decbd",
   "metadata": {},
   "outputs": [],
   "source": [
    "import time\n",
    "def loguj(funkcja):\n",
    "    @wraps(funkcja)\n",
    "    def opakowanie(*args, **kwargs):\n",
    "        start = time.perf_counter()\n",
    "        wynik = funkcja(*args, **kwargs)\n",
    "        stop = time.perf_counter()\n",
    "        elapsed = (stop - start) * 1000\n",
    "        print(f\"{funkcja.__name__} wykonana w {elapsed:.4f} s\")\n",
    "        return wynik\n",
    "\n",
    "    return opakowanie"
   ]
  },
  {
   "cell_type": "code",
   "execution_count": 47,
   "id": "e5984e2d-d537-40bf-867c-ec02bd45a63a",
   "metadata": {},
   "outputs": [
    {
     "name": "stdout",
     "output_type": "stream",
     "text": [
      "2.84 ms ± 51.4 μs per loop (mean ± std. dev. of 7 runs, 100 loops each)\n"
     ]
    }
   ],
   "source": [
    "%%timeit\n",
    "\n",
    "import functools\n",
    "\n",
    "\n",
    "def fibonacci(n: int)  -> int:\n",
    "    if n < 2:\n",
    "        return n\n",
    "    return fibonacci(n-1) + fibonacci(n-2)\n",
    "\n",
    "\n",
    "[fibonacci(i) for i in range(20)]"
   ]
  },
  {
   "cell_type": "code",
   "execution_count": 48,
   "id": "1debdba5-635c-4909-af47-126e9a489a3a",
   "metadata": {},
   "outputs": [
    {
     "name": "stdout",
     "output_type": "stream",
     "text": [
      "9 μs ± 131 ns per loop (mean ± std. dev. of 7 runs, 100,000 loops each)\n"
     ]
    }
   ],
   "source": [
    "%%timeit\n",
    "\n",
    "import functools\n",
    "\n",
    "@functools.lru_cache\n",
    "def fibonacci(n: int)  -> int:\n",
    "    if n < 2:\n",
    "        return n\n",
    "    return fibonacci(n-1) + fibonacci(n-2)\n",
    "\n",
    "\n",
    "[fibonacci(i) for i in range(20)]"
   ]
  },
  {
   "cell_type": "code",
   "execution_count": null,
   "id": "7fcaacb4-76e7-4ca7-b568-68d5467058ea",
   "metadata": {},
   "outputs": [],
   "source": []
  }
 ],
 "metadata": {
  "kernelspec": {
   "display_name": "Python 3 (ipykernel)",
   "language": "python",
   "name": "python3"
  },
  "language_info": {
   "codemirror_mode": {
    "name": "ipython",
    "version": 3
   },
   "file_extension": ".py",
   "mimetype": "text/x-python",
   "name": "python",
   "nbconvert_exporter": "python",
   "pygments_lexer": "ipython3",
   "version": "3.13.8"
  }
 },
 "nbformat": 4,
 "nbformat_minor": 5
}
