{
 "cells": [
  {
   "cell_type": "code",
   "execution_count": 26,
   "id": "initial_id",
   "metadata": {},
   "outputs": [
    {
     "data": {
      "text/plain": [
       "'Hello Rafał'"
      ]
     },
     "execution_count": 26,
     "metadata": {},
     "output_type": "execute_result"
    }
   ],
   "source": [
    "def powitaj(imie: str, powitanie: str = \"Cześć\") -> str:\n",
    "    \"\"\"Dokumentacja funkcji...\n",
    "    \n",
    "    kolejna linia\n",
    "    \"\"\"\n",
    "    text = f\"{powitanie} {imie}\"\n",
    "    return text\n",
    "\n",
    "powitaj(\"Rafał\", \"Hello\")  "
   ]
  },
  {
   "cell_type": "code",
   "execution_count": null,
   "id": "ec3e24e7-fb93-4e33-8b87-632100c1c2c0",
   "metadata": {},
   "outputs": [],
   "source": []
  },
  {
   "cell_type": "code",
   "execution_count": 27,
   "id": "64dba05a-b0e8-481c-984c-82d2fff61e71",
   "metadata": {},
   "outputs": [
    {
     "data": {
      "text/plain": [
       "'Hello Rafał'"
      ]
     },
     "execution_count": 27,
     "metadata": {},
     "output_type": "execute_result"
    }
   ],
   "source": [
    "powitaj(imie=\"Rafał\", powitanie=\"Hello\")  "
   ]
  },
  {
   "cell_type": "code",
   "execution_count": 28,
   "id": "5ff917f0-b746-4507-b642-d131dc29b8c7",
   "metadata": {},
   "outputs": [
    {
     "data": {
      "text/plain": [
       "'Hello Rafał'"
      ]
     },
     "execution_count": 28,
     "metadata": {},
     "output_type": "execute_result"
    }
   ],
   "source": [
    "powitaj(powitanie=\"Hello\", imie=\"Rafał\")  "
   ]
  },
  {
   "cell_type": "code",
   "execution_count": 29,
   "id": "8b28ad27-c4ba-4f3d-a069-cbcc5165ad48",
   "metadata": {},
   "outputs": [
    {
     "ename": "SyntaxError",
     "evalue": "positional argument follows keyword argument (1727778604.py, line 1)",
     "output_type": "error",
     "traceback": [
      "  \u001b[36mCell\u001b[39m\u001b[36m \u001b[39m\u001b[32mIn[29]\u001b[39m\u001b[32m, line 1\u001b[39m\n\u001b[31m    \u001b[39m\u001b[31mpowitaj(imie=\"Rafał\", \"Hello\")\u001b[39m\n                                 ^\n\u001b[31mSyntaxError\u001b[39m\u001b[31m:\u001b[39m positional argument follows keyword argument\n"
     ]
    }
   ],
   "source": [
    "powitaj(imie=\"Rafał\", \"Hello\")  "
   ]
  },
  {
   "cell_type": "code",
   "execution_count": 30,
   "id": "a2e7b57c-b2e9-468b-9550-6fbe37a23444",
   "metadata": {},
   "outputs": [
    {
     "ename": "TypeError",
     "evalue": "powitaj() got multiple values for argument 'imie'",
     "output_type": "error",
     "traceback": [
      "\u001b[31m---------------------------------------------------------------------------\u001b[39m",
      "\u001b[31mTypeError\u001b[39m                                 Traceback (most recent call last)",
      "\u001b[36mCell\u001b[39m\u001b[36m \u001b[39m\u001b[32mIn[30]\u001b[39m\u001b[32m, line 1\u001b[39m\n\u001b[32m----> \u001b[39m\u001b[32m1\u001b[39m \u001b[43mpowitaj\u001b[49m\u001b[43m(\u001b[49m\u001b[33;43m\"\u001b[39;49m\u001b[33;43mRafał\u001b[39;49m\u001b[33;43m\"\u001b[39;49m\u001b[43m,\u001b[49m\u001b[43m \u001b[49m\u001b[43mimie\u001b[49m\u001b[43m=\u001b[49m\u001b[33;43m\"\u001b[39;49m\u001b[33;43mHello\u001b[39;49m\u001b[33;43m\"\u001b[39;49m\u001b[43m)\u001b[49m  \n",
      "\u001b[31mTypeError\u001b[39m: powitaj() got multiple values for argument 'imie'"
     ]
    }
   ],
   "source": [
    "powitaj(\"Rafał\", imie=\"Hello\")  "
   ]
  },
  {
   "cell_type": "code",
   "execution_count": 20,
   "id": "1b19a63c-b228-47b0-b849-cd7950d4b8cb",
   "metadata": {},
   "outputs": [
    {
     "name": "stdout",
     "output_type": "stream",
     "text": [
      "Dokumentacja funkcji...\n",
      "\n",
      "kolejna linia\n",
      "\n",
      "{'imie': <class 'str'>, 'return': <class 'str'>}\n"
     ]
    }
   ],
   "source": [
    "powitaj.__name__ = \"pozegnaj\"\n",
    "print(powitaj.__doc__)\n",
    "print(powitaj.__annotations__)"
   ]
  },
  {
   "cell_type": "code",
   "execution_count": 17,
   "id": "929a8113-1265-4e74-99fe-9697d88a8d17",
   "metadata": {},
   "outputs": [
    {
     "name": "stdout",
     "output_type": "stream",
     "text": [
      "Help on function pozegnaj in module __main__:\n",
      "\n",
      "pozegnaj(imie: str) -> str\n",
      "    Dokumentacja funkcji...\n",
      "\n",
      "    kolejna linia\n",
      "\n"
     ]
    }
   ],
   "source": [
    "help(powitaj)"
   ]
  },
  {
   "cell_type": "code",
   "execution_count": 14,
   "id": "06c36d3d-3b27-4bfe-ad3f-13af116bff5b",
   "metadata": {},
   "outputs": [
    {
     "data": {
      "text/plain": [
       "\u001b[31mSignature:\u001b[39m powitaj(imie: str) -> str\n",
       "\u001b[31mDocstring:\u001b[39m\n",
       "Dokumentacja funkcji...\n",
       "\n",
       "kolejna linia\n",
       "\u001b[31mFile:\u001b[39m      /var/folders/pd/gsgbf0fd4tv7ntlsxt53r0sh0000gn/T/ipykernel_10339/942410317.py\n",
       "\u001b[31mType:\u001b[39m      function"
      ]
     },
     "metadata": {},
     "output_type": "display_data"
    }
   ],
   "source": [
    "powitaj?"
   ]
  },
  {
   "cell_type": "code",
   "execution_count": 15,
   "id": "75924f77-c314-44af-a3d3-5753a9f71029",
   "metadata": {},
   "outputs": [
    {
     "data": {
      "text/plain": [
       "['__annotations__',\n",
       " '__builtins__',\n",
       " '__call__',\n",
       " '__class__',\n",
       " '__closure__',\n",
       " '__code__',\n",
       " '__defaults__',\n",
       " '__delattr__',\n",
       " '__dict__',\n",
       " '__dir__',\n",
       " '__doc__',\n",
       " '__eq__',\n",
       " '__format__',\n",
       " '__ge__',\n",
       " '__get__',\n",
       " '__getattribute__',\n",
       " '__getstate__',\n",
       " '__globals__',\n",
       " '__gt__',\n",
       " '__hash__',\n",
       " '__init__',\n",
       " '__init_subclass__',\n",
       " '__kwdefaults__',\n",
       " '__le__',\n",
       " '__lt__',\n",
       " '__module__',\n",
       " '__name__',\n",
       " '__ne__',\n",
       " '__new__',\n",
       " '__qualname__',\n",
       " '__reduce__',\n",
       " '__reduce_ex__',\n",
       " '__repr__',\n",
       " '__setattr__',\n",
       " '__sizeof__',\n",
       " '__str__',\n",
       " '__subclasshook__',\n",
       " '__type_params__']"
      ]
     },
     "execution_count": 15,
     "metadata": {},
     "output_type": "execute_result"
    }
   ],
   "source": [
    "dir(powitaj)"
   ]
  },
  {
   "cell_type": "code",
   "execution_count": 32,
   "id": "b9e43aa7-05e8-4136-a154-6f9c16fe5b3d",
   "metadata": {},
   "outputs": [],
   "source": [
    "def powitaj(imie: str, *, powitanie: str = \"Cześć\") -> str:\n",
    "    \"\"\"Dokumentacja funkcji...\n",
    "    \n",
    "    kolejna linia\n",
    "    \"\"\"\n",
    "    text = f\"{powitanie} {imie}\"\n",
    "    return text"
   ]
  },
  {
   "cell_type": "code",
   "execution_count": 33,
   "id": "944f6c4b-fec3-4348-9b59-ed95c984b162",
   "metadata": {},
   "outputs": [
    {
     "data": {
      "text/plain": [
       "'Hello Rafał'"
      ]
     },
     "execution_count": 33,
     "metadata": {},
     "output_type": "execute_result"
    }
   ],
   "source": [
    "powitaj(imie=\"Rafał\", powitanie=\"Hello\")  "
   ]
  },
  {
   "cell_type": "code",
   "execution_count": 34,
   "id": "f45d9cae-835f-41ff-8f8a-3f217c8c1e1e",
   "metadata": {},
   "outputs": [
    {
     "data": {
      "text/plain": [
       "'Hello Rafał'"
      ]
     },
     "execution_count": 34,
     "metadata": {},
     "output_type": "execute_result"
    }
   ],
   "source": [
    "powitaj(\"Rafał\", powitanie=\"Hello\")  "
   ]
  },
  {
   "cell_type": "code",
   "execution_count": 35,
   "id": "8bdf49a4-1689-429f-bfcc-eeb750d0391c",
   "metadata": {},
   "outputs": [
    {
     "ename": "TypeError",
     "evalue": "powitaj() takes 1 positional argument but 2 were given",
     "output_type": "error",
     "traceback": [
      "\u001b[31m---------------------------------------------------------------------------\u001b[39m",
      "\u001b[31mTypeError\u001b[39m                                 Traceback (most recent call last)",
      "\u001b[36mCell\u001b[39m\u001b[36m \u001b[39m\u001b[32mIn[35]\u001b[39m\u001b[32m, line 1\u001b[39m\n\u001b[32m----> \u001b[39m\u001b[32m1\u001b[39m \u001b[43mpowitaj\u001b[49m\u001b[43m(\u001b[49m\u001b[33;43m\"\u001b[39;49m\u001b[33;43mRafał\u001b[39;49m\u001b[33;43m\"\u001b[39;49m\u001b[43m,\u001b[49m\u001b[43m \u001b[49m\u001b[33;43m\"\u001b[39;49m\u001b[33;43mHello\u001b[39;49m\u001b[33;43m\"\u001b[39;49m\u001b[43m)\u001b[49m  \n",
      "\u001b[31mTypeError\u001b[39m: powitaj() takes 1 positional argument but 2 were given"
     ]
    }
   ],
   "source": [
    "# powitaj(\"Rafał\", \"Hello\")  "
   ]
  },
  {
   "cell_type": "code",
   "execution_count": 36,
   "id": "72d35b10-2f77-49e0-a21f-4299d8905901",
   "metadata": {},
   "outputs": [],
   "source": [
    "def powitaj(imie: str, /, *, powitanie: str = \"Cześć\") -> str:\n",
    "    \"\"\"Dokumentacja funkcji...\n",
    "    \n",
    "    kolejna linia\n",
    "    \"\"\"\n",
    "    text = f\"{powitanie} {imie}\"\n",
    "    return text"
   ]
  },
  {
   "cell_type": "code",
   "execution_count": 37,
   "id": "db91cb70-01c6-43b5-a6d0-75aaae5f52c1",
   "metadata": {},
   "outputs": [
    {
     "data": {
      "text/plain": [
       "'Hello Rafał'"
      ]
     },
     "execution_count": 37,
     "metadata": {},
     "output_type": "execute_result"
    }
   ],
   "source": [
    "powitaj(\"Rafał\", powitanie=\"Hello\")  "
   ]
  },
  {
   "cell_type": "code",
   "execution_count": 38,
   "id": "8905ff18-524c-4262-b0b7-7e9218f4336b",
   "metadata": {},
   "outputs": [
    {
     "ename": "TypeError",
     "evalue": "powitaj() got some positional-only arguments passed as keyword arguments: 'imie'",
     "output_type": "error",
     "traceback": [
      "\u001b[31m---------------------------------------------------------------------------\u001b[39m",
      "\u001b[31mTypeError\u001b[39m                                 Traceback (most recent call last)",
      "\u001b[36mCell\u001b[39m\u001b[36m \u001b[39m\u001b[32mIn[38]\u001b[39m\u001b[32m, line 1\u001b[39m\n\u001b[32m----> \u001b[39m\u001b[32m1\u001b[39m \u001b[43mpowitaj\u001b[49m\u001b[43m(\u001b[49m\u001b[43mimie\u001b[49m\u001b[43m=\u001b[49m\u001b[33;43m\"\u001b[39;49m\u001b[33;43mRafał\u001b[39;49m\u001b[33;43m\"\u001b[39;49m\u001b[43m,\u001b[49m\u001b[43m \u001b[49m\u001b[43mpowitanie\u001b[49m\u001b[43m=\u001b[49m\u001b[33;43m\"\u001b[39;49m\u001b[33;43mHello\u001b[39;49m\u001b[33;43m\"\u001b[39;49m\u001b[43m)\u001b[49m  \n",
      "\u001b[31mTypeError\u001b[39m: powitaj() got some positional-only arguments passed as keyword arguments: 'imie'"
     ]
    }
   ],
   "source": [
    "powitaj(imie=\"Rafał\", powitanie=\"Hello\")  "
   ]
  },
  {
   "cell_type": "markdown",
   "id": "74112a2e-6370-4541-8a41-5bc878d149d2",
   "metadata": {},
   "source": [
    "## *args i **kwargs"
   ]
  },
  {
   "cell_type": "code",
   "execution_count": 42,
   "id": "dba91e1c-a614-447f-8fd6-f247d077263e",
   "metadata": {},
   "outputs": [],
   "source": [
    "a, b, *c = [1, 2, 3, 4, 5]"
   ]
  },
  {
   "cell_type": "code",
   "execution_count": 45,
   "id": "14b4cc05-31fd-47f0-a0a9-fa1e64166a52",
   "metadata": {},
   "outputs": [
    {
     "name": "stdout",
     "output_type": "stream",
     "text": [
      "()\n",
      "(3, 4, 5)\n",
      "(3, 4, 5, 1, 2, 3, 4, 5, 6)\n"
     ]
    }
   ],
   "source": [
    "def add(a, b, *args):\n",
    "    print(args)\n",
    "\n",
    "\n",
    "add(1, 2)\n",
    "add(1, 2, 3, 4, 5)\n",
    "add(1, 2, 3, 4, 5, 1, 2, 3, 4, 5, 6)"
   ]
  },
  {
   "cell_type": "code",
   "execution_count": 46,
   "id": "77dc2905-5053-4eb9-ad42-60e65e5d406a",
   "metadata": {},
   "outputs": [],
   "source": [
    "def zlacz_teksty(*teksty, lacznik=\"\\n\"):\n",
    "    return lacznik.join(teksty)\n"
   ]
  },
  {
   "cell_type": "code",
   "execution_count": 47,
   "id": "eb546927-7093-49b7-b479-c12d9acead77",
   "metadata": {},
   "outputs": [
    {
     "data": {
      "text/plain": [
       "'A\\nB'"
      ]
     },
     "execution_count": 47,
     "metadata": {},
     "output_type": "execute_result"
    }
   ],
   "source": [
    "zlacz_teksty(\"A\", \"B\")"
   ]
  },
  {
   "cell_type": "code",
   "execution_count": 48,
   "id": "a5a5c5eb-8caa-426a-bb10-67b8b533ef51",
   "metadata": {},
   "outputs": [
    {
     "data": {
      "text/plain": [
       "'A'"
      ]
     },
     "execution_count": 48,
     "metadata": {},
     "output_type": "execute_result"
    }
   ],
   "source": [
    "zlacz_teksty(\"A\")"
   ]
  },
  {
   "cell_type": "code",
   "execution_count": 49,
   "id": "3d940c22-80f7-44d0-8585-71ec5c30d28a",
   "metadata": {},
   "outputs": [
    {
     "data": {
      "text/plain": [
       "'A\\nA\\nVB\\nC\\nD'"
      ]
     },
     "execution_count": 49,
     "metadata": {},
     "output_type": "execute_result"
    }
   ],
   "source": [
    "zlacz_teksty(\"A\", \"A\", \"VB\", \"C\", \"D\")"
   ]
  },
  {
   "cell_type": "code",
   "execution_count": 59,
   "id": "591bfc3a-d372-4609-9f40-0aeb6d5c6fb9",
   "metadata": {},
   "outputs": [
    {
     "name": "stdout",
     "output_type": "stream",
     "text": [
      "{'a': 1, 'b': 2}\n",
      "{'a': 1, 'b': 2, 'd': 20, 'xx': 'ala ma kota'}\n",
      "ALA MA KOTA\n"
     ]
    }
   ],
   "source": [
    "def func(x, **parametry):\n",
    "    print(parametry)\n",
    "\n",
    "    xx = parametry.get(\"xx\")\n",
    "    if xx: print(xx.upper())\n",
    "\n",
    "func(10, a=1, b=2)\n",
    "func(20, a=1, b=2, d=20, xx=\"ala ma kota\")"
   ]
  },
  {
   "cell_type": "markdown",
   "id": "4f705a7f-3f20-4b16-978b-4b0c162cc978",
   "metadata": {},
   "source": [
    "Zaprojektuj funkcje, ktora przyjmie dowolna liczbe tekstow oraz dodatkowych parametrow, ktore beda wartosciami do podmiany w tych tekstach\n"
   ]
  },
  {
   "cell_type": "code",
   "execution_count": 63,
   "id": "24f6a995-c579-4d14-b634-daf24bb8e3db",
   "metadata": {},
   "outputs": [
    {
     "ename": "NameError",
     "evalue": "name 'formatuj' is not defined",
     "output_type": "error",
     "traceback": [
      "\u001b[31m---------------------------------------------------------------------------\u001b[39m",
      "\u001b[31mNameError\u001b[39m                                 Traceback (most recent call last)",
      "\u001b[36mCell\u001b[39m\u001b[36m \u001b[39m\u001b[32mIn[63]\u001b[39m\u001b[32m, line 1\u001b[39m\n\u001b[32m----> \u001b[39m\u001b[32m1\u001b[39m \u001b[38;5;28;01massert\u001b[39;00m \u001b[43mformatuj\u001b[49m() == \u001b[33m\"\u001b[39m\u001b[33m\"\u001b[39m\n\u001b[32m      2\u001b[39m \u001b[38;5;28;01massert\u001b[39;00m formatuj(\u001b[33m\"\u001b[39m\u001b[33mA\u001b[39m\u001b[33m\"\u001b[39m, \u001b[33m\"\u001b[39m\u001b[33mB\u001b[39m\u001b[33m\"\u001b[39m) == \u001b[33m\"\u001b[39m\u001b[33mA\u001b[39m\u001b[38;5;130;01m\\n\u001b[39;00m\u001b[33mB\u001b[39m\u001b[33m\"\u001b[39m\n\u001b[32m      3\u001b[39m \u001b[38;5;28;01massert\u001b[39;00m formatuj(\u001b[33m\"\u001b[39m\u001b[33mCena wynosi: $cena\u001b[39m\u001b[33m\"\u001b[39m, cena=\u001b[32m10\u001b[39m) == \u001b[33m\"\u001b[39m\u001b[33mCena wynosi: 10\u001b[39m\u001b[33m\"\u001b[39m\n",
      "\u001b[31mNameError\u001b[39m: name 'formatuj' is not defined"
     ]
    }
   ],
   "source": [
    "#Zaprojektuj funkcje, ktora przyjmie dowolna liczbe tekstow oraz dodatkowych parametrow, ktore beda wartosciami do podmiany w tych tekstach\n",
    "\n",
    "assert formatuj() == \"\"\n",
    "assert formatuj(\"A\", \"B\") == \"A\\nB\"\n",
    "assert formatuj(\"Cena wynosi: $cena\", cena=10) == \"Cena wynosi: 10\"\n",
    "\n",
    "assert (\n",
    "    formatuj(\"Cena wynosi: $cena\", \"Vat to $cena * 1.23 = $cena_z_vat\",  cena=10, cena_z_vat=10*1.23) == \n",
    "f\"Cena wynosi: 10\\nVat to 10 * 1.23 = {10*1.23}\")\n",
    "\n",
    "\n"
   ]
  },
  {
   "cell_type": "code",
   "execution_count": null,
   "id": "b599ed3e-a948-445c-bd8b-77fbbaf3f7f8",
   "metadata": {},
   "outputs": [],
   "source": []
  }
 ],
 "metadata": {
  "kernelspec": {
   "display_name": "Python 3 (ipykernel)",
   "language": "python",
   "name": "python3"
  },
  "language_info": {
   "codemirror_mode": {
    "name": "ipython",
    "version": 3
   },
   "file_extension": ".py",
   "mimetype": "text/x-python",
   "name": "python",
   "nbconvert_exporter": "python",
   "pygments_lexer": "ipython3",
   "version": "3.13.8"
  }
 },
 "nbformat": 4,
 "nbformat_minor": 5
}
