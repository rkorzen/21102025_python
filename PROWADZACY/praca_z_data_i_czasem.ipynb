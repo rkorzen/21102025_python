{
 "cells": [
  {
   "cell_type": "code",
   "execution_count": 1,
   "id": "initial_id",
   "metadata": {},
   "outputs": [],
   "source": [
    "from datetime import datetime"
   ]
  },
  {
   "cell_type": "code",
   "execution_count": 6,
   "id": "dfd5865a-404b-4748-8265-ce7fc7e7538a",
   "metadata": {},
   "outputs": [],
   "source": [
    "naive_now = datetime.now()  # naive"
   ]
  },
  {
   "cell_type": "code",
   "execution_count": 3,
   "id": "6d14f918-036d-4415-96a4-d8fc2e83d138",
   "metadata": {},
   "outputs": [],
   "source": [
    "from zoneinfo import ZoneInfo\n",
    "\n",
    "warsaw = ZoneInfo(\"Europe/Warsaw\")\n",
    "\n",
    "aware_warsaw = datetime(2025, 3, 30, 1, 30, tzinfo=warsaw)"
   ]
  },
  {
   "cell_type": "code",
   "execution_count": 4,
   "id": "d9a6d1b9-87e2-41ce-9d9d-8c6d772e531d",
   "metadata": {},
   "outputs": [
    {
     "data": {
      "text/plain": [
       "datetime.datetime(2025, 3, 30, 1, 30, tzinfo=zoneinfo.ZoneInfo(key='Europe/Warsaw'))"
      ]
     },
     "execution_count": 4,
     "metadata": {},
     "output_type": "execute_result"
    }
   ],
   "source": [
    "aware_warsaw"
   ]
  },
  {
   "cell_type": "code",
   "execution_count": 7,
   "id": "bd197df1-7378-4d09-b5cf-32affaf9a02c",
   "metadata": {},
   "outputs": [
    {
     "data": {
      "text/plain": [
       "datetime.datetime(2025, 10, 23, 14, 48, 31, 247978)"
      ]
     },
     "execution_count": 7,
     "metadata": {},
     "output_type": "execute_result"
    }
   ],
   "source": [
    "naive_now"
   ]
  },
  {
   "cell_type": "code",
   "execution_count": 8,
   "id": "4d7bda9b-1a7e-46fc-b6de-6259391caac0",
   "metadata": {},
   "outputs": [
    {
     "ename": "TypeError",
     "evalue": "can't compare offset-naive and offset-aware datetimes",
     "output_type": "error",
     "traceback": [
      "\u001b[31m---------------------------------------------------------------------------\u001b[39m",
      "\u001b[31mTypeError\u001b[39m                                 Traceback (most recent call last)",
      "\u001b[36mCell\u001b[39m\u001b[36m \u001b[39m\u001b[32mIn[8]\u001b[39m\u001b[32m, line 1\u001b[39m\n\u001b[32m----> \u001b[39m\u001b[32m1\u001b[39m \u001b[43mnaive_now\u001b[49m\u001b[43m \u001b[49m\u001b[43m>\u001b[49m\u001b[43m \u001b[49m\u001b[43maware_warsaw\u001b[49m\n",
      "\u001b[31mTypeError\u001b[39m: can't compare offset-naive and offset-aware datetimes"
     ]
    }
   ],
   "source": [
    "naive_now > aware_warsaw"
   ]
  },
  {
   "cell_type": "code",
   "execution_count": 9,
   "id": "0bfc3023-a87f-4034-899e-ddc4b808451a",
   "metadata": {},
   "outputs": [
    {
     "data": {
      "text/plain": [
       "['__add__',\n",
       " '__class__',\n",
       " '__delattr__',\n",
       " '__dir__',\n",
       " '__doc__',\n",
       " '__eq__',\n",
       " '__format__',\n",
       " '__ge__',\n",
       " '__getattribute__',\n",
       " '__getstate__',\n",
       " '__gt__',\n",
       " '__hash__',\n",
       " '__init__',\n",
       " '__init_subclass__',\n",
       " '__le__',\n",
       " '__lt__',\n",
       " '__ne__',\n",
       " '__new__',\n",
       " '__radd__',\n",
       " '__reduce__',\n",
       " '__reduce_ex__',\n",
       " '__replace__',\n",
       " '__repr__',\n",
       " '__rsub__',\n",
       " '__setattr__',\n",
       " '__sizeof__',\n",
       " '__str__',\n",
       " '__sub__',\n",
       " '__subclasshook__',\n",
       " 'astimezone',\n",
       " 'combine',\n",
       " 'ctime',\n",
       " 'date',\n",
       " 'day',\n",
       " 'dst',\n",
       " 'fold',\n",
       " 'fromisocalendar',\n",
       " 'fromisoformat',\n",
       " 'fromordinal',\n",
       " 'fromtimestamp',\n",
       " 'hour',\n",
       " 'isocalendar',\n",
       " 'isoformat',\n",
       " 'isoweekday',\n",
       " 'max',\n",
       " 'microsecond',\n",
       " 'min',\n",
       " 'minute',\n",
       " 'month',\n",
       " 'now',\n",
       " 'replace',\n",
       " 'resolution',\n",
       " 'second',\n",
       " 'strftime',\n",
       " 'strptime',\n",
       " 'time',\n",
       " 'timestamp',\n",
       " 'timetuple',\n",
       " 'timetz',\n",
       " 'today',\n",
       " 'toordinal',\n",
       " 'tzinfo',\n",
       " 'tzname',\n",
       " 'utcfromtimestamp',\n",
       " 'utcnow',\n",
       " 'utcoffset',\n",
       " 'utctimetuple',\n",
       " 'weekday',\n",
       " 'year']"
      ]
     },
     "execution_count": 9,
     "metadata": {},
     "output_type": "execute_result"
    }
   ],
   "source": [
    "dir(naive_now)"
   ]
  },
  {
   "cell_type": "code",
   "execution_count": 13,
   "id": "7e97e051-4b63-4778-8f70-cfeec86493a7",
   "metadata": {},
   "outputs": [],
   "source": [
    "aware_now = naive_now.astimezone(warsaw)"
   ]
  },
  {
   "cell_type": "code",
   "execution_count": 12,
   "id": "f522b774-f6a7-4f9f-8794-9071fb62c72e",
   "metadata": {},
   "outputs": [
    {
     "data": {
      "text/plain": [
       "datetime.datetime(2025, 10, 23, 14, 48, 31, 247978)"
      ]
     },
     "execution_count": 12,
     "metadata": {},
     "output_type": "execute_result"
    }
   ],
   "source": [
    "naive_now"
   ]
  },
  {
   "cell_type": "code",
   "execution_count": 15,
   "id": "c15ced94-37db-450b-a23f-9bb7ff5d67d6",
   "metadata": {},
   "outputs": [
    {
     "data": {
      "text/plain": [
       "datetime.timedelta(days=207, seconds=47911, microseconds=247978)"
      ]
     },
     "execution_count": 15,
     "metadata": {},
     "output_type": "execute_result"
    }
   ],
   "source": [
    "aware_now - aware_warsaw"
   ]
  },
  {
   "cell_type": "code",
   "execution_count": 16,
   "id": "b8df1cd2-7c33-4359-acc9-d21638aad895",
   "metadata": {},
   "outputs": [],
   "source": [
    "from datetime import timedelta\n"
   ]
  },
  {
   "cell_type": "code",
   "execution_count": 17,
   "id": "cf813053-49a8-4a19-aef6-e1e1eabe69e3",
   "metadata": {},
   "outputs": [
    {
     "data": {
      "text/plain": [
       "datetime.datetime(2025, 11, 23, 14, 48, 31, 247978, tzinfo=zoneinfo.ZoneInfo(key='Europe/Warsaw'))"
      ]
     },
     "execution_count": 17,
     "metadata": {},
     "output_type": "execute_result"
    }
   ],
   "source": [
    "aware_now + timedelta(days=31)"
   ]
  },
  {
   "cell_type": "code",
   "execution_count": 19,
   "id": "65881522-0753-45a6-813b-e7f7a6cacb81",
   "metadata": {},
   "outputs": [
    {
     "data": {
      "text/plain": [
       "datetime.datetime(2025, 10, 23, 12, 48, 31, 247978, tzinfo=zoneinfo.ZoneInfo(key='UTC'))"
      ]
     },
     "execution_count": 19,
     "metadata": {},
     "output_type": "execute_result"
    }
   ],
   "source": [
    "aware_now.astimezone(ZoneInfo(\"UTC\"))"
   ]
  },
  {
   "cell_type": "code",
   "execution_count": 31,
   "id": "06b5f97e-c3fe-4ccf-877a-b7a21727a8f2",
   "metadata": {},
   "outputs": [
    {
     "name": "stdout",
     "output_type": "stream",
     "text": [
      "Tokio 2025-10-23 22:07:02.222593+09:00\n",
      "NY 2025-10-23 09:07:02.222593-04:00\n"
     ]
    }
   ],
   "source": [
    "# jaka jest teraz godzina w Tokio i Nowym Yorku\n",
    "tokio = ZoneInfo(\"Asia/Tokyo\")\n",
    "ny = ZoneInfo(\"America/New_York\")\n",
    "\n",
    "\n",
    "d = datetime.now().astimezone(warsaw)\n",
    "print(\"Tokio\", d.astimezone(tokio))\n",
    "print(\"NY\", d.astimezone(ny))\n",
    "\n"
   ]
  },
  {
   "cell_type": "code",
   "execution_count": 21,
   "id": "91ee6f21-af86-4f30-8605-6473468b4f8b",
   "metadata": {},
   "outputs": [],
   "source": [
    "# ile dni minelo od Twoich ostatnich urodzin"
   ]
  },
  {
   "cell_type": "code",
   "execution_count": 26,
   "id": "08043564-b5a3-4318-b7a1-a32e32ecbf03",
   "metadata": {},
   "outputs": [
    {
     "data": {
      "text/plain": [
       "254"
      ]
     },
     "execution_count": 26,
     "metadata": {},
     "output_type": "execute_result"
    }
   ],
   "source": [
    "b_day = datetime(2025, 2, 11)\n",
    "today = datetime.now()\n",
    "(today - b_day).days"
   ]
  },
  {
   "cell_type": "code",
   "execution_count": 33,
   "id": "7bcb18b6-131e-4625-9fe4-ec7f4e1471df",
   "metadata": {},
   "outputs": [
    {
     "data": {
      "text/plain": [
       "['__add__',\n",
       " '__class__',\n",
       " '__delattr__',\n",
       " '__dir__',\n",
       " '__doc__',\n",
       " '__eq__',\n",
       " '__format__',\n",
       " '__ge__',\n",
       " '__getattribute__',\n",
       " '__getstate__',\n",
       " '__gt__',\n",
       " '__hash__',\n",
       " '__init__',\n",
       " '__init_subclass__',\n",
       " '__le__',\n",
       " '__lt__',\n",
       " '__ne__',\n",
       " '__new__',\n",
       " '__radd__',\n",
       " '__reduce__',\n",
       " '__reduce_ex__',\n",
       " '__replace__',\n",
       " '__repr__',\n",
       " '__rsub__',\n",
       " '__setattr__',\n",
       " '__sizeof__',\n",
       " '__str__',\n",
       " '__sub__',\n",
       " '__subclasshook__',\n",
       " 'astimezone',\n",
       " 'combine',\n",
       " 'ctime',\n",
       " 'date',\n",
       " 'day',\n",
       " 'dst',\n",
       " 'fold',\n",
       " 'fromisocalendar',\n",
       " 'fromisoformat',\n",
       " 'fromordinal',\n",
       " 'fromtimestamp',\n",
       " 'hour',\n",
       " 'isocalendar',\n",
       " 'isoformat',\n",
       " 'isoweekday',\n",
       " 'max',\n",
       " 'microsecond',\n",
       " 'min',\n",
       " 'minute',\n",
       " 'month',\n",
       " 'now',\n",
       " 'replace',\n",
       " 'resolution',\n",
       " 'second',\n",
       " 'strftime',\n",
       " 'strptime',\n",
       " 'time',\n",
       " 'timestamp',\n",
       " 'timetuple',\n",
       " 'timetz',\n",
       " 'today',\n",
       " 'toordinal',\n",
       " 'tzinfo',\n",
       " 'tzname',\n",
       " 'utcfromtimestamp',\n",
       " 'utcnow',\n",
       " 'utcoffset',\n",
       " 'utctimetuple',\n",
       " 'weekday',\n",
       " 'year']"
      ]
     },
     "execution_count": 33,
     "metadata": {},
     "output_type": "execute_result"
    }
   ],
   "source": [
    "dir(d)"
   ]
  },
  {
   "cell_type": "code",
   "execution_count": 34,
   "id": "32a69a6e-d4c7-41b1-971d-957caa88d473",
   "metadata": {},
   "outputs": [
    {
     "data": {
      "text/plain": [
       "'2025-10-23T15:07:02.222593+02:00'"
      ]
     },
     "execution_count": 34,
     "metadata": {},
     "output_type": "execute_result"
    }
   ],
   "source": [
    "d.isoformat()"
   ]
  },
  {
   "cell_type": "code",
   "execution_count": 40,
   "id": "7d983f63-0a88-4d02-aed4-85adfda0aff1",
   "metadata": {},
   "outputs": [
    {
     "data": {
      "text/plain": [
       "'25/10/23'"
      ]
     },
     "execution_count": 40,
     "metadata": {},
     "output_type": "execute_result"
    }
   ],
   "source": [
    "d.strftime(\"%y/%m/%d\")"
   ]
  },
  {
   "cell_type": "code",
   "execution_count": 47,
   "id": "957fbe9d-b0bd-42e8-a72c-d6c67676c1b8",
   "metadata": {},
   "outputs": [
    {
     "data": {
      "text/plain": [
       "datetime.datetime(2025, 10, 23, 15, 7, 2)"
      ]
     },
     "execution_count": 47,
     "metadata": {},
     "output_type": "execute_result"
    }
   ],
   "source": [
    "datetime.fromisoformat('2025-10-23 15:07:02')"
   ]
  },
  {
   "cell_type": "code",
   "execution_count": 45,
   "id": "80450816-1595-4956-8035-4152ac44ec94",
   "metadata": {},
   "outputs": [
    {
     "data": {
      "text/plain": [
       "datetime.datetime(2025, 10, 23, 0, 0)"
      ]
     },
     "execution_count": 45,
     "metadata": {},
     "output_type": "execute_result"
    }
   ],
   "source": [
    "datetime.strptime('25/10-23', \"%y/%m-%d\")"
   ]
  },
  {
   "cell_type": "code",
   "execution_count": 48,
   "id": "1d98be57-be13-476b-81b2-93cf94e40b3a",
   "metadata": {},
   "outputs": [
    {
     "ename": "ValueError",
     "evalue": "Invalid isoformat string: '10-23-2025 15:07:02'",
     "output_type": "error",
     "traceback": [
      "\u001b[31m---------------------------------------------------------------------------\u001b[39m",
      "\u001b[31mValueError\u001b[39m                                Traceback (most recent call last)",
      "\u001b[36mCell\u001b[39m\u001b[36m \u001b[39m\u001b[32mIn[48]\u001b[39m\u001b[32m, line 1\u001b[39m\n\u001b[32m----> \u001b[39m\u001b[32m1\u001b[39m \u001b[43mdatetime\u001b[49m\u001b[43m.\u001b[49m\u001b[43mfromisoformat\u001b[49m\u001b[43m(\u001b[49m\u001b[33;43m'\u001b[39;49m\u001b[33;43m10-23-2025 15:07:02\u001b[39;49m\u001b[33;43m'\u001b[39;49m\u001b[43m)\u001b[49m\n",
      "\u001b[31mValueError\u001b[39m: Invalid isoformat string: '10-23-2025 15:07:02'"
     ]
    }
   ],
   "source": [
    "datetime.fromisoformat('10-23-2025 15:07:02')"
   ]
  },
  {
   "cell_type": "code",
   "execution_count": 50,
   "id": "81ffcfe6-295e-45d9-9e4b-a6d45d157009",
   "metadata": {},
   "outputs": [
    {
     "data": {
      "text/plain": [
       "datetime.datetime(2025, 10, 23, 15, 7, 2)"
      ]
     },
     "execution_count": 50,
     "metadata": {},
     "output_type": "execute_result"
    }
   ],
   "source": [
    "datetime.strptime('10-23-2025 15:07:02', \"%m-%d-%Y %H:%M:%S\")"
   ]
  },
  {
   "cell_type": "code",
   "execution_count": null,
   "id": "97e8c540-8cfb-4e24-97a5-e0642234bfe2",
   "metadata": {},
   "outputs": [],
   "source": []
  }
 ],
 "metadata": {
  "kernelspec": {
   "display_name": "Python 3 (ipykernel)",
   "language": "python",
   "name": "python3"
  },
  "language_info": {
   "codemirror_mode": {
    "name": "ipython",
    "version": 3
   },
   "file_extension": ".py",
   "mimetype": "text/x-python",
   "name": "python",
   "nbconvert_exporter": "python",
   "pygments_lexer": "ipython3",
   "version": "3.13.8"
  }
 },
 "nbformat": 4,
 "nbformat_minor": 5
}
