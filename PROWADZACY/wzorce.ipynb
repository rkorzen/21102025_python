{
 "cells": [
  {
   "cell_type": "markdown",
   "id": "701ea80a-a8a0-4ad0-b67a-1672ce0b3019",
   "metadata": {},
   "source": [
    "# wzorce projektowe\n",
    "## rejestr"
   ]
  },
  {
   "cell_type": "code",
   "execution_count": 11,
   "id": "d20b9aa2-7abf-4524-a5cf-fd9931b98497",
   "metadata": {},
   "outputs": [],
   "source": [
    "def op_dec(nazwa):\n",
    "    def decorator(func):\n",
    "        \n",
    "        def wrapper(*args, **kwargs):\n",
    "            print(f\"{nazwa}{func}\")\n",
    "            r = func(*args, **kwargs)\n",
    "            return r\n",
    "        return wrapper\n",
    "    return decorator"
   ]
  },
  {
   "cell_type": "code",
   "execution_count": 12,
   "id": "b6c0a1ab-5ae0-4812-bd12-978406743365",
   "metadata": {},
   "outputs": [],
   "source": [
    "@op_dec(\"+\")\n",
    "def add():\n",
    "    print(\"cos\")"
   ]
  },
  {
   "cell_type": "code",
   "execution_count": 14,
   "id": "7f468e8f-82e4-41af-8b03-91fb75c6916f",
   "metadata": {},
   "outputs": [
    {
     "name": "stdout",
     "output_type": "stream",
     "text": [
      "+<function add at 0x1044a0d60>\n",
      "cos\n"
     ]
    }
   ],
   "source": [
    "add()"
   ]
  },
  {
   "cell_type": "markdown",
   "id": "b68c0352-e1dd-406e-a94e-ea3c25f3c033",
   "metadata": {},
   "source": [
    "w zadaniu z kalklulatorem zaimplementuj wzorzec rejestr (definicja i uzycie dekoratora - ktory zarejestruej w slowniku funkcji - mapujac je odpowiednim symbolem,)\n"
   ]
  },
  {
   "cell_type": "code",
   "execution_count": null,
   "id": "5135c040-4fab-483e-9fb5-2ce2c60e5008",
   "metadata": {},
   "outputs": [],
   "source": []
  }
 ],
 "metadata": {
  "kernelspec": {
   "display_name": "Python 3 (ipykernel)",
   "language": "python",
   "name": "python3"
  },
  "language_info": {
   "codemirror_mode": {
    "name": "ipython",
    "version": 3
   },
   "file_extension": ".py",
   "mimetype": "text/x-python",
   "name": "python",
   "nbconvert_exporter": "python",
   "pygments_lexer": "ipython3",
   "version": "3.13.8"
  }
 },
 "nbformat": 4,
 "nbformat_minor": 5
}
