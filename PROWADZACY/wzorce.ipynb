{
 "cells": [
  {
   "cell_type": "markdown",
   "id": "701ea80a-a8a0-4ad0-b67a-1672ce0b3019",
   "metadata": {},
   "source": [
    "# wzorce projektowe\n",
    "## rejestr"
   ]
  },
  {
   "cell_type": "code",
   "execution_count": null,
   "id": "d20b9aa2-7abf-4524-a5cf-fd9931b98497",
   "metadata": {},
   "outputs": [],
   "source": [
    "def op_dec(nazwa):\n",
    "    def decorator(func):\n",
    "        \n",
    "        def wrapper(*args, **kwargs):\n",
    "            print(f\"{nazwa}{func}\")\n",
    "            r = func(*args, **kwargs)\n",
    "            return r\n",
    "        return wrapper\n",
    "    return decorator"
   ]
  },
  {
   "cell_type": "code",
   "execution_count": null,
   "id": "b6c0a1ab-5ae0-4812-bd12-978406743365",
   "metadata": {},
   "outputs": [],
   "source": [
    "@op_dec(\"+\")\n",
    "def add():\n",
    "    print(\"cos\")"
   ]
  },
  {
   "cell_type": "code",
   "execution_count": null,
   "id": "7f468e8f-82e4-41af-8b03-91fb75c6916f",
   "metadata": {},
   "outputs": [],
   "source": [
    "add()"
   ]
  },
  {
   "cell_type": "markdown",
   "id": "b68c0352-e1dd-406e-a94e-ea3c25f3c033",
   "metadata": {},
   "source": [
    "w zadaniu z kalklulatorem zaimplementuj wzorzec rejestr (definicja i uzycie dekoratora - ktory zarejestruej w slowniku funkcji - mapujac je odpowiednim symbolem,)\n"
   ]
  },
  {
   "cell_type": "code",
   "execution_count": null,
   "id": "324444a8-1aae-4114-b387-5fa72ed1c0e4",
   "metadata": {},
   "outputs": [],
   "source": [
    "\"\"\"Prosty kalkulator konsolowy wykorzystywany podczas zajęć.\"\"\"\n",
    "from functools import wraps\n",
    "from typing import Callable, Dict, Tuple\n",
    "\n",
    "OPERATIONS: Dict[str, Callable[[int, int], float]] = {\n",
    "\n",
    "}\n",
    "\n",
    "\n",
    "def register(nazwa):\n",
    "    def decorator(func):  \n",
    "        OPERATIONS[nazwa] = func\n",
    "\n",
    "        @wraps(func)\n",
    "        def wrapper(*args, **kwargs):\n",
    "            r = func(*args, **kwargs)\n",
    "            return r\n",
    "        \n",
    "        return wrapper\n",
    "        \n",
    "    return decorator\n",
    "\n",
    "@register(\"+\")\n",
    "def add(a: int, b: int) -> int:\n",
    "    \"\"\"Zwróć sumę argumentów.\"\"\"\n",
    "    return a + b\n",
    "\n",
    "@register(\"-\")\n",
    "def sub(a: int, b: int) -> int:\n",
    "    \"\"\"Zwróć różnicę argumentów.\"\"\"\n",
    "    return a - b\n",
    "\n",
    "@register(\"*\")\n",
    "def mul(a: int, b: int) -> int:\n",
    "    \"\"\"Zwróć iloczyn argumentów.\"\"\"\n",
    "    return a * b\n",
    "\n",
    "@register(\"/\")\n",
    "def div(a: int, b: int) -> float:\n",
    "    \"\"\"Zwróć iloraz argumentów.\"\"\"\n",
    "    return a / b\n",
    "\n",
    "@register(\"**\")\n",
    "def pow(a: int, n: int) -> int:\n",
    "    return a ** n\n",
    "\n",
    "print(OPERATIONS)"
   ]
  },
  {
   "cell_type": "code",
   "execution_count": null,
   "id": "5135c040-4fab-483e-9fb5-2ce2c60e5008",
   "metadata": {},
   "outputs": [],
   "source": [
    "def get_data() -> Tuple[str, int, int]:\n",
    "    \"\"\"Pobierz dane od użytkownika, walidując znak operacji.\"\"\"\n",
    "    operation = input(\"Podaj rodzaj operacji (+-/*): \")\n",
    "\n",
    "    if operation not in OPERATIONS:\n",
    "        raise ValueError(\"Podano niepoprawny operator!\")\n",
    "\n",
    "    a = int(input(\"Podaj pierwszy argument: \"))\n",
    "    b = int(input(\"Podaj drugi argument: \"))\n",
    "    return operation, a, b\n",
    "\n",
    "\n",
    "def main() -> None:\n",
    "    \"\"\"Zbierz dane, wykonaj działanie i pokaż wynik.\"\"\"\n",
    "    operation, a, b = get_data()\n",
    "    result = OPERATIONS[operation](a, b)\n",
    "    print(f\"Wynik operacji {a}{operation}{b} = {result}\")\n",
    "\n",
    "\n",
    "if __name__ == \"__main__\":\n",
    "    main()\n",
    "\n",
    "# Alias zachowujący kompatybilność ze starszymi materiałami i testami.\n",
    "operations = OPERATIONS"
   ]
  },
  {
   "cell_type": "markdown",
   "id": "5ba44e38-fe7a-4db4-8ad0-b9d0e669c453",
   "metadata": {},
   "source": [
    "## Singleton"
   ]
  },
  {
   "cell_type": "code",
   "execution_count": null,
   "id": "4bb914ff-2f5f-42f8-b62b-4499127bbd30",
   "metadata": {},
   "outputs": [],
   "source": [
    "\n"
   ]
  },
  {
   "cell_type": "code",
   "execution_count": 23,
   "id": "0c5dc523-6fe6-4041-ab43-ead97115afc2",
   "metadata": {},
   "outputs": [
    {
     "name": "stdout",
     "output_type": "stream",
     "text": [
      "4549845280\n",
      "4549845280\n"
     ]
    }
   ],
   "source": [
    "class Logger:\n",
    "    _instance = None\n",
    "\n",
    "    def __new__(cls):\n",
    "        if not cls._instance:\n",
    "            cls._instance = super().__new__(cls)\n",
    "        return cls._instance\n",
    "\n",
    "    def log(self, message):\n",
    "        print(f\"[LOG] {message}\")\n",
    "\n",
    "    def __str__(self):\n",
    "        return str(id(self))\n",
    "\n",
    "    # @classmethod\n",
    "    # def create_logger(cls):\n",
    "    #     if not cls._instance:\n",
    "    #         cls._instance = cls()\n",
    "    #     return cls._instance\n",
    "\n",
    "\n",
    "# logger1 = Logger.create_logger()\n",
    "# logger2 = Logger.create_logger()\n",
    "logger1 = Logger()\n",
    "logger2 = Logger()\n",
    "\n",
    "# logger3 = Logger()\n",
    "print(logger1)\n",
    "print(logger2)\n",
    "# print(logger3)\n",
    "\n",
    "\n"
   ]
  },
  {
   "cell_type": "code",
   "execution_count": 16,
   "id": "7fd730a7-458e-4e49-a554-3899a00c500f",
   "metadata": {},
   "outputs": [],
   "source": [
    "logger1 = Logger()\n",
    "logger2 = Logger()"
   ]
  },
  {
   "cell_type": "code",
   "execution_count": 17,
   "id": "db3a810a-fad1-4c42-9c38-0182e012d8e2",
   "metadata": {},
   "outputs": [
    {
     "data": {
      "text/plain": [
       "<__main__.Logger at 0x10f2b7380>"
      ]
     },
     "execution_count": 17,
     "metadata": {},
     "output_type": "execute_result"
    }
   ],
   "source": [
    "Logger._instance"
   ]
  },
  {
   "cell_type": "code",
   "execution_count": 18,
   "id": "a05d9df0-86a1-4d95-ad78-7ac16341bc11",
   "metadata": {},
   "outputs": [
    {
     "data": {
      "text/plain": [
       "4549473152"
      ]
     },
     "execution_count": 18,
     "metadata": {},
     "output_type": "execute_result"
    }
   ],
   "source": [
    "id(logger2)"
   ]
  },
  {
   "cell_type": "code",
   "execution_count": 19,
   "id": "c1c6987f-84da-4588-93c7-8fc43ae1595a",
   "metadata": {},
   "outputs": [
    {
     "data": {
      "text/plain": [
       "True"
      ]
     },
     "execution_count": 19,
     "metadata": {},
     "output_type": "execute_result"
    }
   ],
   "source": [
    "logger1 is logger2"
   ]
  },
  {
   "cell_type": "code",
   "execution_count": 20,
   "id": "5adac32d-066e-4886-8746-71023f144090",
   "metadata": {},
   "outputs": [
    {
     "data": {
      "text/plain": [
       "<__main__.Logger at 0x10f2b7380>"
      ]
     },
     "execution_count": 20,
     "metadata": {},
     "output_type": "execute_result"
    }
   ],
   "source": [
    "Logger._instance"
   ]
  },
  {
   "cell_type": "markdown",
   "id": "541ebf07-0edb-4843-ad9b-14e512d2dc27",
   "metadata": {},
   "source": [
    "## Factory Method"
   ]
  },
  {
   "cell_type": "code",
   "execution_count": 27,
   "id": "19535911-0952-48ec-bb6e-e070e987cd78",
   "metadata": {},
   "outputs": [
    {
     "name": "stdout",
     "output_type": "stream",
     "text": [
      "Rendering pdf\n"
     ]
    }
   ],
   "source": [
    "from abc import ABC, abstractmethod\n",
    "\n",
    "class Document(ABC):\n",
    "    @abstractmethod\n",
    "    def render(self):\n",
    "        pass\n",
    "\n",
    "class PDFDocument(Document):\n",
    "    def render(self):\n",
    "        return \"Rendering pdf\"\n",
    "\n",
    "class WordDocument(Document):\n",
    "    def render(self):\n",
    "        return \"Rendering Word Document\"\n",
    "        \n",
    "class DocumentFactory:\n",
    "    @staticmethod\n",
    "    def create_document(doc_type):\n",
    "        if doc_type == \"PDF\":\n",
    "            return PDFDocument()\n",
    "        elif doc_type == \"Word\":\n",
    "            return WordDocument()\n",
    "        raise ValueError(\"Unknown document type\")\n",
    "\n",
    "\n",
    "DocumentFactory.register(\"PDF\", PDFDocument)\n",
    "\n",
    "document = DocumentFactory.create_document(\"PDF\")\n",
    "print(document.render())\n",
    "            "
   ]
  },
  {
   "cell_type": "code",
   "execution_count": null,
   "id": "9e2a4380-a1f3-46d2-bf0c-4b88a2e20eca",
   "metadata": {},
   "outputs": [],
   "source": []
  }
 ],
 "metadata": {
  "kernelspec": {
   "display_name": "Python 3 (ipykernel)",
   "language": "python",
   "name": "python3"
  },
  "language_info": {
   "codemirror_mode": {
    "name": "ipython",
    "version": 3
   },
   "file_extension": ".py",
   "mimetype": "text/x-python",
   "name": "python",
   "nbconvert_exporter": "python",
   "pygments_lexer": "ipython3",
   "version": "3.13.8"
  }
 },
 "nbformat": 4,
 "nbformat_minor": 5
}
