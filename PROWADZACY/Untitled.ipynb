{
 "cells": [
  {
   "cell_type": "markdown",
   "id": "147f6905-8e1a-40d1-90b5-119a9cdf9c45",
   "metadata": {},
   "source": [
    "# Plan testow\n",
    "\n",
    "- `assert` - szybkie sprawdzenie warunkow w skryptach\n",
    "- `doctest` - dokumentacja sprawdzana automatycznie\n",
    "- `unittest` - klasyczny framework testowy w standardzie\n",
    "- `pytest` - narzedzie wysokiego poziomu z bogatym ekosystemem"
   ]
  }
 ],
 "metadata": {
  "kernelspec": {
   "display_name": "Python 3 (ipykernel)",
   "language": "python",
   "name": "python3"
  },
  "language_info": {
   "codemirror_mode": {
    "name": "ipython",
    "version": 3
   },
   "file_extension": ".py",
   "mimetype": "text/x-python",
   "name": "python",
   "nbconvert_exporter": "python",
   "pygments_lexer": "ipython3",
   "version": "3.13.8"
  }
 },
 "nbformat": 4,
 "nbformat_minor": 5
}
