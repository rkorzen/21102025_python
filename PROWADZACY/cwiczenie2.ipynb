{
 "cells": [
  {
   "cell_type": "markdown",
   "id": "0ee65475-5051-4243-a622-59944cb51a47",
   "metadata": {},
   "source": [
    "W zadanym tekscie policz wystapienia kazdego znaku.\n",
    "\n"
   ]
  },
  {
   "cell_type": "code",
   "execution_count": 4,
   "id": "b341c031-e1d5-4c75-95b0-8cfd6158a6a5",
   "metadata": {},
   "outputs": [],
   "source": [
    "text = \"ddsdsd aefv qwopirjg vasdjfn 1pi3ojfr vwjdkfvbn 20irg 1fh iashbdfv 2u9q3rgh\""
   ]
  },
  {
   "cell_type": "code",
   "execution_count": 5,
   "id": "e3a15268-504d-46cb-985d-2f4909cc7228",
   "metadata": {},
   "outputs": [
    {
     "data": {
      "text/plain": [
       "{'d': 7,\n",
       " 's': 4,\n",
       " ' ': 9,\n",
       " 'a': 3,\n",
       " 'e': 1,\n",
       " 'f': 6,\n",
       " 'v': 5,\n",
       " 'q': 2,\n",
       " 'w': 2,\n",
       " 'o': 2,\n",
       " 'p': 2,\n",
       " 'i': 4,\n",
       " 'r': 4,\n",
       " 'j': 4,\n",
       " 'g': 3,\n",
       " 'n': 2,\n",
       " '1': 2,\n",
       " '3': 2,\n",
       " 'k': 1,\n",
       " 'b': 2,\n",
       " '2': 2,\n",
       " '0': 1,\n",
       " 'h': 3,\n",
       " 'u': 1,\n",
       " '9': 1}"
      ]
     },
     "execution_count": 5,
     "metadata": {},
     "output_type": "execute_result"
    }
   ],
   "source": [
    "# tier 0\n",
    "\n",
    "zliczenia = {}\n",
    "\n",
    "for znak in text:\n",
    "    if znak in zliczenia:\n",
    "        zliczenia[znak] += 1\n",
    "    else:\n",
    "        zliczenia[znak] = 1\n",
    "zliczenia"
   ]
  },
  {
   "cell_type": "code",
   "execution_count": 6,
   "id": "5dd49fc3-bf70-4e4e-99ef-eb87e0e73149",
   "metadata": {},
   "outputs": [
    {
     "data": {
      "text/plain": [
       "{'d': 7,\n",
       " 's': 4,\n",
       " ' ': 9,\n",
       " 'a': 3,\n",
       " 'e': 1,\n",
       " 'f': 6,\n",
       " 'v': 5,\n",
       " 'q': 2,\n",
       " 'w': 2,\n",
       " 'o': 2,\n",
       " 'p': 2,\n",
       " 'i': 4,\n",
       " 'r': 4,\n",
       " 'j': 4,\n",
       " 'g': 3,\n",
       " 'n': 2,\n",
       " '1': 2,\n",
       " '3': 2,\n",
       " 'k': 1,\n",
       " 'b': 2,\n",
       " '2': 2,\n",
       " '0': 1,\n",
       " 'h': 3,\n",
       " 'u': 1,\n",
       " '9': 1}"
      ]
     },
     "execution_count": 6,
     "metadata": {},
     "output_type": "execute_result"
    }
   ],
   "source": [
    "# tier 1\n",
    "\n",
    "zliczenia = {}\n",
    "\n",
    "for znak in text:\n",
    "    zliczenia[znak] = zliczenia.get(znak, 0) + 1\n",
    "zliczenia"
   ]
  },
  {
   "cell_type": "code",
   "execution_count": null,
   "id": "56ff5b46-a5f6-4039-9b2f-744e08810998",
   "metadata": {},
   "outputs": [],
   "source": [
    "from collections import defaultdict\n",
    "\n",
    "\n",
    "zliczenia = defaultdict(int)\n",
    "\n",
    "for znak in text:\n",
    "    zliczenia[znak] += 1\n",
    "zliczenia"
   ]
  },
  {
   "cell_type": "code",
   "execution_count": 12,
   "id": "580c3264-f851-4525-bb4b-c4cf35ca502b",
   "metadata": {
    "collapsed": true,
    "jupyter": {
     "outputs_hidden": true
    }
   },
   "outputs": [
    {
     "data": {
      "text/plain": [
       "(24,\n",
       " {'r': 4,\n",
       "  's': 4,\n",
       "  'p': 2,\n",
       "  'q': 2,\n",
       "  'v': 5,\n",
       "  'w': 2,\n",
       "  'u': 1,\n",
       "  'b': 2,\n",
       "  'a': 3,\n",
       "  'f': 6,\n",
       "  'g': 3,\n",
       "  'd': 7,\n",
       "  'e': 1,\n",
       "  'j': 4,\n",
       "  'k': 1,\n",
       "  'h': 3,\n",
       "  'i': 4,\n",
       "  'n': 2,\n",
       "  'o': 2,\n",
       "  '2': 2,\n",
       "  '3': 2,\n",
       "  '0': 1,\n",
       "  '1': 2,\n",
       "  '9': 1,\n",
       "  ' ': 9})"
      ]
     },
     "execution_count": 12,
     "metadata": {},
     "output_type": "execute_result"
    }
   ],
   "source": [
    "# dir(\"\")\n",
    "\n",
    "# tier 2\n",
    "zliczenia = {}\n",
    "for i, znak in enumerate(set(text)):\n",
    "    zliczenia[znak] = text.count(znak)\n",
    "i, zliczenia"
   ]
  },
  {
   "cell_type": "code",
   "execution_count": 13,
   "id": "aea4bcb4-9f1c-442a-b08a-9fba64046351",
   "metadata": {},
   "outputs": [
    {
     "data": {
      "text/plain": [
       "'ddsdsd aefv qwopirjg vasdjfn 1pi3ojfr vwjdkfvbn 20irg 1fh iashbdfv 2u9q3rgh'"
      ]
     },
     "execution_count": 13,
     "metadata": {},
     "output_type": "execute_result"
    }
   ],
   "source": [
    "text"
   ]
  },
  {
   "cell_type": "code",
   "execution_count": 14,
   "id": "ab3d8007-0153-466c-af1b-85fc2a10ff59",
   "metadata": {},
   "outputs": [],
   "source": [
    "from collections import Counter"
   ]
  },
  {
   "cell_type": "code",
   "execution_count": 17,
   "id": "7dafe3d9-7132-442e-8119-723196c0e57b",
   "metadata": {},
   "outputs": [],
   "source": [
    "c = Counter(text)"
   ]
  },
  {
   "cell_type": "code",
   "execution_count": 18,
   "id": "c4e9390e-b091-400f-bb53-d0ce5222419e",
   "metadata": {},
   "outputs": [
    {
     "data": {
      "text/plain": [
       "1"
      ]
     },
     "execution_count": 18,
     "metadata": {},
     "output_type": "execute_result"
    }
   ],
   "source": [
    "c[\"u\"]"
   ]
  },
  {
   "cell_type": "code",
   "execution_count": 19,
   "id": "82bd330d-60a6-472d-b032-495c475e488e",
   "metadata": {},
   "outputs": [],
   "source": [
    "a = {1: \"a\", 2: \"b\"}\n",
    "b = {3: \"c\", 4: \"d\"}"
   ]
  },
  {
   "cell_type": "code",
   "execution_count": 20,
   "id": "9e9d8410-4116-4265-9a96-afab8bd9708e",
   "metadata": {},
   "outputs": [
    {
     "data": {
      "text/plain": [
       "{1: 'a', 2: 'b', 3: 'c', 4: 'd'}"
      ]
     },
     "execution_count": 20,
     "metadata": {},
     "output_type": "execute_result"
    }
   ],
   "source": [
    "{**a, **b}"
   ]
  },
  {
   "cell_type": "code",
   "execution_count": 21,
   "id": "911d8153-40ce-42ec-80a2-d1cd9e0dff9a",
   "metadata": {},
   "outputs": [
    {
     "data": {
      "text/plain": [
       "{1: 'a', 2: 'b', 3: 'c', 4: 'd'}"
      ]
     },
     "execution_count": 21,
     "metadata": {},
     "output_type": "execute_result"
    }
   ],
   "source": [
    "a | b"
   ]
  },
  {
   "cell_type": "code",
   "execution_count": 38,
   "id": "1fc124f2-76ee-41b8-92e3-5594efc697a4",
   "metadata": {},
   "outputs": [],
   "source": [
    "from collections import ChainMap, namedtuple\n"
   ]
  },
  {
   "cell_type": "code",
   "execution_count": 24,
   "id": "2bdfb85f-927e-4d82-9c11-0e91af025624",
   "metadata": {},
   "outputs": [],
   "source": [
    "base = {\"debug\": False, \"cache\": True}\n",
    "env = {\"debug\": True}\n",
    "session = {\"user\": \"admin\"}"
   ]
  },
  {
   "cell_type": "code",
   "execution_count": 25,
   "id": "18331fe9-0894-4b79-92d5-6ed99b02c3bf",
   "metadata": {},
   "outputs": [],
   "source": [
    "config = ChainMap(session, env, base)"
   ]
  },
  {
   "cell_type": "code",
   "execution_count": 26,
   "id": "99119870-087c-414e-a874-2f8a5ba7ab0d",
   "metadata": {},
   "outputs": [
    {
     "data": {
      "text/plain": [
       "ChainMap({'user': 'admin'}, {'debug': True}, {'debug': False, 'cache': True})"
      ]
     },
     "execution_count": 26,
     "metadata": {},
     "output_type": "execute_result"
    }
   ],
   "source": [
    "config"
   ]
  },
  {
   "cell_type": "code",
   "execution_count": 28,
   "id": "0233167c-87c3-4066-894a-28b99b45264f",
   "metadata": {},
   "outputs": [
    {
     "data": {
      "text/plain": [
       "True"
      ]
     },
     "execution_count": 28,
     "metadata": {},
     "output_type": "execute_result"
    }
   ],
   "source": [
    "config[\"debug\"]"
   ]
  },
  {
   "cell_type": "code",
   "execution_count": 30,
   "id": "5e118b10-5913-42df-8939-994579d87ed6",
   "metadata": {},
   "outputs": [],
   "source": [
    "session[\"debug\"] = None"
   ]
  },
  {
   "cell_type": "code",
   "execution_count": 37,
   "id": "14cf8b76-239a-4a15-bccb-1bfbcbf8efa3",
   "metadata": {},
   "outputs": [
    {
     "data": {
      "text/plain": [
       "ChainMap({'user': 'admin'}, {'debug': True}, {'debug': False, 'cache': True})"
      ]
     },
     "execution_count": 37,
     "metadata": {},
     "output_type": "execute_result"
    }
   ],
   "source": [
    "config"
   ]
  },
  {
   "cell_type": "code",
   "execution_count": 36,
   "id": "63b2ebdb-13ff-4849-bde7-1138c7c55530",
   "metadata": {},
   "outputs": [
    {
     "name": "stdout",
     "output_type": "stream",
     "text": [
      "True\n"
     ]
    }
   ],
   "source": [
    "print(config[\"debug\"])"
   ]
  },
  {
   "cell_type": "code",
   "execution_count": 35,
   "id": "a7e32776-9973-4f14-99f3-60b48294ac58",
   "metadata": {},
   "outputs": [],
   "source": [
    "del session[\"debug\"]"
   ]
  },
  {
   "cell_type": "code",
   "execution_count": 42,
   "id": "3620eec1-130e-4670-b856-4147b920b2c4",
   "metadata": {},
   "outputs": [],
   "source": [
    "Punkt = namedtuple(\"Punkt\", [\"x\", \"y\"])"
   ]
  },
  {
   "cell_type": "code",
   "execution_count": 43,
   "id": "c6df366d-764d-4d9a-94df-d04af2f7ac58",
   "metadata": {},
   "outputs": [],
   "source": [
    "p = Punkt(x=1, y=2)"
   ]
  },
  {
   "cell_type": "code",
   "execution_count": 44,
   "id": "67cd7731-3c07-4bb4-8d2b-d974aae54160",
   "metadata": {},
   "outputs": [
    {
     "data": {
      "text/plain": [
       "Punkt(x=1, y=2)"
      ]
     },
     "execution_count": 44,
     "metadata": {},
     "output_type": "execute_result"
    }
   ],
   "source": [
    "p"
   ]
  },
  {
   "cell_type": "code",
   "execution_count": 51,
   "id": "f05cace0-6e77-4eb4-9f26-0161b1e06e06",
   "metadata": {},
   "outputs": [
    {
     "data": {
      "text/plain": [
       "1"
      ]
     },
     "execution_count": 51,
     "metadata": {},
     "output_type": "execute_result"
    }
   ],
   "source": [
    "p.x"
   ]
  },
  {
   "cell_type": "code",
   "execution_count": 49,
   "id": "3ede8bd5-0d9a-4c88-808f-2e8841ede180",
   "metadata": {},
   "outputs": [
    {
     "data": {
      "text/plain": [
       "1"
      ]
     },
     "execution_count": 49,
     "metadata": {},
     "output_type": "execute_result"
    }
   ],
   "source": [
    "p[0]"
   ]
  },
  {
   "cell_type": "code",
   "execution_count": 52,
   "id": "071b3a6a-db93-420f-9169-bb74799d0d3d",
   "metadata": {},
   "outputs": [],
   "source": [
    "## kolejki"
   ]
  },
  {
   "cell_type": "code",
   "execution_count": 53,
   "id": "5044e80c-c0f6-4b09-bffa-c18692688d86",
   "metadata": {},
   "outputs": [],
   "source": [
    "from collections import deque"
   ]
  },
  {
   "cell_type": "code",
   "execution_count": 57,
   "id": "453b05cc-090c-478b-b450-e4ddd278f78f",
   "metadata": {},
   "outputs": [],
   "source": [
    "kolejka = deque()"
   ]
  },
  {
   "cell_type": "code",
   "execution_count": 58,
   "id": "3b44bd73-581c-4cad-94ac-c600dd396f9f",
   "metadata": {},
   "outputs": [],
   "source": [
    "for liczba in range(5):\n",
    "    kolejka.append(liczba)"
   ]
  },
  {
   "cell_type": "code",
   "execution_count": 59,
   "id": "2f904969-fded-483d-9d59-915d5c648bbc",
   "metadata": {},
   "outputs": [
    {
     "data": {
      "text/plain": [
       "deque([0, 1, 2, 3, 4])"
      ]
     },
     "execution_count": 59,
     "metadata": {},
     "output_type": "execute_result"
    }
   ],
   "source": [
    "kolejka"
   ]
  },
  {
   "cell_type": "code",
   "execution_count": 60,
   "id": "7210a0e6-97b9-49bd-9dfc-a0994892ccc5",
   "metadata": {},
   "outputs": [
    {
     "data": {
      "text/plain": [
       "4"
      ]
     },
     "execution_count": 60,
     "metadata": {},
     "output_type": "execute_result"
    }
   ],
   "source": [
    "kolejka.pop()"
   ]
  },
  {
   "cell_type": "code",
   "execution_count": 61,
   "id": "2a08702b-1645-4c32-a21f-a3e5698327c8",
   "metadata": {},
   "outputs": [
    {
     "data": {
      "text/plain": [
       "3"
      ]
     },
     "execution_count": 61,
     "metadata": {},
     "output_type": "execute_result"
    }
   ],
   "source": [
    "kolejka.pop()"
   ]
  },
  {
   "cell_type": "code",
   "execution_count": 62,
   "id": "d16ad552-e988-4ca8-a97a-49156d40c896",
   "metadata": {},
   "outputs": [],
   "source": [
    "from array import array"
   ]
  },
  {
   "cell_type": "code",
   "execution_count": 69,
   "id": "9068f3a2-5f02-4379-a2f3-4fb6095171f0",
   "metadata": {},
   "outputs": [
    {
     "data": {
      "text/plain": [
       "\u001b[31mInit signature:\u001b[39m array(self, /, *args, **kwargs)\n",
       "\u001b[31mDocstring:\u001b[39m     \n",
       "array(typecode [, initializer]) -> array\n",
       "\n",
       "Return a new array whose items are restricted by typecode, and\n",
       "initialized from the optional initializer value, which must be a list,\n",
       "string or iterable over elements of the appropriate type.\n",
       "\n",
       "Arrays represent basic values and behave very much like lists, except\n",
       "the type of objects stored in them is constrained. The type is specified\n",
       "at object creation time by using a type code, which is a single character.\n",
       "The following type codes are defined:\n",
       "\n",
       "    Type code   C Type             Minimum size in bytes\n",
       "    'b'         signed integer     1\n",
       "    'B'         unsigned integer   1\n",
       "    'u'         Unicode character  2 (see note)\n",
       "    'h'         signed integer     2\n",
       "    'H'         unsigned integer   2\n",
       "    'i'         signed integer     2\n",
       "    'I'         unsigned integer   2\n",
       "    'l'         signed integer     4\n",
       "    'L'         unsigned integer   4\n",
       "    'q'         signed integer     8 (see note)\n",
       "    'Q'         unsigned integer   8 (see note)\n",
       "    'f'         floating-point     4\n",
       "    'd'         floating-point     8\n",
       "\n",
       "NOTE: The 'u' typecode corresponds to Python's unicode character. On\n",
       "narrow builds this is 2-bytes on wide builds this is 4-bytes.\n",
       "\n",
       "NOTE: The 'q' and 'Q' type codes are only available if the platform\n",
       "C compiler used to build Python supports 'long long', or, on Windows,\n",
       "'__int64'.\n",
       "\n",
       "Methods:\n",
       "\n",
       "append() -- append a new item to the end of the array\n",
       "buffer_info() -- return information giving the current memory info\n",
       "byteswap() -- byteswap all the items of the array\n",
       "count() -- return number of occurrences of an object\n",
       "extend() -- extend array by appending multiple elements from an iterable\n",
       "fromfile() -- read items from a file object\n",
       "fromlist() -- append items from the list\n",
       "frombytes() -- append items from the string\n",
       "index() -- return index of first occurrence of an object\n",
       "insert() -- insert a new item into the array at a provided position\n",
       "pop() -- remove and return item (default last)\n",
       "remove() -- remove first occurrence of an object\n",
       "reverse() -- reverse the order of the items in the array\n",
       "tofile() -- write all items to a file object\n",
       "tolist() -- return the array converted to an ordinary list\n",
       "tobytes() -- return the array converted to a string\n",
       "\n",
       "Attributes:\n",
       "\n",
       "typecode -- the typecode character used to create the array\n",
       "itemsize -- the length in bytes of one array item\n",
       "\u001b[31mType:\u001b[39m           type\n",
       "\u001b[31mSubclasses:\u001b[39m     "
      ]
     },
     "metadata": {},
     "output_type": "display_data"
    }
   ],
   "source": [
    "array?"
   ]
  },
  {
   "cell_type": "code",
   "execution_count": 68,
   "id": "57acd574-73db-4200-9a27-45f958e7b274",
   "metadata": {},
   "outputs": [
    {
     "ename": "TypeError",
     "evalue": "'list' object cannot be interpreted as an integer",
     "output_type": "error",
     "traceback": [
      "\u001b[31m---------------------------------------------------------------------------\u001b[39m",
      "\u001b[31mTypeError\u001b[39m                                 Traceback (most recent call last)",
      "\u001b[36mCell\u001b[39m\u001b[36m \u001b[39m\u001b[32mIn[68]\u001b[39m\u001b[32m, line 3\u001b[39m\n\u001b[32m      1\u001b[39m \u001b[38;5;66;03m# array?\u001b[39;00m\n\u001b[32m----> \u001b[39m\u001b[32m3\u001b[39m values = \u001b[43marray\u001b[49m\u001b[43m(\u001b[49m\u001b[33;43m\"\u001b[39;49m\u001b[33;43mI\u001b[39;49m\u001b[33;43m\"\u001b[39;49m\u001b[43m,\u001b[49m\u001b[43m \u001b[49m\u001b[43m[\u001b[49m\u001b[43m[\u001b[49m\u001b[43mi\u001b[49m\u001b[43m*\u001b[49m\u001b[43mj\u001b[49m\u001b[43m \u001b[49m\u001b[38;5;28;43;01mfor\u001b[39;49;00m\u001b[43m \u001b[49m\u001b[43mi\u001b[49m\u001b[43m \u001b[49m\u001b[38;5;129;43;01min\u001b[39;49;00m\u001b[43m \u001b[49m\u001b[38;5;28;43mrange\u001b[39;49m\u001b[43m(\u001b[49m\u001b[32;43m10\u001b[39;49m\u001b[43m)\u001b[49m\u001b[43m]\u001b[49m\u001b[43m \u001b[49m\u001b[38;5;28;43;01mfor\u001b[39;49;00m\u001b[43m \u001b[49m\u001b[43mj\u001b[49m\u001b[43m \u001b[49m\u001b[38;5;129;43;01min\u001b[39;49;00m\u001b[43m \u001b[49m\u001b[38;5;28;43mrange\u001b[39;49m\u001b[43m(\u001b[49m\u001b[32;43m10\u001b[39;49m\u001b[43m)\u001b[49m\u001b[43m]\u001b[49m\u001b[43m)\u001b[49m\n",
      "\u001b[31mTypeError\u001b[39m: 'list' object cannot be interpreted as an integer"
     ]
    }
   ],
   "source": [
    "# array?\n",
    "\n",
    "values = array(\"I\", [[i*j for i in range(10)] for j in range(10)])"
   ]
  },
  {
   "cell_type": "code",
   "execution_count": 67,
   "id": "13195f6a-be94-4b24-9653-23be6358b091",
   "metadata": {},
   "outputs": [
    {
     "data": {
      "text/plain": [
       "10"
      ]
     },
     "execution_count": 67,
     "metadata": {},
     "output_type": "execute_result"
    }
   ],
   "source": [
    "values[0]"
   ]
  },
  {
   "cell_type": "markdown",
   "id": "616745db-6587-4c1a-823e-e0269e02e6b5",
   "metadata": {},
   "source": [
    "## Ćwiczenia do wykonania\n",
    "1. Napisz funkcję konwertującą liczbę z dowolnego systemu (2–16) na dziesiętny i odwrotnie, z walidacją wejścia. (W systemie dziesietnym nie ma np cyfry 'a' a w ósemkowym cyfry 9)\n",
    "2. Porównaj wyniki obliczeń procentowych dla `float`, `Decimal` i `Fraction` w scenariuszu rozliczeń finansowych (np. rabat 17,5% od kwoty 319,99).\n",
    "3. Świetnie 👏 — oto **proste, praktyczne ćwiczenie na `ChainMap`**, idealne dla juniora lub na warsztat:\n"
   ]
  },
  {
   "cell_type": "code",
   "execution_count": null,
   "id": "f701161e-464a-4443-8d5b-cf2402d03d1a",
   "metadata": {},
   "outputs": [],
   "source": []
  },
  {
   "cell_type": "code",
   "execution_count": null,
   "id": "1e864d2c-9184-4cd8-9a85-10f6e3578873",
   "metadata": {},
   "outputs": [],
   "source": [
    "\n"
   ]
  },
  {
   "cell_type": "code",
   "execution_count": null,
   "id": "b15dc49c-77f9-4dae-9f84-631528ea9f26",
   "metadata": {},
   "outputs": [],
   "source": []
  }
 ],
 "metadata": {
  "kernelspec": {
   "display_name": "Python 3 (ipykernel)",
   "language": "python",
   "name": "python3"
  },
  "language_info": {
   "codemirror_mode": {
    "name": "ipython",
    "version": 3
   },
   "file_extension": ".py",
   "mimetype": "text/x-python",
   "name": "python",
   "nbconvert_exporter": "python",
   "pygments_lexer": "ipython3",
   "version": "3.13.8"
  }
 },
 "nbformat": 4,
 "nbformat_minor": 5
}
