{
 "cells": [
  {
   "cell_type": "code",
   "execution_count": 1,
   "id": "d5060d12-5b50-4c39-9018-d99968c76e7f",
   "metadata": {},
   "outputs": [],
   "source": [
    "# composition over inheritance"
   ]
  },
  {
   "cell_type": "code",
   "execution_count": 2,
   "id": "84b76baf-026f-49fb-bd18-b0da8b036fea",
   "metadata": {},
   "outputs": [],
   "source": [
    "# wersja 1 - dziedzicznie"
   ]
  },
  {
   "cell_type": "code",
   "execution_count": 3,
   "id": "5d094911-4cda-42a7-ac16-856524717241",
   "metadata": {},
   "outputs": [],
   "source": [
    "class Notification:\n",
    "    def send(self, message: str):\n",
    "        raise NotImplementedError\n",
    "\n",
    "class EmailNotification(Notification):\n",
    "    def send(self, message: str):\n",
    "        print(f\"Sending email: {message}\")\n",
    "\n",
    "class SmsNotification(Notification):\n",
    "    def send(self, message: str):\n",
    "        print(f\"Sending sms: {message}\")\n",
    "\n",
    "class UserNotification(SmsNotification):\n",
    "\n",
    "    def send(self, message: str):\n",
    "        super().send(message) # tylko SMS\n",
    "        print(f\"Sending email: {message}\") # jakbym chcial wyslac tez maila\n",
    "        print(\"notyfikacja wyslana\")"
   ]
  },
  {
   "cell_type": "code",
   "execution_count": 4,
   "id": "e9926a87-f0d9-4190-8eac-61102120addc",
   "metadata": {},
   "outputs": [],
   "source": [
    "## wersja 2 - kompozycja"
   ]
  },
  {
   "cell_type": "code",
   "execution_count": 9,
   "id": "498bc1c5-d6e5-44ec-b263-b13c72c92c8c",
   "metadata": {},
   "outputs": [],
   "source": [
    "class EmailSender:\n",
    "    def send(self, message: str):\n",
    "        print(f\"Sending email: {message}\")\n",
    "\n",
    "class SmsSender:\n",
    "    def send(self, message: str):\n",
    "        print(f\"Sending sms: {message}\")\n",
    "\n",
    "class SlackSender:\n",
    "    def send(self, message: str):\n",
    "        print(f\"Slack message: {message}\")\n",
    "\n",
    "\n",
    "class NotificationService:\n",
    "    def __init__(self, channels: list):\n",
    "        self.channels = channels\n",
    "\n",
    "    def notify(self, message: str):\n",
    "        for channel in self.channels:\n",
    "            channel.send(message)"
   ]
  },
  {
   "cell_type": "code",
   "execution_count": 13,
   "id": "cbc504cb-8f0c-4c81-ba64-6942283c9018",
   "metadata": {},
   "outputs": [
    {
     "name": "stdout",
     "output_type": "stream",
     "text": [
      "Sending email: Przerwa!\n",
      "Slack message: Przerwa!\n",
      "Sending email: Przerwa juz!\n",
      "Slack message: Przerwa juz!\n",
      "Sending sms: Przerwa juz!\n"
     ]
    }
   ],
   "source": [
    "service = NotificationService([EmailSender(), SlackSender()])\n",
    "service.notify(\"Przerwa!\")\n",
    "\n",
    "service.channels.append(SmsSender())\n",
    "service.notify(\"Przerwa juz!\")\n"
   ]
  },
  {
   "cell_type": "code",
   "execution_count": null,
   "id": "90f3daf2-8f77-40e8-9666-40b447ea30c1",
   "metadata": {},
   "outputs": [],
   "source": []
  }
 ],
 "metadata": {
  "kernelspec": {
   "display_name": "Python 3 (ipykernel)",
   "language": "python",
   "name": "python3"
  },
  "language_info": {
   "codemirror_mode": {
    "name": "ipython",
    "version": 3
   },
   "file_extension": ".py",
   "mimetype": "text/x-python",
   "name": "python",
   "nbconvert_exporter": "python",
   "pygments_lexer": "ipython3",
   "version": "3.13.8"
  }
 },
 "nbformat": 4,
 "nbformat_minor": 5
}
