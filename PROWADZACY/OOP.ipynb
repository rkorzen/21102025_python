{
 "cells": [
  {
   "cell_type": "markdown",
   "id": "75f59505",
   "metadata": {},
   "source": [
    "# Programowanie obiektowe w Pythonie\n",
    "\n",
    "Notatnik pokazuje podstawy pracy z klasami: tworzenie instancji, modyfikowanie atrybutow, wlasciwosci oraz przeciazanie operatorow."
   ]
  },
  {
   "cell_type": "markdown",
   "id": "b8178f76",
   "metadata": {},
   "source": [
    "## Klasy i instancje\n",
    "\n",
    "Pierwszy przyklad pokazuje najprostsza klase i dwie niezalezne instancje. Obserwujemy jak Python przechowuje atrybuty obiektow."
   ]
  },
  {
   "cell_type": "code",
   "execution_count": 27,
   "id": "61620599-8002-4e0c-acfb-940eb7554372",
   "metadata": {},
   "outputs": [],
   "source": [
    "class Nazwa:\n",
    "    y = 10"
   ]
  },
  {
   "cell_type": "code",
   "execution_count": 28,
   "id": "de2d432b-d2b5-4dc0-9bab-bedf221f7900",
   "metadata": {},
   "outputs": [],
   "source": [
    "n = Nazwa()"
   ]
  },
  {
   "cell_type": "code",
   "execution_count": 29,
   "id": "b60be4e1-6a03-4ef7-8fad-72a4945215da",
   "metadata": {},
   "outputs": [],
   "source": [
    "n1 = Nazwa()\n"
   ]
  },
  {
   "cell_type": "code",
   "execution_count": 30,
   "id": "55fdc2dc-d09c-4890-be01-159ff78d79ed",
   "metadata": {},
   "outputs": [
    {
     "data": {
      "text/plain": [
       "True"
      ]
     },
     "execution_count": 30,
     "metadata": {},
     "output_type": "execute_result"
    }
   ],
   "source": [
    "isinstance(n, object)"
   ]
  },
  {
   "cell_type": "code",
   "execution_count": 31,
   "id": "7ff5fafe-ba7e-4bae-a62e-2fb33ebd310a",
   "metadata": {},
   "outputs": [
    {
     "data": {
      "text/plain": [
       "False"
      ]
     },
     "execution_count": 31,
     "metadata": {},
     "output_type": "execute_result"
    }
   ],
   "source": [
    "n == n1"
   ]
  },
  {
   "cell_type": "code",
   "execution_count": 32,
   "id": "3348da13-479b-4ffe-b216-b6bb76b6e8e2",
   "metadata": {},
   "outputs": [
    {
     "data": {
      "text/plain": [
       "['__class__',\n",
       " '__delattr__',\n",
       " '__dict__',\n",
       " '__dir__',\n",
       " '__doc__',\n",
       " '__eq__',\n",
       " '__firstlineno__',\n",
       " '__format__',\n",
       " '__ge__',\n",
       " '__getattribute__',\n",
       " '__getstate__',\n",
       " '__gt__',\n",
       " '__hash__',\n",
       " '__init__',\n",
       " '__init_subclass__',\n",
       " '__le__',\n",
       " '__lt__',\n",
       " '__module__',\n",
       " '__ne__',\n",
       " '__new__',\n",
       " '__reduce__',\n",
       " '__reduce_ex__',\n",
       " '__repr__',\n",
       " '__setattr__',\n",
       " '__sizeof__',\n",
       " '__static_attributes__',\n",
       " '__str__',\n",
       " '__subclasshook__',\n",
       " '__weakref__',\n",
       " 'y']"
      ]
     },
     "execution_count": 32,
     "metadata": {},
     "output_type": "execute_result"
    }
   ],
   "source": [
    "dir(n)"
   ]
  },
  {
   "cell_type": "code",
   "execution_count": 33,
   "id": "ed76cce3-6c7c-4613-aafd-382877944edc",
   "metadata": {},
   "outputs": [
    {
     "ename": "TypeError",
     "evalue": "'<' not supported between instances of 'Nazwa' and 'Nazwa'",
     "output_type": "error",
     "traceback": [
      "\u001b[31m---------------------------------------------------------------------------\u001b[39m",
      "\u001b[31mTypeError\u001b[39m                                 Traceback (most recent call last)",
      "\u001b[36mCell\u001b[39m\u001b[36m \u001b[39m\u001b[32mIn[33]\u001b[39m\u001b[32m, line 1\u001b[39m\n\u001b[32m----> \u001b[39m\u001b[32m1\u001b[39m \u001b[43mn\u001b[49m\u001b[43m \u001b[49m\u001b[43m<\u001b[49m\u001b[43m \u001b[49m\u001b[43mn1\u001b[49m\n",
      "\u001b[31mTypeError\u001b[39m: '<' not supported between instances of 'Nazwa' and 'Nazwa'"
     ]
    }
   ],
   "source": [
    "n < n1"
   ]
  },
  {
   "cell_type": "code",
   "execution_count": 34,
   "id": "40a8af4c-d214-438c-8376-903eada63e68",
   "metadata": {},
   "outputs": [],
   "source": [
    "n.x = 10"
   ]
  },
  {
   "cell_type": "code",
   "execution_count": 35,
   "id": "12e8201c-0ff4-442a-8793-c174acd6c7cd",
   "metadata": {},
   "outputs": [
    {
     "data": {
      "text/plain": [
       "<__main__.Nazwa at 0x1096802f0>"
      ]
     },
     "execution_count": 35,
     "metadata": {},
     "output_type": "execute_result"
    }
   ],
   "source": [
    "n"
   ]
  },
  {
   "cell_type": "code",
   "execution_count": 36,
   "id": "8f287cd3-7fff-4935-9854-faf9fb9a26df",
   "metadata": {},
   "outputs": [
    {
     "data": {
      "text/plain": [
       "10"
      ]
     },
     "execution_count": 36,
     "metadata": {},
     "output_type": "execute_result"
    }
   ],
   "source": [
    "n.x"
   ]
  },
  {
   "cell_type": "code",
   "execution_count": 37,
   "id": "667ce92a-cf31-4538-a9eb-7e26a51c55f0",
   "metadata": {},
   "outputs": [
    {
     "data": {
      "text/plain": [
       "['__class__',\n",
       " '__delattr__',\n",
       " '__dict__',\n",
       " '__dir__',\n",
       " '__doc__',\n",
       " '__eq__',\n",
       " '__firstlineno__',\n",
       " '__format__',\n",
       " '__ge__',\n",
       " '__getattribute__',\n",
       " '__getstate__',\n",
       " '__gt__',\n",
       " '__hash__',\n",
       " '__init__',\n",
       " '__init_subclass__',\n",
       " '__le__',\n",
       " '__lt__',\n",
       " '__module__',\n",
       " '__ne__',\n",
       " '__new__',\n",
       " '__reduce__',\n",
       " '__reduce_ex__',\n",
       " '__repr__',\n",
       " '__setattr__',\n",
       " '__sizeof__',\n",
       " '__static_attributes__',\n",
       " '__str__',\n",
       " '__subclasshook__',\n",
       " '__weakref__',\n",
       " 'x',\n",
       " 'y']"
      ]
     },
     "execution_count": 37,
     "metadata": {},
     "output_type": "execute_result"
    }
   ],
   "source": [
    "dir(n)"
   ]
  },
  {
   "cell_type": "code",
   "execution_count": 38,
   "id": "a40ab4d7-eab7-4d6e-b481-19c36ce75611",
   "metadata": {},
   "outputs": [
    {
     "data": {
      "text/plain": [
       "10"
      ]
     },
     "execution_count": 38,
     "metadata": {},
     "output_type": "execute_result"
    }
   ],
   "source": [
    "n.y"
   ]
  },
  {
   "cell_type": "code",
   "execution_count": 39,
   "id": "65a03bc4-c496-4c56-9a8a-8796846f9396",
   "metadata": {},
   "outputs": [
    {
     "data": {
      "text/plain": [
       "10"
      ]
     },
     "execution_count": 39,
     "metadata": {},
     "output_type": "execute_result"
    }
   ],
   "source": [
    "n1.y"
   ]
  },
  {
   "cell_type": "code",
   "execution_count": 40,
   "id": "a1276044-87b1-41d8-bedc-74609802795f",
   "metadata": {},
   "outputs": [],
   "source": [
    "n1.y = 20"
   ]
  },
  {
   "cell_type": "code",
   "execution_count": 42,
   "id": "75c99bf0-3b08-4715-b978-146a7de59ee6",
   "metadata": {},
   "outputs": [
    {
     "data": {
      "text/plain": [
       "10"
      ]
     },
     "execution_count": 42,
     "metadata": {},
     "output_type": "execute_result"
    }
   ],
   "source": [
    "n.y"
   ]
  },
  {
   "cell_type": "code",
   "execution_count": 43,
   "id": "4e5c5d13-a5fc-406e-bf74-82dcc610622d",
   "metadata": {},
   "outputs": [
    {
     "data": {
      "text/plain": [
       "20"
      ]
     },
     "execution_count": 43,
     "metadata": {},
     "output_type": "execute_result"
    }
   ],
   "source": [
    "n1.y"
   ]
  },
  {
   "cell_type": "code",
   "execution_count": 44,
   "id": "7df2b3b2-dcb0-4aba-b2cb-441e7bc8e025",
   "metadata": {},
   "outputs": [],
   "source": [
    "Nazwa.y = 30"
   ]
  },
  {
   "cell_type": "code",
   "execution_count": 45,
   "id": "7e485a51-13ea-43d1-836a-c8be2f955f3e",
   "metadata": {},
   "outputs": [
    {
     "data": {
      "text/plain": [
       "30"
      ]
     },
     "execution_count": 45,
     "metadata": {},
     "output_type": "execute_result"
    }
   ],
   "source": [
    "n.y"
   ]
  },
  {
   "cell_type": "code",
   "execution_count": 46,
   "id": "4e073d64-1cb8-4603-ba8b-b90ae31deb35",
   "metadata": {},
   "outputs": [
    {
     "data": {
      "text/plain": [
       "20"
      ]
     },
     "execution_count": 46,
     "metadata": {},
     "output_type": "execute_result"
    }
   ],
   "source": [
    "n1.y"
   ]
  },
  {
   "cell_type": "markdown",
   "id": "9c78a79b",
   "metadata": {},
   "source": [
    "## Metody instancyjne\n",
    "\n",
    "Dodajemy konstruktor i metode instancyjna, aby pokazac jak dziala `self` oraz jak wywolywac metody wprost z klasy."
   ]
  },
  {
   "cell_type": "code",
   "execution_count": 50,
   "id": "3e91df4f-3913-4bcf-84dd-c6c8931a10dd",
   "metadata": {},
   "outputs": [],
   "source": [
    "class Vector2D:\n",
    "\n",
    "    def __init__(self, x, y):\n",
    "        self.x = x\n",
    "        self.y = y\n",
    "\n",
    "    def opis(self):\n",
    "        print(f\"Vector({self.x}, {self.y})\")"
   ]
  },
  {
   "cell_type": "code",
   "execution_count": 52,
   "id": "6bee1e6b-6418-4611-ad17-84310f41de78",
   "metadata": {},
   "outputs": [],
   "source": [
    "v1 = Vector2D(1, 2)"
   ]
  },
  {
   "cell_type": "code",
   "execution_count": 53,
   "id": "a65f9955-c15b-451a-97aa-ab91bb43230d",
   "metadata": {},
   "outputs": [
    {
     "name": "stdout",
     "output_type": "stream",
     "text": [
      "Vector(1, 2)\n"
     ]
    }
   ],
   "source": [
    "v1.opis()"
   ]
  },
  {
   "cell_type": "code",
   "execution_count": 56,
   "id": "e225cf45-6d4b-446c-be28-40582db4d7fc",
   "metadata": {},
   "outputs": [],
   "source": [
    "v1.x = 10"
   ]
  },
  {
   "cell_type": "code",
   "execution_count": 57,
   "id": "d7be8690-3628-492f-b8e1-21ca798ae6f6",
   "metadata": {},
   "outputs": [
    {
     "name": "stdout",
     "output_type": "stream",
     "text": [
      "Vector(10, 2)\n"
     ]
    }
   ],
   "source": [
    "Vector2D.opis(v1)"
   ]
  },
  {
   "cell_type": "markdown",
   "id": "47bff532",
   "metadata": {},
   "source": [
    "## Wlasciwosci (`property`)\n",
    "\n",
    "Na klasie `Square` pokazujemy jak zabezpieczyc wartosci przez uzycie wlasciwosci i walidacji w setterach."
   ]
  },
  {
   "cell_type": "code",
   "execution_count": 99,
   "id": "5a5d304f-4409-4d27-8107-2984861d05b2",
   "metadata": {},
   "outputs": [],
   "source": [
    "class Square:\n",
    "\n",
    "    def __init__(self, side):\n",
    "\n",
    "        self.side = side\n",
    "\n",
    "    @property\n",
    "    def circuit(self):\n",
    "        return self.side * 4\n",
    "    \n",
    "    @property\n",
    "    def area(self):\n",
    "        return self.side ** 2\n",
    "\n",
    "    @area.setter\n",
    "    def area(self, v):\n",
    "        self.side = v ** 0.5\n",
    "\n",
    "\n",
    "    @property\n",
    "    def side(self):\n",
    "        return self.__side\n",
    "\n",
    "    @side.setter\n",
    "    def side(self, v):\n",
    "        if v < 0:\n",
    "            raise ValueError(\"bok nie moze byc ujemny\")\n",
    "        self.__side = v"
   ]
  },
  {
   "cell_type": "code",
   "execution_count": 100,
   "id": "a490ed7e-18f3-4eea-af96-1e98f8cbcc28",
   "metadata": {},
   "outputs": [
    {
     "data": {
      "text/plain": [
       "(4, 8)"
      ]
     },
     "execution_count": 100,
     "metadata": {},
     "output_type": "execute_result"
    }
   ],
   "source": [
    "s = Square(2)\n",
    "s.area, s.circuit"
   ]
  },
  {
   "cell_type": "code",
   "execution_count": 101,
   "id": "ebe74e12-7859-43d5-ac7e-527ef39b8166",
   "metadata": {},
   "outputs": [
    {
     "ename": "ValueError",
     "evalue": "bok nie moze byc ujemny",
     "output_type": "error",
     "traceback": [
      "\u001b[31m---------------------------------------------------------------------------\u001b[39m",
      "\u001b[31mValueError\u001b[39m                                Traceback (most recent call last)",
      "\u001b[36mCell\u001b[39m\u001b[36m \u001b[39m\u001b[32mIn[101]\u001b[39m\u001b[32m, line 1\u001b[39m\n\u001b[32m----> \u001b[39m\u001b[32m1\u001b[39m \u001b[43ms\u001b[49m\u001b[43m.\u001b[49m\u001b[43mside\u001b[49m = -\u001b[32m2\u001b[39m\n",
      "\u001b[36mCell\u001b[39m\u001b[36m \u001b[39m\u001b[32mIn[99]\u001b[39m\u001b[32m, line 27\u001b[39m, in \u001b[36mSquare.side\u001b[39m\u001b[34m(self, v)\u001b[39m\n\u001b[32m     24\u001b[39m \u001b[38;5;129m@side\u001b[39m.setter\n\u001b[32m     25\u001b[39m \u001b[38;5;28;01mdef\u001b[39;00m\u001b[38;5;250m \u001b[39m\u001b[34mside\u001b[39m(\u001b[38;5;28mself\u001b[39m, v):\n\u001b[32m     26\u001b[39m     \u001b[38;5;28;01mif\u001b[39;00m v < \u001b[32m0\u001b[39m:\n\u001b[32m---> \u001b[39m\u001b[32m27\u001b[39m         \u001b[38;5;28;01mraise\u001b[39;00m \u001b[38;5;167;01mValueError\u001b[39;00m(\u001b[33m\"\u001b[39m\u001b[33mbok nie moze byc ujemny\u001b[39m\u001b[33m\"\u001b[39m)\n\u001b[32m     28\u001b[39m     \u001b[38;5;28mself\u001b[39m.__side = v\n",
      "\u001b[31mValueError\u001b[39m: bok nie moze byc ujemny"
     ]
    }
   ],
   "source": [
    "s.side = -2"
   ]
  },
  {
   "cell_type": "code",
   "execution_count": 108,
   "id": "0b027e6c-33c2-4b6e-8ffa-b9595587a634",
   "metadata": {},
   "outputs": [],
   "source": [
    "s._Square__side = -2"
   ]
  },
  {
   "cell_type": "code",
   "execution_count": 109,
   "id": "d7a96a20-a213-49e3-98b8-92bd13cb637a",
   "metadata": {},
   "outputs": [
    {
     "data": {
      "text/plain": [
       "-2"
      ]
     },
     "execution_count": 109,
     "metadata": {},
     "output_type": "execute_result"
    }
   ],
   "source": [
    "s.__side"
   ]
  },
  {
   "cell_type": "code",
   "execution_count": 110,
   "id": "ffa9b0b6-0fe5-41f9-9da2-1578284cfc76",
   "metadata": {},
   "outputs": [
    {
     "data": {
      "text/plain": [
       "{'_Square__side': -2, '_side': -2, '__side': -2}"
      ]
     },
     "execution_count": 110,
     "metadata": {},
     "output_type": "execute_result"
    }
   ],
   "source": [
    "vars(s)"
   ]
  },
  {
   "cell_type": "code",
   "execution_count": 111,
   "id": "8cd475be-ea5b-4720-9a22-b73d3950b1f5",
   "metadata": {},
   "outputs": [
    {
     "data": {
      "text/plain": [
       "-8"
      ]
     },
     "execution_count": 111,
     "metadata": {},
     "output_type": "execute_result"
    }
   ],
   "source": [
    "s.circuit"
   ]
  },
  {
   "cell_type": "code",
   "execution_count": 80,
   "id": "e3d0956d-8918-4935-9b04-945e945f465a",
   "metadata": {},
   "outputs": [],
   "source": [
    "s.area = 10"
   ]
  },
  {
   "cell_type": "code",
   "execution_count": 81,
   "id": "c6c1da7a-2bef-48c3-9902-e8fb0ceed8b3",
   "metadata": {},
   "outputs": [
    {
     "data": {
      "text/plain": [
       "10.000000000000002"
      ]
     },
     "execution_count": 81,
     "metadata": {},
     "output_type": "execute_result"
    }
   ],
   "source": [
    "s.area"
   ]
  },
  {
   "cell_type": "code",
   "execution_count": 82,
   "id": "14d423b5-e52e-4e69-ad52-cab69ef3b3fe",
   "metadata": {},
   "outputs": [
    {
     "data": {
      "text/plain": [
       "3.1622776601683795"
      ]
     },
     "execution_count": 82,
     "metadata": {},
     "output_type": "execute_result"
    }
   ],
   "source": [
    "s.side"
   ]
  },
  {
   "cell_type": "markdown",
   "id": "dfd05969-587c-4003-8f03-fdd828185ab4",
   "metadata": {},
   "source": [
    "## Zadanie: klasa `Circle`\n",
    "\n",
    "Utworz klase opisujaca okrag na podstawie promienia i dodaj wlasciwosci przeliczajace pole, obwod oraz srednice. Rozszerz przyklad o przeciazanie operatora dodawania."
   ]
  },
  {
   "cell_type": "code",
   "execution_count": 138,
   "id": "7f8e6621-d1b7-4881-836d-b24e16d1cb17",
   "metadata": {},
   "outputs": [],
   "source": [
    "from math import pi, sqrt\n",
    "\n",
    "class Circle:\n",
    "\n",
    "    def __init__(self, r):\n",
    "        self.r = r\n",
    "\n",
    "    @property\n",
    "    def r(self):\n",
    "        return self._r\n",
    "\n",
    "    @r.setter\n",
    "    def r(self, v):\n",
    "        if v < 0:\n",
    "            raise ValueError(\"Nie moze byc mniejsze niz 0\")\n",
    "        self._r = v\n",
    "\n",
    "    @property\n",
    "    def area(self):\n",
    "        return pi * self.r ** 2\n",
    "\n",
    "    # v = pi * r ** 2\n",
    "    # r ** 2 = v / pi\n",
    "    # r = sqrt(v / pi)\n",
    "\n",
    "    @area.setter\n",
    "    def area(self, v):\n",
    "        self.r = sqrt(v / pi)\n",
    "\n",
    "\n",
    "    def __add__(self, other):\n",
    "        if isinstance(other, Circle):\n",
    "            area = self.area + other.area\n",
    "            c = Circle(1)\n",
    "            c.area = area\n",
    "            return c\n",
    "        return NotImplemented\n",
    "    \n",
    "    def __repr__(self):\n",
    "        return f\"< Circle({self.r}) >\"\n",
    "    \n",
    "        \n",
    "    "
   ]
  },
  {
   "cell_type": "code",
   "execution_count": 139,
   "id": "eb0ff7c3-8cbe-432d-a983-90f09836cde4",
   "metadata": {},
   "outputs": [],
   "source": [
    "c1 = Circle(10)\n",
    "c2 = Circle(20)"
   ]
  },
  {
   "cell_type": "code",
   "execution_count": 142,
   "id": "9a93ee75-bf78-4a61-afab-50de3e324997",
   "metadata": {},
   "outputs": [
    {
     "data": {
      "text/plain": [
       "'< Circle(10) >'"
      ]
     },
     "execution_count": 142,
     "metadata": {},
     "output_type": "execute_result"
    }
   ],
   "source": [
    "repr(c1)"
   ]
  },
  {
   "cell_type": "code",
   "execution_count": 140,
   "id": "ab47f3fa-f320-45e0-8373-1e0d71f228aa",
   "metadata": {},
   "outputs": [
    {
     "name": "stdout",
     "output_type": "stream",
     "text": [
      "[< Circle(10) >]\n"
     ]
    }
   ],
   "source": [
    "print([c1])"
   ]
  },
  {
   "cell_type": "code",
   "execution_count": 141,
   "id": "6978497b-5c85-49f1-af42-962f0762c3e2",
   "metadata": {},
   "outputs": [
    {
     "data": {
      "text/plain": [
       "< Circle(22.360679774997898) >"
      ]
     },
     "execution_count": 141,
     "metadata": {},
     "output_type": "execute_result"
    }
   ],
   "source": [
    "c1 + c2"
   ]
  },
  {
   "cell_type": "code",
   "execution_count": 127,
   "id": "3a34304b-12be-4100-a213-7e3efe2a1eef",
   "metadata": {},
   "outputs": [
    {
     "ename": "TypeError",
     "evalue": "unsupported operand type(s) for +: 'Circle' and 'int'",
     "output_type": "error",
     "traceback": [
      "\u001b[31m---------------------------------------------------------------------------\u001b[39m",
      "\u001b[31mTypeError\u001b[39m                                 Traceback (most recent call last)",
      "\u001b[36mCell\u001b[39m\u001b[36m \u001b[39m\u001b[32mIn[127]\u001b[39m\u001b[32m, line 1\u001b[39m\n\u001b[32m----> \u001b[39m\u001b[32m1\u001b[39m \u001b[43mc1\u001b[49m\u001b[43m \u001b[49m\u001b[43m+\u001b[49m\u001b[43m \u001b[49m\u001b[32;43m2\u001b[39;49m\n",
      "\u001b[31mTypeError\u001b[39m: unsupported operand type(s) for +: 'Circle' and 'int'"
     ]
    }
   ],
   "source": [
    "c1 + 2\n"
   ]
  },
  {
   "cell_type": "code",
   "execution_count": 120,
   "id": "75780b87-bd1f-4e6b-a3b0-8b774c10d7f8",
   "metadata": {},
   "outputs": [
    {
     "data": {
      "text/plain": [
       "1.7841241161527712"
      ]
     },
     "execution_count": 120,
     "metadata": {},
     "output_type": "execute_result"
    }
   ],
   "source": [
    "c.r"
   ]
  },
  {
   "cell_type": "markdown",
   "id": "c6117b95-32c7-491b-ba00-05d0013a5a19",
   "metadata": {},
   "source": [
    "## Zadanie: Prosta gra w poszukiwanie skarbu\n",
    "\n",
    "### Opis ogólny\n",
    "\n",
    "Twoim zadaniem jest stworzenie **prostej gry tekstowej**, w której gracz porusza się po planszy w poszukiwaniu skarbu.\n",
    "\n",
    "### Zasady gry\n",
    "\n",
    "1. **Plansza** ma wymiary `x` na `y` (np. 10x10).\n",
    "   Współrzędne można reprezentować jako `(wiersz, kolumna)` lub `(x, y)`.\n",
    "\n",
    "2. Na początku gry:\n",
    "\n",
    "   * losowo ustalane jest **położenie gracza**,\n",
    "   * losowo ustalane jest **położenie skarbu** (inne niż położenie gracza).\n",
    "\n",
    "3. Gracz wykonuje ruchy, wpisując kierunek:\n",
    "\n",
    "   ```\n",
    "   góra / dół / lewo / prawo\n",
    "   ```\n",
    "\n",
    "   lub skróty (`w`, `s`, `a`, `d`).\n",
    "\n",
    "4. Po każdym ruchu:\n",
    "\n",
    "   * gra informuje, czy **gracz zbliżył się** do skarbu, czy się **oddalił**,\n",
    "   * jeśli gracz przekroczy granice planszy, ruch jest **niedozwolony**.\n",
    "\n",
    "5. Jeśli gracz znajdzie się na tym samym polu co skarb — gra kończy się komunikatem:\n",
    "\n",
    "   ```\n",
    "   🎉 Gratulacje! Znalazłeś skarb!\n",
    "   ```\n",
    "\n",
    "---\n",
    "\n",
    "### Wymagania techniczne\n",
    "\n",
    "* Gra powinna działać w terminalu (interaktywna pętla `while`).\n",
    "* Należy użyć standardowej biblioteki Pythona (`random`, `input`).\n",
    "* Warto zadbać o czytelny kod i komentarze.\n",
    "\n",
    "---\n",
    "\n",
    "### Przykładowy przebieg gry\n",
    "\n",
    "```\n",
    "Podaj rozmiar planszy (x y): 5 5\n",
    "Start gry!\n",
    "Twoje położenie: (2, 4)\n",
    "\n",
    "Wpisz kierunek ruchu (góra/dół/lewo/prawo): lewo\n",
    "Oddaliłeś się od skarbu.\n",
    "\n",
    "Wpisz kierunek ruchu: dół\n",
    "Zbliżyłeś się do skarbu.\n",
    "\n",
    "Wpisz kierunek ruchu: dół\n",
    "Gratulacje! Znalazłeś skarb w (4, 2)!\n",
    "```\n",
    "\n",
    "---\n",
    "\n",
    "### Dodatkowe punkty za:\n",
    "\n",
    "* Licznik liczby ruchów do odnalezienia skarbu,\n",
    "* Prosty rysunek planszy w ASCII,\n",
    "* Obsługę błędnych danych wejściowych (np. niepoprawnego kierunku).\n",
    "\n"
   ]
  },
  {
   "cell_type": "code",
   "execution_count": null,
   "id": "fa1c6bd7-9a54-45a5-a00f-d9969a23037f",
   "metadata": {},
   "outputs": [],
   "source": []
  },
  {
   "cell_type": "markdown",
   "id": "dc162d6b",
   "metadata": {},
   "source": [
    "## Podsumowanie\n",
    "\n",
    "Skorzystaj z wybranych fragmentow notatnika, aby pokazac fundamenty programowania obiektowego: instancje, metody, wlasciwosci i metody specjalne."
   ]
  }
 ],
 "metadata": {
  "kernelspec": {
   "display_name": "Python 3 (ipykernel)",
   "language": "python",
   "name": "python3"
  },
  "language_info": {
   "codemirror_mode": {
    "name": "ipython",
    "version": 3
   },
   "file_extension": ".py",
   "mimetype": "text/x-python",
   "name": "python",
   "nbconvert_exporter": "python",
   "pygments_lexer": "ipython3",
   "version": "3.13.8"
  }
 },
 "nbformat": 4,
 "nbformat_minor": 5
}
