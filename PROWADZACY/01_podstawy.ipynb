{
 "cells": [
  {
   "cell_type": "markdown",
   "id": "1a4bc5fd-c9f1-464a-94b3-d4d64401e7af",
   "metadata": {},
   "source": [
    "- 1989 - poczatek przygody\n",
    "- wszystko jest obiektem\n",
    "- wiele paradygmatow\n",
    "- jezyk interpretowany\n",
    "- dynamiczne typowany\n",
    "- typowany silnie\n",
    "- AI\n",
    "- WEB\n"
   ]
  },
  {
   "cell_type": "code",
   "execution_count": 1,
   "id": "f0e6b6dc-cf23-40c8-8668-b971ecbf1f88",
   "metadata": {},
   "outputs": [
    {
     "data": {
      "text/plain": [
       "2"
      ]
     },
     "execution_count": 1,
     "metadata": {},
     "output_type": "execute_result"
    }
   ],
   "source": [
    "1 + 1"
   ]
  },
  {
   "cell_type": "code",
   "execution_count": 2,
   "id": "7899df0c-9a0e-4e79-b89f-dff159badd38",
   "metadata": {},
   "outputs": [
    {
     "ename": "TypeError",
     "evalue": "unsupported operand type(s) for +: 'int' and 'str'",
     "output_type": "error",
     "traceback": [
      "\u001b[31m---------------------------------------------------------------------------\u001b[39m",
      "\u001b[31mTypeError\u001b[39m                                 Traceback (most recent call last)",
      "\u001b[36mCell\u001b[39m\u001b[36m \u001b[39m\u001b[32mIn[2]\u001b[39m\u001b[32m, line 1\u001b[39m\n\u001b[32m----> \u001b[39m\u001b[32m1\u001b[39m \u001b[32;43m1\u001b[39;49m\u001b[43m \u001b[49m\u001b[43m+\u001b[49m\u001b[43m \u001b[49m\u001b[33;43m\"\u001b[39;49m\u001b[33;43m2\u001b[39;49m\u001b[33;43m\"\u001b[39;49m\n",
      "\u001b[31mTypeError\u001b[39m: unsupported operand type(s) for +: 'int' and 'str'"
     ]
    }
   ],
   "source": [
    "1 + \"2\""
   ]
  },
  {
   "cell_type": "code",
   "execution_count": 3,
   "id": "58e88712-6b8f-477a-95e7-90eb17b55d54",
   "metadata": {},
   "outputs": [
    {
     "data": {
      "text/plain": [
       "3"
      ]
     },
     "execution_count": 3,
     "metadata": {},
     "output_type": "execute_result"
    }
   ],
   "source": [
    "1 + int(\"2\")"
   ]
  },
  {
   "cell_type": "code",
   "execution_count": 4,
   "id": "76ecdce3-267f-4a9a-9e34-2da1e31da889",
   "metadata": {},
   "outputs": [
    {
     "data": {
      "text/plain": [
       "3.1"
      ]
     },
     "execution_count": 4,
     "metadata": {},
     "output_type": "execute_result"
    }
   ],
   "source": [
    "1 + 2.1"
   ]
  },
  {
   "cell_type": "code",
   "execution_count": 5,
   "id": "0505370f-724f-4373-ada8-72c120e8f441",
   "metadata": {},
   "outputs": [
    {
     "data": {
      "text/plain": [
       "2"
      ]
     },
     "execution_count": 5,
     "metadata": {},
     "output_type": "execute_result"
    }
   ],
   "source": [
    "1 + True"
   ]
  },
  {
   "cell_type": "code",
   "execution_count": 8,
   "id": "e39c27d3-1238-44d1-bbb0-e292c42ea23f",
   "metadata": {},
   "outputs": [],
   "source": [
    "# help(bool)"
   ]
  },
  {
   "cell_type": "code",
   "execution_count": 9,
   "id": "088ef8d5-2b17-44b5-b8cd-c80519f2dae3",
   "metadata": {},
   "outputs": [
    {
     "data": {
      "text/plain": [
       "True"
      ]
     },
     "execution_count": 9,
     "metadata": {},
     "output_type": "execute_result"
    }
   ],
   "source": [
    "True == 1"
   ]
  },
  {
   "cell_type": "code",
   "execution_count": 10,
   "id": "413cc8b4-ce26-4e0a-8602-8038423a8274",
   "metadata": {},
   "outputs": [
    {
     "data": {
      "text/plain": [
       "True"
      ]
     },
     "execution_count": 10,
     "metadata": {},
     "output_type": "execute_result"
    }
   ],
   "source": [
    "False == 0"
   ]
  },
  {
   "cell_type": "code",
   "execution_count": 12,
   "id": "2e87960f-bfa9-459a-a1e5-d4d1b3a1901b",
   "metadata": {},
   "outputs": [
    {
     "data": {
      "text/plain": [
       "False"
      ]
     },
     "execution_count": 12,
     "metadata": {},
     "output_type": "execute_result"
    }
   ],
   "source": [
    "False == \"\""
   ]
  },
  {
   "cell_type": "code",
   "execution_count": 13,
   "id": "6993a55a-6c37-47e7-9c64-3f3839710b14",
   "metadata": {},
   "outputs": [
    {
     "data": {
      "text/plain": [
       "False"
      ]
     },
     "execution_count": 13,
     "metadata": {},
     "output_type": "execute_result"
    }
   ],
   "source": [
    "x = 1\n",
    "x is True"
   ]
  },
  {
   "cell_type": "code",
   "execution_count": 14,
   "id": "1c441d4f-7fe2-44a7-a834-36b03e07c6c5",
   "metadata": {},
   "outputs": [
    {
     "name": "stderr",
     "output_type": "stream",
     "text": [
      "<>:1: SyntaxWarning: \"is\" with 'int' literal. Did you mean \"==\"?\n",
      "/var/folders/pd/gsgbf0fd4tv7ntlsxt53r0sh0000gn/T/ipykernel_2859/3482963539.py:1: SyntaxWarning: \"is\" with 'int' literal. Did you mean \"==\"?\n",
      "  1 is True\n"
     ]
    },
    {
     "data": {
      "text/plain": [
       "False"
      ]
     },
     "execution_count": 14,
     "metadata": {},
     "output_type": "execute_result"
    }
   ],
   "source": [
    "1 is True"
   ]
  },
  {
   "cell_type": "code",
   "execution_count": 15,
   "id": "6f7af925-a76c-4eeb-871f-484e18745154",
   "metadata": {},
   "outputs": [],
   "source": [
    "x = 1"
   ]
  },
  {
   "cell_type": "code",
   "execution_count": 16,
   "id": "4fd804ef-bf23-4c11-9895-9182f453f1c6",
   "metadata": {},
   "outputs": [],
   "source": [
    "del x"
   ]
  },
  {
   "cell_type": "markdown",
   "id": "884d332a-ff17-4bd9-946d-9bcb16d5dc5d",
   "metadata": {},
   "source": [
    "## typy wbudowane"
   ]
  },
  {
   "cell_type": "code",
   "execution_count": null,
   "id": "15ff7411-c0d2-4326-84a6-0838d7ac4801",
   "metadata": {},
   "outputs": [],
   "source": [
    "int, float, complex\n",
    "bool\n",
    "\n",
    "str\n",
    "\n",
    "dict, list, tuple, None, range, set, bytes, bytearray, frozenset"
   ]
  },
  {
   "cell_type": "code",
   "execution_count": 19,
   "id": "a5ea25da-e34b-4eca-ae6c-88e0ddfa7959",
   "metadata": {},
   "outputs": [
    {
     "data": {
      "text/plain": [
       "(11, 3, 9, 17)"
      ]
     },
     "execution_count": 19,
     "metadata": {},
     "output_type": "execute_result"
    }
   ],
   "source": [
    "\n",
    "11, 0b11, 0o11, 0x11"
   ]
  },
  {
   "cell_type": "code",
   "execution_count": 20,
   "id": "bf7206d8-47c8-4f68-9c88-2c56c156ccda",
   "metadata": {},
   "outputs": [
    {
     "data": {
      "text/plain": [
       "(1000000, 1000000, 10000000)"
      ]
     },
     "execution_count": 20,
     "metadata": {},
     "output_type": "execute_result"
    }
   ],
   "source": [
    "1_000_000, 1000000, 1_00_000_00"
   ]
  },
  {
   "cell_type": "code",
   "execution_count": 21,
   "id": "8f8fff2a-9e65-4531-8eb5-741e4e84361d",
   "metadata": {},
   "outputs": [
    {
     "data": {
      "text/plain": [
       "111"
      ]
     },
     "execution_count": 21,
     "metadata": {},
     "output_type": "execute_result"
    }
   ],
   "source": [
    "int(\"111\")\n"
   ]
  },
  {
   "cell_type": "code",
   "execution_count": 27,
   "id": "80d876c7-dceb-4a23-b25a-5bdf547bb7ac",
   "metadata": {},
   "outputs": [
    {
     "data": {
      "text/plain": [
       "11189196"
      ]
     },
     "execution_count": 27,
     "metadata": {},
     "output_type": "execute_result"
    }
   ],
   "source": [
    "int(\"aabbcc\", base=16)"
   ]
  },
  {
   "cell_type": "code",
   "execution_count": 23,
   "id": "2067d95e-193b-4acc-899f-48bc86184989",
   "metadata": {},
   "outputs": [
    {
     "name": "stdout",
     "output_type": "stream",
     "text": [
      "Help on class int in module builtins:\n",
      "\n",
      "class int(object)\n",
      " |  int([x]) -> integer\n",
      " |  int(x, base=10) -> integer\n",
      " |\n",
      " |  Convert a number or string to an integer, or return 0 if no arguments\n",
      " |  are given.  If x is a number, return x.__int__().  For floating-point\n",
      " |  numbers, this truncates towards zero.\n",
      " |\n",
      " |  If x is not a number or if base is given, then x must be a string,\n",
      " |  bytes, or bytearray instance representing an integer literal in the\n",
      " |  given base.  The literal can be preceded by '+' or '-' and be surrounded\n",
      " |  by whitespace.  The base defaults to 10.  Valid bases are 0 and 2-36.\n",
      " |  Base 0 means to interpret the base from the string as an integer literal.\n",
      " |  >>> int('0b100', base=0)\n",
      " |  4\n",
      " |\n",
      " |  Built-in subclasses:\n",
      " |      bool\n",
      " |\n",
      " |  Methods defined here:\n",
      " |\n",
      " |  __abs__(self, /)\n",
      " |      abs(self)\n",
      " |\n",
      " |  __add__(self, value, /)\n",
      " |      Return self+value.\n",
      " |\n",
      " |  __and__(self, value, /)\n",
      " |      Return self&value.\n",
      " |\n",
      " |  __bool__(self, /)\n",
      " |      True if self else False\n",
      " |\n",
      " |  __ceil__(self, /)\n",
      " |      Ceiling of an Integral returns itself.\n",
      " |\n",
      " |  __divmod__(self, value, /)\n",
      " |      Return divmod(self, value).\n",
      " |\n",
      " |  __eq__(self, value, /)\n",
      " |      Return self==value.\n",
      " |\n",
      " |  __float__(self, /)\n",
      " |      float(self)\n",
      " |\n",
      " |  __floor__(self, /)\n",
      " |      Flooring an Integral returns itself.\n",
      " |\n",
      " |  __floordiv__(self, value, /)\n",
      " |      Return self//value.\n",
      " |\n",
      " |  __format__(self, format_spec, /)\n",
      " |      Convert to a string according to format_spec.\n",
      " |\n",
      " |  __ge__(self, value, /)\n",
      " |      Return self>=value.\n",
      " |\n",
      " |  __getattribute__(self, name, /)\n",
      " |      Return getattr(self, name).\n",
      " |\n",
      " |  __getnewargs__(self, /)\n",
      " |\n",
      " |  __gt__(self, value, /)\n",
      " |      Return self>value.\n",
      " |\n",
      " |  __hash__(self, /)\n",
      " |      Return hash(self).\n",
      " |\n",
      " |  __index__(self, /)\n",
      " |      Return self converted to an integer, if self is suitable for use as an index into a list.\n",
      " |\n",
      " |  __int__(self, /)\n",
      " |      int(self)\n",
      " |\n",
      " |  __invert__(self, /)\n",
      " |      ~self\n",
      " |\n",
      " |  __le__(self, value, /)\n",
      " |      Return self<=value.\n",
      " |\n",
      " |  __lshift__(self, value, /)\n",
      " |      Return self<<value.\n",
      " |\n",
      " |  __lt__(self, value, /)\n",
      " |      Return self<value.\n",
      " |\n",
      " |  __mod__(self, value, /)\n",
      " |      Return self%value.\n",
      " |\n",
      " |  __mul__(self, value, /)\n",
      " |      Return self*value.\n",
      " |\n",
      " |  __ne__(self, value, /)\n",
      " |      Return self!=value.\n",
      " |\n",
      " |  __neg__(self, /)\n",
      " |      -self\n",
      " |\n",
      " |  __or__(self, value, /)\n",
      " |      Return self|value.\n",
      " |\n",
      " |  __pos__(self, /)\n",
      " |      +self\n",
      " |\n",
      " |  __pow__(self, value, mod=None, /)\n",
      " |      Return pow(self, value, mod).\n",
      " |\n",
      " |  __radd__(self, value, /)\n",
      " |      Return value+self.\n",
      " |\n",
      " |  __rand__(self, value, /)\n",
      " |      Return value&self.\n",
      " |\n",
      " |  __rdivmod__(self, value, /)\n",
      " |      Return divmod(value, self).\n",
      " |\n",
      " |  __repr__(self, /)\n",
      " |      Return repr(self).\n",
      " |\n",
      " |  __rfloordiv__(self, value, /)\n",
      " |      Return value//self.\n",
      " |\n",
      " |  __rlshift__(self, value, /)\n",
      " |      Return value<<self.\n",
      " |\n",
      " |  __rmod__(self, value, /)\n",
      " |      Return value%self.\n",
      " |\n",
      " |  __rmul__(self, value, /)\n",
      " |      Return value*self.\n",
      " |\n",
      " |  __ror__(self, value, /)\n",
      " |      Return value|self.\n",
      " |\n",
      " |  __round__(self, ndigits=<unrepresentable>, /)\n",
      " |      Rounding an Integral returns itself.\n",
      " |\n",
      " |      Rounding with an ndigits argument also returns an integer.\n",
      " |\n",
      " |  __rpow__(self, value, mod=None, /)\n",
      " |      Return pow(value, self, mod).\n",
      " |\n",
      " |  __rrshift__(self, value, /)\n",
      " |      Return value>>self.\n",
      " |\n",
      " |  __rshift__(self, value, /)\n",
      " |      Return self>>value.\n",
      " |\n",
      " |  __rsub__(self, value, /)\n",
      " |      Return value-self.\n",
      " |\n",
      " |  __rtruediv__(self, value, /)\n",
      " |      Return value/self.\n",
      " |\n",
      " |  __rxor__(self, value, /)\n",
      " |      Return value^self.\n",
      " |\n",
      " |  __sizeof__(self, /)\n",
      " |      Returns size in memory, in bytes.\n",
      " |\n",
      " |  __sub__(self, value, /)\n",
      " |      Return self-value.\n",
      " |\n",
      " |  __truediv__(self, value, /)\n",
      " |      Return self/value.\n",
      " |\n",
      " |  __trunc__(self, /)\n",
      " |      Truncating an Integral returns itself.\n",
      " |\n",
      " |  __xor__(self, value, /)\n",
      " |      Return self^value.\n",
      " |\n",
      " |  as_integer_ratio(self, /)\n",
      " |      Return a pair of integers, whose ratio is equal to the original int.\n",
      " |\n",
      " |      The ratio is in lowest terms and has a positive denominator.\n",
      " |\n",
      " |      >>> (10).as_integer_ratio()\n",
      " |      (10, 1)\n",
      " |      >>> (-10).as_integer_ratio()\n",
      " |      (-10, 1)\n",
      " |      >>> (0).as_integer_ratio()\n",
      " |      (0, 1)\n",
      " |\n",
      " |  bit_count(self, /)\n",
      " |      Number of ones in the binary representation of the absolute value of self.\n",
      " |\n",
      " |      Also known as the population count.\n",
      " |\n",
      " |      >>> bin(13)\n",
      " |      '0b1101'\n",
      " |      >>> (13).bit_count()\n",
      " |      3\n",
      " |\n",
      " |  bit_length(self, /)\n",
      " |      Number of bits necessary to represent self in binary.\n",
      " |\n",
      " |      >>> bin(37)\n",
      " |      '0b100101'\n",
      " |      >>> (37).bit_length()\n",
      " |      6\n",
      " |\n",
      " |  conjugate(self, /)\n",
      " |      Returns self, the complex conjugate of any int.\n",
      " |\n",
      " |  is_integer(self, /)\n",
      " |      Returns True. Exists for duck type compatibility with float.is_integer.\n",
      " |\n",
      " |  to_bytes(self, /, length=1, byteorder='big', *, signed=False)\n",
      " |      Return an array of bytes representing an integer.\n",
      " |\n",
      " |      length\n",
      " |        Length of bytes object to use.  An OverflowError is raised if the\n",
      " |        integer is not representable with the given number of bytes.  Default\n",
      " |        is length 1.\n",
      " |      byteorder\n",
      " |        The byte order used to represent the integer.  If byteorder is 'big',\n",
      " |        the most significant byte is at the beginning of the byte array.  If\n",
      " |        byteorder is 'little', the most significant byte is at the end of the\n",
      " |        byte array.  To request the native byte order of the host system, use\n",
      " |        sys.byteorder as the byte order value.  Default is to use 'big'.\n",
      " |      signed\n",
      " |        Determines whether two's complement is used to represent the integer.\n",
      " |        If signed is False and a negative integer is given, an OverflowError\n",
      " |        is raised.\n",
      " |\n",
      " |  ----------------------------------------------------------------------\n",
      " |  Class methods defined here:\n",
      " |\n",
      " |  from_bytes(bytes, byteorder='big', *, signed=False)\n",
      " |      Return the integer represented by the given array of bytes.\n",
      " |\n",
      " |      bytes\n",
      " |        Holds the array of bytes to convert.  The argument must either\n",
      " |        support the buffer protocol or be an iterable object producing bytes.\n",
      " |        Bytes and bytearray are examples of built-in objects that support the\n",
      " |        buffer protocol.\n",
      " |      byteorder\n",
      " |        The byte order used to represent the integer.  If byteorder is 'big',\n",
      " |        the most significant byte is at the beginning of the byte array.  If\n",
      " |        byteorder is 'little', the most significant byte is at the end of the\n",
      " |        byte array.  To request the native byte order of the host system, use\n",
      " |        sys.byteorder as the byte order value.  Default is to use 'big'.\n",
      " |      signed\n",
      " |        Indicates whether two's complement is used to represent the integer.\n",
      " |\n",
      " |  ----------------------------------------------------------------------\n",
      " |  Static methods defined here:\n",
      " |\n",
      " |  __new__(*args, **kwargs)\n",
      " |      Create and return a new object.  See help(type) for accurate signature.\n",
      " |\n",
      " |  ----------------------------------------------------------------------\n",
      " |  Data descriptors defined here:\n",
      " |\n",
      " |  denominator\n",
      " |      the denominator of a rational number in lowest terms\n",
      " |\n",
      " |  imag\n",
      " |      the imaginary part of a complex number\n",
      " |\n",
      " |  numerator\n",
      " |      the numerator of a rational number in lowest terms\n",
      " |\n",
      " |  real\n",
      " |      the real part of a complex number\n",
      "\n"
     ]
    }
   ],
   "source": [
    "help(int)"
   ]
  },
  {
   "cell_type": "code",
   "execution_count": 28,
   "id": "480ae76c-a469-44d9-8fc7-f522ad477021",
   "metadata": {},
   "outputs": [
    {
     "data": {
      "text/plain": [
       "12648430"
      ]
     },
     "execution_count": 28,
     "metadata": {},
     "output_type": "execute_result"
    }
   ],
   "source": [
    "int(\"c0ffee\", base=16)"
   ]
  },
  {
   "cell_type": "code",
   "execution_count": 29,
   "id": "65de70ab-409d-4e9e-b629-1f9608e76402",
   "metadata": {},
   "outputs": [
    {
     "data": {
      "text/plain": [
       "'0b110000001111111111101110'"
      ]
     },
     "execution_count": 29,
     "metadata": {},
     "output_type": "execute_result"
    }
   ],
   "source": [
    "bin(12648430)"
   ]
  },
  {
   "cell_type": "code",
   "execution_count": 30,
   "id": "74a450aa-8d90-41cd-9a88-7f1258d1a81e",
   "metadata": {},
   "outputs": [
    {
     "data": {
      "text/plain": [
       "'0o60177756'"
      ]
     },
     "execution_count": 30,
     "metadata": {},
     "output_type": "execute_result"
    }
   ],
   "source": [
    "oct(12648430)"
   ]
  },
  {
   "cell_type": "code",
   "execution_count": 32,
   "id": "24165c3a-74fe-4aba-a90e-24e8fa8d4f7f",
   "metadata": {},
   "outputs": [
    {
     "data": {
      "text/plain": [
       "'0xc0ffee'"
      ]
     },
     "execution_count": 32,
     "metadata": {},
     "output_type": "execute_result"
    }
   ],
   "source": [
    "hex(12648430)"
   ]
  },
  {
   "cell_type": "code",
   "execution_count": 44,
   "id": "033f90fe-c739-4be8-8a9a-21f5421d2161",
   "metadata": {},
   "outputs": [
    {
     "data": {
      "text/plain": [
       "['__abs__',\n",
       " '__add__',\n",
       " '__and__',\n",
       " '__bool__',\n",
       " '__ceil__',\n",
       " '__class__',\n",
       " '__delattr__',\n",
       " '__dir__',\n",
       " '__divmod__',\n",
       " '__doc__',\n",
       " '__eq__',\n",
       " '__float__',\n",
       " '__floor__',\n",
       " '__floordiv__',\n",
       " '__format__',\n",
       " '__ge__',\n",
       " '__getattribute__',\n",
       " '__getnewargs__',\n",
       " '__getstate__',\n",
       " '__gt__',\n",
       " '__hash__',\n",
       " '__index__',\n",
       " '__init__',\n",
       " '__init_subclass__',\n",
       " '__int__',\n",
       " '__invert__',\n",
       " '__le__',\n",
       " '__lshift__',\n",
       " '__lt__',\n",
       " '__mod__',\n",
       " '__mul__',\n",
       " '__ne__',\n",
       " '__neg__',\n",
       " '__new__',\n",
       " '__or__',\n",
       " '__pos__',\n",
       " '__pow__',\n",
       " '__radd__',\n",
       " '__rand__',\n",
       " '__rdivmod__',\n",
       " '__reduce__',\n",
       " '__reduce_ex__',\n",
       " '__repr__',\n",
       " '__rfloordiv__',\n",
       " '__rlshift__',\n",
       " '__rmod__',\n",
       " '__rmul__',\n",
       " '__ror__',\n",
       " '__round__',\n",
       " '__rpow__',\n",
       " '__rrshift__',\n",
       " '__rshift__',\n",
       " '__rsub__',\n",
       " '__rtruediv__',\n",
       " '__rxor__',\n",
       " '__setattr__',\n",
       " '__sizeof__',\n",
       " '__str__',\n",
       " '__sub__',\n",
       " '__subclasshook__',\n",
       " '__truediv__',\n",
       " '__trunc__',\n",
       " '__xor__',\n",
       " 'as_integer_ratio',\n",
       " 'bit_count',\n",
       " 'bit_length',\n",
       " 'conjugate',\n",
       " 'denominator',\n",
       " 'from_bytes',\n",
       " 'imag',\n",
       " 'is_integer',\n",
       " 'numerator',\n",
       " 'real',\n",
       " 'to_bytes']"
      ]
     },
     "execution_count": 44,
     "metadata": {},
     "output_type": "execute_result"
    }
   ],
   "source": [
    "dir(1)"
   ]
  },
  {
   "cell_type": "code",
   "execution_count": 53,
   "id": "07db5644-af91-4a85-b4a4-a2f4bdbe9528",
   "metadata": {},
   "outputs": [],
   "source": [
    "liczba = 255 ** 255"
   ]
  },
  {
   "cell_type": "code",
   "execution_count": 54,
   "id": "6a8130c4-9fb3-468e-a5ec-7fe043ec3a56",
   "metadata": {},
   "outputs": [
    {
     "data": {
      "text/plain": [
       "2039"
      ]
     },
     "execution_count": 54,
     "metadata": {},
     "output_type": "execute_result"
    }
   ],
   "source": [
    "liczba.bit_length()"
   ]
  },
  {
   "cell_type": "code",
   "execution_count": 57,
   "id": "a8a7c3a6-23ab-48f8-90d3-cbdd5e4a8ddb",
   "metadata": {},
   "outputs": [
    {
     "data": {
      "text/plain": [
       "255"
      ]
     },
     "execution_count": 57,
     "metadata": {},
     "output_type": "execute_result"
    }
   ],
   "source": [
    "round(2039/8)"
   ]
  },
  {
   "cell_type": "code",
   "execution_count": 59,
   "id": "346b902a-5d71-44f6-9162-520aeb0d558a",
   "metadata": {},
   "outputs": [
    {
     "data": {
      "text/plain": [
       "sys.int_info(bits_per_digit=30, sizeof_digit=4, default_max_str_digits=4300, str_digits_check_threshold=640)"
      ]
     },
     "execution_count": 59,
     "metadata": {},
     "output_type": "execute_result"
    }
   ],
   "source": [
    "import sys\n",
    "\n",
    "sys.int_info"
   ]
  },
  {
   "cell_type": "markdown",
   "id": "2a9a65f2-db92-45b3-8dd0-297f8c1209c3",
   "metadata": {},
   "source": [
    "## float"
   ]
  },
  {
   "cell_type": "code",
   "execution_count": 33,
   "id": "29127023-f207-40f4-ac0d-0f86c0fb6e82",
   "metadata": {},
   "outputs": [
    {
     "data": {
      "text/plain": [
       "False"
      ]
     },
     "execution_count": 33,
     "metadata": {},
     "output_type": "execute_result"
    }
   ],
   "source": [
    "0.1 + 0.1 + 0.1 == 0.3"
   ]
  },
  {
   "cell_type": "code",
   "execution_count": 34,
   "id": "54c30a57-f3b0-4b21-9b04-20865fa853aa",
   "metadata": {},
   "outputs": [
    {
     "data": {
      "text/plain": [
       "0.3333333333333333"
      ]
     },
     "execution_count": 34,
     "metadata": {},
     "output_type": "execute_result"
    }
   ],
   "source": [
    "1/3"
   ]
  },
  {
   "cell_type": "code",
   "execution_count": 35,
   "id": "d5032f56-5328-43fa-baf8-bfee215d3994",
   "metadata": {},
   "outputs": [
    {
     "data": {
      "text/plain": [
       "0.30000000000000004"
      ]
     },
     "execution_count": 35,
     "metadata": {},
     "output_type": "execute_result"
    }
   ],
   "source": [
    "0.1 + 0.1 + 0.1"
   ]
  },
  {
   "cell_type": "code",
   "execution_count": 40,
   "id": "8cbd54f7-cee6-4ebb-9393-5a958a45dfd9",
   "metadata": {},
   "outputs": [
    {
     "data": {
      "text/plain": [
       "True"
      ]
     },
     "execution_count": 40,
     "metadata": {},
     "output_type": "execute_result"
    }
   ],
   "source": [
    "round(0.1 + 0.1 + 0.1, 2) == round(0.2 + 0.1, 2)"
   ]
  },
  {
   "cell_type": "code",
   "execution_count": 41,
   "id": "12531b96-6cce-481a-baaf-29133fd4fc8b",
   "metadata": {},
   "outputs": [],
   "source": [
    "from decimal import Decimal"
   ]
  },
  {
   "cell_type": "code",
   "execution_count": 42,
   "id": "7c144444-bebe-418e-a43b-7375b5cb1f47",
   "metadata": {},
   "outputs": [
    {
     "data": {
      "text/plain": [
       "Decimal('0.1000000000000000055511151231257827021181583404541015625')"
      ]
     },
     "execution_count": 42,
     "metadata": {},
     "output_type": "execute_result"
    }
   ],
   "source": [
    "Decimal(0.1)"
   ]
  },
  {
   "cell_type": "code",
   "execution_count": 43,
   "id": "7cab7d66-b830-4287-a89e-96ed3c23eac1",
   "metadata": {},
   "outputs": [
    {
     "data": {
      "text/plain": [
       "True"
      ]
     },
     "execution_count": 43,
     "metadata": {},
     "output_type": "execute_result"
    }
   ],
   "source": [
    "Decimal(\"0.1\") + Decimal(\"0.1\") + Decimal(\"0.1\") == Decimal(\"0.3\")"
   ]
  },
  {
   "cell_type": "code",
   "execution_count": 60,
   "id": "73dcfe17-f658-42d1-83d5-ab2fb44b9146",
   "metadata": {},
   "outputs": [
    {
     "data": {
      "text/plain": [
       "sys.float_info(max=1.7976931348623157e+308, max_exp=1024, max_10_exp=308, min=2.2250738585072014e-308, min_exp=-1021, min_10_exp=-307, dig=15, mant_dig=53, epsilon=2.220446049250313e-16, radix=2, rounds=1)"
      ]
     },
     "execution_count": 60,
     "metadata": {},
     "output_type": "execute_result"
    }
   ],
   "source": [
    "sys.float_info"
   ]
  },
  {
   "cell_type": "code",
   "execution_count": 62,
   "id": "df5dc5c3-e8b6-49a8-872e-02c0578d48d1",
   "metadata": {},
   "outputs": [
    {
     "data": {
      "text/plain": [
       "inf"
      ]
     },
     "execution_count": 62,
     "metadata": {},
     "output_type": "execute_result"
    }
   ],
   "source": [
    "1.80e308"
   ]
  },
  {
   "cell_type": "code",
   "execution_count": 67,
   "id": "52d218f7-e4ae-4367-9719-6bee0eda200a",
   "metadata": {},
   "outputs": [
    {
     "data": {
      "text/plain": [
       "True"
      ]
     },
     "execution_count": 67,
     "metadata": {},
     "output_type": "execute_result"
    }
   ],
   "source": [
    "float(\"-inf\") < 255 ** 308 < float(\"inf\")"
   ]
  },
  {
   "cell_type": "code",
   "execution_count": 68,
   "id": "412a7115-a0e4-4f31-aaf2-c3b5e0c12cbc",
   "metadata": {},
   "outputs": [
    {
     "data": {
      "text/plain": [
       "False"
      ]
     },
     "execution_count": 68,
     "metadata": {},
     "output_type": "execute_result"
    }
   ],
   "source": [
    "float(\"-inf\") < float(\"nan\") < float(\"inf\")"
   ]
  },
  {
   "cell_type": "code",
   "execution_count": 69,
   "id": "e54c997c-1a4e-495e-ac8a-abaf6e3584a0",
   "metadata": {},
   "outputs": [
    {
     "data": {
      "text/plain": [
       "True"
      ]
     },
     "execution_count": 69,
     "metadata": {},
     "output_type": "execute_result"
    }
   ],
   "source": [
    "2.12 == 2.12"
   ]
  },
  {
   "cell_type": "code",
   "execution_count": 70,
   "id": "57a57acf-0118-4024-8459-f7ad383c004e",
   "metadata": {},
   "outputs": [
    {
     "data": {
      "text/plain": [
       "False"
      ]
     },
     "execution_count": 70,
     "metadata": {},
     "output_type": "execute_result"
    }
   ],
   "source": [
    "float(\"nan\")  == float(\"nan\") "
   ]
  },
  {
   "cell_type": "code",
   "execution_count": 71,
   "id": "c279d234-25dc-4569-a401-56e9e164fc06",
   "metadata": {},
   "outputs": [
    {
     "data": {
      "text/plain": [
       "nan"
      ]
     },
     "execution_count": 71,
     "metadata": {},
     "output_type": "execute_result"
    }
   ],
   "source": [
    "float(\"nan\")"
   ]
  },
  {
   "cell_type": "code",
   "execution_count": 72,
   "id": "bbeacf14-32af-49a3-9db5-c41509e463d3",
   "metadata": {},
   "outputs": [],
   "source": [
    "import math\n",
    "\n",
    "wartosci = [1.2e3, 5.5e-4, math.pi, math.inf, -math.inf]"
   ]
  },
  {
   "cell_type": "code",
   "execution_count": 73,
   "id": "8390750a-6030-4739-982f-24fa3b1231a5",
   "metadata": {},
   "outputs": [
    {
     "data": {
      "text/plain": [
       "[1200.0, 0.00055, 3.141592653589793, inf, -inf]"
      ]
     },
     "execution_count": 73,
     "metadata": {},
     "output_type": "execute_result"
    }
   ],
   "source": [
    "wartosci"
   ]
  },
  {
   "cell_type": "code",
   "execution_count": 74,
   "id": "50a7f82a-8360-4d9b-b1c4-707ad724e4e6",
   "metadata": {},
   "outputs": [],
   "source": [
    "from fractions import Fraction\n"
   ]
  },
  {
   "cell_type": "code",
   "execution_count": 76,
   "id": "447b1777-6d0a-4c02-b689-145a54738762",
   "metadata": {},
   "outputs": [
    {
     "data": {
      "text/plain": [
       "1.0"
      ]
     },
     "execution_count": 76,
     "metadata": {},
     "output_type": "execute_result"
    }
   ],
   "source": [
    "float(Fraction(1, 3) + Fraction(2, 3))"
   ]
  },
  {
   "cell_type": "code",
   "execution_count": 77,
   "id": "1f2e0713-a6cf-4c0b-8510-d33e567974b3",
   "metadata": {},
   "outputs": [
    {
     "data": {
      "text/plain": [
       "True"
      ]
     },
     "execution_count": 77,
     "metadata": {},
     "output_type": "execute_result"
    }
   ],
   "source": [
    "Fraction(1, 10) + Fraction(1, 10) + Fraction(1, 10) == Fraction(3, 10)"
   ]
  },
  {
   "cell_type": "code",
   "execution_count": 79,
   "id": "51220ef9-ba0b-4e0a-9e1b-c8aeaca73442",
   "metadata": {},
   "outputs": [
    {
     "data": {
      "text/plain": [
       "0.3"
      ]
     },
     "execution_count": 79,
     "metadata": {},
     "output_type": "execute_result"
    }
   ],
   "source": [
    "float(Fraction(1, 10) + Fraction(1, 10) + Fraction(1, 10))"
   ]
  },
  {
   "cell_type": "markdown",
   "id": "d5fca0ec-16be-43ad-bc03-e900927bf0d5",
   "metadata": {},
   "source": [
    "## Complex"
   ]
  },
  {
   "cell_type": "code",
   "execution_count": 82,
   "id": "9afa7ce8-b8ca-4bac-82dc-93a326511674",
   "metadata": {},
   "outputs": [
    {
     "data": {
      "text/plain": [
       "(3+0j)"
      ]
     },
     "execution_count": 82,
     "metadata": {},
     "output_type": "execute_result"
    }
   ],
   "source": [
    "1 + 2j + 2 -2j"
   ]
  },
  {
   "cell_type": "code",
   "execution_count": null,
   "id": "2c837311-8cf9-431b-aab3-da0a9a6bfa9b",
   "metadata": {},
   "outputs": [],
   "source": []
  },
  {
   "cell_type": "code",
   "execution_count": 86,
   "id": "701684ad-389f-4047-8fb2-49633056d223",
   "metadata": {},
   "outputs": [
    {
     "data": {
      "text/plain": [
       "(-1+0j)"
      ]
     },
     "execution_count": 86,
     "metadata": {},
     "output_type": "execute_result"
    }
   ],
   "source": [
    "1j ** 2"
   ]
  },
  {
   "cell_type": "code",
   "execution_count": 89,
   "id": "38966194-bcf3-45f7-ac38-4a4c07bf7a73",
   "metadata": {},
   "outputs": [],
   "source": [
    "# operatory arytmetyczne\n",
    "# +-/* \n",
    "# //\n",
    "# %\n",
    "# **\n",
    "# @ - w szczegolnych przypadkach"
   ]
  },
  {
   "cell_type": "code",
   "execution_count": 90,
   "id": "39db4a23-ec08-4d6b-8996-d1d6ca2dcdc1",
   "metadata": {},
   "outputs": [],
   "source": [
    "a = 1\n",
    "b = 1"
   ]
  },
  {
   "cell_type": "code",
   "execution_count": 91,
   "id": "070f7a04-6aca-4fb6-97ef-38061836e40f",
   "metadata": {},
   "outputs": [
    {
     "data": {
      "text/plain": [
       "True"
      ]
     },
     "execution_count": 91,
     "metadata": {},
     "output_type": "execute_result"
    }
   ],
   "source": [
    "a == b"
   ]
  },
  {
   "cell_type": "code",
   "execution_count": 92,
   "id": "c0093317-0d9a-4e67-99a0-d18097d3d0a0",
   "metadata": {},
   "outputs": [
    {
     "data": {
      "text/plain": [
       "True"
      ]
     },
     "execution_count": 92,
     "metadata": {},
     "output_type": "execute_result"
    }
   ],
   "source": [
    "a is b"
   ]
  },
  {
   "cell_type": "code",
   "execution_count": 101,
   "id": "df32949a-6200-44bb-bbc5-eb812bcaa942",
   "metadata": {},
   "outputs": [
    {
     "data": {
      "text/plain": [
       "(True, True, 4446969720, 4446969720)"
      ]
     },
     "execution_count": 101,
     "metadata": {},
     "output_type": "execute_result"
    }
   ],
   "source": [
    "a = 256\n",
    "b = 256\n",
    "a == b, a is b, id(a), id(b)"
   ]
  },
  {
   "cell_type": "code",
   "execution_count": 102,
   "id": "9cd33ed7-916d-4c48-9cdc-cf705e2d4eb6",
   "metadata": {},
   "outputs": [
    {
     "data": {
      "text/plain": [
       "(True, False, 4483413264, 4483413456)"
      ]
     },
     "execution_count": 102,
     "metadata": {},
     "output_type": "execute_result"
    }
   ],
   "source": [
    "a = 257\n",
    "b = 257\n",
    "a == b, a is b,  id(a), id(b)"
   ]
  },
  {
   "cell_type": "code",
   "execution_count": 104,
   "id": "3d75c0b1-45a0-4f87-ba00-8b0a730a67a5",
   "metadata": {},
   "outputs": [
    {
     "data": {
      "text/plain": [
       "(True, False, 4477272688, 4477285744)"
      ]
     },
     "execution_count": 104,
     "metadata": {},
     "output_type": "execute_result"
    }
   ],
   "source": [
    "a = \"ala ma kota\"\n",
    "b = \"ala ma kota\"\n",
    "a == b, a is b,  id(a), id(b)"
   ]
  },
  {
   "cell_type": "code",
   "execution_count": 105,
   "id": "eadef191-71b1-4758-8866-676d4509d925",
   "metadata": {},
   "outputs": [
    {
     "data": {
      "text/plain": [
       "(False, True, None, Ellipsis, Ellipsis, NotImplemented)"
      ]
     },
     "execution_count": 105,
     "metadata": {},
     "output_type": "execute_result"
    }
   ],
   "source": [
    "# kiedy w pythonie trzeba uzywac is zamiast ==\n",
    "\n",
    "False, True, None, Ellipsis, ..., NotImplemented"
   ]
  },
  {
   "cell_type": "code",
   "execution_count": 107,
   "id": "f4001b74-9133-49ff-8b71-3da24d84fd14",
   "metadata": {},
   "outputs": [
    {
     "data": {
      "text/plain": [
       "(True, True, 4446587512, 4446587512)"
      ]
     },
     "execution_count": 107,
     "metadata": {},
     "output_type": "execute_result"
    }
   ],
   "source": [
    "a = False\n",
    "b = 3 < 2\n",
    "\n",
    "a == b, a is b,  id(a), id(b)"
   ]
  },
  {
   "cell_type": "code",
   "execution_count": null,
   "id": "05e0a7bc-3418-42cd-8326-e5c997984fec",
   "metadata": {},
   "outputs": [],
   "source": [
    "b is False"
   ]
  },
  {
   "cell_type": "markdown",
   "id": "367c4d31-9e7a-4e6f-865f-4416e812020b",
   "metadata": {},
   "source": [
    "## bool"
   ]
  },
  {
   "cell_type": "code",
   "execution_count": null,
   "id": "78215905-960f-4d0f-bcf4-3b5cda92f32e",
   "metadata": {},
   "outputs": [],
   "source": [
    "and, or, not"
   ]
  },
  {
   "cell_type": "code",
   "execution_count": null,
   "id": "e186d420-85f7-41bd-9d61-4ddc29c7ea17",
   "metadata": {},
   "outputs": [],
   "source": [
    "False, True"
   ]
  },
  {
   "cell_type": "markdown",
   "id": "a2d9e5cc-9434-4c6f-888a-a3709676aea7",
   "metadata": {},
   "source": [
    "### uogolnione wartosci logiczne "
   ]
  },
  {
   "cell_type": "code",
   "execution_count": null,
   "id": "1082d691-c8d1-4adb-8a6a-fac43e139827",
   "metadata": {},
   "outputs": [],
   "source": [
    "if <expression>"
   ]
  },
  {
   "cell_type": "code",
   "execution_count": 108,
   "id": "d0cec503-6df0-4954-a95e-37bcb4af14dd",
   "metadata": {},
   "outputs": [
    {
     "name": "stdout",
     "output_type": "stream",
     "text": [
      "False\n",
      "False\n",
      "False\n",
      "False\n",
      "False\n",
      "False\n"
     ]
    }
   ],
   "source": [
    "values = [\"\", 0, 0.0, [], {}, set()]\n",
    "\n",
    "for v in values: print(bool(v))"
   ]
  },
  {
   "cell_type": "code",
   "execution_count": 109,
   "id": "ba7a50b5-b66b-41d1-b406-c950c5972c85",
   "metadata": {},
   "outputs": [
    {
     "name": "stdout",
     "output_type": "stream",
     "text": [
      "True\n",
      "True\n",
      "True\n",
      "True\n",
      "True\n",
      "True\n",
      "True\n"
     ]
    }
   ],
   "source": [
    "values = [\"0\", \"False\",  1,  -1.0, [False], {False: False}, {False}]\n",
    "\n",
    "for v in values: print(bool(v))"
   ]
  },
  {
   "cell_type": "code",
   "execution_count": null,
   "id": "c0d667b0-e009-4fd4-97ea-161ce487d70b",
   "metadata": {},
   "outputs": [],
   "source": [
    "a = 3 < 5\n",
    "\n",
    "if a is True:\n",
    "    ...\n",
    "\n",
    "if a:\n",
    "    ..."
   ]
  },
  {
   "cell_type": "code",
   "execution_count": 113,
   "id": "792e1dd2-fc4d-41d1-b2c2-290377287529",
   "metadata": {},
   "outputs": [
    {
     "name": "stdout",
     "output_type": "stream",
     "text": [
      "brak ujemnych liczb\n"
     ]
    }
   ],
   "source": [
    "liczby = [1, 2, 3, 45, 5]\n",
    "\n",
    "ujemne = [x for x in liczby if x < 0]\n",
    "\n",
    "if not ujemne:\n",
    "    print(\"brak ujemnych liczb\")\n",
    "\n"
   ]
  },
  {
   "cell_type": "code",
   "execution_count": 114,
   "id": "bbed0398-3f21-45d4-a2b7-e21e55f9bca3",
   "metadata": {},
   "outputs": [
    {
     "data": {
      "text/plain": [
       "<function all(iterable, /)>"
      ]
     },
     "execution_count": 114,
     "metadata": {},
     "output_type": "execute_result"
    }
   ],
   "source": [
    "any\n",
    "all"
   ]
  },
  {
   "cell_type": "code",
   "execution_count": 116,
   "id": "766fd936-0d31-44b4-82e8-ce5b2f8aa220",
   "metadata": {},
   "outputs": [
    {
     "data": {
      "text/plain": [
       "True"
      ]
     },
     "execution_count": 116,
     "metadata": {},
     "output_type": "execute_result"
    }
   ],
   "source": [
    "any([1 > 4, \"a\" != \"b\"])"
   ]
  },
  {
   "cell_type": "code",
   "execution_count": 118,
   "id": "99fbf269-bb49-4600-8c17-2157cc36ed4b",
   "metadata": {},
   "outputs": [],
   "source": [
    "a = 10\n",
    "b = 0"
   ]
  },
  {
   "cell_type": "code",
   "execution_count": 122,
   "id": "aabddecc-1b84-467a-b717-e3509ca2291a",
   "metadata": {},
   "outputs": [
    {
     "name": "stdout",
     "output_type": "stream",
     "text": [
      "cos tam\n"
     ]
    }
   ],
   "source": [
    "if a > 5 or a / b == 5:\n",
    "    print(\"cos tam\")"
   ]
  },
  {
   "cell_type": "code",
   "execution_count": 123,
   "id": "9ab2def1-8962-477c-9a5b-9a2b3c703414",
   "metadata": {},
   "outputs": [
    {
     "ename": "ZeroDivisionError",
     "evalue": "division by zero",
     "output_type": "error",
     "traceback": [
      "\u001b[31m---------------------------------------------------------------------------\u001b[39m",
      "\u001b[31mZeroDivisionError\u001b[39m                         Traceback (most recent call last)",
      "\u001b[36mCell\u001b[39m\u001b[36m \u001b[39m\u001b[32mIn[123]\u001b[39m\u001b[32m, line 1\u001b[39m\n\u001b[32m----> \u001b[39m\u001b[32m1\u001b[39m \u001b[38;5;28;01mif\u001b[39;00m \u001b[38;5;28many\u001b[39m([a > \u001b[32m5\u001b[39m, \u001b[43ma\u001b[49m\u001b[43m \u001b[49m\u001b[43m/\u001b[49m\u001b[43m \u001b[49m\u001b[43mb\u001b[49m == \u001b[32m5\u001b[39m]):\n\u001b[32m      2\u001b[39m     \u001b[38;5;28mprint\u001b[39m(\u001b[33m\"\u001b[39m\u001b[33mcos tam\u001b[39m\u001b[33m\"\u001b[39m)\n",
      "\u001b[31mZeroDivisionError\u001b[39m: division by zero"
     ]
    }
   ],
   "source": [
    "if any([a > 5, a / b == 5]):\n",
    "    print(\"cos tam\")"
   ]
  },
  {
   "cell_type": "code",
   "execution_count": 143,
   "id": "99f306ce-8f03-4292-b4e7-c09c5bc28ac1",
   "metadata": {},
   "outputs": [],
   "source": [
    "numbers = [n ** 2 for n in range(25) if n % 2 == 0]"
   ]
  },
  {
   "cell_type": "code",
   "execution_count": 144,
   "id": "a1f2c964-3199-4ddf-ad84-2935fedcdf19",
   "metadata": {},
   "outputs": [
    {
     "data": {
      "text/plain": [
       "[0, 4, 16, 36, 64, 100, 144, 196, 256, 324, 400, 484, 576]"
      ]
     },
     "execution_count": 144,
     "metadata": {},
     "output_type": "execute_result"
    }
   ],
   "source": [
    "numbers"
   ]
  },
  {
   "cell_type": "code",
   "execution_count": 148,
   "id": "2277f955-3a93-495b-813e-bd17ae51474a",
   "metadata": {},
   "outputs": [],
   "source": [
    "first, *middle, last = numbers"
   ]
  },
  {
   "cell_type": "code",
   "execution_count": 150,
   "id": "973bb6be-6c99-4070-a7b3-2a4722e85ec8",
   "metadata": {},
   "outputs": [
    {
     "data": {
      "text/plain": [
       "[4, 16, 36, 64, 100, 144, 196, 256, 324, 400, 484]"
      ]
     },
     "execution_count": 150,
     "metadata": {},
     "output_type": "execute_result"
    }
   ],
   "source": [
    "middle"
   ]
  },
  {
   "cell_type": "code",
   "execution_count": 149,
   "id": "2873e192-432a-44f2-be7a-df5438bb427c",
   "metadata": {},
   "outputs": [
    {
     "data": {
      "text/plain": [
       "[4,\n",
       " 16,\n",
       " 36,\n",
       " 64,\n",
       " 100,\n",
       " 144,\n",
       " 196,\n",
       " 256,\n",
       " 324,\n",
       " 400,\n",
       " 484,\n",
       " 4,\n",
       " 16,\n",
       " 36,\n",
       " 64,\n",
       " 100,\n",
       " 144,\n",
       " 196,\n",
       " 256,\n",
       " 324,\n",
       " 400,\n",
       " 484]"
      ]
     },
     "execution_count": 149,
     "metadata": {},
     "output_type": "execute_result"
    }
   ],
   "source": [
    "[*middle, *middle]"
   ]
  },
  {
   "cell_type": "code",
   "execution_count": 152,
   "id": "6a0f4c37-0092-426f-b2d5-ab41c8cbe431",
   "metadata": {},
   "outputs": [],
   "source": [
    "dane = [x for x in range(10)]\n",
    "labelki = [f\"numb_{x}\" for x in range(10)]"
   ]
  },
  {
   "cell_type": "code",
   "execution_count": 153,
   "id": "4ea319c5-3d65-4fd9-a81b-16cf2f9365c0",
   "metadata": {},
   "outputs": [
    {
     "data": {
      "text/plain": [
       "([0, 1, 2, 3, 4, 5, 6, 7, 8, 9],\n",
       " ['numb_0',\n",
       "  'numb_1',\n",
       "  'numb_2',\n",
       "  'numb_3',\n",
       "  'numb_4',\n",
       "  'numb_5',\n",
       "  'numb_6',\n",
       "  'numb_7',\n",
       "  'numb_8',\n",
       "  'numb_9'])"
      ]
     },
     "execution_count": 153,
     "metadata": {},
     "output_type": "execute_result"
    }
   ],
   "source": [
    "dane, labelki"
   ]
  },
  {
   "cell_type": "markdown",
   "id": "4be9cb3e-c88c-4b27-ad4a-755786530247",
   "metadata": {},
   "source": [
    "\n",
    "\n",
    "    numb_0 => 0\n",
    "    numb_1 => 1\n",
    "    ..."
   ]
  },
  {
   "cell_type": "code",
   "execution_count": null,
   "id": "2dbb462b-8b83-4770-979e-d78076e1cdfb",
   "metadata": {},
   "outputs": [],
   "source": []
  }
 ],
 "metadata": {
  "kernelspec": {
   "display_name": "Python 3 (ipykernel)",
   "language": "python",
   "name": "python3"
  },
  "language_info": {
   "codemirror_mode": {
    "name": "ipython",
    "version": 3
   },
   "file_extension": ".py",
   "mimetype": "text/x-python",
   "name": "python",
   "nbconvert_exporter": "python",
   "pygments_lexer": "ipython3",
   "version": "3.13.8"
  }
 },
 "nbformat": 4,
 "nbformat_minor": 5
}
