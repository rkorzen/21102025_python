{
 "cells": [
  {
   "cell_type": "code",
   "execution_count": 8,
   "id": "1a85d0c0-f9b9-450f-97df-f40d9feba9f1",
   "metadata": {},
   "outputs": [],
   "source": [
    "class A:\n",
    "    def process(self):\n",
    "        print(\"A\")\n",
    "\n",
    "class B:\n",
    "    def process(self):\n",
    "        print(\"B\")\n",
    "\n",
    "class C(A, B):\n",
    "    ..."
   ]
  },
  {
   "cell_type": "code",
   "execution_count": 9,
   "id": "731e474b-b185-4ef6-a455-7f9d20b3fb47",
   "metadata": {},
   "outputs": [
    {
     "name": "stdout",
     "output_type": "stream",
     "text": [
      "A\n"
     ]
    }
   ],
   "source": [
    "c = C()\n",
    "c.process()"
   ]
  },
  {
   "cell_type": "code",
   "execution_count": 10,
   "id": "0a5965ff-6de8-4f03-8145-ad1037365379",
   "metadata": {},
   "outputs": [
    {
     "data": {
      "text/plain": [
       "[__main__.C, __main__.A, __main__.B, object]"
      ]
     },
     "execution_count": 10,
     "metadata": {},
     "output_type": "execute_result"
    }
   ],
   "source": [
    "C.mro()"
   ]
  },
  {
   "cell_type": "code",
   "execution_count": 15,
   "id": "5da260b4-7efa-4b4f-9ef2-7bfbde209160",
   "metadata": {},
   "outputs": [],
   "source": [
    "class Animal:\n",
    "    def __init__(self, name):\n",
    "        self.name = name\n",
    "\n",
    "    def sound(self):\n",
    "        raise NotImplementedError"
   ]
  },
  {
   "cell_type": "code",
   "execution_count": 24,
   "id": "a4795c6d-44c4-46e8-97df-2af1ce4b8cec",
   "metadata": {},
   "outputs": [],
   "source": [
    "class Dog(Animal):\n",
    "\n",
    "    def __init__(self, name,  kind):\n",
    "        # super().__init__(name)\n",
    "        Animal.__init__(self, name)\n",
    "        self.kind = kind\n",
    "\n",
    "    def sound(self):\n",
    "        print(f\"Pies {self.name} szczeka\")\n",
    "    "
   ]
  },
  {
   "cell_type": "code",
   "execution_count": 25,
   "id": "d67a6b17-b97b-49fe-8d7f-12c6cbe0fd5b",
   "metadata": {},
   "outputs": [],
   "source": [
    "d = Dog(\"Reksio\", \"Pudel\")"
   ]
  },
  {
   "cell_type": "code",
   "execution_count": 26,
   "id": "1b1a14d7-cc80-448d-831c-16e1324e9808",
   "metadata": {},
   "outputs": [
    {
     "name": "stdout",
     "output_type": "stream",
     "text": [
      "Pies Reksio szczeka\n"
     ]
    }
   ],
   "source": [
    "d.sound()"
   ]
  },
  {
   "cell_type": "code",
   "execution_count": 47,
   "id": "b1bc1e20-3483-40fb-bb1e-602ff5ed9f0a",
   "metadata": {},
   "outputs": [
    {
     "data": {
      "text/plain": [
       "__main__.Dog"
      ]
     },
     "execution_count": 47,
     "metadata": {},
     "output_type": "execute_result"
    }
   ],
   "source": [
    "type(d)"
   ]
  },
  {
   "cell_type": "code",
   "execution_count": 48,
   "id": "864a7408-f61c-4676-8c01-92c0779f37fc",
   "metadata": {},
   "outputs": [
    {
     "data": {
      "text/plain": [
       "True"
      ]
     },
     "execution_count": 48,
     "metadata": {},
     "output_type": "execute_result"
    }
   ],
   "source": [
    "isinstance(d, Dog)"
   ]
  },
  {
   "cell_type": "code",
   "execution_count": 49,
   "id": "87f1577e-a88b-4b53-aa03-f8f99cf72e0a",
   "metadata": {},
   "outputs": [
    {
     "data": {
      "text/plain": [
       "True"
      ]
     },
     "execution_count": 49,
     "metadata": {},
     "output_type": "execute_result"
    }
   ],
   "source": [
    "isinstance(d, Animal)"
   ]
  },
  {
   "cell_type": "code",
   "execution_count": 50,
   "id": "3bbc24e4-726c-4d19-a4f8-b266eff6d912",
   "metadata": {},
   "outputs": [
    {
     "data": {
      "text/plain": [
       "[__main__.Dog, __main__.Animal, __main__.BarkMixin, object]"
      ]
     },
     "execution_count": 50,
     "metadata": {},
     "output_type": "execute_result"
    }
   ],
   "source": [
    "Dog.mro()"
   ]
  },
  {
   "cell_type": "markdown",
   "id": "598f41cd-1b0f-401e-867f-1c0485b99a54",
   "metadata": {},
   "source": [
    "## mixiny"
   ]
  },
  {
   "cell_type": "code",
   "execution_count": 28,
   "id": "8b72c4d1-2f08-48ca-80b4-a25deb2613e3",
   "metadata": {},
   "outputs": [],
   "source": [
    "class BarkMixin:\n",
    "\n",
    "    def bark(self):\n",
    "        print(f\"{self.name} szczeka\")"
   ]
  },
  {
   "cell_type": "code",
   "execution_count": 30,
   "id": "0109233d-0ff2-44bb-9906-3901f1ae5931",
   "metadata": {},
   "outputs": [],
   "source": [
    "class Dog(Animal, BarkMixin):\n",
    "    pass"
   ]
  },
  {
   "cell_type": "code",
   "execution_count": 31,
   "id": "fa9d1d91-179e-45e9-9dae-8d0742e75e65",
   "metadata": {},
   "outputs": [
    {
     "name": "stdout",
     "output_type": "stream",
     "text": [
      "Kazan szczeka\n"
     ]
    }
   ],
   "source": [
    "d = Dog(\"Kazan\")\n",
    "d.bark()"
   ]
  },
  {
   "cell_type": "code",
   "execution_count": 33,
   "id": "a0712776-b58b-49b8-bbe5-bc903adce577",
   "metadata": {},
   "outputs": [
    {
     "ename": "AttributeError",
     "evalue": "'BarkMixin' object has no attribute 'name'",
     "output_type": "error",
     "traceback": [
      "\u001b[31m---------------------------------------------------------------------------\u001b[39m",
      "\u001b[31mAttributeError\u001b[39m                            Traceback (most recent call last)",
      "\u001b[36mCell\u001b[39m\u001b[36m \u001b[39m\u001b[32mIn[33]\u001b[39m\u001b[32m, line 1\u001b[39m\n\u001b[32m----> \u001b[39m\u001b[32m1\u001b[39m \u001b[43mBarkMixin\u001b[49m\u001b[43m(\u001b[49m\u001b[43m)\u001b[49m\u001b[43m.\u001b[49m\u001b[43mbark\u001b[49m\u001b[43m(\u001b[49m\u001b[43m)\u001b[49m\n",
      "\u001b[36mCell\u001b[39m\u001b[36m \u001b[39m\u001b[32mIn[28]\u001b[39m\u001b[32m, line 4\u001b[39m, in \u001b[36mBarkMixin.bark\u001b[39m\u001b[34m(self)\u001b[39m\n\u001b[32m      3\u001b[39m \u001b[38;5;28;01mdef\u001b[39;00m\u001b[38;5;250m \u001b[39m\u001b[34mbark\u001b[39m(\u001b[38;5;28mself\u001b[39m):\n\u001b[32m----> \u001b[39m\u001b[32m4\u001b[39m     \u001b[38;5;28mprint\u001b[39m(\u001b[33mf\u001b[39m\u001b[33m\"\u001b[39m\u001b[38;5;132;01m{\u001b[39;00m\u001b[38;5;28;43mself\u001b[39;49m\u001b[43m.\u001b[49m\u001b[43mname\u001b[49m\u001b[38;5;132;01m}\u001b[39;00m\u001b[33m szczeka\u001b[39m\u001b[33m\"\u001b[39m)\n",
      "\u001b[31mAttributeError\u001b[39m: 'BarkMixin' object has no attribute 'name'"
     ]
    }
   ],
   "source": [
    "BarkMixin().bark()"
   ]
  },
  {
   "cell_type": "code",
   "execution_count": 37,
   "id": "d5fff20e-226b-4306-9bc3-a0742f843e75",
   "metadata": {},
   "outputs": [],
   "source": [
    "class Book:\n",
    "\n",
    "    def __init__(self, title, author):\n",
    "        self.title = title\n",
    "        self.author = author\n",
    "\n",
    "\n",
    "    def __repr__(self):\n",
    "        return f\"{self.title} ({self.author})\"\n",
    "\n",
    "class Disk:\n",
    "\n",
    "    def __init__(self, title, band):\n",
    "        self.title = title\n",
    "        self.band = band\n",
    "\n",
    "\n",
    "\n",
    "class CreatMixin:\n",
    "    def create(self, data: dict):\n",
    "        return self.obj_class(**data)\n",
    "    \n",
    "\n",
    "class ReadMixin:\n",
    "    def read(self, obj):\n",
    "        print(vars(obj))\n",
    "\n",
    "\n",
    "\n",
    "class BookReadCreateView(CreatMixin, ReadMixin):\n",
    "    obj_class = Book\n",
    "\n",
    "\n",
    "book_manager = BookReadCreateView()\n",
    "book = book_manager.create({\"title\": \"Pan Wołodyjowski\", \"author\": \"Henryk Sienkiewicz\"})\n",
    "        "
   ]
  },
  {
   "cell_type": "code",
   "execution_count": 38,
   "id": "0467e0cb-13df-4971-94cf-210cce3bd9b6",
   "metadata": {},
   "outputs": [
    {
     "name": "stdout",
     "output_type": "stream",
     "text": [
      "{'title': 'Pan Wołodyjowski', 'author': 'Henryk Sienkiewicz'}\n"
     ]
    }
   ],
   "source": [
    "book_manager.read(book)"
   ]
  },
  {
   "cell_type": "code",
   "execution_count": 43,
   "id": "23d22b47-e0e8-4274-b0d6-8b4704e761c2",
   "metadata": {},
   "outputs": [],
   "source": [
    "class DiskReadCreateView(CreatMixin, ReadMixin):\n",
    "    obj_class = Disk"
   ]
  },
  {
   "cell_type": "code",
   "execution_count": 45,
   "id": "c63c3a25-0972-427f-b27e-43c4980b7e78",
   "metadata": {},
   "outputs": [],
   "source": [
    "disc_manager = DiskReadCreateView()\n",
    "disc = disc_manager.create({\"title\": \"Cool Jazz\", \"band\": \"Miles Davis\"})"
   ]
  },
  {
   "cell_type": "code",
   "execution_count": 46,
   "id": "1404cbbe-e9af-458e-9554-5afb6d374856",
   "metadata": {},
   "outputs": [
    {
     "data": {
      "text/plain": [
       "<__main__.Disk at 0x11009a510>"
      ]
     },
     "execution_count": 46,
     "metadata": {},
     "output_type": "execute_result"
    }
   ],
   "source": [
    "disc"
   ]
  },
  {
   "cell_type": "markdown",
   "id": "bb7a7cfe-7c11-452b-bc38-23d3f26aec76",
   "metadata": {},
   "source": [
    "## tworzenie klas w sposob dynmamiczny"
   ]
  },
  {
   "cell_type": "code",
   "execution_count": 62,
   "id": "30d73dff-39b2-4c48-ba58-652d76f199a3",
   "metadata": {},
   "outputs": [],
   "source": [
    "class Konstrukcja:\n",
    "    pass"
   ]
  },
  {
   "cell_type": "code",
   "execution_count": 63,
   "id": "e97b716f-11ee-4c8e-a8ba-01af3e82ece1",
   "metadata": {},
   "outputs": [],
   "source": [
    "nazwa_klasy = \"Most\""
   ]
  },
  {
   "cell_type": "code",
   "execution_count": 87,
   "id": "283d9176-f275-488e-8114-7cc8ec461396",
   "metadata": {},
   "outputs": [],
   "source": [
    "lista_nazw = [\"Most\", \"Wiadukt\", \"Tunel\"]\n"
   ]
  },
  {
   "cell_type": "code",
   "execution_count": 77,
   "id": "7c3874a1-bba2-416b-8233-ba1786c31c2e",
   "metadata": {},
   "outputs": [],
   "source": [
    "def init(self, x):\n",
    "    self.x = x"
   ]
  },
  {
   "cell_type": "code",
   "execution_count": 78,
   "id": "d2e8993e-ed93-4b81-8229-c7707fd8fcb6",
   "metadata": {},
   "outputs": [],
   "source": [
    "C = type(nazwa_klasy, (Konstrukcja,), {\"a\": 1, \"__init__\": init })"
   ]
  },
  {
   "cell_type": "code",
   "execution_count": 83,
   "id": "6aef1663-da29-45d1-a355-3ce3d70a0f61",
   "metadata": {},
   "outputs": [],
   "source": [
    "c = C(x = 10)"
   ]
  },
  {
   "cell_type": "code",
   "execution_count": 84,
   "id": "539848af-ee32-4370-baae-1cd0dba54644",
   "metadata": {},
   "outputs": [
    {
     "data": {
      "text/plain": [
       "[__main__.Most, __main__.Konstrukcja, object]"
      ]
     },
     "execution_count": 84,
     "metadata": {},
     "output_type": "execute_result"
    }
   ],
   "source": [
    "C.mro()"
   ]
  },
  {
   "cell_type": "code",
   "execution_count": 85,
   "id": "99c7eeae-d291-4ddc-bbed-53d8ba6bf915",
   "metadata": {},
   "outputs": [
    {
     "data": {
      "text/plain": [
       "mappingproxy({'a': 1,\n",
       "              '__init__': <function __main__.init(self, x)>,\n",
       "              '__module__': '__main__',\n",
       "              '__doc__': None})"
      ]
     },
     "execution_count": 85,
     "metadata": {},
     "output_type": "execute_result"
    }
   ],
   "source": [
    "vars(C)"
   ]
  },
  {
   "cell_type": "code",
   "execution_count": 86,
   "id": "df9cbb60-db25-4e4d-bbec-19966a1f4c70",
   "metadata": {},
   "outputs": [
    {
     "data": {
      "text/plain": [
       "{'x': 10}"
      ]
     },
     "execution_count": 86,
     "metadata": {},
     "output_type": "execute_result"
    }
   ],
   "source": [
    "vars(c)"
   ]
  },
  {
   "cell_type": "code",
   "execution_count": 89,
   "id": "125ffd05-a6d6-4ef4-9ef5-6d707b83dc87",
   "metadata": {},
   "outputs": [
    {
     "name": "stdout",
     "output_type": "stream",
     "text": [
      "<__main__.Most object at 0x110978ec0>\n",
      "<__main__.Wiadukt object at 0x110978ec0>\n",
      "<__main__.Tunel object at 0x110978ec0>\n"
     ]
    }
   ],
   "source": [
    "for nazwa in lista_nazw:\n",
    "    print(type(nazwa, (Konstrukcja, ), {\"__init__\": init})(x=1))"
   ]
  },
  {
   "cell_type": "code",
   "execution_count": null,
   "id": "525890b9-d9ec-44b9-8e8a-af34e3eed396",
   "metadata": {},
   "outputs": [],
   "source": []
  }
 ],
 "metadata": {
  "kernelspec": {
   "display_name": "Python 3 (ipykernel)",
   "language": "python",
   "name": "python3"
  },
  "language_info": {
   "codemirror_mode": {
    "name": "ipython",
    "version": 3
   },
   "file_extension": ".py",
   "mimetype": "text/x-python",
   "name": "python",
   "nbconvert_exporter": "python",
   "pygments_lexer": "ipython3",
   "version": "3.13.8"
  }
 },
 "nbformat": 4,
 "nbformat_minor": 5
}
