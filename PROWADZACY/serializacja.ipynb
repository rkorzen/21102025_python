{
 "cells": [
  {
   "cell_type": "markdown",
   "id": "20c513c7-178e-430f-b7d6-3b6856b62b97",
   "metadata": {},
   "source": [
    "## pickle"
   ]
  },
  {
   "cell_type": "code",
   "execution_count": 3,
   "id": "51a62e5b-5543-4b99-b6a7-48849a906d9e",
   "metadata": {},
   "outputs": [],
   "source": [
    "import pickle\n",
    "\n",
    "data = {\"key\": \"value\", \"number\": 42}\n",
    "serialized = pickle.dumps(data)"
   ]
  },
  {
   "cell_type": "code",
   "execution_count": 4,
   "id": "66521853-dadf-4f66-9e0d-a9f3016644ab",
   "metadata": {},
   "outputs": [
    {
     "data": {
      "text/plain": [
       "b'\\x80\\x04\\x95\\x1e\\x00\\x00\\x00\\x00\\x00\\x00\\x00}\\x94(\\x8c\\x03key\\x94\\x8c\\x05value\\x94\\x8c\\x06number\\x94K*u.'"
      ]
     },
     "execution_count": 4,
     "metadata": {},
     "output_type": "execute_result"
    }
   ],
   "source": [
    "serialized"
   ]
  },
  {
   "cell_type": "code",
   "execution_count": 5,
   "id": "2693c14d-17cb-483a-9d55-ec0831e2b48f",
   "metadata": {},
   "outputs": [
    {
     "data": {
      "text/plain": [
       "{'key': 'value', 'number': 42}"
      ]
     },
     "execution_count": 5,
     "metadata": {},
     "output_type": "execute_result"
    }
   ],
   "source": [
    "pickle.loads(serialized)"
   ]
  },
  {
   "cell_type": "code",
   "execution_count": 6,
   "id": "c03a48a5-ad2c-4cf9-b0f1-48c3ff635c6a",
   "metadata": {},
   "outputs": [],
   "source": [
    "class Person:\n",
    "    def __init__(self, name):\n",
    "        self.name = name\n",
    "\n"
   ]
  },
  {
   "cell_type": "code",
   "execution_count": 7,
   "id": "06960949-5d48-49c0-b45d-6bb1361eecbc",
   "metadata": {},
   "outputs": [],
   "source": [
    "p = Person(\"Gabi\")"
   ]
  },
  {
   "cell_type": "code",
   "execution_count": 9,
   "id": "bb3c0a21-4420-4962-9b89-32c35eb9d0eb",
   "metadata": {},
   "outputs": [
    {
     "data": {
      "text/plain": [
       "b'\\x80\\x04\\x95,\\x00\\x00\\x00\\x00\\x00\\x00\\x00\\x8c\\x08__main__\\x94\\x8c\\x06Person\\x94\\x93\\x94)\\x81\\x94}\\x94\\x8c\\x04name\\x94\\x8c\\x04Gabi\\x94sb.'"
      ]
     },
     "execution_count": 9,
     "metadata": {},
     "output_type": "execute_result"
    }
   ],
   "source": [
    "pickle.dumps(p)"
   ]
  },
  {
   "cell_type": "code",
   "execution_count": 10,
   "id": "21e6921c-0907-4867-aec8-8af312c563af",
   "metadata": {},
   "outputs": [
    {
     "data": {
      "text/plain": [
       "<__main__.Person at 0x1083bda90>"
      ]
     },
     "execution_count": 10,
     "metadata": {},
     "output_type": "execute_result"
    }
   ],
   "source": [
    "pickle.loads(b'\\x80\\x04\\x95,\\x00\\x00\\x00\\x00\\x00\\x00\\x00\\x8c\\x08__main__\\x94\\x8c\\x06Person\\x94\\x93\\x94)\\x81\\x94}\\x94\\x8c\\x04name\\x94\\x8c\\x04Gabi\\x94sb.')"
   ]
  },
  {
   "cell_type": "code",
   "execution_count": 11,
   "id": "946db992-809d-4ba7-aaf6-b4aadcf74b1d",
   "metadata": {},
   "outputs": [
    {
     "data": {
      "text/plain": [
       "\u001b[31mSignature:\u001b[39m\n",
       "pickle.dump(\n",
       "    obj,\n",
       "    file,\n",
       "    protocol=\u001b[38;5;28;01mNone\u001b[39;00m,\n",
       "    *,\n",
       "    fix_imports=\u001b[38;5;28;01mTrue\u001b[39;00m,\n",
       "    buffer_callback=\u001b[38;5;28;01mNone\u001b[39;00m,\n",
       ")\n",
       "\u001b[31mDocstring:\u001b[39m\n",
       "Write a pickled representation of obj to the open file object file.\n",
       "\n",
       "This is equivalent to ``Pickler(file, protocol).dump(obj)``, but may\n",
       "be more efficient.\n",
       "\n",
       "The optional *protocol* argument tells the pickler to use the given\n",
       "protocol; supported protocols are 0, 1, 2, 3, 4 and 5.  The default\n",
       "protocol is 4. It was introduced in Python 3.4, and is incompatible\n",
       "with previous versions.\n",
       "\n",
       "Specifying a negative protocol version selects the highest protocol\n",
       "version supported.  The higher the protocol used, the more recent the\n",
       "version of Python needed to read the pickle produced.\n",
       "\n",
       "The *file* argument must have a write() method that accepts a single\n",
       "bytes argument.  It can thus be a file object opened for binary\n",
       "writing, an io.BytesIO instance, or any other custom object that meets\n",
       "this interface.\n",
       "\n",
       "If *fix_imports* is True and protocol is less than 3, pickle will try\n",
       "to map the new Python 3 names to the old module names used in Python\n",
       "2, so that the pickle data stream is readable with Python 2.\n",
       "\n",
       "If *buffer_callback* is None (the default), buffer views are serialized\n",
       "into *file* as part of the pickle stream.  It is an error if\n",
       "*buffer_callback* is not None and *protocol* is None or smaller than 5.\n",
       "\u001b[31mType:\u001b[39m      builtin_function_or_method"
      ]
     },
     "metadata": {},
     "output_type": "display_data"
    }
   ],
   "source": [
    "pickle.dump?"
   ]
  },
  {
   "cell_type": "code",
   "execution_count": 15,
   "id": "92c4b8d4-6387-4202-8b57-c7b231d61d37",
   "metadata": {},
   "outputs": [],
   "source": [
    "with open(\"person.pickle\", \"wb\") as f:\n",
    "    pickle.dump(Person, f)\n",
    "    pickle.dump(p, f)\n",
    "    "
   ]
  },
  {
   "cell_type": "code",
   "execution_count": 16,
   "id": "5f65b43a-ccf7-48aa-8376-ffa513f589a1",
   "metadata": {},
   "outputs": [],
   "source": [
    "with open(\"person.pickle\", \"rb\") as f:\n",
    "    person_klass = pickle.load(f)\n",
    "    p = pickle.load(f)\n",
    "    "
   ]
  },
  {
   "cell_type": "code",
   "execution_count": 17,
   "id": "707e53fe-1d48-46fc-b40d-dcc763a5e9d2",
   "metadata": {},
   "outputs": [
    {
     "data": {
      "text/plain": [
       "__main__.Person"
      ]
     },
     "execution_count": 17,
     "metadata": {},
     "output_type": "execute_result"
    }
   ],
   "source": [
    "person_klass"
   ]
  },
  {
   "cell_type": "code",
   "execution_count": 18,
   "id": "df4d16fd-67b8-4bb0-8e9b-31a711dd90ab",
   "metadata": {},
   "outputs": [],
   "source": [
    "import json"
   ]
  },
  {
   "cell_type": "code",
   "execution_count": 22,
   "id": "19e27e8f-c370-40e8-a7c0-bdb86dcad35c",
   "metadata": {},
   "outputs": [
    {
     "data": {
      "text/plain": [
       "'{\"name\": \"Gabi\"}'"
      ]
     },
     "execution_count": 22,
     "metadata": {},
     "output_type": "execute_result"
    }
   ],
   "source": [
    "json.dumps(vars(p))"
   ]
  },
  {
   "cell_type": "code",
   "execution_count": 23,
   "id": "cae8b61a-19f7-41a1-a71a-954c3b89ce03",
   "metadata": {},
   "outputs": [
    {
     "data": {
      "text/plain": [
       "{'name': 'Gabi'}"
      ]
     },
     "execution_count": 23,
     "metadata": {},
     "output_type": "execute_result"
    }
   ],
   "source": [
    "json.loads('{\"name\": \"Gabi\"}')"
   ]
  },
  {
   "cell_type": "code",
   "execution_count": 24,
   "id": "1d191f8e-3a1c-4227-b563-ff9d2b480bb8",
   "metadata": {},
   "outputs": [
    {
     "data": {
      "text/plain": [
       "'[1, 2, 3]'"
      ]
     },
     "execution_count": 24,
     "metadata": {},
     "output_type": "execute_result"
    }
   ],
   "source": [
    "json.dumps((1, 2, 3))"
   ]
  },
  {
   "cell_type": "code",
   "execution_count": 25,
   "id": "7b0597bc-722b-4d5f-ab15-bdefe0fc22d3",
   "metadata": {},
   "outputs": [
    {
     "data": {
      "text/plain": [
       "[1, 2, 3]"
      ]
     },
     "execution_count": 25,
     "metadata": {},
     "output_type": "execute_result"
    }
   ],
   "source": [
    "json.loads('[1, 2, 3]')"
   ]
  },
  {
   "cell_type": "code",
   "execution_count": 26,
   "id": "89b1a245-9d5c-4dcd-8245-62d9c0828e4d",
   "metadata": {},
   "outputs": [],
   "source": [
    "with open(\"person.json\", \"w\") as f:\n",
    "    json.dump(vars(p), f)"
   ]
  },
  {
   "cell_type": "code",
   "execution_count": 27,
   "id": "e73ac115-1c88-4cb5-890d-82cfbe1ba551",
   "metadata": {},
   "outputs": [
    {
     "name": "stdout",
     "output_type": "stream",
     "text": [
      "{\"name\": \"Gabi\"}"
     ]
    }
   ],
   "source": [
    "!cat person.json"
   ]
  },
  {
   "cell_type": "code",
   "execution_count": 28,
   "id": "0a79058c-7031-4c21-ae9d-35ed8115e888",
   "metadata": {},
   "outputs": [
    {
     "data": {
      "text/plain": [
       "'\"za\\\\u017c\\\\u00f3\\\\u0142\\\\u0107 g\\\\u0119\\\\u015bla ja\\\\u017a\\\\u0144\"'"
      ]
     },
     "execution_count": 28,
     "metadata": {},
     "output_type": "execute_result"
    }
   ],
   "source": [
    "json.dumps(\"zażółć gęśla jaźń\")"
   ]
  },
  {
   "cell_type": "code",
   "execution_count": 29,
   "id": "606560fe-ff5a-454c-bf3c-1944248da76d",
   "metadata": {},
   "outputs": [
    {
     "data": {
      "text/plain": [
       "b'za\\xc5\\xbc\\xc3\\xb3\\xc5\\x82\\xc4\\x87 g\\xc4\\x99\\xc5\\x9bla ja\\xc5\\xba\\xc5\\x84'"
      ]
     },
     "execution_count": 29,
     "metadata": {},
     "output_type": "execute_result"
    }
   ],
   "source": [
    "\"zażółć gęśla jaźń\".encode(\"utf-8\")"
   ]
  },
  {
   "cell_type": "code",
   "execution_count": 30,
   "id": "5ab124ec-a089-4dab-a636-43b988153f47",
   "metadata": {},
   "outputs": [
    {
     "data": {
      "text/plain": [
       "b'za\\xbf\\xf3\\xb3\\xe6 g\\xea\\x9cla ja\\x9f\\xf1'"
      ]
     },
     "execution_count": 30,
     "metadata": {},
     "output_type": "execute_result"
    }
   ],
   "source": [
    "\"zażółć gęśla jaźń\".encode(\"CP1250\")"
   ]
  },
  {
   "cell_type": "code",
   "execution_count": 31,
   "id": "e7d72690-8776-4e0f-b426-e216d10da45e",
   "metadata": {},
   "outputs": [
    {
     "ename": "UnicodeDecodeError",
     "evalue": "'utf-8' codec can't decode byte 0xbf in position 2: invalid start byte",
     "output_type": "error",
     "traceback": [
      "\u001b[31m---------------------------------------------------------------------------\u001b[39m",
      "\u001b[31mUnicodeDecodeError\u001b[39m                        Traceback (most recent call last)",
      "\u001b[36mCell\u001b[39m\u001b[36m \u001b[39m\u001b[32mIn[31]\u001b[39m\u001b[32m, line 1\u001b[39m\n\u001b[32m----> \u001b[39m\u001b[32m1\u001b[39m \u001b[33;43mb\u001b[39;49m\u001b[33;43m'\u001b[39;49m\u001b[33;43mza\u001b[39;49m\u001b[38;5;130;43;01m\\xbf\u001b[39;49;00m\u001b[38;5;130;43;01m\\xf3\u001b[39;49;00m\u001b[38;5;130;43;01m\\xb3\u001b[39;49;00m\u001b[38;5;130;43;01m\\xe6\u001b[39;49;00m\u001b[33;43m g\u001b[39;49m\u001b[38;5;130;43;01m\\xea\u001b[39;49;00m\u001b[38;5;130;43;01m\\x9c\u001b[39;49;00m\u001b[33;43mla ja\u001b[39;49m\u001b[38;5;130;43;01m\\x9f\u001b[39;49;00m\u001b[38;5;130;43;01m\\xf1\u001b[39;49;00m\u001b[33;43m'\u001b[39;49m\u001b[43m.\u001b[49m\u001b[43mdecode\u001b[49m\u001b[43m(\u001b[49m\u001b[43m)\u001b[49m\n",
      "\u001b[31mUnicodeDecodeError\u001b[39m: 'utf-8' codec can't decode byte 0xbf in position 2: invalid start byte"
     ]
    }
   ],
   "source": [
    "b'za\\xbf\\xf3\\xb3\\xe6 g\\xea\\x9cla ja\\x9f\\xf1'.decode()"
   ]
  },
  {
   "cell_type": "code",
   "execution_count": 32,
   "id": "b65a1748-b687-45a3-9c23-1950a222e708",
   "metadata": {},
   "outputs": [
    {
     "ename": "SyntaxError",
     "evalue": "illegal target for annotation (166707583.py, line 1)",
     "output_type": "error",
     "traceback": [
      "  \u001b[36mCell\u001b[39m\u001b[36m \u001b[39m\u001b[32mIn[32]\u001b[39m\u001b[32m, line 1\u001b[39m\n\u001b[31m    \u001b[39m\u001b[31m13:15\u001b[39m\n    ^\n\u001b[31mSyntaxError\u001b[39m\u001b[31m:\u001b[39m illegal target for annotation\n"
     ]
    }
   ],
   "source": [
    "13:15"
   ]
  },
  {
   "cell_type": "code",
   "execution_count": null,
   "id": "701c3e2f-54ef-4531-9a4f-aac8be2294ad",
   "metadata": {},
   "outputs": [],
   "source": []
  }
 ],
 "metadata": {
  "kernelspec": {
   "display_name": "Python 3 (ipykernel)",
   "language": "python",
   "name": "python3"
  },
  "language_info": {
   "codemirror_mode": {
    "name": "ipython",
    "version": 3
   },
   "file_extension": ".py",
   "mimetype": "text/x-python",
   "name": "python",
   "nbconvert_exporter": "python",
   "pygments_lexer": "ipython3",
   "version": "3.13.8"
  }
 },
 "nbformat": 4,
 "nbformat_minor": 5
}
