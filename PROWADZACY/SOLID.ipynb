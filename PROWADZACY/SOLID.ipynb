{
 "cells": [
  {
   "cell_type": "markdown",
   "id": "9d2ad2d6-699d-4796-a300-aabbd043b3d2",
   "metadata": {},
   "source": [
    "SOLID - pryncypia/zasady programowania obiektowego- Uncle Bob"
   ]
  },
  {
   "cell_type": "code",
   "execution_count": 1,
   "id": "db4437d0-b9b9-4180-a6a9-82506b6b0676",
   "metadata": {},
   "outputs": [],
   "source": [
    "## Single responsibilityy"
   ]
  },
  {
   "cell_type": "code",
   "execution_count": 6,
   "id": "baa8596c-e614-43b6-bd79-dd1e9eb5eb51",
   "metadata": {},
   "outputs": [
    {
     "name": "stdout",
     "output_type": "stream",
     "text": [
      "generuje\n",
      "zapisuje do pliku...\n"
     ]
    }
   ],
   "source": [
    "### bad \n",
    "\n",
    "class Report:\n",
    "    def __init__(self, data):\n",
    "        self.data = data\n",
    "        self.raport = None\n",
    "        self.last_save_data = None\n",
    "\n",
    "    def generate(self):\n",
    "        print(\"generuje\")\n",
    "        if not self.last_save_data or datetime.now() - self.last_save_data > timedelta(days=1):\n",
    "            self.raport = f\"Report: {self.data}\"\n",
    "            self.last_save_data = datetime.now()\n",
    "        return self.report\n",
    "\n",
    "    def save_to_file(self, filename):\n",
    "        print(\"zapisuje do pliku...\")\n",
    "\n",
    "\n",
    "raport = Report(\"ABC\")\n",
    "raport.generate()\n",
    "raport.save_to_file(\"xs\")"
   ]
  },
  {
   "cell_type": "code",
   "execution_count": 8,
   "id": "5636ce53-425b-4a6a-95e9-e432f7303906",
   "metadata": {},
   "outputs": [
    {
     "name": "stdout",
     "output_type": "stream",
     "text": [
      "zapisuje do pliku...\n"
     ]
    }
   ],
   "source": [
    "## good\n",
    "class Report:\n",
    "    def __init__(self, data):\n",
    "        self.data = data\n",
    "\n",
    "    def generate(self):\n",
    "        return f\"Report: {self.data}\"\n",
    "\n",
    "\n",
    "\n",
    "def save_to_file(content, filename):\n",
    "    print(\"zapisuje do pliku...\")\n",
    "\n",
    "raport = Report(\"ABC\")\n",
    "generated_report = raport.generate() \n",
    "\n",
    "# saver = FileSaver()\n",
    "save_to_file(generated_report, \"xs\")\n"
   ]
  },
  {
   "cell_type": "code",
   "execution_count": 9,
   "id": "a79defb3-67bc-4327-a834-0045492cd569",
   "metadata": {},
   "outputs": [],
   "source": [
    "## Open / Closed\n",
    "\n",
    "### kod powinien byc otwarty na rozszerzenia ale zamkniety na modyfikacje"
   ]
  },
  {
   "cell_type": "code",
   "execution_count": 10,
   "id": "f3d4060a-ae06-4abe-aff2-4cd6648e3c94",
   "metadata": {},
   "outputs": [],
   "source": [
    "# bad\n",
    "\n",
    "class Discount:\n",
    "    def aplly_discount(self, price, customer_type):\n",
    "        if customer_type == \"regular\":\n",
    "            return price * 0.9\n",
    "        elif customer_type == \"vip\":\n",
    "            return price * 0.8\n",
    "        elif customer_type == \"super\":\n",
    "            return price * 0.5\n",
    "\n",
    "\n",
    "        "
   ]
  },
  {
   "cell_type": "code",
   "execution_count": 16,
   "id": "ba04af50-a7f0-4681-8d76-b0fcdda5cce4",
   "metadata": {},
   "outputs": [],
   "source": [
    "from abc import ABC, abstractmethod\n",
    "\n",
    "class Discount(ABC):\n",
    "\n",
    "    @abstractmethod\n",
    "    def apply_discount(self, price):\n",
    "        pass\n",
    "\n",
    "class RegularCustomerDiscount(Discount):\n",
    "    def apply_discount(self, price):\n",
    "        return price * 0.9\n",
    "\n",
    "class VIPCustomerDiscount(Discount):\n",
    "    def apply_discount(self, price):\n",
    "        return price * 0.8\n",
    "\n",
    "class SuperViPCustomerDiscount(Discount):\n",
    "    def apply_discount(self, price):\n",
    "        return price * 0.5\n",
    "\n",
    "\n",
    "class BrokenCustomerDiscount(Discount):\n",
    "    ...\n",
    "\n",
    "class Card:\n",
    "\n",
    "    discounts: list[Discount]\n"
   ]
  },
  {
   "cell_type": "code",
   "execution_count": 18,
   "id": "c8c9d189-7a66-44fe-99b4-38b85144213f",
   "metadata": {},
   "outputs": [
    {
     "ename": "TypeError",
     "evalue": "Can't instantiate abstract class BrokenCustomerDiscount without an implementation for abstract method 'apply_discount'",
     "output_type": "error",
     "traceback": [
      "\u001b[31m---------------------------------------------------------------------------\u001b[39m",
      "\u001b[31mTypeError\u001b[39m                                 Traceback (most recent call last)",
      "\u001b[36mCell\u001b[39m\u001b[36m \u001b[39m\u001b[32mIn[18]\u001b[39m\u001b[32m, line 3\u001b[39m\n\u001b[32m      1\u001b[39m \u001b[38;5;66;03m# d = Discount()\u001b[39;00m\n\u001b[32m      2\u001b[39m RegularCustomerDiscount()\n\u001b[32m----> \u001b[39m\u001b[32m3\u001b[39m \u001b[43mBrokenCustomerDiscount\u001b[49m\u001b[43m(\u001b[49m\u001b[43m)\u001b[49m\n",
      "\u001b[31mTypeError\u001b[39m: Can't instantiate abstract class BrokenCustomerDiscount without an implementation for abstract method 'apply_discount'"
     ]
    }
   ],
   "source": [
    "# d = Discount()\n",
    "RegularCustomerDiscount()\n",
    "BrokenCustomerDiscount()"
   ]
  },
  {
   "cell_type": "code",
   "execution_count": 22,
   "id": "31799a0e-7789-4307-b53d-c4a002870dd5",
   "metadata": {},
   "outputs": [],
   "source": [
    "class Discount():\n",
    "    def apply_discount(self, price):\n",
    "        pass\n",
    "\n",
    "class RegularCustomerDiscount(Discount):\n",
    "    def apply_discount(self, price):\n",
    "        return price * 0.9\n",
    "\n",
    "class VIPCustomerDiscount(Discount):\n",
    "    def apply_discount(self, price):\n",
    "        return price * 0.8\n",
    "\n",
    "class SuperViPCustomerDiscount(Discount):\n",
    "    def apply_discount(self, price):\n",
    "        return price * 0.5\n",
    "\n",
    "\n",
    "class BrokenCustomerDiscount(Discount):\n",
    "    ..."
   ]
  },
  {
   "cell_type": "code",
   "execution_count": 23,
   "id": "56a6d572-dd85-42b5-b7ca-916bc9c76a8c",
   "metadata": {},
   "outputs": [
    {
     "data": {
      "text/plain": [
       "<__main__.Discount at 0x105b88440>"
      ]
     },
     "execution_count": 23,
     "metadata": {},
     "output_type": "execute_result"
    }
   ],
   "source": [
    "Discount()"
   ]
  },
  {
   "cell_type": "code",
   "execution_count": 24,
   "id": "0d1eb8ef-473f-4acb-b764-f8f20dc7196c",
   "metadata": {},
   "outputs": [
    {
     "data": {
      "text/plain": [
       "<__main__.BrokenCustomerDiscount at 0x105b886e0>"
      ]
     },
     "execution_count": 24,
     "metadata": {},
     "output_type": "execute_result"
    }
   ],
   "source": [
    "BrokenCustomerDiscount()"
   ]
  },
  {
   "cell_type": "code",
   "execution_count": 26,
   "id": "2ee184ab-796c-4c69-805a-955b6aacf55f",
   "metadata": {},
   "outputs": [],
   "source": [
    "zmienna: Discount"
   ]
  },
  {
   "cell_type": "code",
   "execution_count": null,
   "id": "01d10c64-c950-4467-8805-3263b6394e49",
   "metadata": {},
   "outputs": [],
   "source": [
    "zmienna."
   ]
  },
  {
   "cell_type": "markdown",
   "id": "0b33aaa8-f4dc-48ce-b467-2815ff9e8523",
   "metadata": {},
   "source": [
    "## Liskov Substutuion Principle"
   ]
  },
  {
   "cell_type": "code",
   "execution_count": 31,
   "id": "362dd5b8-8ebf-4fe0-8c51-5cf91b602291",
   "metadata": {},
   "outputs": [],
   "source": [
    "# zle podejscie\n",
    "\n",
    "class Bird:\n",
    "    def fly(self):\n",
    "        print(\"Latam\")\n",
    "\n",
    "class Penquin(Bird):\n",
    "    def fly(self):\n",
    "        raise NotImplementedError(\"Pingwiny nie lataja\")\n"
   ]
  },
  {
   "cell_type": "code",
   "execution_count": 35,
   "id": "06ea406a-4890-49db-8507-a7700c58a8fd",
   "metadata": {},
   "outputs": [
    {
     "name": "stdout",
     "output_type": "stream",
     "text": [
      "Jakos sie porusza\n",
      "I can fly\n",
      "I waddle\n"
     ]
    }
   ],
   "source": [
    "\n",
    "class Bird:\n",
    "    def move(self):\n",
    "        print(\"Jakos sie porusza\")\n",
    "\n",
    "class FlyingBird(Bird):\n",
    "    def move(self):\n",
    "        print(\"I can fly\")\n",
    "\n",
    "class Penguin(Bird):\n",
    "    def move(self):\n",
    "        print(\"I waddle\")\n",
    "\n",
    "\n",
    "birds: list[Bird] = [Bird(), FlyingBird(), Penguin()]\n",
    "\n",
    "for b in birds:\n",
    "    b.move()\n"
   ]
  },
  {
   "cell_type": "markdown",
   "id": "80ccfdd6-9375-4695-a6cd-4b403ba55e15",
   "metadata": {},
   "source": [
    "## I - Interface Segregation Principle\n",
    "\n",
    "klasy nie powinny byc zmuszane do implementowania interfejsow, z  ktorych nie korzystaja"
   ]
  },
  {
   "cell_type": "code",
   "execution_count": 36,
   "id": "597e66cb-f8c7-44b0-8a7f-468c98e021c1",
   "metadata": {},
   "outputs": [],
   "source": [
    "class Worker:\n",
    "    def work(self): pass\n",
    "\n",
    "    def eat(self): pass\n",
    "\n",
    "class Robot(Worker):\n",
    "    def work(self): print(\"I'm working\")\n",
    "\n",
    "    def eat(self): raise NotImplementedError(\"Robots don't eat\")\n",
    "\n"
   ]
  },
  {
   "cell_type": "code",
   "execution_count": 38,
   "id": "24151e9a-4a37-442e-8101-5d29fbe9a36d",
   "metadata": {},
   "outputs": [],
   "source": [
    "class WorkMixin:\n",
    "    def work(self):\n",
    "        print(\"I'm working\")\n",
    "\n",
    "class EatMixin:\n",
    "    def eat(self):\n",
    "        print(\"I'm eating\")\n",
    "\n",
    "\n",
    "class Human(WorkMixin, EatMixin):\n",
    "    ...\n",
    "\n",
    "class Robot(WorkMixin):\n",
    "    ..."
   ]
  },
  {
   "cell_type": "markdown",
   "id": "6370e2c2-779c-4d73-bf1f-39741db4c127",
   "metadata": {},
   "source": [
    "## D - Dependency Inversion Principle\n",
    "\n",
    "moduly wysokopoziomowe nie powinny zalezec od modulow niskopoziomych. Oba powinny zalezec od abstrakcji\n",
    "\n"
   ]
  },
  {
   "cell_type": "code",
   "execution_count": 39,
   "id": "70379531-d32b-477a-aeb8-5690547f3311",
   "metadata": {},
   "outputs": [],
   "source": [
    "# zle\n",
    "\n",
    "class MySQLDatabase:\n",
    "    def connect(self):\n",
    "        print(\"Modul niskopoziomowy - laczy sie z baza\")\n",
    "\n",
    "class Application:\n",
    "    def __init__(self):\n",
    "        self.db = MySQLDatabase()\n",
    "\n",
    "    def run(self):\n",
    "        self.db.connect()\n",
    "\n"
   ]
  },
  {
   "cell_type": "code",
   "execution_count": 42,
   "id": "966e5f17-e322-4d85-ae91-76738cf07be5",
   "metadata": {},
   "outputs": [
    {
     "name": "stdout",
     "output_type": "stream",
     "text": [
      "Modul niskopoziomowy - laczy sie z baza mysql\n",
      "cos egzotycznego co i tak ma to api co trzeba\n"
     ]
    }
   ],
   "source": [
    "# dobrze\n",
    "\n",
    "from abc import ABC, abstractmethod\n",
    "\n",
    "class Database(ABC):\n",
    "    @abstractmethod\n",
    "    def connect(self):\n",
    "        pass\n",
    "        \n",
    "    @abstractmethod\n",
    "    def query(self, q) -> list[str]:\n",
    "        pass\n",
    "\n",
    "\n",
    "class MySQLDatabase(Database):\n",
    "    def connect(self):\n",
    "        print(\"Modul niskopoziomowy - laczy sie z baza mysql\")\n",
    "\n",
    "    def query(self, q) -> list[str]:\n",
    "        return []\n",
    "        \n",
    "class PostgresDatabase(Database):\n",
    "    def connect(self):\n",
    "        print(\"Modul niskopoziomowy - laczy sie z baza postgres\")\n",
    "    def query(self, q) -> list[str]:\n",
    "        return []\n",
    "\n",
    "class EgzoticDatabase(Database):\n",
    "    def connect(self):\n",
    "        print(\"cos egzotycznego co i tak ma to api co trzeba\")\n",
    "    def query(self, q) -> list[str]:\n",
    "        return []\n",
    "        \n",
    "class Application:\n",
    "    def __init__(self, db: Database):\n",
    "        self.db = db\n",
    "\n",
    "    def run(self):\n",
    "        self.db.connect()\n",
    "\n",
    "app = Application(MySQLDatabase())\n",
    "app.run()\n",
    "\n",
    "app2 = Application(EgzoticDatabase())\n",
    "app2.run()"
   ]
  },
  {
   "cell_type": "code",
   "execution_count": null,
   "id": "dcbe7b32-8a31-4704-9ebb-dd711bf2c419",
   "metadata": {},
   "outputs": [],
   "source": []
  }
 ],
 "metadata": {
  "kernelspec": {
   "display_name": "Python 3 (ipykernel)",
   "language": "python",
   "name": "python3"
  },
  "language_info": {
   "codemirror_mode": {
    "name": "ipython",
    "version": 3
   },
   "file_extension": ".py",
   "mimetype": "text/x-python",
   "name": "python",
   "nbconvert_exporter": "python",
   "pygments_lexer": "ipython3",
   "version": "3.13.8"
  }
 },
 "nbformat": 4,
 "nbformat_minor": 5
}
