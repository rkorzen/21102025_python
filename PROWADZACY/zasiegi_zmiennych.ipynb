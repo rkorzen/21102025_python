{
 "cells": [
  {
   "cell_type": "code",
   "execution_count": 6,
   "id": "4b1d33cd-8609-4ac9-b8a2-153ed9f61cc3",
   "metadata": {},
   "outputs": [
    {
     "name": "stdout",
     "output_type": "stream",
     "text": [
      "Overwriting przyklad.py\n"
     ]
    }
   ],
   "source": [
    "%%writefile przyklad.py\n",
    "a = 1\n",
    "print(dir())\n",
    "print(locals())\n",
    "print(globals())"
   ]
  },
  {
   "cell_type": "code",
   "execution_count": 7,
   "id": "28d270cc-3c05-4abc-9a3f-4d80c007801c",
   "metadata": {},
   "outputs": [
    {
     "name": "stdout",
     "output_type": "stream",
     "text": [
      "['__annotations__', '__builtins__', '__cached__', '__doc__', '__file__', '__loader__', '__name__', '__package__', '__spec__', 'a']\n",
      "{'__name__': '__main__', '__doc__': None, '__package__': None, '__loader__': <_frozen_importlib_external.SourceFileLoader object at 0x1035dc6b0>, '__spec__': None, '__annotations__': {}, '__builtins__': <module 'builtins' (built-in)>, '__file__': '/Users/rkorzen/workspace/szkolenia/21102025_python/PROWADZACY/przyklad.py', '__cached__': None, 'a': 1}\n",
      "{'__name__': '__main__', '__doc__': None, '__package__': None, '__loader__': <_frozen_importlib_external.SourceFileLoader object at 0x1035dc6b0>, '__spec__': None, '__annotations__': {}, '__builtins__': <module 'builtins' (built-in)>, '__file__': '/Users/rkorzen/workspace/szkolenia/21102025_python/PROWADZACY/przyklad.py', '__cached__': None, 'a': 1}\n"
     ]
    }
   ],
   "source": [
    "!python przyklad.py"
   ]
  },
  {
   "cell_type": "code",
   "execution_count": 12,
   "id": "0bbfec7a-df6e-4106-b292-361cf3ab7b0c",
   "metadata": {},
   "outputs": [
    {
     "name": "stdout",
     "output_type": "stream",
     "text": [
      "Overwriting przyklad2.py\n"
     ]
    }
   ],
   "source": [
    "%%writefile przyklad2.py\n",
    "a = 1\n",
    "\n",
    "def foo():\n",
    "    print(\"w funkcji foo  - przestrzen lokalna:\")\n",
    "    print(dir())\n",
    "    print(\"locals\", locals())\n",
    "    print(\"globals\", globals())\n",
    "\n",
    "print(\"globalnie\")\n",
    "print(dir())\n",
    "print(\"locals\", locals())\n",
    "print(\"globals\", globals())\n",
    "\n",
    "foo()"
   ]
  },
  {
   "cell_type": "code",
   "execution_count": 11,
   "id": "64e9c168-67ba-47cb-a9e2-86cb05304fcb",
   "metadata": {},
   "outputs": [
    {
     "name": "stdout",
     "output_type": "stream",
     "text": [
      "globalnie\n",
      "['__annotations__', '__builtins__', '__cached__', '__doc__', '__file__', '__loader__', '__name__', '__package__', '__spec__', 'a', 'foo']\n",
      "locals {'__name__': '__main__', '__doc__': None, '__package__': None, '__loader__': <_frozen_importlib_external.SourceFileLoader object at 0x1025946b0>, '__spec__': None, '__annotations__': {}, '__builtins__': <module 'builtins' (built-in)>, '__file__': '/Users/rkorzen/workspace/szkolenia/21102025_python/PROWADZACY/przyklad2.py', '__cached__': None, 'a': 1, 'foo': <function foo at 0x1025cbba0>}\n",
      "globals {'__name__': '__main__', '__doc__': None, '__package__': None, '__loader__': <_frozen_importlib_external.SourceFileLoader object at 0x1025946b0>, '__spec__': None, '__annotations__': {}, '__builtins__': <module 'builtins' (built-in)>, '__file__': '/Users/rkorzen/workspace/szkolenia/21102025_python/PROWADZACY/przyklad2.py', '__cached__': None, 'a': 1, 'foo': <function foo at 0x1025cbba0>}\n",
      "w funkcji foo:\n",
      "[]\n",
      "locals {}\n",
      "globals {'__name__': '__main__', '__doc__': None, '__package__': None, '__loader__': <_frozen_importlib_external.SourceFileLoader object at 0x1025946b0>, '__spec__': None, '__annotations__': {}, '__builtins__': <module 'builtins' (built-in)>, '__file__': '/Users/rkorzen/workspace/szkolenia/21102025_python/PROWADZACY/przyklad2.py', '__cached__': None, 'a': 1, 'foo': <function foo at 0x1025cbba0>}\n"
     ]
    }
   ],
   "source": [
    "!python przyklad2.py"
   ]
  },
  {
   "cell_type": "code",
   "execution_count": 13,
   "id": "fbad859d-9d32-41a2-9d86-3814eed08c29",
   "metadata": {},
   "outputs": [
    {
     "name": "stdout",
     "output_type": "stream",
     "text": [
      "Overwriting przyklad2.py\n"
     ]
    }
   ],
   "source": [
    "%%writefile przyklad2.py\n",
    "a = 1\n",
    "\n",
    "def foo():\n",
    "    a = 10\n",
    "    print(\"w funkcji foo  - przestrzen lokalna:\")\n",
    "    print(dir())\n",
    "    print(\"locals\", locals())\n",
    "    print(\"globals\", globals())\n",
    "\n",
    "print(\"globalnie\")\n",
    "print(dir())\n",
    "print(\"locals\", locals())\n",
    "print(\"globals\", globals())\n",
    "\n",
    "foo()"
   ]
  },
  {
   "cell_type": "code",
   "execution_count": 14,
   "id": "de0fa42e-ae11-4744-bf8d-afd049d4fd00",
   "metadata": {},
   "outputs": [
    {
     "name": "stdout",
     "output_type": "stream",
     "text": [
      "globalnie\n",
      "['__annotations__', '__builtins__', '__cached__', '__doc__', '__file__', '__loader__', '__name__', '__package__', '__spec__', 'a', 'foo']\n",
      "locals {'__name__': '__main__', '__doc__': None, '__package__': None, '__loader__': <_frozen_importlib_external.SourceFileLoader object at 0x1035946b0>, '__spec__': None, '__annotations__': {}, '__builtins__': <module 'builtins' (built-in)>, '__file__': '/Users/rkorzen/workspace/szkolenia/21102025_python/PROWADZACY/przyklad2.py', '__cached__': None, 'a': 1, 'foo': <function foo at 0x1035cbba0>}\n",
      "globals {'__name__': '__main__', '__doc__': None, '__package__': None, '__loader__': <_frozen_importlib_external.SourceFileLoader object at 0x1035946b0>, '__spec__': None, '__annotations__': {}, '__builtins__': <module 'builtins' (built-in)>, '__file__': '/Users/rkorzen/workspace/szkolenia/21102025_python/PROWADZACY/przyklad2.py', '__cached__': None, 'a': 1, 'foo': <function foo at 0x1035cbba0>}\n",
      "w funkcji foo  - przestrzen lokalna:\n",
      "['a']\n",
      "locals {'a': 10}\n",
      "globals {'__name__': '__main__', '__doc__': None, '__package__': None, '__loader__': <_frozen_importlib_external.SourceFileLoader object at 0x1035946b0>, '__spec__': None, '__annotations__': {}, '__builtins__': <module 'builtins' (built-in)>, '__file__': '/Users/rkorzen/workspace/szkolenia/21102025_python/PROWADZACY/przyklad2.py', '__cached__': None, 'a': 1, 'foo': <function foo at 0x1035cbba0>}\n"
     ]
    }
   ],
   "source": [
    "!python przyklad2.py"
   ]
  },
  {
   "cell_type": "code",
   "execution_count": 21,
   "id": "5fba8c9e-097f-4b2d-bdc8-c8d3e37e11e0",
   "metadata": {},
   "outputs": [
    {
     "name": "stdout",
     "output_type": "stream",
     "text": [
      "Overwriting przyklad2.py\n"
     ]
    }
   ],
   "source": [
    "%%writefile przyklad2.py\n",
    "a = 1\n",
    "\n",
    "def foo():\n",
    "    global a\n",
    "    a = 10\n",
    "    print(\"\\nw funkcji foo  - przestrzen lokalna:\")\n",
    "    print(dir())\n",
    "    print(\"locals\", locals())\n",
    "    print(\"globals\", globals())\n",
    "   \n",
    "\n",
    "print(\"globalnie\")\n",
    "print(dir())\n",
    "print(\"locals\", locals())\n",
    "print(\"globals\", globals())\n",
    "\n",
    "foo()\n",
    "\n",
    "print(\"Po wywolaniu funkcji\")\n",
    "print(\"globals\", globals())"
   ]
  },
  {
   "cell_type": "code",
   "execution_count": 20,
   "id": "9b12eb0a-129c-48b1-b275-7df2e224f6cc",
   "metadata": {},
   "outputs": [
    {
     "name": "stdout",
     "output_type": "stream",
     "text": [
      "globalnie\n",
      "['__annotations__', '__builtins__', '__cached__', '__doc__', '__file__', '__loader__', '__name__', '__package__', '__spec__', 'a', 'foo']\n",
      "locals {'__name__': '__main__', '__doc__': None, '__package__': None, '__loader__': <_frozen_importlib_external.SourceFileLoader object at 0x102d5c6b0>, '__spec__': None, '__annotations__': {}, '__builtins__': <module 'builtins' (built-in)>, '__file__': '/Users/rkorzen/workspace/szkolenia/21102025_python/PROWADZACY/przyklad2.py', '__cached__': None, 'a': 1, 'foo': <function foo at 0x102d93ba0>}\n",
      "globals {'__name__': '__main__', '__doc__': None, '__package__': None, '__loader__': <_frozen_importlib_external.SourceFileLoader object at 0x102d5c6b0>, '__spec__': None, '__annotations__': {}, '__builtins__': <module 'builtins' (built-in)>, '__file__': '/Users/rkorzen/workspace/szkolenia/21102025_python/PROWADZACY/przyklad2.py', '__cached__': None, 'a': 1, 'foo': <function foo at 0x102d93ba0>}\n",
      "globals {'__name__': '__main__', '__doc__': None, '__package__': None, '__loader__': <_frozen_importlib_external.SourceFileLoader object at 0x102d5c6b0>, '__spec__': None, '__annotations__': {}, '__builtins__': <module 'builtins' (built-in)>, '__file__': '/Users/rkorzen/workspace/szkolenia/21102025_python/PROWADZACY/przyklad2.py', '__cached__': None, 'a': 1, 'foo': <function foo at 0x102d93ba0>}\n",
      "\n",
      "w funkcji foo  - przestrzen lokalna:\n",
      "[]\n",
      "locals {}\n",
      "Po wywolaniu funkcji\n",
      "globals {'__name__': '__main__', '__doc__': None, '__package__': None, '__loader__': <_frozen_importlib_external.SourceFileLoader object at 0x102d5c6b0>, '__spec__': None, '__annotations__': {}, '__builtins__': <module 'builtins' (built-in)>, '__file__': '/Users/rkorzen/workspace/szkolenia/21102025_python/PROWADZACY/przyklad2.py', '__cached__': None, 'a': 10, 'foo': <function foo at 0x102d93ba0>}\n"
     ]
    }
   ],
   "source": [
    "!python przyklad2.py"
   ]
  },
  {
   "cell_type": "code",
   "execution_count": 37,
   "id": "b1d0c6c4-9dfd-40b0-a3fc-e2226bca94f6",
   "metadata": {},
   "outputs": [
    {
     "name": "stdout",
     "output_type": "stream",
     "text": [
      "Overwriting przyklad2.py\n"
     ]
    }
   ],
   "source": [
    "%%writefile przyklad2.py\n",
    "a = 1\n",
    "\n",
    "def foo():\n",
    "    global a\n",
    "    a = 10\n",
    "    b = 20  # z punkt widzenia bar to jest b z przestrzeni nielokalne. - mowimy tez, ze jest to przestrzen domykajaca\n",
    "    \n",
    "    def bar():\n",
    "        nonlocal b\n",
    "        b = 30\n",
    "    print(\"b przed bar=\", b)\n",
    "    bar()\n",
    "    print(\"b po bar=\", b)\n",
    "    print(\"\\nw funkcji foo  - przestrzen lokalna:\")\n",
    "    # print(dir())\n",
    "    # print(\"locals\", locals())\n",
    "    print(\"globals\", globals())\n",
    "   \n",
    "\n",
    "print(\"globalnie\")\n",
    "print(dir())\n",
    "# print(\"locals\", locals())\n",
    "print(\"globals\", globals())\n",
    "\n",
    "foo()\n",
    "\n",
    "print(\"Po wywolaniu funkcji\")\n",
    "print(\"globals\", globals())"
   ]
  },
  {
   "cell_type": "code",
   "execution_count": 38,
   "id": "01de4afc-65ef-4b45-a12c-323cbc63413d",
   "metadata": {},
   "outputs": [
    {
     "name": "stdout",
     "output_type": "stream",
     "text": [
      "globalnie\n",
      "['__annotations__', '__builtins__', '__cached__', '__doc__', '__file__', '__loader__', '__name__', '__package__', '__spec__', 'a', 'foo']\n",
      "globals {'__name__': '__main__', '__doc__': None, '__package__': None, '__loader__': <_frozen_importlib_external.SourceFileLoader object at 0x10bbc06b0>, '__spec__': None, '__annotations__': {}, '__builtins__': <module 'builtins' (built-in)>, '__file__': '/Users/rkorzen/workspace/szkolenia/21102025_python/PROWADZACY/przyklad2.py', '__cached__': None, 'a': 1, 'foo': <function foo at 0x10bbf7ba0>}\n",
      "b przed bar= 20\n",
      "b po bar= 30\n",
      "\n",
      "w funkcji foo  - przestrzen lokalna:\n",
      "globals {'__name__': '__main__', '__doc__': None, '__package__': None, '__loader__': <_frozen_importlib_external.SourceFileLoader object at 0x10bbc06b0>, '__spec__': None, '__annotations__': {}, '__builtins__': <module 'builtins' (built-in)>, '__file__': '/Users/rkorzen/workspace/szkolenia/21102025_python/PROWADZACY/przyklad2.py', '__cached__': None, 'a': 10, 'foo': <function foo at 0x10bbf7ba0>}\n",
      "Po wywolaniu funkcji\n",
      "globals {'__name__': '__main__', '__doc__': None, '__package__': None, '__loader__': <_frozen_importlib_external.SourceFileLoader object at 0x10bbc06b0>, '__spec__': None, '__annotations__': {}, '__builtins__': <module 'builtins' (built-in)>, '__file__': '/Users/rkorzen/workspace/szkolenia/21102025_python/PROWADZACY/przyklad2.py', '__cached__': None, 'a': 10, 'foo': <function foo at 0x10bbf7ba0>}\n"
     ]
    }
   ],
   "source": [
    "!python przyklad2.py"
   ]
  },
  {
   "cell_type": "code",
   "execution_count": null,
   "id": "362da416-ed92-4ae3-bb50-74536371ec9e",
   "metadata": {},
   "outputs": [],
   "source": []
  }
 ],
 "metadata": {
  "kernelspec": {
   "display_name": "Python 3 (ipykernel)",
   "language": "python",
   "name": "python3"
  },
  "language_info": {
   "codemirror_mode": {
    "name": "ipython",
    "version": 3
   },
   "file_extension": ".py",
   "mimetype": "text/x-python",
   "name": "python",
   "nbconvert_exporter": "python",
   "pygments_lexer": "ipython3",
   "version": "3.13.8"
  }
 },
 "nbformat": 4,
 "nbformat_minor": 5
}
