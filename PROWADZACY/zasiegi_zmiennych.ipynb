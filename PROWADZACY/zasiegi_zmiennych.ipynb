{
 "cells": [
  {
   "cell_type": "markdown",
   "id": "934b285b",
   "metadata": {},
   "source": [
    "# Zasieg zmiennych\n",
    "\n",
    "Notatnik prowadzi przez kolejne przyklady przestrzeni nazw: modul, funkcja, slowa kluczowe `global` i `nonlocal`. Kazda sekcja zapisuje plik, a nastepnie uruchamia go z konsoli."
   ]
  },
  {
   "cell_type": "markdown",
   "id": "b4ff310e",
   "metadata": {},
   "source": [
    "## Introspekcja modulu\n",
    "\n",
    "Tworzymy prosty plik `przyklad.py`, aby podejrzec co zwracaja `dir()`, `locals()` oraz `globals()` na poziomie modulu."
   ]
  },
  {
   "cell_type": "code",
   "execution_count": 6,
   "id": "4b1d33cd-8609-4ac9-b8a2-153ed9f61cc3",
   "metadata": {},
   "outputs": [
    {
     "name": "stdout",
     "output_type": "stream",
     "text": [
      "Overwriting przyklad.py\n"
     ]
    }
   ],
   "source": [
    "%%writefile przyklad.py\n",
    "\"\"\"Krotki przyklad introspekcji przestrzeni nazw w Pythonie.\"\"\"\n",
    "\n",
    "a = 1\n",
    "\n",
    "if __name__ == \"__main__\":\n",
    "    print(\"Zakres dostepnych nazw:\", dir())\n",
    "    print(\"Zmienne lokalne modulu:\", locals())\n",
    "    print(\"Zmienne globalne modulu:\", {k: type(v).__name__ for k, v in globals().items()})\n"
   ]
  },
  {
   "cell_type": "code",
   "execution_count": 7,
   "id": "28d270cc-3c05-4abc-9a3f-4d80c007801c",
   "metadata": {},
   "outputs": [
    {
     "name": "stdout",
     "output_type": "stream",
     "text": [
      "['__annotations__', '__builtins__', '__cached__', '__doc__', '__file__', '__loader__', '__name__', '__package__', '__spec__', 'a']\n",
      "{'__name__': '__main__', '__doc__': None, '__package__': None, '__loader__': <_frozen_importlib_external.SourceFileLoader object at 0x1035dc6b0>, '__spec__': None, '__annotations__': {}, '__builtins__': <module 'builtins' (built-in)>, '__file__': '/Users/rkorzen/workspace/szkolenia/21102025_python/PROWADZACY/przyklad.py', '__cached__': None, 'a': 1}\n",
      "{'__name__': '__main__', '__doc__': None, '__package__': None, '__loader__': <_frozen_importlib_external.SourceFileLoader object at 0x1035dc6b0>, '__spec__': None, '__annotations__': {}, '__builtins__': <module 'builtins' (built-in)>, '__file__': '/Users/rkorzen/workspace/szkolenia/21102025_python/PROWADZACY/przyklad.py', '__cached__': None, 'a': 1}\n"
     ]
    }
   ],
   "source": [
    "!python przyklad.py"
   ]
  },
  {
   "cell_type": "markdown",
   "id": "90f5849c",
   "metadata": {},
   "source": [
    "## Lokalne zmienne wewnatrz funkcji\n",
    "\n",
    "Pierwsza wersja `przyklad2.py` obserwuje przestrzen lokalna funkcji i pokazuje, ze zmienne globalne pozostaja bez zmian."
   ]
  },
  {
   "cell_type": "code",
   "execution_count": 12,
   "id": "0bbfec7a-df6e-4106-b292-361cf3ab7b0c",
   "metadata": {},
   "outputs": [
    {
     "name": "stdout",
     "output_type": "stream",
     "text": [
      "Overwriting przyklad2.py\n"
     ]
    }
   ],
   "source": [
    "%%writefile przyklad2.py\n",
    "\"\"\"Eksperyment z lokalnymi zmiennymi.\"\"\"\n",
    "\n",
    "a = 1\n",
    "\n",
    "print(\"Poziom modulu:\", {k: type(v).__name__ for k, v in globals().items() if not k.startswith('__')})\n",
    "\n",
    "\n",
    "def foo():\n",
    "    print(\"W funkcji foo - lokalnie:\", locals())\n",
    "    print(\"W funkcji foo - globalnie:\", {k: type(v).__name__ for k, v in globals().items() if not k.startswith('__')})\n",
    "\n",
    "\n",
    "if __name__ == \"__main__\":\n",
    "    foo()\n"
   ]
  },
  {
   "cell_type": "code",
   "execution_count": 11,
   "id": "64e9c168-67ba-47cb-a9e2-86cb05304fcb",
   "metadata": {},
   "outputs": [
    {
     "name": "stdout",
     "output_type": "stream",
     "text": [
      "globalnie\n",
      "['__annotations__', '__builtins__', '__cached__', '__doc__', '__file__', '__loader__', '__name__', '__package__', '__spec__', 'a', 'foo']\n",
      "locals {'__name__': '__main__', '__doc__': None, '__package__': None, '__loader__': <_frozen_importlib_external.SourceFileLoader object at 0x1025946b0>, '__spec__': None, '__annotations__': {}, '__builtins__': <module 'builtins' (built-in)>, '__file__': '/Users/rkorzen/workspace/szkolenia/21102025_python/PROWADZACY/przyklad2.py', '__cached__': None, 'a': 1, 'foo': <function foo at 0x1025cbba0>}\n",
      "globals {'__name__': '__main__', '__doc__': None, '__package__': None, '__loader__': <_frozen_importlib_external.SourceFileLoader object at 0x1025946b0>, '__spec__': None, '__annotations__': {}, '__builtins__': <module 'builtins' (built-in)>, '__file__': '/Users/rkorzen/workspace/szkolenia/21102025_python/PROWADZACY/przyklad2.py', '__cached__': None, 'a': 1, 'foo': <function foo at 0x1025cbba0>}\n",
      "w funkcji foo:\n",
      "[]\n",
      "locals {}\n",
      "globals {'__name__': '__main__', '__doc__': None, '__package__': None, '__loader__': <_frozen_importlib_external.SourceFileLoader object at 0x1025946b0>, '__spec__': None, '__annotations__': {}, '__builtins__': <module 'builtins' (built-in)>, '__file__': '/Users/rkorzen/workspace/szkolenia/21102025_python/PROWADZACY/przyklad2.py', '__cached__': None, 'a': 1, 'foo': <function foo at 0x1025cbba0>}\n"
     ]
    }
   ],
   "source": [
    "!python przyklad2.py"
   ]
  },
  {
   "cell_type": "markdown",
   "id": "d0cef858",
   "metadata": {},
   "source": [
    "## Nadpisywanie zmiennej lokalnej\n",
    "\n",
    "Druga iteracja funkcji `foo` tworzy nowa zmienna `a`, ktora nie dotyka wartosci globalnej."
   ]
  },
  {
   "cell_type": "code",
   "execution_count": 13,
   "id": "fbad859d-9d32-41a2-9d86-3814eed08c29",
   "metadata": {},
   "outputs": [
    {
     "name": "stdout",
     "output_type": "stream",
     "text": [
      "Overwriting przyklad2.py\n"
     ]
    }
   ],
   "source": [
    "%%writefile przyklad2.py\n",
    "\"\"\"Lokalne nadpisanie nazwy `a`.\"\"\"\n",
    "\n",
    "a = 1\n",
    "\n",
    "\n",
    "def foo():\n",
    "    a = 10  # lokalna zmienna zaslania globalna\n",
    "    print(\"W funkcji foo - lokalnie:\", locals())\n",
    "    print(\"W funkcji foo - globalnie:\", {k: type(v).__name__ for k, v in globals().items() if not k.startswith('__')})\n",
    "\n",
    "\n",
    "if __name__ == \"__main__\":\n",
    "    print(\"Przed wywolaniem foo:\", {k: type(v).__name__ for k, v in globals().items() if not k.startswith('__')})\n",
    "    foo()\n",
    "    print(\"Po wywolaniu foo - wartosc globalnej a:\", a)\n"
   ]
  },
  {
   "cell_type": "code",
   "execution_count": 14,
   "id": "de0fa42e-ae11-4744-bf8d-afd049d4fd00",
   "metadata": {},
   "outputs": [
    {
     "name": "stdout",
     "output_type": "stream",
     "text": [
      "globalnie\n",
      "['__annotations__', '__builtins__', '__cached__', '__doc__', '__file__', '__loader__', '__name__', '__package__', '__spec__', 'a', 'foo']\n",
      "locals {'__name__': '__main__', '__doc__': None, '__package__': None, '__loader__': <_frozen_importlib_external.SourceFileLoader object at 0x1035946b0>, '__spec__': None, '__annotations__': {}, '__builtins__': <module 'builtins' (built-in)>, '__file__': '/Users/rkorzen/workspace/szkolenia/21102025_python/PROWADZACY/przyklad2.py', '__cached__': None, 'a': 1, 'foo': <function foo at 0x1035cbba0>}\n",
      "globals {'__name__': '__main__', '__doc__': None, '__package__': None, '__loader__': <_frozen_importlib_external.SourceFileLoader object at 0x1035946b0>, '__spec__': None, '__annotations__': {}, '__builtins__': <module 'builtins' (built-in)>, '__file__': '/Users/rkorzen/workspace/szkolenia/21102025_python/PROWADZACY/przyklad2.py', '__cached__': None, 'a': 1, 'foo': <function foo at 0x1035cbba0>}\n",
      "w funkcji foo  - przestrzen lokalna:\n",
      "['a']\n",
      "locals {'a': 10}\n",
      "globals {'__name__': '__main__', '__doc__': None, '__package__': None, '__loader__': <_frozen_importlib_external.SourceFileLoader object at 0x1035946b0>, '__spec__': None, '__annotations__': {}, '__builtins__': <module 'builtins' (built-in)>, '__file__': '/Users/rkorzen/workspace/szkolenia/21102025_python/PROWADZACY/przyklad2.py', '__cached__': None, 'a': 1, 'foo': <function foo at 0x1035cbba0>}\n"
     ]
    }
   ],
   "source": [
    "!python przyklad2.py"
   ]
  },
  {
   "cell_type": "markdown",
   "id": "3fbd6cae",
   "metadata": {},
   "source": [
    "## Slowo kluczowe `global`\n",
    "\n",
    "Trzecia wersja pokazuje, jak modyfikowac zmienna globalna z miejsca funkcji."
   ]
  },
  {
   "cell_type": "code",
   "execution_count": 21,
   "id": "5fba8c9e-097f-4b2d-bdc8-c8d3e37e11e0",
   "metadata": {},
   "outputs": [
    {
     "name": "stdout",
     "output_type": "stream",
     "text": [
      "Overwriting przyklad2.py\n"
     ]
    }
   ],
   "source": [
    "%%writefile przyklad2.py\n",
    "\"\"\"Modyfikowanie zmiennej globalnej wewnatrz funkcji.\"\"\"\n",
    "\n",
    "a = 1\n",
    "\n",
    "\n",
    "def foo():\n",
    "    global a\n",
    "    a = 10\n",
    "    print(\"W funkcji foo - lokalnie:\", locals())\n",
    "    print(\"W funkcji foo - globalnie:\", {k: type(v).__name__ for k, v in globals().items() if not k.startswith('__')})\n",
    "\n",
    "\n",
    "if __name__ == \"__main__\":\n",
    "    print(\"Przed wywolaniem foo - globalna a:\", a)\n",
    "    foo()\n",
    "    print(\"Po wywolaniu foo - globalna a:\", a)\n"
   ]
  },
  {
   "cell_type": "code",
   "execution_count": 20,
   "id": "9b12eb0a-129c-48b1-b275-7df2e224f6cc",
   "metadata": {},
   "outputs": [
    {
     "name": "stdout",
     "output_type": "stream",
     "text": [
      "globalnie\n",
      "['__annotations__', '__builtins__', '__cached__', '__doc__', '__file__', '__loader__', '__name__', '__package__', '__spec__', 'a', 'foo']\n",
      "locals {'__name__': '__main__', '__doc__': None, '__package__': None, '__loader__': <_frozen_importlib_external.SourceFileLoader object at 0x102d5c6b0>, '__spec__': None, '__annotations__': {}, '__builtins__': <module 'builtins' (built-in)>, '__file__': '/Users/rkorzen/workspace/szkolenia/21102025_python/PROWADZACY/przyklad2.py', '__cached__': None, 'a': 1, 'foo': <function foo at 0x102d93ba0>}\n",
      "globals {'__name__': '__main__', '__doc__': None, '__package__': None, '__loader__': <_frozen_importlib_external.SourceFileLoader object at 0x102d5c6b0>, '__spec__': None, '__annotations__': {}, '__builtins__': <module 'builtins' (built-in)>, '__file__': '/Users/rkorzen/workspace/szkolenia/21102025_python/PROWADZACY/przyklad2.py', '__cached__': None, 'a': 1, 'foo': <function foo at 0x102d93ba0>}\n",
      "globals {'__name__': '__main__', '__doc__': None, '__package__': None, '__loader__': <_frozen_importlib_external.SourceFileLoader object at 0x102d5c6b0>, '__spec__': None, '__annotations__': {}, '__builtins__': <module 'builtins' (built-in)>, '__file__': '/Users/rkorzen/workspace/szkolenia/21102025_python/PROWADZACY/przyklad2.py', '__cached__': None, 'a': 1, 'foo': <function foo at 0x102d93ba0>}\n",
      "\n",
      "w funkcji foo  - przestrzen lokalna:\n",
      "[]\n",
      "locals {}\n",
      "Po wywolaniu funkcji\n",
      "globals {'__name__': '__main__', '__doc__': None, '__package__': None, '__loader__': <_frozen_importlib_external.SourceFileLoader object at 0x102d5c6b0>, '__spec__': None, '__annotations__': {}, '__builtins__': <module 'builtins' (built-in)>, '__file__': '/Users/rkorzen/workspace/szkolenia/21102025_python/PROWADZACY/przyklad2.py', '__cached__': None, 'a': 10, 'foo': <function foo at 0x102d93ba0>}\n"
     ]
    }
   ],
   "source": [
    "!python przyklad2.py"
   ]
  },
  {
   "cell_type": "markdown",
   "id": "ce60dac9",
   "metadata": {},
   "source": [
    "## `nonlocal` w funkcji zagniezdzonej\n",
    "\n",
    "Ostatnia iteracja wprowadza funkcje wewnetrzna i demonstruje dzialanie `nonlocal`."
   ]
  },
  {
   "cell_type": "code",
   "execution_count": 37,
   "id": "b1d0c6c4-9dfd-40b0-a3fc-e2226bca94f6",
   "metadata": {},
   "outputs": [
    {
     "name": "stdout",
     "output_type": "stream",
     "text": [
      "Overwriting przyklad2.py\n"
     ]
    }
   ],
   "source": [
    "%%writefile przyklad2.py\n",
    "\"\"\"Global, lokal i nonlocal w funkcjach zagniezdzonych.\"\"\"\n",
    "\n",
    "a = 1\n",
    "\n",
    "\n",
    "def foo():\n",
    "    global a\n",
    "    a = 10\n",
    "    b = 20  # zmienna domknieta dla bar\n",
    "\n",
    "    def bar():\n",
    "        nonlocal b\n",
    "        b = 30\n",
    "\n",
    "    print(\"Przed bar, b =\", b)\n",
    "    bar()\n",
    "    print(\"Po bar,  b =\", b)\n",
    "    print(\"W funkcji foo - lokalnie:\", locals())\n",
    "    print(\"W funkcji foo - globalnie:\", {k: type(v).__name__ for k, v in globals().items() if not k.startswith('__')})\n",
    "\n",
    "\n",
    "if __name__ == \"__main__\":\n",
    "    print(\"Poziom modulu:\", {k: type(v).__name__ for k, v in globals().items() if not k.startswith('__')})\n",
    "    foo()\n",
    "    print(\"Po wywolaniu foo - globalna a:\", a)\n"
   ]
  },
  {
   "cell_type": "code",
   "execution_count": 38,
   "id": "01de4afc-65ef-4b45-a12c-323cbc63413d",
   "metadata": {},
   "outputs": [
    {
     "name": "stdout",
     "output_type": "stream",
     "text": [
      "globalnie\n",
      "['__annotations__', '__builtins__', '__cached__', '__doc__', '__file__', '__loader__', '__name__', '__package__', '__spec__', 'a', 'foo']\n",
      "globals {'__name__': '__main__', '__doc__': None, '__package__': None, '__loader__': <_frozen_importlib_external.SourceFileLoader object at 0x10bbc06b0>, '__spec__': None, '__annotations__': {}, '__builtins__': <module 'builtins' (built-in)>, '__file__': '/Users/rkorzen/workspace/szkolenia/21102025_python/PROWADZACY/przyklad2.py', '__cached__': None, 'a': 1, 'foo': <function foo at 0x10bbf7ba0>}\n",
      "b przed bar= 20\n",
      "b po bar= 30\n",
      "\n",
      "w funkcji foo  - przestrzen lokalna:\n",
      "globals {'__name__': '__main__', '__doc__': None, '__package__': None, '__loader__': <_frozen_importlib_external.SourceFileLoader object at 0x10bbc06b0>, '__spec__': None, '__annotations__': {}, '__builtins__': <module 'builtins' (built-in)>, '__file__': '/Users/rkorzen/workspace/szkolenia/21102025_python/PROWADZACY/przyklad2.py', '__cached__': None, 'a': 10, 'foo': <function foo at 0x10bbf7ba0>}\n",
      "Po wywolaniu funkcji\n",
      "globals {'__name__': '__main__', '__doc__': None, '__package__': None, '__loader__': <_frozen_importlib_external.SourceFileLoader object at 0x10bbc06b0>, '__spec__': None, '__annotations__': {}, '__builtins__': <module 'builtins' (built-in)>, '__file__': '/Users/rkorzen/workspace/szkolenia/21102025_python/PROWADZACY/przyklad2.py', '__cached__': None, 'a': 10, 'foo': <function foo at 0x10bbf7ba0>}\n"
     ]
    }
   ],
   "source": [
    "!python przyklad2.py"
   ]
  },
  {
   "cell_type": "markdown",
   "id": "7ebb755a",
   "metadata": {},
   "source": [
    "## Podsumowanie\n",
    "\n",
    "Porownujac kolejne wersje `przyklad2.py` mozemy pokazac roznice pomiedzy zmiennymi lokalnymi, globalnymi oraz mechanizmem `nonlocal`. Pliki pomocnicze pozostaja w katalogu, mozna je uzyc w innych materialach."
   ]
  }
 ],
 "metadata": {
  "kernelspec": {
   "display_name": "Python 3 (ipykernel)",
   "language": "python",
   "name": "python3"
  },
  "language_info": {
   "codemirror_mode": {
    "name": "ipython",
    "version": 3
   },
   "file_extension": ".py",
   "mimetype": "text/x-python",
   "name": "python",
   "nbconvert_exporter": "python",
   "pygments_lexer": "ipython3",
   "version": "3.13.8"
  }
 },
 "nbformat": 4,
 "nbformat_minor": 5
}
