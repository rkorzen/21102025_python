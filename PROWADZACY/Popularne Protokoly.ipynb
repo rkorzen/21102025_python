{
 "cells": [
  {
   "cell_type": "code",
   "execution_count": 3,
   "id": "1a031b43-35e0-416e-8fbe-a508ab9abc68",
   "metadata": {},
   "outputs": [
    {
     "name": "stdout",
     "output_type": "stream",
     "text": [
      "\"\"\"Krótki przykład introspekcji przestrzeni nazw w Pythonie.\"\"\"\n",
      "\n",
      "a = 1\n",
      "\n",
      "if __name__ == \"__main__\":\n",
      "    print(\"Zakres dostępnych nazw:\", dir())\n",
      "    print(\"Zmienne lokalne modułu:\", locals())\n",
      "    print(\"Zmienne globalne modułu:\", {k: type(v).__name__ for k, v in globals().items()})\n",
      "\n"
     ]
    }
   ],
   "source": [
    "with open(\"przyklad.py\") as f:\n",
    "    print(f.read())\n",
    "    # wewnatrz\n",
    "# na zewnatrz"
   ]
  },
  {
   "cell_type": "markdown",
   "id": "9a88646a-8733-4793-9ec7-97b3ba06e7ff",
   "metadata": {},
   "source": [
    "## Context manager"
   ]
  },
  {
   "cell_type": "code",
   "execution_count": 8,
   "id": "2ef39eb9-68dc-4e85-9c41-9c6ec089dda3",
   "metadata": {},
   "outputs": [
    {
     "name": "stdout",
     "output_type": "stream",
     "text": [
      "Otwieram plik przyklad.py...\n",
      "Zamykam plik\n"
     ]
    },
    {
     "ename": "ZeroDivisionError",
     "evalue": "division by zero",
     "output_type": "error",
     "traceback": [
      "\u001b[31m---------------------------------------------------------------------------\u001b[39m",
      "\u001b[31mZeroDivisionError\u001b[39m                         Traceback (most recent call last)",
      "\u001b[36mCell\u001b[39m\u001b[36m \u001b[39m\u001b[32mIn[8]\u001b[39m\u001b[32m, line 16\u001b[39m\n\u001b[32m     13\u001b[39m         \u001b[38;5;28;01mreturn\u001b[39;00m \u001b[38;5;28;01mFalse\u001b[39;00m\n\u001b[32m     15\u001b[39m \u001b[38;5;28;01mwith\u001b[39;00m ManagedFile(\u001b[33m\"\u001b[39m\u001b[33mprzyklad.py\u001b[39m\u001b[33m\"\u001b[39m) \u001b[38;5;28;01mas\u001b[39;00m f:\n\u001b[32m---> \u001b[39m\u001b[32m16\u001b[39m     \u001b[32;43m1\u001b[39;49m\u001b[43m/\u001b[49m\u001b[32;43m0\u001b[39;49m\n\u001b[32m     17\u001b[39m     \u001b[38;5;28mprint\u001b[39m(f.read())\n",
      "\u001b[31mZeroDivisionError\u001b[39m: division by zero"
     ]
    }
   ],
   "source": [
    "class ManagedFile:\n",
    "    def __init__(self, filename):\n",
    "        self.filename = filename\n",
    "\n",
    "    def __enter__(self):\n",
    "        print(f\"Otwieram plik {self.filename}...\")\n",
    "        self.file = open(self.filename)\n",
    "        return self.file\n",
    "\n",
    "    def __exit__(self, exc_type, exc_value, traceback):\n",
    "        print(\"Zamykam plik\")\n",
    "        self.file.close()\n",
    "        return False\n",
    "\n",
    "with ManagedFile(\"przyklad.py\") as f:\n",
    "    1/0\n",
    "    print(f.read())"
   ]
  },
  {
   "cell_type": "code",
   "execution_count": 7,
   "id": "22d14f18-49fb-41d4-ab0c-6d3291445ea0",
   "metadata": {},
   "outputs": [
    {
     "name": "stdout",
     "output_type": "stream",
     "text": [
      "zamykam\n"
     ]
    },
    {
     "ename": "ZeroDivisionError",
     "evalue": "division by zero",
     "output_type": "error",
     "traceback": [
      "\u001b[31m---------------------------------------------------------------------------\u001b[39m",
      "\u001b[31mZeroDivisionError\u001b[39m                         Traceback (most recent call last)",
      "\u001b[36mCell\u001b[39m\u001b[36m \u001b[39m\u001b[32mIn[7]\u001b[39m\u001b[32m, line 3\u001b[39m\n\u001b[32m      1\u001b[39m \u001b[38;5;28;01mtry\u001b[39;00m:\n\u001b[32m      2\u001b[39m     f = \u001b[38;5;28mopen\u001b[39m(\u001b[33m\"\u001b[39m\u001b[33mprzyklad.py\u001b[39m\u001b[33m\"\u001b[39m)\n\u001b[32m----> \u001b[39m\u001b[32m3\u001b[39m     \u001b[32;43m1\u001b[39;49m\u001b[43m/\u001b[49m\u001b[32;43m0\u001b[39;49m\n\u001b[32m      4\u001b[39m \u001b[38;5;28;01mfinally\u001b[39;00m:\n\u001b[32m      5\u001b[39m     \u001b[38;5;28mprint\u001b[39m(\u001b[33m\"\u001b[39m\u001b[33mzamykam\u001b[39m\u001b[33m\"\u001b[39m)\n",
      "\u001b[31mZeroDivisionError\u001b[39m: division by zero"
     ]
    }
   ],
   "source": [
    "try:\n",
    "    f = open(\"przyklad.py\")\n",
    "    1/0\n",
    "finally:\n",
    "    print(\"zamykam\")\n",
    "    f.close()\n",
    "    "
   ]
  },
  {
   "cell_type": "markdown",
   "id": "a3268086-b927-4b21-8ad8-e2877ed9c323",
   "metadata": {},
   "source": [
    "## iterator"
   ]
  },
  {
   "cell_type": "code",
   "execution_count": 9,
   "id": "9587b86a-1185-450d-8af6-bb879eeed0d6",
   "metadata": {},
   "outputs": [],
   "source": [
    "# start -> 0"
   ]
  },
  {
   "cell_type": "code",
   "execution_count": 10,
   "id": "60b8a994-3a08-4245-a0ae-36e71bcda366",
   "metadata": {},
   "outputs": [
    {
     "name": "stdout",
     "output_type": "stream",
     "text": [
      "5\n",
      "4\n",
      "3\n",
      "2\n",
      "1\n"
     ]
    }
   ],
   "source": [
    "class Countdown:\n",
    "\n",
    "    def __init__(self, start: int):\n",
    "        self.current = start\n",
    "\n",
    "    def __iter__(self):\n",
    "        return self\n",
    "\n",
    "    def __next__(self):\n",
    "        if self.current < 1:\n",
    "            raise StopIteration\n",
    "\n",
    "        val = self.current\n",
    "        self.current -= 1\n",
    "        return val\n",
    "\n",
    "for i in Countdown(5):\n",
    "    print(i)\n",
    "        "
   ]
  },
  {
   "cell_type": "code",
   "execution_count": 11,
   "id": "3af24062-e106-4058-8714-994285b95523",
   "metadata": {},
   "outputs": [
    {
     "data": {
      "text/plain": [
       "5"
      ]
     },
     "execution_count": 11,
     "metadata": {},
     "output_type": "execute_result"
    }
   ],
   "source": [
    "c = Countdown(5)\n",
    "\n",
    "next(c)"
   ]
  },
  {
   "cell_type": "code",
   "execution_count": 16,
   "id": "7fe22d2b-b8da-4dc1-bdad-30496f98d3cb",
   "metadata": {},
   "outputs": [
    {
     "ename": "StopIteration",
     "evalue": "",
     "output_type": "error",
     "traceback": [
      "\u001b[31m---------------------------------------------------------------------------\u001b[39m",
      "\u001b[31mStopIteration\u001b[39m                             Traceback (most recent call last)",
      "\u001b[36mCell\u001b[39m\u001b[36m \u001b[39m\u001b[32mIn[16]\u001b[39m\u001b[32m, line 1\u001b[39m\n\u001b[32m----> \u001b[39m\u001b[32m1\u001b[39m \u001b[38;5;28;43mnext\u001b[39;49m\u001b[43m(\u001b[49m\u001b[43mc\u001b[49m\u001b[43m)\u001b[49m\n",
      "\u001b[36mCell\u001b[39m\u001b[36m \u001b[39m\u001b[32mIn[10]\u001b[39m\u001b[32m, line 11\u001b[39m, in \u001b[36mCountdown.__next__\u001b[39m\u001b[34m(self)\u001b[39m\n\u001b[32m      9\u001b[39m \u001b[38;5;28;01mdef\u001b[39;00m\u001b[38;5;250m \u001b[39m\u001b[34m__next__\u001b[39m(\u001b[38;5;28mself\u001b[39m):\n\u001b[32m     10\u001b[39m     \u001b[38;5;28;01mif\u001b[39;00m \u001b[38;5;28mself\u001b[39m.current < \u001b[32m1\u001b[39m:\n\u001b[32m---> \u001b[39m\u001b[32m11\u001b[39m         \u001b[38;5;28;01mraise\u001b[39;00m \u001b[38;5;167;01mStopIteration\u001b[39;00m\n\u001b[32m     13\u001b[39m     val = \u001b[38;5;28mself\u001b[39m.current\n\u001b[32m     14\u001b[39m     \u001b[38;5;28mself\u001b[39m.current -= \u001b[32m1\u001b[39m\n",
      "\u001b[31mStopIteration\u001b[39m: "
     ]
    }
   ],
   "source": [
    "next(c)"
   ]
  },
  {
   "cell_type": "markdown",
   "id": "6841349f-b100-41b6-965e-5f67b1076ae0",
   "metadata": {},
   "source": [
    "## sekwencje / container"
   ]
  },
  {
   "cell_type": "code",
   "execution_count": 40,
   "id": "a94229fe-f54e-4b0d-9292-337a897676ff",
   "metadata": {},
   "outputs": [],
   "source": [
    "class PositiveIntegerList:\n",
    "    def __init__(self, data):\n",
    "        self._data = list(data)\n",
    "\n",
    "    def __getitem__(self, index):\n",
    "        return self._data[index]\n",
    "\n",
    "    def __len__(self):\n",
    "        return len(self._data)\n",
    "\n",
    "    def __contains__(self, item):\n",
    "        return item in self._data\n",
    "\n",
    "    def append(self, item):\n",
    "        if not isinstance(item, int):\n",
    "            raise ValueError(\"wartosci dozwolone to tylko inty\")\n",
    "\n",
    "        if item < 0:\n",
    "            raise ValueError(\"wartosci musza byc dodanie\")\n",
    "\n",
    "        self._data.append(item)"
   ]
  },
  {
   "cell_type": "code",
   "execution_count": 18,
   "id": "e6c19318-3983-4cd5-b53f-ddd873b50bb2",
   "metadata": {},
   "outputs": [],
   "source": [
    "lista = [1, 2, 3]\n"
   ]
  },
  {
   "cell_type": "code",
   "execution_count": 19,
   "id": "ab966914-430a-4d46-9adc-44387daecfde",
   "metadata": {},
   "outputs": [
    {
     "data": {
      "text/plain": [
       "1"
      ]
     },
     "execution_count": 19,
     "metadata": {},
     "output_type": "execute_result"
    }
   ],
   "source": [
    "lista[0]"
   ]
  },
  {
   "cell_type": "code",
   "execution_count": 20,
   "id": "5b14d007-b7f2-46c9-a4c8-456c7fe15c03",
   "metadata": {},
   "outputs": [
    {
     "data": {
      "text/plain": [
       "3"
      ]
     },
     "execution_count": 20,
     "metadata": {},
     "output_type": "execute_result"
    }
   ],
   "source": [
    "len(lista)"
   ]
  },
  {
   "cell_type": "code",
   "execution_count": 21,
   "id": "3d32f138-b26d-437b-8848-b9556a48a3c9",
   "metadata": {},
   "outputs": [
    {
     "data": {
      "text/plain": [
       "True"
      ]
     },
     "execution_count": 21,
     "metadata": {},
     "output_type": "execute_result"
    }
   ],
   "source": [
    "2 in lista"
   ]
  },
  {
   "cell_type": "code",
   "execution_count": 41,
   "id": "6ea0a544-cc08-4341-b682-5e8b4059e234",
   "metadata": {},
   "outputs": [],
   "source": [
    "lista = PositiveIntegerList([1, 2, 3])"
   ]
  },
  {
   "cell_type": "code",
   "execution_count": 26,
   "id": "dcbc029a-66f5-40ec-a37f-56b5fea020fa",
   "metadata": {},
   "outputs": [],
   "source": [
    "# list = __builtin__.list"
   ]
  },
  {
   "cell_type": "code",
   "execution_count": 29,
   "id": "4605172a-ff7b-4b55-951a-ec49d1e6a3bc",
   "metadata": {},
   "outputs": [
    {
     "data": {
      "text/plain": [
       "1"
      ]
     },
     "execution_count": 29,
     "metadata": {},
     "output_type": "execute_result"
    }
   ],
   "source": [
    "lista[0]"
   ]
  },
  {
   "cell_type": "code",
   "execution_count": 30,
   "id": "560ed02b-768b-4b57-9669-bb66a54e65c1",
   "metadata": {},
   "outputs": [
    {
     "data": {
      "text/plain": [
       "3"
      ]
     },
     "execution_count": 30,
     "metadata": {},
     "output_type": "execute_result"
    }
   ],
   "source": [
    "len(lista)"
   ]
  },
  {
   "cell_type": "code",
   "execution_count": 31,
   "id": "fb67e436-0f8c-4bd5-8e2c-2ad226971d4e",
   "metadata": {},
   "outputs": [
    {
     "data": {
      "text/plain": [
       "True"
      ]
     },
     "execution_count": 31,
     "metadata": {},
     "output_type": "execute_result"
    }
   ],
   "source": [
    "2 in lista"
   ]
  },
  {
   "cell_type": "code",
   "execution_count": 36,
   "id": "f1ee7327-1fad-4edf-8f83-2589a3c04074",
   "metadata": {},
   "outputs": [
    {
     "data": {
      "text/plain": [
       "['__class__',\n",
       " '__contains__',\n",
       " '__delattr__',\n",
       " '__dict__',\n",
       " '__dir__',\n",
       " '__doc__',\n",
       " '__eq__',\n",
       " '__firstlineno__',\n",
       " '__format__',\n",
       " '__ge__',\n",
       " '__getattribute__',\n",
       " '__getitem__',\n",
       " '__getstate__',\n",
       " '__gt__',\n",
       " '__hash__',\n",
       " '__init__',\n",
       " '__init_subclass__',\n",
       " '__le__',\n",
       " '__len__',\n",
       " '__lt__',\n",
       " '__module__',\n",
       " '__ne__',\n",
       " '__new__',\n",
       " '__reduce__',\n",
       " '__reduce_ex__',\n",
       " '__repr__',\n",
       " '__setattr__',\n",
       " '__sizeof__',\n",
       " '__static_attributes__',\n",
       " '__str__',\n",
       " '__subclasshook__',\n",
       " '__weakref__',\n",
       " '_data',\n",
       " 'append']"
      ]
     },
     "execution_count": 36,
     "metadata": {},
     "output_type": "execute_result"
    }
   ],
   "source": [
    "dir(lista)"
   ]
  },
  {
   "cell_type": "code",
   "execution_count": 42,
   "id": "be51cb9f-0825-49eb-9336-d9aadb4a01c6",
   "metadata": {},
   "outputs": [],
   "source": [
    "lista.append(1111)"
   ]
  },
  {
   "cell_type": "code",
   "execution_count": 43,
   "id": "b8480a0b-5bfa-4c95-8f5b-39a0a750f1e5",
   "metadata": {},
   "outputs": [
    {
     "data": {
      "text/plain": [
       "True"
      ]
     },
     "execution_count": 43,
     "metadata": {},
     "output_type": "execute_result"
    }
   ],
   "source": [
    "1111 in lista"
   ]
  },
  {
   "cell_type": "code",
   "execution_count": 44,
   "id": "f4c8ed18-9e69-43e3-8f13-1b63bb8d04ef",
   "metadata": {},
   "outputs": [
    {
     "data": {
      "text/plain": [
       "'<__main__.PositiveIntegerList object at 0x10d21e660>'"
      ]
     },
     "execution_count": 44,
     "metadata": {},
     "output_type": "execute_result"
    }
   ],
   "source": [
    "str(lista)"
   ]
  },
  {
   "cell_type": "markdown",
   "id": "34324efc-ffd3-44b6-9c6c-4eb57cef46e3",
   "metadata": {},
   "source": [
    "## Obekt wywolywany"
   ]
  },
  {
   "cell_type": "code",
   "execution_count": 45,
   "id": "ba589dd7-cfef-4bab-9689-829bf4fe01f2",
   "metadata": {},
   "outputs": [],
   "source": [
    "class Multiplier:\n",
    "    def __init__(self, factor):\n",
    "        self.factor = factor\n",
    "\n",
    "    def __call__(self, x):\n",
    "        return x * self.factor"
   ]
  },
  {
   "cell_type": "code",
   "execution_count": 46,
   "id": "24fadc0d-ee30-4b6c-8b0d-590885998a3e",
   "metadata": {},
   "outputs": [],
   "source": [
    "times3 = Multiplier(3)"
   ]
  },
  {
   "cell_type": "code",
   "execution_count": 47,
   "id": "22d57644-6411-46ce-b4bd-3823f8286dd9",
   "metadata": {},
   "outputs": [
    {
     "data": {
      "text/plain": [
       "27"
      ]
     },
     "execution_count": 47,
     "metadata": {},
     "output_type": "execute_result"
    }
   ],
   "source": [
    "times3(9)"
   ]
  },
  {
   "cell_type": "markdown",
   "id": "d9ad7005-fb2a-4fc0-b1f4-a819e2d86cc9",
   "metadata": {},
   "source": [
    "## Deskryptor"
   ]
  },
  {
   "cell_type": "code",
   "execution_count": 55,
   "id": "2d9bf1c4-1358-4ba9-b47d-99b91dccfb80",
   "metadata": {},
   "outputs": [
    {
     "name": "stdout",
     "output_type": "stream",
     "text": [
      "<class '__main__.Account'>\n"
     ]
    },
    {
     "data": {
      "text/plain": [
       "100"
      ]
     },
     "execution_count": 55,
     "metadata": {},
     "output_type": "execute_result"
    }
   ],
   "source": [
    "class PositiveNumber:\n",
    "\n",
    "    def __set_name__(self, owner, name):\n",
    "        self.priv_name = f\"_{name}\"\n",
    "    \n",
    "    def __get__(self, instance, owner):\n",
    "        print(owner)\n",
    "        return instance.__dict__.get(self.priv_name, 0)\n",
    "\n",
    "    def __set__(self, instance, value):\n",
    "        if value < 0:\n",
    "            raise ValueError(\"Value must be positibe\")\n",
    "        instance.__dict__[self.priv_name] = value\n",
    "\n",
    "\n",
    "class Account:\n",
    "    balance = PositiveNumber()\n",
    "    vat = PositiveNumber()\n",
    "\n",
    "    def __init__(self, balance):\n",
    "        self.balance = balance\n",
    "        self.vat = 0\n",
    "\n",
    "\n",
    "acc = Account(100)\n",
    "acc.balance"
   ]
  },
  {
   "cell_type": "code",
   "execution_count": 56,
   "id": "18e46c1c-257e-42f1-873b-71ba933846de",
   "metadata": {},
   "outputs": [
    {
     "data": {
      "text/plain": [
       "{'_balance': 100, '_vat': 0}"
      ]
     },
     "execution_count": 56,
     "metadata": {},
     "output_type": "execute_result"
    }
   ],
   "source": [
    "vars(acc)"
   ]
  },
  {
   "cell_type": "markdown",
   "id": "bc1f5180-24fc-4bec-a9c6-dfcf45563aab",
   "metadata": {},
   "source": [
    "## Cwiczenie:\n",
    "\n",
    "Zaprojektuj deskryptor Email - ktory waliduje format adresu email i przechowuje go w instancji"
   ]
  },
  {
   "cell_type": "code",
   "execution_count": 57,
   "id": "47ee29cc-58de-431f-baa2-6b2dbb943737",
   "metadata": {},
   "outputs": [
    {
     "data": {
      "text/plain": [
       "True"
      ]
     },
     "execution_count": 57,
     "metadata": {},
     "output_type": "execute_result"
    }
   ],
   "source": [
    "\"@\" in \"ala@ma.kota\""
   ]
  },
  {
   "cell_type": "code",
   "execution_count": 79,
   "id": "eb1bbdc5-e743-43b6-82a1-85e5fde4f2e8",
   "metadata": {},
   "outputs": [
    {
     "ename": "AttributeError",
     "evalue": "'str' object has no attribute 'xxx'",
     "output_type": "error",
     "traceback": [
      "\u001b[31m---------------------------------------------------------------------------\u001b[39m",
      "\u001b[31mAttributeError\u001b[39m                            Traceback (most recent call last)",
      "\u001b[36mCell\u001b[39m\u001b[36m \u001b[39m\u001b[32mIn[79]\u001b[39m\u001b[32m, line 33\u001b[39m\n\u001b[32m     31\u001b[39m u = User(\u001b[33m\"\u001b[39m\u001b[33madam@example.com\u001b[39m\u001b[33m\"\u001b[39m)\n\u001b[32m     32\u001b[39m \u001b[38;5;28mvars\u001b[39m(u)\n\u001b[32m---> \u001b[39m\u001b[32m33\u001b[39m \u001b[43mu\u001b[49m\u001b[43m.\u001b[49m\u001b[43memail\u001b[49m\u001b[43m.\u001b[49m\u001b[43mxxx\u001b[49m()\n",
      "\u001b[31mAttributeError\u001b[39m: 'str' object has no attribute 'xxx'"
     ]
    }
   ],
   "source": [
    "import re\n",
    "\n",
    "EMAIL_PATTERN = re.compile(r\"^[\\w\\.]+@\\w+.\\w+$\")\n",
    "\n",
    "class EmailField:\n",
    "\n",
    "\n",
    "    def __set_name__(self, owner, name):\n",
    "        self.priv_name = f\"_{name}\"\n",
    "        self.public_name = name\n",
    "\n",
    "    def __get__(self, instance, owner):\n",
    "        if instance is None:\n",
    "            return self\n",
    "            \n",
    "        return instance.__dict__.get(self.priv_name)\n",
    "\n",
    "    def __set__(self, instance, value):\n",
    "        if not EMAIL_PATTERN.match(value):\n",
    "            raise ValueError(f\"Niepoprawny email w polu {self.name}\")\n",
    "        instance.__dict__[self.priv_name] = value\n",
    "\n",
    "    def xxx(self):\n",
    "        print(\"xxx\")\n",
    "\n",
    "class User:\n",
    "    email = EmailField()\n",
    "    def __init__(self, email):\n",
    "        self.email = email\n",
    "\n",
    "u = User(\"adam@example.com\")\n",
    "vars(u)\n",
    "u.email.xxx()"
   ]
  },
  {
   "cell_type": "code",
   "execution_count": 71,
   "id": "c4554784-3544-4f04-b9a6-6c9b4ef26527",
   "metadata": {},
   "outputs": [
    {
     "ename": "ValueError",
     "evalue": "Niepoprawny email w polu email",
     "output_type": "error",
     "traceback": [
      "\u001b[31m---------------------------------------------------------------------------\u001b[39m",
      "\u001b[31mValueError\u001b[39m                                Traceback (most recent call last)",
      "\u001b[36mCell\u001b[39m\u001b[36m \u001b[39m\u001b[32mIn[71]\u001b[39m\u001b[32m, line 1\u001b[39m\n\u001b[32m----> \u001b[39m\u001b[32m1\u001b[39m \u001b[43mUser\u001b[49m\u001b[43m(\u001b[49m\u001b[33;43m\"\u001b[39;49m\u001b[33;43mxxx\u001b[39;49m\u001b[33;43m\"\u001b[39;49m\u001b[43m)\u001b[49m\n",
      "\u001b[36mCell\u001b[39m\u001b[36m \u001b[39m\u001b[32mIn[70]\u001b[39m\u001b[32m, line 25\u001b[39m, in \u001b[36mUser.__init__\u001b[39m\u001b[34m(self, email)\u001b[39m\n\u001b[32m     24\u001b[39m \u001b[38;5;28;01mdef\u001b[39;00m\u001b[38;5;250m \u001b[39m\u001b[34m__init__\u001b[39m(\u001b[38;5;28mself\u001b[39m, email):\n\u001b[32m---> \u001b[39m\u001b[32m25\u001b[39m     \u001b[38;5;28;43mself\u001b[39;49m\u001b[43m.\u001b[49m\u001b[43memail\u001b[49m = email\n",
      "\u001b[36mCell\u001b[39m\u001b[36m \u001b[39m\u001b[32mIn[70]\u001b[39m\u001b[32m, line 18\u001b[39m, in \u001b[36mEmailField.__set__\u001b[39m\u001b[34m(self, instance, value)\u001b[39m\n\u001b[32m     16\u001b[39m \u001b[38;5;28;01mdef\u001b[39;00m\u001b[38;5;250m \u001b[39m\u001b[34m__set__\u001b[39m(\u001b[38;5;28mself\u001b[39m, instance, value):\n\u001b[32m     17\u001b[39m     \u001b[38;5;28;01mif\u001b[39;00m \u001b[38;5;129;01mnot\u001b[39;00m EMAIL_PATTERN.match(value):\n\u001b[32m---> \u001b[39m\u001b[32m18\u001b[39m         \u001b[38;5;28;01mraise\u001b[39;00m \u001b[38;5;167;01mValueError\u001b[39;00m(\u001b[33mf\u001b[39m\u001b[33m\"\u001b[39m\u001b[33mNiepoprawny email w polu \u001b[39m\u001b[38;5;132;01m{\u001b[39;00m\u001b[38;5;28mself\u001b[39m.name\u001b[38;5;132;01m}\u001b[39;00m\u001b[33m\"\u001b[39m)\n\u001b[32m     19\u001b[39m     instance.\u001b[34m__dict__\u001b[39m[\u001b[38;5;28mself\u001b[39m.name] = value\n",
      "\u001b[31mValueError\u001b[39m: Niepoprawny email w polu email"
     ]
    }
   ],
   "source": [
    "User(\"xxx\")"
   ]
  },
  {
   "cell_type": "markdown",
   "id": "86713abe-eaa6-4b36-87fd-68426ee23a5d",
   "metadata": {},
   "source": [
    "Stwórz deskryptor `HistoryField`, który zapisuje historię zmian wartości w liście."
   ]
  },
  {
   "cell_type": "code",
   "execution_count": 80,
   "id": "d0263bd1-d24a-4d53-82ef-e00482dfe02d",
   "metadata": {},
   "outputs": [
    {
     "name": "stdout",
     "output_type": "stream",
     "text": [
      "12\n"
     ]
    },
    {
     "ename": "AttributeError",
     "evalue": "'NoneType' object has no attribute '__dict__'",
     "output_type": "error",
     "traceback": [
      "\u001b[31m---------------------------------------------------------------------------\u001b[39m",
      "\u001b[31mAttributeError\u001b[39m                            Traceback (most recent call last)",
      "\u001b[36mCell\u001b[39m\u001b[36m \u001b[39m\u001b[32mIn[80]\u001b[39m\u001b[32m, line 31\u001b[39m\n\u001b[32m     29\u001b[39m item.price = \u001b[32m12\u001b[39m\n\u001b[32m     30\u001b[39m \u001b[38;5;28mprint\u001b[39m(item.price) \n\u001b[32m---> \u001b[39m\u001b[32m31\u001b[39m \u001b[38;5;28mprint\u001b[39m(\u001b[43mProduct\u001b[49m\u001b[43m.\u001b[49m\u001b[43mprice\u001b[49m.history(item))\n\u001b[32m     32\u001b[39m [\u001b[32m10\u001b[39m, \u001b[32m12\u001b[39m]\n",
      "\u001b[36mCell\u001b[39m\u001b[36m \u001b[39m\u001b[32mIn[80]\u001b[39m\u001b[32m, line 8\u001b[39m, in \u001b[36mHistoryField.__get__\u001b[39m\u001b[34m(self, instance, owner)\u001b[39m\n\u001b[32m      7\u001b[39m \u001b[38;5;28;01mdef\u001b[39;00m\u001b[38;5;250m \u001b[39m\u001b[34m__get__\u001b[39m(\u001b[38;5;28mself\u001b[39m, instance, owner):\n\u001b[32m----> \u001b[39m\u001b[32m8\u001b[39m     \u001b[38;5;28;01mreturn\u001b[39;00m \u001b[43minstance\u001b[49m\u001b[43m.\u001b[49m\u001b[34;43m__dict__\u001b[39;49m.get(\u001b[38;5;28mself\u001b[39m.name)\n",
      "\u001b[31mAttributeError\u001b[39m: 'NoneType' object has no attribute '__dict__'"
     ]
    }
   ],
   "source": [
    "\n",
    "class HistoryField:\n",
    "\n",
    "    def __init__(self, name: str):\n",
    "        self.name = name\n",
    "        self.history_name = f\"_{name}_history\"\n",
    "\n",
    "    def __get__(self, instance, owner):\n",
    "        return instance.__dict__.get(self.name)\n",
    "\n",
    "    def __set__(self, instance, value):\n",
    "        history = instance.__dict__.setdefault(self.history_name, [])\n",
    "        history.append(value)\n",
    "        instance.__dict__[self.name] = value\n",
    "\n",
    "    def history(self, instance):\n",
    "        return instance.__dict__.get(self.history_name, [])\n",
    "\n",
    "\n",
    "class Product:\n",
    "    price = HistoryField(\"price\")\n",
    "\n",
    "    def __init__(self, price):\n",
    "        self.price = price\n",
    "\n",
    "\n",
    "\n",
    "\n",
    "item = Product(10)\n",
    "item.price = 12\n",
    "print(item.price) \n",
    "print(Product.price.history(item))\n",
    "[10, 12]\n"
   ]
  },
  {
   "cell_type": "code",
   "execution_count": null,
   "id": "864ca4f9-4eab-4849-80dd-d95342223990",
   "metadata": {},
   "outputs": [],
   "source": []
  }
 ],
 "metadata": {
  "kernelspec": {
   "display_name": "Python 3 (ipykernel)",
   "language": "python",
   "name": "python3"
  },
  "language_info": {
   "codemirror_mode": {
    "name": "ipython",
    "version": 3
   },
   "file_extension": ".py",
   "mimetype": "text/x-python",
   "name": "python",
   "nbconvert_exporter": "python",
   "pygments_lexer": "ipython3",
   "version": "3.13.8"
  }
 },
 "nbformat": 4,
 "nbformat_minor": 5
}
