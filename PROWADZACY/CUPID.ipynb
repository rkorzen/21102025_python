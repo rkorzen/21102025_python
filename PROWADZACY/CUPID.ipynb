{
 "cells": [
  {
   "cell_type": "markdown",
   "id": "afbb2f5e-71b1-406a-9eea-af257eec59fd",
   "metadata": {},
   "source": [
    "# CUPID\n",
    "\n",
    "## C - Composition over inheritance"
   ]
  },
  {
   "cell_type": "code",
   "execution_count": 3,
   "id": "9c7fb5a0-949b-4686-9516-42a39fa986d8",
   "metadata": {},
   "outputs": [],
   "source": [
    "# zle\n",
    "\n",
    "class Animal:\n",
    "\n",
    "    def speak(self):\n",
    "        pass\n",
    "\n",
    "class Dog(Animal):\n",
    "    def speak(): return \"Woof\"\n",
    "\n",
    "class Cat(Animal):\n",
    "    def speak(): return \"Miau\"\n",
    "\n"
   ]
  },
  {
   "cell_type": "code",
   "execution_count": 4,
   "id": "12d03886-40c1-4c02-895c-892e0111c8b2",
   "metadata": {},
   "outputs": [],
   "source": [
    "class Speaker:\n",
    "    sound = \"\"\n",
    "    def speak(self): return self.sound\n",
    "\n",
    "class Woof(Speaker):\n",
    "    sound = \"woof\"\n",
    "\n",
    "class Miau(Speaker):\n",
    "    sound = \"miau\"\n",
    "    \n",
    "class Animal:\n",
    "\n",
    "    def __init__(self, speaker: Speaker):\n",
    "        self.speaker = speaker\n",
    "\n",
    "    def speak(self):\n",
    "        self.speaker.speak()\n"
   ]
  },
  {
   "cell_type": "markdown",
   "id": "d4748860-205c-4ae7-9486-1df1c47b24b2",
   "metadata": {},
   "source": [
    "## U - Unix philosophy"
   ]
  },
  {
   "cell_type": "code",
   "execution_count": 7,
   "id": "d3c41f16-cb60-42a2-b5c6-17690689e7bd",
   "metadata": {},
   "outputs": [],
   "source": [
    "# zle\n",
    "class UserManager:\n",
    "\n",
    "    \n",
    "    def create_user(self, username):\n",
    "        print(f\"User {username} created\")\n",
    "        self.log_action(username, \"create\")\n",
    "\n",
    "    def log_action(self, username, action):\n",
    "        print(f\"Logged {action} for {username}\")\n"
   ]
  },
  {
   "cell_type": "code",
   "execution_count": 10,
   "id": "48331916-3686-48ef-9044-babde71081db",
   "metadata": {},
   "outputs": [
    {
     "name": "stdout",
     "output_type": "stream",
     "text": [
      "User John Doe created\n",
      "Logged create for John Doe\n"
     ]
    }
   ],
   "source": [
    "class ActionLogger:\n",
    "    def log_action(self, username, action):\n",
    "        print(f\"Logged {action} for {username}\")\n",
    "\n",
    "\n",
    "class UserManager:\n",
    "\n",
    "    def __init__(self, logger: ActionLogger):\n",
    "        self.logger = logger\n",
    "        \n",
    "    def create_user(self, username):\n",
    "        print(f\"User {username} created\")\n",
    "        self.logger.log_action(username, \"create\")\n",
    "\n",
    "\n",
    "\n",
    "logger = ActionLogger()\n",
    "creator = UserManager(logger)\n",
    "\n",
    "username = \"John Doe\"\n",
    "creator.create_user(username)\n"
   ]
  },
  {
   "cell_type": "markdown",
   "id": "aae18e90-f8ba-40db-b6f5-2f54448f0a5a",
   "metadata": {},
   "source": [
    "## P - predictability"
   ]
  },
  {
   "cell_type": "code",
   "execution_count": 12,
   "id": "17125b4d-0b99-4263-bb0b-5528c6b40cc6",
   "metadata": {},
   "outputs": [],
   "source": [
    "class Calculator:\n",
    "    def calculate(self, a, b, operation):\n",
    "        if operation == \"add\":\n",
    "            return a + b \n",
    "        elif operation == \"sub\":\n",
    "            return a - b\n",
    "        elif operation == \"mul\":\n",
    "            return a * b\n",
    "        else:\n",
    "            raise ValueError(\"Invalida operation\")\n",
    "            "
   ]
  },
  {
   "cell_type": "code",
   "execution_count": 15,
   "id": "a14ade1a-1b46-433d-863f-0fadd5a1aed2",
   "metadata": {},
   "outputs": [
    {
     "data": {
      "text/plain": [
       "5"
      ]
     },
     "execution_count": 15,
     "metadata": {},
     "output_type": "execute_result"
    }
   ],
   "source": [
    "class Adder:\n",
    "    def calculate(self, a, b):\n",
    "        return a + b\n",
    "\n",
    "class Substractor:\n",
    "    def calculate(self, a, b):\n",
    "        return a - b\n",
    "\n",
    "adder = Adder()\n",
    "adder.calculate(2, 3)"
   ]
  },
  {
   "cell_type": "markdown",
   "id": "47174778-3437-4b07-9a9d-467e3fb497a3",
   "metadata": {},
   "source": [
    "## I - interfejsy (interfejsy zamiast implementacji)\n",
    "\n"
   ]
  },
  {
   "cell_type": "code",
   "execution_count": 18,
   "id": "4dd6a8eb-2292-4a58-ba74-f3be04924087",
   "metadata": {},
   "outputs": [],
   "source": [
    "from abc import ABC, abstractmethod"
   ]
  },
  {
   "cell_type": "code",
   "execution_count": 22,
   "id": "4a27355a-6384-4a21-8d48-216d0b9f17b3",
   "metadata": {},
   "outputs": [],
   "source": [
    "class FileProcessor:\n",
    "    def read_file(self, filepath):\n",
    "        with open(filepath, \"r\") as file:\n",
    "            return file.read()"
   ]
  },
  {
   "cell_type": "code",
   "execution_count": 26,
   "id": "702a9b55-7499-483a-b756-5c394bdd6e04",
   "metadata": {},
   "outputs": [
    {
     "data": {
      "text/plain": [
       "'## Checklist przed zajęciami\\n\\n- [ ] Sprawdź, czy środowisko wirtualne jest aktywne i ma zainstalowane potrzebne pakiety (`pytest`, `jupyter`, `ipython`).\\n- [ ] Uruchom próbnie każdy z notatników (`01_podstawy.ipynb`, `02_funkcje.ipynb`, `OOP.ipynb` i pozostałe) – upewnij się, że wszystkie komórki wykonują się bez błędów.\\n- [ ] Przejrzyj skrypty demonstracyjne (`przyklad.py`, `przyklad2.py`, `dekorator_cache.py`, `logowanie/przyklad.py`) i przygotuj krótkie wprowadzenie do każdego tematu.\\n- [ ] W katalogu `cwiczenie_kalkulator/` przygotuj pokaz działania kalkulatora oraz uruchomienie testów `pytest -q`.\\n- [ ] W katalogu `wprowadzenie_do_testow/` uruchom zarówno `pytest`, jak i `python -m unittest` dla przykładowych testów.\\n- [ ] Zadbaj o czystość repozytorium: usuń pliki tymczasowe i sprawdź `git status` przed zajęciami.\\n\\n## Przydatne polecenia\\n\\n```bash\\n# Uruchomienie wszystkich testów w katalogu prowadzącego\\npytest PROWADZACY\\n\\n# Sprawdzenie notatnika w trybie tylko do odczytu (bez uruchamiania)\\njupyter nbconvert --to html --execute 01_podstawy.ipynb\\n```\\n\\nDodawaj własne notatki poniżej, aby mieć je pod ręką.\\n'"
      ]
     },
     "execution_count": 26,
     "metadata": {},
     "output_type": "execute_result"
    }
   ],
   "source": [
    "class FileReader(ABC):\n",
    "    @abstractmethod\n",
    "    def read(self, filepath):\n",
    "        pass\n",
    "\n",
    "class LocalFileReder(FileReader):\n",
    "    def read(self, filepath):\n",
    "        with open(filepath, \"r\") as file:\n",
    "            return file.read()\n",
    "\n",
    "class FileProcessor:\n",
    "\n",
    "    def read_file(self, reader: FileReader, filepath):\n",
    "        return reader.read(filepath)\n",
    "\n",
    "reader = LocalFileReder()\n",
    "FileProcessor().read_file(reader, \"help.md\")"
   ]
  },
  {
   "cell_type": "markdown",
   "id": "e15dd0ea-2bc4-4876-99b2-82db65aff8bb",
   "metadata": {},
   "source": [
    "## Domain driven desing"
   ]
  },
  {
   "cell_type": "code",
   "execution_count": 28,
   "id": "69236572-9f41-48ae-a169-7991c4837794",
   "metadata": {},
   "outputs": [],
   "source": [
    "class Processor:\n",
    "    def process(self, data): ...\n"
   ]
  },
  {
   "cell_type": "code",
   "execution_count": null,
   "id": "e7f7c61f-d31f-4568-b806-8ade1643207d",
   "metadata": {},
   "outputs": [],
   "source": [
    "class InvoiceProcess:\n",
    "    def proces_invoice(self, invoice): ..."
   ]
  },
  {
   "cell_type": "markdown",
   "id": "fcb77bc4-963c-4440-a211-3bbb4ecd3c93",
   "metadata": {},
   "source": [
    "Roznice w podejsciu solid vs CUPID"
   ]
  },
  {
   "cell_type": "code",
   "execution_count": 30,
   "id": "32a5ea16-f279-4afb-996e-1021ec40dfcf",
   "metadata": {},
   "outputs": [
    {
     "name": "stdout",
     "output_type": "stream",
     "text": [
      "80.0\n"
     ]
    }
   ],
   "source": [
    "from abc import ABC, abstractmethod\n",
    "\n",
    "class Discount(ABC):\n",
    "    @abstractmethod\n",
    "    def apply_discount(self, price):\n",
    "        pass\n",
    "\n",
    "class RegularDiscount(Discount):\n",
    "    def apply_discount(self, price):\n",
    "        return price * 0.9\n",
    "\n",
    "class VIPDiscount(Discount):\n",
    "    def apply_discount(self, price):\n",
    "        return price * 0.8\n",
    "\n",
    "# Użycie\n",
    "discount = VIPDiscount()\n",
    "print(discount.apply_discount(100))"
   ]
  },
  {
   "cell_type": "code",
   "execution_count": 31,
   "id": "8b26b810-7e5d-4960-876e-2069bebb9206",
   "metadata": {},
   "outputs": [
    {
     "name": "stdout",
     "output_type": "stream",
     "text": [
      "80.0\n"
     ]
    }
   ],
   "source": [
    "def apply_regular_discount(price):\n",
    "    return price * 0.9\n",
    "\n",
    "def apply_vip_discount(price):\n",
    "    return price * 0.8\n",
    "\n",
    "# Użycie\n",
    "print(apply_vip_discount(100))"
   ]
  },
  {
   "cell_type": "code",
   "execution_count": null,
   "id": "d4ebb151-a65a-46a1-81bf-a90bba4818d6",
   "metadata": {},
   "outputs": [],
   "source": []
  }
 ],
 "metadata": {
  "kernelspec": {
   "display_name": "Python 3 (ipykernel)",
   "language": "python",
   "name": "python3"
  },
  "language_info": {
   "codemirror_mode": {
    "name": "ipython",
    "version": 3
   },
   "file_extension": ".py",
   "mimetype": "text/x-python",
   "name": "python",
   "nbconvert_exporter": "python",
   "pygments_lexer": "ipython3",
   "version": "3.13.8"
  }
 },
 "nbformat": 4,
 "nbformat_minor": 5
}
