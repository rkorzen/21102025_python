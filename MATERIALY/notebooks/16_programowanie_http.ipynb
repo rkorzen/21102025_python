{
  "cells": [
    {
      "cell_type": "markdown",
      "metadata": {},
      "source": [
        "# Programowanie HTTP w Pythonie\n",
        "\n",
        "Od prostych zapytań po asynchroniczne klienty i mini API.\n"
      ]
    },
    {
      "cell_type": "markdown",
      "metadata": {},
      "source": [
        "## Cele\n",
        "- opanować podstawy pracy z biblioteką `requests`\n",
        "- poznać asynchroniczne podejście (`aiohttp`)\n",
        "- zbudować szkic API z FastAPI / Flask\n"
      ]
    },
    {
      "cell_type": "markdown",
      "metadata": {},
      "source": [
        "## Klient synchroniczny `requests`\n",
        "Najprostsza droga do wysyłania zapytań HTTP.\n"
      ]
    },
    {
      "cell_type": "code",
      "execution_count": null,
      "metadata": {},
      "outputs": [],
      "source": [
        "import requests\n",
        "\n",
        "response = requests.get(\"https://httpbin.org/get\", params={\"q\": \"python\"})\n",
        "print(response.status_code)\n",
        "print(response.json()[\"args\"])\n"
      ]
    },
    {
      "cell_type": "markdown",
      "metadata": {},
      "source": [
        "## Klient asynchroniczny `aiohttp`\n",
        "Asynchroniczność obsługuje wiele zapytań jednocześnie bez blokowania.\n"
      ]
    },
    {
      "cell_type": "code",
      "execution_count": null,
      "metadata": {},
      "outputs": [],
      "source": [
        "import asyncio\n",
        "import aiohttp\n",
        "\n",
        "async def fetch(session, url):\n",
        "    async with session.get(url) as resp:\n",
        "        data = await resp.json()\n",
        "        return url, data[\"url\"]\n",
        "\n",
        "async def main():\n",
        "    urls = [\"https://httpbin.org/get\" for _ in range(3)]\n",
        "    async with aiohttp.ClientSession() as session:\n",
        "        tasks = [fetch(session, url) for url in urls]\n",
        "        for result in await asyncio.gather(*tasks):\n",
        "            print(result)\n",
        "\n",
        "asyncio.run(main())\n"
      ]
    },
    {
      "cell_type": "markdown",
      "metadata": {},
      "source": [
        "## Mini API z FastAPI\n",
        "FastAPI pozwala szybko tworzyć RESTowe endpoints z walidacją Pydantic.\n"
      ]
    },
    {
      "cell_type": "code",
      "execution_count": null,
      "metadata": {},
      "outputs": [],
      "source": [
        "api_example = \"\"\"\n",
        "from fastapi import FastAPI\n",
        "from pydantic import BaseModel\n",
        "\n",
        "app = FastAPI()\n",
        "\n",
        "class Item(BaseModel):\n",
        "    name: str\n",
        "    price: float\n",
        "\n",
        "@app.post(\"/items\")\n",
        "def create_item(item: Item):\n",
        "    return {\"status\": \"ok\", \"item\": item}\n",
        "\n",
        "# uruchom: uvicorn main:app --reload\n",
        "\"\"\"\n",
        "print(api_example)\n"
      ]
    },
    {
      "cell_type": "markdown",
      "metadata": {},
      "source": [
        "**Podsumowanie:** HTTP w Pythonie obejmuje synchroniczne i asynchroniczne biblioteki oraz lekkie frameworki.\n",
        "\n",
        "**Pytanie kontrolne:** Dlaczego `asyncio` lepiej skaluje się przy wielu zapytaniach?\n"
      ]
    },
    {
      "cell_type": "markdown",
      "metadata": {},
      "source": [
        "### 🧩 Zadanie 1\n",
        "Napisz funkcję, która pobiera listę URL-i przy użyciu `requests` i zwraca słownik `url -> status`.\n"
      ]
    },
    {
      "cell_type": "code",
      "execution_count": null,
      "metadata": {},
      "outputs": [],
      "source": [
        "# Rozwiązanie Zadania 1\n",
        "import requests\n",
        "\n",
        "def fetch_status(urls):\n",
        "    result = {}\n",
        "    for url in urls:\n",
        "        try:\n",
        "            resp = requests.head(url, timeout=3)\n",
        "            result[url] = resp.status_code\n",
        "        except requests.RequestException as exc:\n",
        "            result[url] = str(exc)\n",
        "    return result\n",
        "\n",
        "print(fetch_status([\"https://python.org\", \"https://httpbin.org/status/404\"]))\n"
      ]
    },
    {
      "cell_type": "markdown",
      "metadata": {},
      "source": [
        "### 🧩 Zadanie 2\n",
        "Przygotuj asynchroniczną funkcję, która pobierze dane JSON z wielu endpointów i połączy je w jedną listę rekordów.\n"
      ]
    },
    {
      "cell_type": "code",
      "execution_count": null,
      "metadata": {},
      "outputs": [],
      "source": [
        "# Rozwiązanie Zadania 2\n",
        "import asyncio\n",
        "import aiohttp\n",
        "\n",
        "async def fetch_all(urls):\n",
        "    async with aiohttp.ClientSession() as session:\n",
        "        tasks = [session.get(url) for url in urls]\n",
        "        results = []\n",
        "        for task in asyncio.as_completed(tasks):\n",
        "            async with (await task) as resp:\n",
        "                results.append(await resp.json())\n",
        "        return results\n",
        "\n",
        "print(asyncio.run(fetch_all([\"https://httpbin.org/json\", \"https://httpbin.org/get\"])))\n"
      ]
    }
  ],
  "metadata": {
    "kernelspec": {
      "display_name": "Python 3",
      "language": "python",
      "name": "python3"
    },
    "language_info": {
      "name": "python",
      "version": "3.10"
    }
  },
  "nbformat": 4,
  "nbformat_minor": 5
}