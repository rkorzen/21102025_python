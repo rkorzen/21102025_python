{
 "cells": [
  {
   "cell_type": "markdown",
   "metadata": {},
   "source": [
    "# Wzorce projektowe w Pythonie\n",
    "\n",
    "Stopniowe wprowadzenie od prostych idiomów do złożonych schematów projektowych.\n"
   ],
   "id": "f9e5af443401800e"
  },
  {
   "cell_type": "markdown",
   "metadata": {},
   "source": [
    "## Cele\n",
    "- zrozumieć rolę wzorców projektowych w dynamicznym języku jak Python\n",
    "- przećwiczyć implementację wzorców poprzez idiomy i biblioteki standardowe\n",
    "- wybrać właściwy wzorzec w zależności od problemu\n"
   ],
   "id": "4d164442be8418d4"
  },
  {
   "cell_type": "markdown",
   "metadata": {},
   "source": [
    "## Wprowadzenie\n",
    "Wzorce projektowe to potwierdzone rozwiązania typowych problemów architektonicznych.\n",
    "W Pythonie wiele z nich przyjmuje uproszczoną formę dzięki funkcjom pierwszej klasy,\n",
    "modułom i dynamicznym atrybutom. Zaczniemy od kreacyjnych idiomów.\n"
   ],
   "id": "5648316491a80c8a"
  },
  {
   "cell_type": "markdown",
   "metadata": {},
   "source": [
    "## Fabryki i rejestry\n",
    "Fabryka upraszcza tworzenie obiektów, ukrywając logikę wyboru typu.\n",
    "Rejestr klas pomaga rozszerzać system bez edycji istniejącego kodu.\n"
   ],
   "id": "6122bac3e65d18ca"
  },
  {
   "cell_type": "code",
   "execution_count": null,
   "metadata": {},
   "outputs": [],
   "source": [
    "from dataclasses import dataclass\n",
    "\n",
    "@dataclass\n",
    "class CsvExporter:\n",
    "    delimiter: str = \",\"\n",
    "\n",
    "    def export(self, rows):\n",
    "        return \"\".join(self.delimiter.join(row) for row in rows)\n",
    "\n",
    "@dataclass\n",
    "class JsonExporter:\n",
    "    indent: int = 2\n",
    "\n",
    "    def export(self, rows):\n",
    "        import json  # import lokalny, by ograniczyć zależność\n",
    "        return json.dumps(rows, indent=self.indent)\n",
    "\n",
    "EXPORTERS = {}\n",
    "\n",
    "def register_exporter(name: str):\n",
    "    \"\"\"Dekorator rejestrujący klasę eksportera pod zadanym kluczem.\"\"\"\n",
    "    def wrapper(cls):\n",
    "        EXPORTERS[name] = cls\n",
    "        return cls\n",
    "    return wrapper\n",
    "\n",
    "@register_exporter(\"csv\")\n",
    "class RegisteredCsv(CsvExporter):\n",
    "    pass\n",
    "\n",
    "@register_exporter(\"json\")\n",
    "class RegisteredJson(JsonExporter):\n",
    "    pass\n",
    "\n",
    "def create_exporter(kind: str, **kwargs):\n",
    "    cls = EXPORTERS[kind]\n",
    "    return cls(**kwargs)\n",
    "\n",
    "rows = [[\"imie\", \"wiek\"], [\"Ada\", \"28\"]]\n",
    "exporter = create_exporter(\"csv\")\n",
    "print(exporter.export(rows))\n"
   ],
   "id": "8c16fdc33ae32aa0"
  },
  {
   "cell_type": "markdown",
   "metadata": {},
   "source": [
    "## Wzorzec Strategia\n",
    "Strategia pozwala wymieniać algorytm w locie. W Pythonie często używamy funkcji\n",
    "lub obiektów wywoływalnych jako strategii.\n"
   ],
   "id": "34ee74c125db50a6"
  },
  {
   "cell_type": "code",
   "execution_count": null,
   "metadata": {},
   "outputs": [],
   "source": [
    "from typing import Callable\n",
    "\n",
    "# Strategie naliczania podatku jako funkcje\n",
    "\n",
    "def tax_flat(amount: float) -> float:\n",
    "    return amount * 0.19  # stała stawka liniowa\n",
    "\n",
    "\n",
    "def tax_progressive(amount: float) -> float:\n",
    "    return amount * 0.17 if amount <= 120000 else amount * 0.32\n",
    "\n",
    "\n",
    "class TaxCalculator:\n",
    "    def __init__(self, strategy: Callable[[float], float]):\n",
    "        self.strategy = strategy\n",
    "\n",
    "    def compute(self, amount: float) -> float:\n",
    "        return self.strategy(amount)\n",
    "\n",
    "\n",
    "calc = TaxCalculator(tax_flat)\n",
    "print(calc.compute(10_000))\n",
    "calc.strategy = tax_progressive  # zmiana algorytmu w trakcie działania\n",
    "print(calc.compute(200_000))\n"
   ],
   "id": "1c7d7c30fac88535"
  },
  {
   "cell_type": "markdown",
   "metadata": {},
   "source": [
    "## Wzorzec Obserwator\n",
    "Obserwator pozwala reagować na zdarzenia bez ścisłego sprzężenia klas.\n",
    "Pythonowe listy wywołań i funkcje anonimowe upraszczają implementację.\n"
   ],
   "id": "8370c47d02efe3af"
  },
  {
   "cell_type": "code",
   "metadata": {
    "ExecuteTime": {
     "end_time": "2025-10-23T10:30:27.790291Z",
     "start_time": "2025-10-23T10:30:27.783591Z"
    }
   },
   "source": [
    "class EventBus:\n",
    "    def __init__(self):\n",
    "        self._subscribers: dict[str, list] = {}\n",
    "\n",
    "    def subscribe(self, topic: str, handler):\n",
    "        handlers = self._subscribers.setdefault(topic, [])\n",
    "        handlers.append(handler)\n",
    "\n",
    "    def publish(self, topic: str, payload):\n",
    "        for handler in self._subscribers.get(topic, []):\n",
    "            handler(payload)\n",
    "\n",
    "bus = EventBus()\n",
    "bus.subscribe(\"user_registered\", lambda data: print(\"Witamy\", data[\"name\"]))\n",
    "bus.subscribe(\"user_logout\", lambda data: print(\"Żegnamy\", data[\"name\"]))\n",
    "bus.publish(\"user_registered\", {\"name\": \"Celina\"})\n",
    "bus.publish(\"user_registered\", {\"name\": \"Rafal\"})\n",
    "\n",
    "bus.publish(\"user_logout\", {\"name\": \"Celina\"})\n",
    "bus.publish(\"user_logout\", {\"name\": \"Rafal\"})\n"
   ],
   "id": "74290cc9c9970b9d",
   "outputs": [
    {
     "name": "stdout",
     "output_type": "stream",
     "text": [
      "Witamy Celina\n",
      "Witamy Rafal\n",
      "Żegnamy Celina\n",
      "Żegnamy Rafal\n"
     ]
    }
   ],
   "execution_count": 3
  },
  {
   "cell_type": "markdown",
   "metadata": {},
   "source": [
    "**Podsumowanie:** Wzorce w Pythonie często wyrażamy prostymi idiomami.\n",
    "\n",
    "**Pytanie kontrolne:** Jakie zalety ma strategia oparta o funkcje zamiast klas?\n"
   ],
   "id": "6a4bc50235ed8327"
  },
  {
   "cell_type": "markdown",
   "metadata": {},
   "source": [
    "### 🧩 Zadanie 1\n",
    "Zaimplementuj wzorzec Polecenie (`Command`), który pozwoli rejestrować działania\n",
    "w kolejce i wycofywać ostatnie polecenie.\n"
   ],
   "id": "b77340c375ea5267"
  },
  {
   "cell_type": "code",
   "execution_count": null,
   "metadata": {},
   "outputs": [],
   "source": [
    "# Rozwiązanie Zadania 1\n",
    "from collections import deque\n",
    "\n",
    "class Command:\n",
    "    def __init__(self, do, undo, description: str):\n",
    "        self.do = do\n",
    "        self.undo = undo\n",
    "        self.description = description\n",
    "\n",
    "class CommandProcessor:\n",
    "    def __init__(self):\n",
    "        self._history = deque()\n",
    "\n",
    "    def execute(self, command: Command):\n",
    "        command.do()\n",
    "        self._history.append(command)\n",
    "        print(\"Wykonano:\", command.description)\n",
    "\n",
    "    def undo_last(self):\n",
    "        command = self._history.pop()\n",
    "        command.undo()\n",
    "        print(\"Cofnięto:\", command.description)\n",
    "\n",
    "state = {\"balance\": 0}\n",
    "\n",
    "cmd_inc = Command(\n",
    "    do=lambda: state.update(balance=state[\"balance\"] + 100),\n",
    "    undo=lambda: state.update(balance=state[\"balance\"] - 100),\n",
    "    description=\"Zwiększenie środków\",\n",
    ")\n",
    "\n",
    "processor = CommandProcessor()\n",
    "processor.execute(cmd_inc)\n",
    "print(state)\n",
    "processor.undo_last()\n",
    "print(state)\n"
   ],
   "id": "873e80c0ff6c3580"
  },
  {
   "cell_type": "markdown",
   "metadata": {},
   "source": [
    "### 🧩 Zadanie 2\n",
    "Stwórz rejestr pluginów, który pozwoli dekoratorem `@plugin(\"nazwa\")`\n",
    "dodawać nowe funkcje przetwarzające dane, a następnie uruchomić je wszystkie\n",
    "na przekazanym wejściu.\n"
   ],
   "id": "46c501c8b1f08bf9"
  },
  {
   "cell_type": "code",
   "execution_count": null,
   "metadata": {},
   "outputs": [],
   "source": [
    "# Rozwiązanie Zadania 2\n",
    "PLUGINS: dict[str, list] = {}\n",
    "\n",
    "def plugin(name: str):\n",
    "    def decorator(func):\n",
    "        PLUGINS.setdefault(name, []).append(func)\n",
    "        return func\n",
    "    return decorator\n",
    "\n",
    "@plugin(\"sanitize\")\n",
    "def strip_whitespace(text: str) -> str:\n",
    "    return text.strip()\n",
    "\n",
    "@plugin(\"sanitize\")\n",
    "def to_lower(text: str) -> str:\n",
    "    return text.lower()\n",
    "\n",
    "def run_plugins(group: str, value: str) -> str:\n",
    "    result = value\n",
    "    for func in PLUGINS.get(group, []):\n",
    "        result = func(result)\n",
    "    return result\n",
    "\n",
    "print(run_plugins(\"sanitize\", \"  Witaj Świecie  \"))\n"
   ],
   "id": "7f5bb45bb12df5a6"
  }
 ],
 "metadata": {
  "kernelspec": {
   "display_name": "Python 3",
   "language": "python",
   "name": "python3"
  },
  "language_info": {
   "name": "python",
   "version": "3.10"
  }
 },
 "nbformat": 4,
 "nbformat_minor": 5
}
