{
 "cells": [
  {
   "cell_type": "markdown",
   "id": "196e7757",
   "metadata": {},
   "source": [
    "# Deskryptory i protokół atrybutów\n",
    "\n",
    "Od właściwości prostych po kontrolę dostępu i cache na poziomie klasy.\n"
   ]
  },
  {
   "cell_type": "markdown",
   "id": "a6395b10",
   "metadata": {},
   "source": [
    "## Cele\n",
    "- zrozumieć protokół `__get__`, `__set__`, `__delete__`\n",
    "- stworzyć deskryptor walidujący i pamiętający dane per instancja\n",
    "- poznać `@property` jako uproszczony deskryptor\n"
   ]
  },
  {
   "cell_type": "markdown",
   "id": "e132c38c",
   "metadata": {},
   "source": [
    "## `@property` jako deskryptor\n",
    "Każde `property` to obiekt implementujący protokół deskryptora.\n"
   ]
  },
  {
   "cell_type": "code",
   "execution_count": null,
   "id": "3daa09e7",
   "metadata": {},
   "outputs": [],
   "source": [
    "class Temperature:\n",
    "    def __init__(self, celsius: float):\n",
    "        self._celsius = celsius\n",
    "\n",
    "    @property\n",
    "    def celsius(self) -> float:\n",
    "        return self._celsius\n",
    "\n",
    "    @celsius.setter\n",
    "    def celsius(self, value: float):\n",
    "        if value < -273.15:\n",
    "            raise ValueError(\"Niemożliwa temperatura\")\n",
    "        self._celsius = value\n",
    "\n",
    "room = Temperature(20.0)\n",
    "room.celsius = 22\n",
    "print(room.celsius)\n"
   ]
  },
  {
   "cell_type": "markdown",
   "id": "64f0157f",
   "metadata": {},
   "source": [
    "## Własny deskryptor walidujący\n",
    "Tworzymy deskryptor wielokrotnego użytku przechowujący dane w `__dict__` instancji.\n"
   ]
  },
  {
   "cell_type": "code",
   "execution_count": null,
   "id": "c9eeb508",
   "metadata": {},
   "outputs": [],
   "source": [
    "class PositiveNumber:\n",
    "    def __init__(self, name: str):\n",
    "        self.name = name\n",
    "\n",
    "    def __get__(self, instance, owner):\n",
    "        if instance is None:\n",
    "            return self\n",
    "        return instance.__dict__[self.name]\n",
    "\n",
    "    def __set__(self, instance, value):\n",
    "        if value <= 0:\n",
    "            raise ValueError(\"Wartość musi być dodatnia\")\n",
    "        instance.__dict__[self.name] = value\n",
    "\n",
    "class Account:\n",
    "    balance = PositiveNumber(\"balance\")\n",
    "\n",
    "    def __init__(self, balance: float):\n",
    "        self.balance = balance\n",
    "\n",
    "account = Account(100)\n",
    "account.balance = 50\n",
    "print(account.balance)\n"
   ]
  },
  {
   "cell_type": "markdown",
   "id": "65665ef9",
   "metadata": {},
   "source": [
    "## Deskryptor obliczany z cache\n",
    "`functools.cached_property` to przykład deskryptora obliczającego wartość raz.\n"
   ]
  },
  {
   "cell_type": "code",
   "execution_count": null,
   "id": "39520d5b",
   "metadata": {},
   "outputs": [],
   "source": [
    "from functools import cached_property\n",
    "\n",
    "class Matrix:\n",
    "    def __init__(self, data):\n",
    "        self.data = data\n",
    "\n",
    "    @cached_property\n",
    "    def determinant(self):\n",
    "        # uproszczony przypadek dla macierzy 2x2\n",
    "        a, b = self.data[0]\n",
    "        c, d = self.data[1]\n",
    "        print(\"Liczę wyznacznik...\")\n",
    "        return a * d - b * c\n",
    "\n",
    "m = Matrix([[1, 2], [3, 4]])\n",
    "print(m.determinant)\n",
    "print(m.determinant)\n"
   ]
  },
  {
   "cell_type": "markdown",
   "id": "ff60a165",
   "metadata": {},
   "source": [
    "**Podsumowanie:** Deskryptory umożliwiają ponowne wykorzystanie logiki zarządzania atrybutami.\n",
    "\n",
    "**Pytanie kontrolne:** Jakie korzyści daje przechowywanie danych w `instance.__dict__` zamiast atrybutu deskryptora?\n"
   ]
  },
  {
   "cell_type": "markdown",
   "id": "34dd2a5c",
   "metadata": {},
   "source": [
    "### 🧩 Zadanie 1\n",
    "Zaprojektuj deskryptor `Email`, który waliduje format adresu e-mail i przechowuje go w instancji.\n"
   ]
  },
  {
   "cell_type": "code",
   "execution_count": null,
   "id": "6d4d29ff",
   "metadata": {},
   "outputs": [],
   "source": [
    "# Rozwiązanie Zadania 1\n",
    "import re\n",
    "\n",
    "class Email:\n",
    "    pattern = re.compile(r\"^[^@]+@[^@]+\\.[^@]+$\")\n",
    "\n",
    "    def __init__(self, name: str):\n",
    "        self.name = name\n",
    "\n",
    "    def __get__(self, instance, owner):\n",
    "        if instance is None:\n",
    "            return self\n",
    "        return instance.__dict__.get(self.name)\n",
    "\n",
    "    def __set__(self, instance, value):\n",
    "        if not self.pattern.match(value):\n",
    "            raise ValueError(\"Niepoprawny email\")\n",
    "        instance.__dict__[self.name] = value\n",
    "\n",
    "class User:\n",
    "    email = Email(\"email\")\n",
    "\n",
    "    def __init__(self, email):\n",
    "        self.email = email\n",
    "\n",
    "u = User(\"adam@example.com\")\n",
    "print(u.email)\n"
   ]
  },
  {
   "cell_type": "markdown",
   "id": "5219fc0e",
   "metadata": {},
   "source": [
    "### 🧩 Zadanie 2\n",
    "Stwórz deskryptor `HistoryField`, który zapisuje historię zmian wartości w liście.\n"
   ]
  },
  {
   "cell_type": "code",
   "execution_count": 1,
   "id": "075381db",
   "metadata": {},
   "outputs": [
    {
     "name": "stdout",
     "output_type": "stream",
     "text": [
      "12\n",
      "[10, 12]\n"
     ]
    }
   ],
   "source": [
    "# Rozwiązanie Zadania 2\n",
    "class HistoryField:\n",
    "    def __init__(self, name: str):\n",
    "        self.name = name\n",
    "        self.history_name = f\"_{name}_history\"\n",
    "\n",
    "    def __get__(self, instance, owner):\n",
    "        if instance is None:\n",
    "            return self\n",
    "        return instance.__dict__.get(self.name)\n",
    "\n",
    "    def __set__(self, instance, value):\n",
    "        history = instance.__dict__.setdefault(self.history_name, [])\n",
    "        history.append(value)\n",
    "        instance.__dict__[self.name] = value\n",
    "\n",
    "    def history(self, instance):\n",
    "        return instance.__dict__.get(self.history_name, [])\n",
    "\n",
    "class Product:\n",
    "    price = HistoryField(\"price\")\n",
    "\n",
    "    def __init__(self, price):\n",
    "        self.price = price\n",
    "\n",
    "item = Product(10)\n",
    "item.price = 12\n",
    "print(item.price)\n",
    "print(Product.price.history(item))\n"
   ]
  },
  {
   "cell_type": "code",
   "execution_count": null,
   "id": "7be78a74-6938-4d8a-b642-a64346aac865",
   "metadata": {},
   "outputs": [],
   "source": []
  }
 ],
 "metadata": {
  "kernelspec": {
   "display_name": "Python 3 (ipykernel)",
   "language": "python",
   "name": "python3"
  },
  "language_info": {
   "codemirror_mode": {
    "name": "ipython",
    "version": 3
   },
   "file_extension": ".py",
   "mimetype": "text/x-python",
   "name": "python",
   "nbconvert_exporter": "python",
   "pygments_lexer": "ipython3",
   "version": "3.14.0"
  }
 },
 "nbformat": 4,
 "nbformat_minor": 5
}
