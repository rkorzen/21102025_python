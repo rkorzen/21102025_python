{
  "cells": [
    {
      "cell_type": "markdown",
      "metadata": {},
      "source": [
        "# Dekoratory w praktyce\n",
        "\n",
        "Od prostych opakowań po dekoratory parametryzowane i klasowe.\n"
      ]
    },
    {
      "cell_type": "markdown",
      "metadata": {},
      "source": [
        "## Cele\n",
        "- przypomnieć mechanikę dekoratorów i znaczenie `functools.wraps`\n",
        "- zaprezentować dekoratory z argumentami oraz klasowe\n",
        "- pokazać kompozycję dekoratorów w realnych problemach\n"
      ]
    },
    {
      "cell_type": "markdown",
      "metadata": {},
      "source": [
        "## Przypomnienie mechanizmu\n",
        "Dekorator to funkcja przyjmująca funkcję i zwracająca funkcję.\n",
        "Najpierw tworzymy prosty przykład mierzący czas wykonania.\n"
      ]
    },
    {
      "cell_type": "code",
      "execution_count": null,
      "metadata": {},
      "outputs": [],
      "source": [
        "import time\n",
        "from functools import wraps\n",
        "\n",
        "def measure_time(func):\n",
        "    @wraps(func)\n",
        "    def wrapper(*args, **kwargs):\n",
        "        start = time.perf_counter()\n",
        "        result = func(*args, **kwargs)\n",
        "        elapsed = (time.perf_counter() - start) * 1000\n",
        "        print(f\"{func.__name__} -> {elapsed:.2f} ms\")\n",
        "        return result\n",
        "    return wrapper\n",
        "\n",
        "@measure_time\n",
        "def compute():\n",
        "    # przykładowa praca CPU\n",
        "    return sum(range(1_000))\n",
        "\n",
        "compute()\n"
      ]
    },
    {
      "cell_type": "markdown",
      "metadata": {},
      "source": [
        "## Dekoratory z argumentami\n",
        "Dodajemy poziom pośredni przyjmujący konfigurację, np. próg logowania.\n"
      ]
    },
    {
      "cell_type": "code",
      "execution_count": null,
      "metadata": {},
      "outputs": [],
      "source": [
        "from functools import wraps\n",
        "\n",
        "def notify(threshold_ms: float):\n",
        "    def decorator(func):\n",
        "        @wraps(func)\n",
        "        def wrapper(*args, **kwargs):\n",
        "            start = time.perf_counter()\n",
        "            result = func(*args, **kwargs)\n",
        "            elapsed = (time.perf_counter() - start) * 1000\n",
        "            if elapsed > threshold_ms:\n",
        "                print(f\"[ALERT] {func.__name__} trwała {elapsed:.2f} ms\")\n",
        "            return result\n",
        "        return wrapper\n",
        "    return decorator\n",
        "\n",
        "@notify(0.1)\n",
        "def no_op():\n",
        "    return sum(range(1000))\n",
        "\n",
        "no_op()\n"
      ]
    },
    {
      "cell_type": "markdown",
      "metadata": {},
      "source": [
        "## Dekoratory klasowe\n",
        "Klasa implementująca `__call__` może stać się dekoratorem.\n",
        "Pozwala przechowywać stan między wywołaniami.\n"
      ]
    },
    {
      "cell_type": "code",
      "execution_count": null,
      "metadata": {},
      "outputs": [],
      "source": [
        "class CountCalls:\n",
        "    def __init__(self, func):\n",
        "        wraps(func)(self)\n",
        "        self.func = func\n",
        "        self.calls = 0\n",
        "\n",
        "    def __call__(self, *args, **kwargs):\n",
        "        self.calls += 1\n",
        "        print(f\"{self.__name__} wywołana {self.calls} raz(y)\")\n",
        "        return self.func(*args, **kwargs)\n",
        "\n",
        "@CountCalls\n",
        "def greet(name: str):\n",
        "    print(f\"Cześć, {name}!\")\n",
        "\n",
        "for person in [\"Ada\", \"Beata\"]:\n",
        "    greet(person)\n"
      ]
    },
    {
      "cell_type": "markdown",
      "metadata": {},
      "source": [
        "## Dekoratory z biblioteki standardowej\n",
        "`functools` oferuje gotowe rozwiązania: `lru_cache`, `singledispatch`, `cached_property`.\n"
      ]
    },
    {
      "cell_type": "code",
      "execution_count": null,
      "metadata": {},
      "outputs": [],
      "source": [
        "from functools import lru_cache, singledispatch\n",
        "\n",
        "@lru_cache(maxsize=None)\n",
        "def fibonacci(n: int) -> int:\n",
        "    if n < 2:\n",
        "        return n\n",
        "    return fibonacci(n - 1) + fibonacci(n - 2)\n",
        "\n",
        "print(fibonacci(10))\n",
        "\n",
        "@singledispatch\n",
        "def render(value):\n",
        "    raise TypeError(\"Nieobsługiwany typ\")\n",
        "\n",
        "@render.register\n",
        "def _(value: int):\n",
        "    return f\"Liczba: {value}\"\n",
        "\n",
        "@render.register\n",
        "def _(value: list):\n",
        "    return f\"Lista o długości {len(value)}\"\n",
        "\n",
        "print(render(5))\n",
        "print(render([1, 2, 3]))\n"
      ]
    },
    {
      "cell_type": "markdown",
      "metadata": {},
      "source": [
        "**Podsumowanie:** Dekoratory pozwalają rozszerzać funkcje i metody bez ingerencji w ich kod.\n",
        "\n",
        "**Pytanie kontrolne:** Po co stosować `functools.wraps` w dekoratorach?\n"
      ]
    },
    {
      "cell_type": "markdown",
      "metadata": {},
      "source": [
        "### 🧩 Zadanie 1\n",
        "Napisz dekorator `retry`, który ponowi wykonanie funkcji określoną liczbę razy,\n",
        "zanim zgłosi wyjątek. Liczbę powtórzeń przyjmij jako argument dekoratora.\n"
      ]
    },
    {
      "cell_type": "code",
      "execution_count": null,
      "metadata": {},
      "outputs": [],
      "source": [
        "# Rozwiązanie Zadania 1\n",
        "from functools import wraps\n",
        "\n",
        "def retry(attempts: int):\n",
        "    def decorator(func):\n",
        "        @wraps(func)\n",
        "        def wrapper(*args, **kwargs):\n",
        "            last_exc = None\n",
        "            for _ in range(attempts):\n",
        "                try:\n",
        "                    return func(*args, **kwargs)\n",
        "                except Exception as exc:  # łapiemy wyjątek i zapisujemy\n",
        "                    last_exc = exc\n",
        "            raise last_exc\n",
        "        return wrapper\n",
        "    return decorator\n",
        "\n",
        "counter = {\"calls\": 0}\n",
        "\n",
        "@retry(3)\n",
        "def flaky():\n",
        "    counter[\"calls\"] += 1\n",
        "    if counter[\"calls\"] < 3:\n",
        "        raise RuntimeError(\"Jeszcze nie!\")\n",
        "    return \"Sukces\"\n",
        "\n",
        "print(flaky())\n"
      ]
    },
    {
      "cell_type": "markdown",
      "metadata": {},
      "source": [
        "### 🧩 Zadanie 2\n",
        "Przygotuj dekorator klasowy `@audit`, który każdą publiczną metodę\n",
        "opakuje prostym logowaniem wejścia i wyjścia.\n"
      ]
    },
    {
      "cell_type": "code",
      "execution_count": null,
      "metadata": {},
      "outputs": [],
      "source": [
        "# Rozwiązanie Zadania 2\n",
        "import inspect\n",
        "from functools import wraps\n",
        "\n",
        "def audit(cls):\n",
        "    for name, member in inspect.getmembers(cls, inspect.isfunction):\n",
        "        if name.startswith(\"_\"):\n",
        "            continue  # pomijamy metody prywatne\n",
        "\n",
        "        @wraps(member)\n",
        "        def wrapper(self, *args, __orig=member, **kwargs):\n",
        "            print(f\"[AUDIT] {cls.__name__}.{__orig.__name__} args={args} kwargs={kwargs}\")\n",
        "            result = __orig(self, *args, **kwargs)\n",
        "            print(f\"[AUDIT] wynik={result}\")\n",
        "            return result\n",
        "        setattr(cls, name, wrapper)\n",
        "    return cls\n",
        "\n",
        "@audit\n",
        "class Calculator:\n",
        "    def add(self, a, b):\n",
        "        return a + b\n",
        "\n",
        "    def sub(self, a, b):\n",
        "        return a - b\n",
        "\n",
        "calc = Calculator()\n",
        "calc.add(2, 3)\n"
      ]
    }
  ],
  "metadata": {
    "kernelspec": {
      "display_name": "Python 3",
      "language": "python",
      "name": "python3"
    },
    "language_info": {
      "name": "python",
      "version": "3.10"
    }
  },
  "nbformat": 4,
  "nbformat_minor": 5
}