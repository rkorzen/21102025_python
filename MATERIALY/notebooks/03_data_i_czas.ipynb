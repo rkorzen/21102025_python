{
 "cells": [
  {
   "cell_type": "markdown",
   "id": "677f4e1d9722895b",
   "metadata": {},
   "source": [
    "# Daty i czas w Pythonie — od podstaw do zaawansowanych tematów\n",
    "\n",
    "Ten notebook prowadzi krok po kroku przez pracę z datami i czasem w Pythonie: od podstawowych typów z modułu `datetime`, przez arytmetykę na datach, aż po strefy czasowe i dobre praktyki.\n",
    "\n",
    "- Komórki z wyjaśnieniami: Markdown\n",
    "- Przykłady: Code (z komentarzami w kodzie)\n",
    "- Na końcu znajdziesz 3 krótkie zadania + podsumowanie dobrych praktyk\n",
    "\n",
    "Aktualny kontekst: Python 3.10+ (w przykładach używamy `zoneinfo`, dostępnego od Python 3.9).\n"
   ]
  },
  {
   "cell_type": "markdown",
   "id": "304eee550a39d0e7",
   "metadata": {},
   "source": [
    "## 1. Wprowadzenie do modułu `datetime`\n",
    "\n",
    "- Moduł `datetime` dostarcza typy i funkcje do reprezentacji i operacji na datach i czasie.\n",
    "- Podstawowe typy:\n",
    "  - `date` — sama data (rok, miesiąc, dzień)\n",
    "  - `time` — sama godzina (godzina, minuta, sekunda, mikrosekunda)\n",
    "  - `datetime` — data i czas łącznie (opcjonalnie z informacją o strefie czasowej `tzinfo`)\n",
    "  - `timedelta` — różnica (okres) czasu między dwiema datami/czasami\n"
   ]
  },
  {
   "cell_type": "code",
   "execution_count": 1,
   "id": "473f4eaff62f4a75",
   "metadata": {},
   "outputs": [],
   "source": [
    "# Importy, z których będziemy korzystać w całym notebooku\n",
    "from datetime import date, time, datetime, timedelta\n",
    "from zoneinfo import ZoneInfo  # standardowa baza stref czasowych (od Python 3.9)\n"
   ]
  },
  {
   "cell_type": "markdown",
   "id": "815e54fef30daa7c",
   "metadata": {},
   "source": [
    "### Importowanie modułu\n",
    "\n",
    "Najczęściej spotykane style importu:\n",
    "\n",
    "- `from datetime import date, datetime, timedelta` — import wybranych klas\n",
    "- `import datetime` — import całego modułu, wtedy piszemy `datetime.date`, `datetime.datetime`, itd.\n",
    "\n",
    "W przykładach stosujemy pierwszy styl dla zwięzłości.\n"
   ]
  },
  {
   "cell_type": "markdown",
   "id": "2af8e12192341dae",
   "metadata": {},
   "source": [
    "## 2. Klasa `date`\n",
    "\n",
    "- Tworzenie dat: `date.today()`, `date(YYYY, MM, DD)`\n",
    "- Dostęp do pól: `.year`, `.month`, `.day`\n",
    "- Formatowanie: `.isoformat()`, `.strftime(fmt)`\n",
    "- Parsowanie tekstu: `date.fromisoformat(text)`, `datetime.strptime(text, fmt).date()`\n"
   ]
  },
  {
   "cell_type": "code",
   "execution_count": 2,
   "id": "67024235302b4733",
   "metadata": {},
   "outputs": [
    {
     "name": "stdout",
     "output_type": "stream",
     "text": [
      "Dziś: 2025-10-22\n",
      "Konkretna data: 2025-10-20\n",
      "Rok: 2025 Miesiąc: 10 Dzień: 20\n",
      "ISO: 2025-10-20\n",
      "Dzień tygodnia (1=pon,7=nd): 1\n",
      "Strftime: Monday, 20 October 2025\n"
     ]
    }
   ],
   "source": [
    "# Tworzenie daty dzisiejszej i konkretnej\n",
    "\n",
    "dzis = date.today()\n",
    "konkretna = date(2025, 10, 20)  # przykład konkretnej daty\n",
    "\n",
    "print(\"Dziś:\", dzis)\n",
    "print(\"Konkretna data:\", konkretna)\n",
    "\n",
    "# Dostęp do pól\n",
    "print(\"Rok:\", konkretna.year, \"Miesiąc:\", konkretna.month, \"Dzień:\", konkretna.day)\n",
    "\n",
    "# Format ISO 8601 (yyyy-mm-dd)\n",
    "print(\"ISO:\", konkretna.isoformat())\n",
    "\n",
    "# Formatowanie strftime — np. dzień tygodnia i pełna data po polsku może wymagać locale,\n",
    "# ale niezależnie od locale możemy używać kodów formatujących.\n",
    "print(\"Dzień tygodnia (1=pon,7=nd):\", konkretna.isoweekday())  # pomocniczo\n",
    "print(\"Strftime:\", konkretna.strftime(\"%A, %d %B %Y\"))  # zależne od locale środowiska\n"
   ]
  },
  {
   "cell_type": "code",
   "execution_count": 3,
   "id": "d86e9cd552c42e0",
   "metadata": {},
   "outputs": [
    {
     "name": "stdout",
     "output_type": "stream",
     "text": [
      "fromisoformat: 2025-12-31\n",
      "strptime -> date: 2025-12-31\n"
     ]
    }
   ],
   "source": [
    "# Parsowanie tekstu do daty\n",
    "\n",
    "data_iso = \"2025-12-31\"\n",
    "parsed_from_iso = date.fromisoformat(data_iso)\n",
    "print(\"fromisoformat:\", parsed_from_iso)\n",
    "\n",
    "# Parsowanie z własnym formatem przez datetime.strptime, potem .date()\n",
    "text = \"31/12/2025\"\n",
    "fmt = \"%d/%m/%Y\"\n",
    "parsed = datetime.strptime(text, fmt).date()\n",
    "print(\"strptime -> date:\", parsed)\n"
   ]
  },
  {
   "cell_type": "markdown",
   "id": "7c258b8ab9c5507b",
   "metadata": {},
   "source": [
    "## 3. Klasa `datetime`\n",
    "\n",
    "- Różnice względem `date`: `datetime` przechowuje i datę, i czas (z mikrosekundami), opcjonalnie info o strefie (`tzinfo`).\n",
    "- Pobieranie aktualnego czasu: `datetime.now()`, `datetime.utcnow()` (uwaga: zwykle preferujemy `datetime.now(ZoneInfo(\"UTC\"))`).\n",
    "- Tworzenie obiektów z konkretną godziną: `datetime(YYYY, MM, DD, hh, mm, ss, ...)`.\n",
    "- Operacje arytmetyczne z `timedelta`.\n"
   ]
  },
  {
   "cell_type": "code",
   "execution_count": 4,
   "id": "d262e026e2b9734",
   "metadata": {},
   "outputs": [
    {
     "name": "stdout",
     "output_type": "stream",
     "text": [
      "now() (naive): 2025-10-22 20:51:20.346821 None\n",
      "now(UTC) (aware): 2025-10-22 18:51:20.348766+00:00 UTC\n",
      "utcnow() (naive): 2025-10-22 18:51:20.349023 None\n",
      "Start: 2025-10-20 09:30:00\n",
      "Po godzinie: 2025-10-20 10:30:00\n",
      "Różnica (timedelta): 1:00:00\n"
     ]
    },
    {
     "name": "stderr",
     "output_type": "stream",
     "text": [
      "/var/folders/pd/gsgbf0fd4tv7ntlsxt53r0sh0000gn/T/ipykernel_20518/2590449188.py:10: DeprecationWarning: datetime.datetime.utcnow() is deprecated and scheduled for removal in a future version. Use timezone-aware objects to represent datetimes in UTC: datetime.datetime.now(datetime.UTC).\n",
      "  print(\"utcnow() (naive):\", datetime.utcnow(), datetime.utcnow().tzinfo)\n"
     ]
    }
   ],
   "source": [
    "# Aktualny czas lokalny (NAIVE — bez strefy czasowej)\n",
    "now_local_naive = datetime.now()\n",
    "print(\"now() (naive):\", now_local_naive, now_local_naive.tzinfo)\n",
    "\n",
    "# Czas UTC jako aware (zalecane):\n",
    "now_utc = datetime.now(ZoneInfo(\"UTC\"))\n",
    "print(\"now(UTC) (aware):\", now_utc, now_utc.tzinfo)\n",
    "\n",
    "# Uwaga: datetime.utcnow() zwraca naive!\n",
    "print(\"utcnow() (naive):\", datetime.utcnow(), datetime.utcnow().tzinfo)\n",
    "\n",
    "# Tworzenie konkretnego datetime\n",
    "start = datetime(2025, 10, 20, 9, 30, 0)  # 2025-10-20 09:30:00 (naive)\n",
    "print(\"Start:\", start)\n",
    "\n",
    "# Operacje arytmetyczne z timedelta\n",
    "po_godzinie = start + timedelta(hours=1)\n",
    "print(\"Po godzinie:\", po_godzinie)\n",
    "\n",
    "roznica = po_godzinie - start\n",
    "print(\"Różnica (timedelta):\", roznica)\n"
   ]
  },
  {
   "cell_type": "markdown",
   "id": "3fdf307be791bea4",
   "metadata": {},
   "source": [
    "## 4. `timedelta` — różnice między datami\n",
    "\n",
    "- Dodawanie i odejmowanie dat i czasów.\n",
    "- Właściwości `timedelta`: `.days`, `.seconds`, `.microseconds`; metoda `.total_seconds()`.\n",
    "- Przykłady: ile dni do końca roku, ile godzin między dwiema datami.\n"
   ]
  },
  {
   "cell_type": "code",
   "execution_count": 5,
   "id": "fa7723be49d9e8b9",
   "metadata": {},
   "outputs": [
    {
     "name": "stdout",
     "output_type": "stream",
     "text": [
      "Dziś: 2025-10-22\n",
      "Koniec roku: 2025-12-31\n",
      "Pozostało dni: 70\n",
      "Pozostało sekund (łącznie): 6048000.0\n"
     ]
    }
   ],
   "source": [
    "# Ile dni do końca roku dla bieżącego roku\n",
    "\n",
    "dzis = date.today()\n",
    "koniec_roku = date(dzis.year, 12, 31)\n",
    "pozostalo = koniec_roku - dzis  # wynik to timedelta\n",
    "\n",
    "print(f\"Dziś: {dzis}\")\n",
    "print(f\"Koniec roku: {koniec_roku}\")\n",
    "print(\"Pozostało dni:\", pozostalo.days)\n",
    "print(\"Pozostało sekund (łącznie):\", pozostalo.total_seconds())\n"
   ]
  },
  {
   "cell_type": "code",
   "execution_count": 6,
   "id": "e01398858b6edb55",
   "metadata": {},
   "outputs": [
    {
     "name": "stdout",
     "output_type": "stream",
     "text": [
      "Różnica: 1 day, 12:30:00\n",
      "Godzin łącznie: 36.5\n"
     ]
    }
   ],
   "source": [
    "# Ile godzin między dwiema datami/czasami\n",
    "\n",
    "a = datetime(2025, 1, 1, 8, 0)\n",
    "b = datetime(2025, 1, 2, 20, 30)\n",
    "roznica = b - a\n",
    "print(\"Różnica:\", roznica)\n",
    "print(\"Godzin łącznie:\", roznica.total_seconds() / 3600)\n"
   ]
  },
  {
   "cell_type": "markdown",
   "id": "934b8f11d6c235b0",
   "metadata": {},
   "source": [
    "## 5. Naive vs Aware datetimes\n",
    "\n",
    "- `naive` — bez informacji o strefie czasowej (`tzinfo is None`).\n",
    "- `aware` — z informacją o strefie (`tzinfo` ustawione), umożliwia jednoznaczne porównania i konwersje między strefami.\n",
    "- Dlaczego `utcnow()` jest naive? Historycznie tak zaprojektowano; preferuj `datetime.now(ZoneInfo(\"UTC\"))`.\n",
    "- Konwersja między strefami: używamy `.astimezone(tz)` na obiekcie `aware`.\n"
   ]
  },
  {
   "cell_type": "code",
   "execution_count": 7,
   "id": "cb634346ccca8075",
   "metadata": {},
   "outputs": [
    {
     "name": "stdout",
     "output_type": "stream",
     "text": [
      "Czas Warszawa (aware): 2025-03-30 01:30:00+01:00 Europe/Warsaw\n",
      "W UTC: 2025-03-30 00:30:00+00:00 UTC\n",
      "W Nowym Jorku: 2025-03-29 20:30:00-04:00 America/New_York\n"
     ]
    }
   ],
   "source": [
    "# Przykład konwersji między strefami\n",
    "\n",
    "warsaw = ZoneInfo(\"Europe/Warsaw\")\n",
    "utc = ZoneInfo(\"UTC\")\n",
    "\n",
    "aware_warsaw = datetime(2025, 3, 30, 1, 30, tzinfo=warsaw)  # data wokół zmiany czasu (DST w PL)\n",
    "print(\"Czas Warszawa (aware):\", aware_warsaw, aware_warsaw.tzinfo)\n",
    "\n",
    "# Konwersja do UTC\n",
    "as_utc = aware_warsaw.astimezone(utc)\n",
    "print(\"W UTC:\", as_utc, as_utc.tzinfo)\n",
    "\n",
    "# Konwersja do innej strefy, np. America/New_York\n",
    "ny = ZoneInfo(\"America/New_York\")\n",
    "as_ny = as_utc.astimezone(ny)\n",
    "print(\"W Nowym Jorku:\", as_ny, as_ny.tzinfo)\n"
   ]
  },
  {
   "cell_type": "markdown",
   "id": "4243b3eb0c8af596",
   "metadata": {},
   "source": [
    "## 6. Strefy czasowe (`zoneinfo` / `pytz`)\n",
    "\n",
    "- `zoneinfo` — wbudowany od Pythona 3.9, korzysta z bazy IANA time zone.\n",
    "- Tworzenie obiektów ze strefą: `datetime(..., tzinfo=ZoneInfo(\"Europe/Warsaw\"))` lub ustawienie po fakcie: `dt.replace(tzinfo=...)` dla interpretacji czasu lokalnego.\n",
    "- Konwersje: UTC ↔ lokalna strefa — używamy `.astimezone()`.\n",
    "- Zmiana czasu (DST) — niektóre godziny są niejednoznaczne lub nieistnieją; przy pracy w lokalnych strefach ważne jest uwzględnienie DST.\n",
    "\n",
    "Uwaga: Dla zewnętrznych bibliotek w starszych projektach można spotkać `pytz`. W nowym kodzie preferuj `zoneinfo`.\n"
   ]
  },
  {
   "metadata": {},
   "cell_type": "code",
   "outputs": [],
   "execution_count": null,
   "source": [
    "# Przykład problemów z DST (czas letni/zimowy)\n",
    "\n",
    "warsaw = ZoneInfo(\"Europe/Warsaw\")\n",
    "\n",
    "# Wiosenna zmiana czasu w PL: przeskok z 02:00 na 03:00 (nie istnieje godzina 02:30)\n",
    "try:\n",
    "    nieistniejacy = datetime(2025, 3, 30, 2, 30, tzinfo=warsaw)\n",
    "    print(\"Nieistniejąca godzina (może zostać znormalizowana):\", nieistniejacy)\n",
    "except Exception as e:\n",
    "    print(\"Błąd utworzenia nieistniejącego czasu:\", e)\n",
    "\n",
    "# Jesienna zmiana czasu: godzina powtarza się (jest dwuznaczność)\n",
    "# 2025-10-26 02:30 może wystąpić dwa razy (raz w DST, raz po cofnięciu zegara).\n",
    "dwuznaczny_1 = datetime(2025, 10, 26, 2, 30, tzinfo=warsaw)\n",
    "print(\"Dwuznaczny przykład:\", dwuznaczny_1, dwuznaczny_1.fold)\n",
    "\n",
    "# Atrybut .fold (PEP 495) może rozstrzygać dwuznaczności czasu lokalnego (0 lub 1):\n",
    "dwuznaczny_2 = datetime(2025, 10, 26, 2, 30, tzinfo=warsaw).replace(fold=1)\n",
    "print(\"Dwuznaczny (fold=1):\", dwuznaczny_2, dwuznaczny_2.fold)\n"
   ],
   "id": "5359ed5918736f9c"
  },
  {
   "metadata": {},
   "cell_type": "markdown",
   "source": [
    "Atrybut **`fold`** w `datetime` to specjalna flaga (typu `int` o wartości `0` lub `1`) wprowadzona w **PEP 495** (Python 3.6+), która służy do **rozstrzygania dwuznaczności** czasu lokalnego w momencie **jesiennej zmiany czasu** (powrót z czasu letniego DST na zimowy).\n",
    "\n",
    "## Kiedy występuje problem?\n",
    "\n",
    "W nocy, gdy przestawiamy zegary **o godzinę wstecz** (np. z 3:00 na 2:00), ta sama godzina (np. 2:30) **występuje dwukrotnie**:\n",
    "1. **Pierwsze 2:30** – jeszcze w czasie letnim (DST)\n",
    "2. **Drugie 2:30** – już po cofnięciu na czas standardowy\n",
    "\n",
    "## Jak działa `fold`?\n",
    "\n",
    "- **`fold=0`** (domyślnie): pierwsza z dwóch możliwych interpretacji (wcześniejsza w czasie uniwersalnym UTC)\n",
    "- **`fold=1`**: druga interpretacja (późniejsza w UTC)\n",
    "\n",
    "## W tynm przykładzie:\n",
    "\n",
    "```python\n",
    "dwuznaczny_1 = datetime(2025, 10, 26, 2, 30, tzinfo=warsaw)\n",
    "# fold=0 (domyślnie) → interpretacja DST: UTC+02:00\n",
    "print(dwuznaczny_1.fold)  # wypisze: 0\n",
    "\n",
    "dwuznaczny_2 = datetime(2025, 10, 26, 2, 30, tzinfo=warsaw).replace(fold=1)\n",
    "# fold=1 → interpretacja po cofnięciu: UTC+01:00\n",
    "print(dwuznaczny_2.fold)  # wypisze: 1\n",
    "```\n",
    "\n",
    "\n",
    "## Dlaczego to ważne?\n",
    "\n",
    "Bez `fold` niemożliwe byłoby jednoznaczne określenie, o którą z dwóch \"godzin 2:30\" chodzi. Dzięki tej fladze:\n",
    "- Możesz precyzyjnie kontrolować, którą interpretację wybierasz\n",
    "- Konwersje do UTC dają różne wyniki dla `fold=0` i `fold=1`\n",
    "- Biblioteki obsługujące strefy czasowe (jak `zoneinfo`) używają tego do prawidłowej konwersji\n",
    "\n",
    "**Podsumowanie**: `fold` to mechanizm rozróżniania \"pierwszego\" i \"drugiego\" wystąpienia tej samej godziny lokalnej podczas cofania zegarów jesienią."
   ],
   "id": "556a38098ec57107"
  },
  {
   "cell_type": "markdown",
   "id": "35be7ade1557d0ee",
   "metadata": {},
   "source": [
    "## 7. Częste błędy i dobre praktyki\n",
    "\n",
    "- Nie mieszaj `naive` z `aware` w porównaniach/operacjach — najpierw nadaj strefę lub skonwertuj do wspólnej.\n",
    "- Przechowuj w bazie/komunikacji czasy w UTC (np. `dt.astimezone(ZoneInfo(\"UTC\"))`) i serializuj w ISO 8601 (`.isoformat()`).\n",
    "- Unikaj `datetime.utcnow()` w nowym kodzie — łatwo o pomyłki; używaj `datetime.now(ZoneInfo(\"UTC\"))`.\n",
    "- Przy parsowaniu używaj standardowych formatów (ISO 8601) i jednoznacznych stref.\n",
    "- Testy kodu zależnego od czasu: wstrzykuj \"zegary\" lub używaj bibliotek do zamrażania czasu (np. `freezegun`) w testach.\n"
   ]
  },
  {
   "cell_type": "markdown",
   "id": "acae39aa09160c47",
   "metadata": {},
   "source": [
    "## 8. Mini‑zadania\n",
    "\n",
    "Poniższe zadania są krótkie (kilka minut każde). W komórkach kodu zostawiono miejsce na rozwiązania.\n",
    "\n",
    "### 🕓 Zadanie 1\n",
    "Oblicz ile dni minęło od Twoich ostatnich urodzin (przyjmij własną datę urodzenia).\n",
    "\n",
    "Wskazówki:\n",
    "- skorzystaj z `date.today()`\n",
    "- zbuduj datę ostatnich urodzin w bieżącym lub poprzednim roku\n",
    "- policz różnicę `timedelta` i wypisz `.days`\n"
   ]
  },
  {
   "cell_type": "code",
   "execution_count": null,
   "id": "68fcd0b256e27a17",
   "metadata": {},
   "outputs": [],
   "source": [
    "# ROZWIĄZANIE – Zadanie 1\n",
    "# Podstaw swoją datę urodzenia poniżej\n",
    "uro = date(1990, 7, 15)  # <- ZMIEŃ NA SWOJĄ DATĘ\n",
    "\n",
    "# Obliczamy datę urodzin w tym roku\n",
    "DZIŚ = date.today()\n",
    "urodziny_w_tym_roku = date(DZIŚ.year, uro.month, uro.day)\n",
    "\n",
    "# Jeżeli urodziny jeszcze nie były, weź ostatnie w poprzednim roku\n",
    "if urodziny_w_tym_roku > DZIŚ:\n",
    "    ostatnie_urodziny = date(DZIŚ.year - 1, uro.month, uro.day)\n",
    "else:\n",
    "    ostatnie_urodziny = urodziny_w_tym_roku\n",
    "\n",
    "ile_minelo = DZIŚ - ostatnie_urodziny\n",
    "print(\"Ostatnie urodziny:\", ostatnie_urodziny)\n",
    "print(\"Dni od ostatnich urodzin:\", ile_minelo.days)\n"
   ]
  },
  {
   "cell_type": "markdown",
   "id": "a32f9623ee55edf3",
   "metadata": {},
   "source": [
    "### 🕕 Zadanie 2\n",
    "Sprawdź, która godzina jest teraz w Tokio i w Nowym Jorku.\n",
    "\n",
    "Wskazówki:\n",
    "- pobierz bieżący czas w UTC: `datetime.now(ZoneInfo(\"UTC\"))`\n",
    "- skonwertuj do `Asia/Tokyo` i `America/New_York` przez `.astimezone(ZoneInfo(...))`\n"
   ]
  },
  {
   "cell_type": "code",
   "execution_count": null,
   "id": "44cf0cff2c84ff80",
   "metadata": {},
   "outputs": [],
   "source": [
    "# ROZWIĄZANIE – Zadanie 2\n",
    "now_utc = datetime.now(ZoneInfo(\"UTC\"))\n",
    "\n",
    "tokyo = now_utc.astimezone(ZoneInfo(\"Asia/Tokyo\"))\n",
    "new_york = now_utc.astimezone(ZoneInfo(\"America/New_York\"))\n",
    "\n",
    "print(\"UTC:\", now_utc.isoformat())\n",
    "print(\"Tokio:\", tokyo.isoformat())\n",
    "print(\"Nowy Jork:\", new_york.isoformat())\n"
   ]
  },
  {
   "cell_type": "markdown",
   "id": "505741f92568b911",
   "metadata": {},
   "source": [
    "### 🕤 Zadanie 3\n",
    "Napisz funkcję, która dla podanej daty zwróci ile pozostało dni do końca roku (uwzględniając lata przestępne).\n",
    "\n",
    "Wskazówka: wystarczy obliczyć różnicę między `date(d.year, 12, 31)` a `d` (zwracaj `.days`).\n"
   ]
  },
  {
   "cell_type": "code",
   "execution_count": null,
   "id": "74417a60010cd631",
   "metadata": {},
   "outputs": [],
   "source": [
    "# ROZWIĄZANIE – Zadanie 3\n",
    "\n",
    "def dni_do_konca_roku(d: date) -> int:\n",
    "    \"\"\"Zwraca liczbę dni do końca roku dla podanej daty d.\n",
    "\n",
    "    Uwzględnia lata przestępne, bo operujemy na rzeczywistych datach.\n",
    "    \"\"\"\n",
    "    koniec = date(d.year, 12, 31)\n",
    "    return (koniec - d).days\n",
    "\n",
    "# Krótki test funkcji\n",
    "for test in [date(2025, 1, 1), date(2025, 12, 30), date(2024, 2, 28)]:\n",
    "    print(test, \"->\", dni_do_konca_roku(test), \"dni\")\n"
   ]
  },
  {
   "cell_type": "markdown",
   "id": "1af6f4c5011467c9",
   "metadata": {},
   "source": [
    "## Podsumowanie — dobre praktyki\n",
    "\n",
    "- Przechowuj czasy w UTC; konwertuj do lokalnych stref tylko na krawędziach systemu (UI, raporty).\n",
    "- Używaj `zoneinfo` i obiektów `aware` (`tzinfo` ustawione), unikaj mieszania z `naive`.\n",
    "- Serializuj w formacie ISO 8601 (`.isoformat()`), ewentualnie dodawaj sufiks `Z` dla UTC.\n",
    "- Dla arytmetyki czasu używaj `timedelta` i `total_seconds()` tam, gdzie trzeba precyzyjnych jednostek.\n",
    "- Testuj kod zależny od czasu; rozważ wstrzykiwanie \"zegara\" lub użycie bibliotek do zamrażania czasu.\n",
    "\n",
    "Miłej nauki!"
   ]
  }
 ],
 "metadata": {
  "kernelspec": {
   "display_name": "Python 3 (ipykernel)",
   "language": "python",
   "name": "python3"
  },
  "language_info": {
   "codemirror_mode": {
    "name": "ipython",
    "version": 3
   },
   "file_extension": ".py",
   "mimetype": "text/x-python",
   "name": "python",
   "nbconvert_exporter": "python",
   "pygments_lexer": "ipython3",
   "version": "3.14.0"
  }
 },
 "nbformat": 4,
 "nbformat_minor": 5
}
