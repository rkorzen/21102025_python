{
 "cells": [
  {
   "metadata": {
    "ExecuteTime": {
     "end_time": "2025-10-24T11:12:56.114946Z",
     "start_time": "2025-10-24T11:12:53.908438Z"
    }
   },
   "cell_type": "code",
   "source": [
    "import requests\n",
    "import time\n",
    "\n",
    "def fetch(url):\n",
    "    response = requests.get(url)\n",
    "    data = response.text\n",
    "    print(f\"Pobrano {len(data)} bajtów z {url}\")\n",
    "\n",
    "def main():\n",
    "    urls = [\n",
    "        \"https://python.org\",\n",
    "        \"https://wikipedia.org\",\n",
    "        \"https://psinf.com/\",\n",
    "        \"https://python.org\",\n",
    "        \"https://wikipedia.org\",\n",
    "        \"https://psinf.com/\",\n",
    "        \"https://python.org\",\n",
    "        \"https://wikipedia.org\",\n",
    "        \"https://psinf.com/\",\n",
    "    ]\n",
    "\n",
    "    start = time.perf_counter()\n",
    "    for url in urls:\n",
    "        fetch(url)\n",
    "    elapsed = time.perf_counter() - start\n",
    "\n",
    "    print(f\"\\n⏱️ Czas wykonania (synchronicznie): {elapsed:.2f} s\")\n",
    "\n",
    "if __name__ == \"__main__\":\n",
    "    main()\n"
   ],
   "id": "1120e575d2eead00",
   "outputs": [
    {
     "name": "stdout",
     "output_type": "stream",
     "text": [
      "Pobrano 50104 bajtów z https://python.org\n",
      "Pobrano 92 bajtów z https://wikipedia.org\n",
      "Pobrano 195334 bajtów z https://psinf.com/\n",
      "Pobrano 50104 bajtów z https://python.org\n",
      "Pobrano 92 bajtów z https://wikipedia.org\n",
      "Pobrano 195279 bajtów z https://psinf.com/\n",
      "Pobrano 50104 bajtów z https://python.org\n",
      "Pobrano 92 bajtów z https://wikipedia.org\n",
      "Pobrano 195296 bajtów z https://psinf.com/\n",
      "\n",
      "⏱️ Czas wykonania (synchronicznie): 2.20 s\n"
     ]
    }
   ],
   "execution_count": 12
  },
  {
   "cell_type": "code",
   "id": "initial_id",
   "metadata": {
    "collapsed": true,
    "ExecuteTime": {
     "end_time": "2025-10-24T11:13:00.529465Z",
     "start_time": "2025-10-24T11:13:00.525164Z"
    }
   },
   "source": [
    "%%writefile asyncrhoniczne_pobieranie.py\n",
    "import asyncio\n",
    "import aiohttp\n",
    "import time\n",
    "\n",
    "async def fetch(session, url):\n",
    "    async with session.get(url) as response:\n",
    "        data = await response.text()\n",
    "        print(f\"Pobrano {len(data)} bajtów z {url}\")\n",
    "\n",
    "async def main():\n",
    "    urls = [\n",
    "        \"https://python.org\",\n",
    "        \"https://wikipedia.org\",\n",
    "        \"https://psinf.com/\",\n",
    "                \"https://python.org\",\n",
    "        \"https://wikipedia.org\",\n",
    "        \"https://psinf.com/\",\n",
    "                \"https://python.org\",\n",
    "        \"https://wikipedia.org\",\n",
    "        \"https://psinf.com/\",\n",
    "    ]\n",
    "\n",
    "    start = time.perf_counter()\n",
    "\n",
    "    async with aiohttp.ClientSession() as session:\n",
    "        await asyncio.gather(*(fetch(session, url) for url in urls))\n",
    "\n",
    "    elapsed = time.perf_counter() - start\n",
    "    print(f\"\\n⏱️ Czas wykonania (asynchronicznie): {elapsed:.2f} s\")\n",
    "\n",
    "if __name__ == \"__main__\":\n",
    "    asyncio.run(main())\n"
   ],
   "outputs": [
    {
     "name": "stdout",
     "output_type": "stream",
     "text": [
      "Overwriting asyncrhoniczne_pobieranie.py\n"
     ]
    }
   ],
   "execution_count": 13
  },
  {
   "metadata": {
    "ExecuteTime": {
     "end_time": "2025-10-24T11:13:02.871054Z",
     "start_time": "2025-10-24T11:13:01.130830Z"
    }
   },
   "cell_type": "code",
   "source": "!python asyncrhoniczne_pobieranie.py",
   "id": "fa59d0f6359e0b66",
   "outputs": [
    {
     "name": "stdout",
     "output_type": "stream",
     "text": [
      "Pobrano 92 bajtów z https://wikipedia.org\r\n",
      "Pobrano 92 bajtów z https://wikipedia.org\r\n",
      "Pobrano 92 bajtów z https://wikipedia.org\r\n",
      "Pobrano 50104 bajtów z https://python.org\r\n",
      "Pobrano 50104 bajtów z https://python.org\r\n",
      "Pobrano 50104 bajtów z https://python.org\r\n",
      "Pobrano 195258 bajtów z https://psinf.com/\r\n",
      "Pobrano 195307 bajtów z https://psinf.com/\r\n",
      "Pobrano 195295 bajtów z https://psinf.com/\r\n",
      "\r\n",
      "⏱️ Czas wykonania (asynchronicznie): 1.30 s\r\n"
     ]
    }
   ],
   "execution_count": 14
  },
  {
   "metadata": {
    "ExecuteTime": {
     "end_time": "2025-10-24T11:14:02.376394Z",
     "start_time": "2025-10-24T11:14:00.865677Z"
    }
   },
   "cell_type": "code",
   "source": [
    "import time\n",
    "import requests\n",
    "from concurrent.futures import ThreadPoolExecutor\n",
    "\n",
    "def fetch(url):\n",
    "    \"\"\"Pobiera zawartość strony (blokująco).\"\"\"\n",
    "    response = requests.get(url)\n",
    "    data = response.text\n",
    "    print(f\"Pobrano {len(data)} bajtów z {url}\")\n",
    "\n",
    "def main():\n",
    "    urls = [\n",
    "        \"https://python.org\",\n",
    "        \"https://wikipedia.org\",\n",
    "        \"https://psinf.com/\",\n",
    "        \"https://python.org\",\n",
    "        \"https://wikipedia.org\",\n",
    "        \"https://psinf.com/\",\n",
    "        \"https://python.org\",\n",
    "        \"https://wikipedia.org\",\n",
    "        \"https://psinf.com/\",\n",
    "    ]\n",
    "\n",
    "    start = time.perf_counter()\n",
    "\n",
    "    # ThreadPoolExecutor uruchamia fetch() równolegle w wielu wątkach\n",
    "    with ThreadPoolExecutor(max_workers=5) as executor:\n",
    "        executor.map(fetch, urls)\n",
    "\n",
    "    elapsed = time.perf_counter() - start\n",
    "    print(f\"\\n⏱️ Czas wykonania (threading): {elapsed:.2f} s\")\n",
    "\n",
    "if __name__ == \"__main__\":\n",
    "    main()\n"
   ],
   "id": "f6d2a490db0a9480",
   "outputs": [
    {
     "name": "stdout",
     "output_type": "stream",
     "text": [
      "Pobrano 92 bajtów z https://wikipedia.orgPobrano 92 bajtów z https://wikipedia.org\n",
      "\n",
      "Pobrano 50104 bajtów z https://python.org\n",
      "Pobrano 50104 bajtów z https://python.org\n",
      "Pobrano 92 bajtów z https://wikipedia.org\n",
      "Pobrano 50104 bajtów z https://python.org\n",
      "Pobrano 195279 bajtów z https://psinf.com/\n",
      "Pobrano 195329 bajtów z https://psinf.com/\n",
      "Pobrano 195329 bajtów z https://psinf.com/\n",
      "\n",
      "⏱️ Czas wykonania (threading): 1.51 s\n"
     ]
    }
   ],
   "execution_count": 16
  },
  {
   "metadata": {
    "ExecuteTime": {
     "end_time": "2025-10-24T11:15:39.431527Z",
     "start_time": "2025-10-24T11:15:39.427006Z"
    }
   },
   "cell_type": "code",
   "source": [
    "%%writefile mpexample.py\n",
    "import time\n",
    "import requests\n",
    "from multiprocessing import Pool\n",
    "\n",
    "def fetch(url):\n",
    "    \"\"\"Pobiera zawartość strony (blokująco).\"\"\"\n",
    "    response = requests.get(url)\n",
    "    data = response.text\n",
    "    print(f\"Pobrano {len(data)} bajtów z {url}\")\n",
    "    return len(data)\n",
    "\n",
    "def main():\n",
    "    urls = [\n",
    "        \"https://python.org\",\n",
    "        \"https://wikipedia.org\",\n",
    "        \"https://psinf.com/\",\n",
    "        \"https://python.org\",\n",
    "        \"https://wikipedia.org\",\n",
    "        \"https://psinf.com/\",\n",
    "        \"https://python.org\",\n",
    "        \"https://wikipedia.org\",\n",
    "        \"https://psinf.com/\",\n",
    "    ]\n",
    "\n",
    "    start = time.perf_counter()\n",
    "\n",
    "    # Utwórz pulę procesów — np. 4 równoległe procesy\n",
    "    with Pool(processes=4) as pool:\n",
    "        results = pool.map(fetch, urls)\n",
    "\n",
    "    elapsed = time.perf_counter() - start\n",
    "    print(f\"\\n⏱️ Czas wykonania (multiprocessing): {elapsed:.2f} s\")\n",
    "    print(f\"Wyniki (długości stron): {results}\")\n",
    "\n",
    "if __name__ == \"__main__\":\n",
    "    main()\n"
   ],
   "id": "da7866858f18c498",
   "outputs": [
    {
     "name": "stdout",
     "output_type": "stream",
     "text": [
      "Writing mpexample.py\n"
     ]
    }
   ],
   "execution_count": 19
  },
  {
   "metadata": {
    "ExecuteTime": {
     "end_time": "2025-10-24T11:15:52.584159Z",
     "start_time": "2025-10-24T11:15:50.288035Z"
    }
   },
   "cell_type": "code",
   "source": "!python mpexample.py",
   "id": "435b6ed839080cd",
   "outputs": [
    {
     "name": "stdout",
     "output_type": "stream",
     "text": [
      "Pobrano 92 bajtów z https://wikipedia.org\r\n",
      "Pobrano 50104 bajtów z https://python.org\r\n",
      "Pobrano 50104 bajtów z https://python.org\r\n",
      "Pobrano 92 bajtów z https://wikipedia.org\r\n",
      "Pobrano 92 bajtów z https://wikipedia.org\r\n",
      "Pobrano 50104 bajtów z https://python.org\r\n",
      "Pobrano 195281 bajtów z https://psinf.com/\r\n",
      "Pobrano 195323 bajtów z https://psinf.com/\r\n",
      "Pobrano 195283 bajtów z https://psinf.com/\r\n",
      "\r\n",
      "⏱️ Czas wykonania (multiprocessing): 1.95 s\r\n",
      "Wyniki (długości stron): [50104, 92, 195281, 50104, 92, 195323, 50104, 92, 195283]\r\n"
     ]
    }
   ],
   "execution_count": 20
  },
  {
   "metadata": {},
   "cell_type": "code",
   "outputs": [],
   "execution_count": null,
   "source": "",
   "id": "6fd7add8062b18a4"
  }
 ],
 "metadata": {
  "kernelspec": {
   "display_name": "Python 3",
   "language": "python",
   "name": "python3"
  },
  "language_info": {
   "codemirror_mode": {
    "name": "ipython",
    "version": 2
   },
   "file_extension": ".py",
   "mimetype": "text/x-python",
   "name": "python",
   "nbconvert_exporter": "python",
   "pygments_lexer": "ipython2",
   "version": "2.7.6"
  }
 },
 "nbformat": 4,
 "nbformat_minor": 5
}
