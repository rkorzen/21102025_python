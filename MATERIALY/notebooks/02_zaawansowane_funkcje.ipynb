{
 "cells": [
  {
   "cell_type": "markdown",
   "id": "490b2e0ba093bd8a",
   "metadata": {},
   "source": [
    "# Zaawansowane użycie funkcji\n",
    "\n",
    "Notebook wprowadza rozszerzone koncepcje pracy z funkcjami w Pythonie.\n"
   ]
  },
  {
   "cell_type": "markdown",
   "id": "1290ebf6040f8723",
   "metadata": {},
   "source": [
    "## Cele\n",
    "- uporządkować wiedzę o definicjach i wywołaniach funkcji\n",
    "- omówić funkcje jako obiekty pierwszej klasy oraz domknięcia\n",
    "- przedstawić generatory, wyrażenia lambda i dekoratory\n",
    "- zaprezentować kluczowe narzędzia modułu `functools`\n"
   ]
  },
  {
   "cell_type": "markdown",
   "id": "715978aed969e7a4",
   "metadata": {},
   "source": [
    "## Podstawy: definicja i wywołanie\n",
    "Funkcja to blok kodu definiowany słowem kluczowym `def`, posiadający parametry, dokumentację oraz wartości domyślne.\n"
   ]
  },
  {
   "cell_type": "code",
   "execution_count": null,
   "id": "38bb79d708278930",
   "metadata": {},
   "outputs": [],
   "source": [
    "def powitaj(imie: str, powitanie: str = \"Cześć\") -> str:\n",
    "    \"\"\"Zwróć sformatowane powitanie.\"\"\"\n",
    "    # Połączenie parametrów w spójną wiadomość\n",
    "    return f\"{powitanie}, {imie}!\"\n",
    "\n",
    "print(powitaj(\"Ada\"))\n",
    "print(powitaj(\"Bartek\", powitanie=\"Dzień dobry\"))\n"
   ]
  },
  {
   "cell_type": "markdown",
   "id": "2eff648ddc21b753",
   "metadata": {},
   "source": [
    "### Argumenty pozycyjne, słowne i `*args` / `**kwargs`\n",
    "Elastyczne podpisy funkcji pozwalają budować API o wysokiej ergonomii.\n"
   ]
  },
  {
   "cell_type": "code",
   "execution_count": null,
   "id": "93b8cc1296dd18b2",
   "metadata": {},
   "outputs": [],
   "source": [
    "def opis_uzytkownika(imie, *, rola=\"uczestnik\", **dodatkowe):\n",
    "    print(f\"{imie} pełni rolę: {rola}\")\n",
    "    for klucz, wartosc in dodatkowe.items():\n",
    "        print(f\"- {klucz}: {wartosc}\")\n",
    "\n",
    "opis_uzytkownika(\"Celina\", rola=\"mentor\", projekt=\"Python Advanced\", poziom=\"średni\")\n"
   ]
  },
  {
   "cell_type": "markdown",
   "id": "c4c18291ac19808a",
   "metadata": {},
   "source": [
    "## Funkcje jako obiekty pierwszej klasy\n",
    "Funkcje można przypisywać do zmiennych, przekazywać jako argumenty i zwracać z innych funkcji. Ta właściwość jest kluczowa dla dalszych technik.\n"
   ]
  },
  {
   "cell_type": "code",
   "execution_count": null,
   "id": "4887b6314eaf45f7",
   "metadata": {},
   "outputs": [],
   "source": [
    "from typing import Callable\n",
    "\n",
    "def wykonaj_operacje(a: int, b: int, operacja: Callable[[int, int], int]) -> int:\n",
    "    # `operacja` to funkcja przekazana z zewnątrz\n",
    "    return operacja(a, b)\n",
    "\n",
    "print(wykonaj_operacje(3, 5, lambda x, y: x + y))\n",
    "print(wykonaj_operacje(10, 4, lambda x, y: x - y))\n"
   ]
  },
  {
   "cell_type": "markdown",
   "id": "75abcdea7f925ff0",
   "metadata": {},
   "source": [
    "## Domknięcia (closures)\n",
    "Domknięcie to funkcja wewnętrzna, która zachowuje odniesienie do zmiennych z otaczającego zakresu, nawet gdy ten zakres już nie istnieje.\n"
   ]
  },
  {
   "cell_type": "code",
   "execution_count": null,
   "id": "b7eaf87c1febf2f1",
   "metadata": {},
   "outputs": [],
   "source": [
    "def fabryka_mnoznika(mnoznik: int):\n",
    "    \"\"\"Zwróć funkcję mnożącą wejście przez określony mnożnik.\"\"\"\n",
    "    def mnoz(x: int) -> int:\n",
    "        return x * mnoznik  # zmienna `mnoznik` pochodzi z zakresu zewnętrznego\n",
    "    return mnoz\n",
    "\n",
    "podwoj = fabryka_mnoznika(2)\n",
    "potroj = fabryka_mnoznika(3)\n",
    "print(podwoj(7))\n",
    "print(potroj(7))\n"
   ]
  },
  {
   "cell_type": "markdown",
   "id": "64671fb9743c6049",
   "metadata": {},
   "source": [
    "## Funkcje anonimowe (`lambda`)\n",
    "Wyrażenia lambda pozwalają tworzyć krótkie funkcje w locie. Warto używać ich oszczędnie, gdy pełna definicja `def` byłaby zbyt rozbudowana dla prostej operacji.\n"
   ]
  },
  {
   "cell_type": "code",
   "execution_count": null,
   "id": "40a18f9bfaf16421",
   "metadata": {},
   "outputs": [],
   "source": [
    "wyniki = [\n",
    "    (\"Ala\", 78),\n",
    "    (\"Bartek\", 92),\n",
    "    (\"Celina\", 85),\n",
    "]\n",
    "\n",
    "# Sortowanie po wyniku rosnąco\n",
    "posortowane = sorted(wyniki, key=lambda wpis: wpis[1])\n",
    "print(posortowane)\n",
    "\n",
    "# Filtracja z mapowaniem\n",
    "prog = 80\n",
    "zaliczone = list(map(lambda para: para[0], filter(lambda p: p[1] >= prog, wyniki)))\n",
    "print(zaliczone)\n"
   ]
  },
  {
   "cell_type": "markdown",
   "id": "73389b6efc17df36",
   "metadata": {},
   "source": [
    "## Generatory i `yield`\n",
    "Generatory produkują wartości na żądanie, co oszczędza pamięć i pozwala tworzyć złożone potoki danych. Funkcja generatorowa zawiera słowo `yield`.\n"
   ]
  },
  {
   "cell_type": "code",
   "execution_count": null,
   "id": "294c3413d516d61c",
   "metadata": {},
   "outputs": [],
   "source": [
    "def licz_w_przedziale(start: int, stop: int):\n",
    "    \"\"\"Zwracaj kolejne liczby, ale tylko te podzielne przez 3 lub 5.\"\"\"\n",
    "    for wartosc in range(start, stop):\n",
    "        if wartosc % 3 == 0 or wartosc % 5 == 0:\n",
    "            yield wartosc\n",
    "\n",
    "for liczba in licz_w_przedziale(1, 20):\n",
    "    print(liczba, end=\" \")\n",
    "print()\n",
    "\n",
    "# Wyrażenie generatorowe\n",
    "kwadraty = (n * n for n in range(5))\n",
    "print(list(kwadraty))\n"
   ]
  },
  {
   "cell_type": "markdown",
   "id": "b10ee59ba97e7ded",
   "metadata": {},
   "source": [
    "## Moduł `functools`\n",
    "`functools` dostarcza narzędzi do pracy z funkcjami wysokiego poziomu: memoizacja, częściowa aplikacja, kompozycje i porównania.\n"
   ]
  },
  {
   "cell_type": "code",
   "execution_count": null,
   "id": "7ce589d0bb0a03ea",
   "metadata": {},
   "outputs": [],
   "source": [
    "import functools\n",
    "import operator\n",
    "\n",
    "@functools.lru_cache(maxsize=128)\n",
    "def fibonacci(n: int) -> int:\n",
    "    if n < 2:\n",
    "        return n\n",
    "    return fibonacci(n - 1) + fibonacci(n - 2)\n",
    "\n",
    "print([fibonacci(i) for i in range(10)])\n",
    "\n",
    "# `partial` zamraża część argumentów funkcji\n",
    "potega2 = functools.partial(pow, 2)\n",
    "print(potega2(5))\n",
    "\n",
    "# `reduce` akumuluje wynik\n",
    "produkt = functools.reduce(operator.mul, [2, 3, 4], 1)\n",
    "print(produkt)\n"
   ]
  },
  {
   "cell_type": "markdown",
   "id": "76839473d8f02632",
   "metadata": {},
   "source": [
    "## Dekoratory\n",
    "Dekorator to funkcja przyjmująca inną funkcję i zwracająca funkcję opakowującą. Służy do dodawania zachowania bez modyfikacji oryginalnej implementacji.\n"
   ]
  },
  {
   "cell_type": "code",
   "execution_count": null,
   "id": "2e33e7e7-e59b-4c0d-9ad4-1ab760dd0aed",
   "metadata": {},
   "outputs": [],
   "source": [
    "import time\n",
    "import logging\n",
    "import traceback\n",
    "from functools import wraps\n",
    "\n",
    "# --- Konfiguracja logowania ---\n",
    "logging.basicConfig(\n",
    "    level=logging.INFO,\n",
    "    format=\"%(asctime)s | %(levelname)-8s | %(name)s | %(funcName)s | %(message)s\",\n",
    "    datefmt=\"%Y-%m-%d %H:%M:%S\",\n",
    ")\n",
    "logger = logging.getLogger(__name__)"
   ]
  },
  {
   "cell_type": "code",
   "execution_count": 6,
   "id": "57b4a0e93613e402",
   "metadata": {},
   "outputs": [
    {
     "name": "stderr",
     "output_type": "stream",
     "text": [
      "2025-10-22 13:11:27 | INFO     | __main__ | wrapper | policz_do wykonana w 4.08 ms\n",
      "2025-10-22 13:11:27 | ERROR    | __main__ | wrapper | Błąd w funkcji funkcja_z_bledem po 0.01 ms: Blad blad blad\n",
      "Traceback (most recent call last):\n",
      "  File \"/var/folders/pd/gsgbf0fd4tv7ntlsxt53r0sh0000gn/T/ipykernel_8400/1891676779.py\", line 8, in wrapper\n",
      "    wynik = funkcja(*args, **kwargs)\n",
      "  File \"/var/folders/pd/gsgbf0fd4tv7ntlsxt53r0sh0000gn/T/ipykernel_8400/1891676779.py\", line 39, in funkcja_z_bledem\n",
      "    raise ValueError(\"Blad blad blad\")\n",
      "ValueError: Blad blad blad\n",
      "\n"
     ]
    }
   ],
   "source": [
    "# --- Dekorator z pomiarem czasu i logowaniem błędów ---\n",
    "def loguj_czas(funkcja):\n",
    "    \"\"\"Dekorator mierzący czas wykonania i logujący błędy.\"\"\"\n",
    "    @wraps(funkcja)\n",
    "    def wrapper(*args, **kwargs):\n",
    "        start = time.perf_counter()\n",
    "        try:\n",
    "            wynik = funkcja(*args, **kwargs)\n",
    "            elapsed = (time.perf_counter() - start) * 1000\n",
    "            logger.info(f\"{funkcja.__name__} wykonana w {elapsed:.2f} ms\")\n",
    "            return wynik\n",
    "        except Exception as e:\n",
    "            elapsed = (time.perf_counter() - start) * 1000\n",
    "            tb = traceback.format_exc()\n",
    "            logger.error(\n",
    "                f\"Błąd w funkcji {funkcja.__name__} po {elapsed:.2f} ms: {e}\\n{tb}\"\n",
    "            )\n",
    "            raise  # ponownie wyrzucamy wyjątek, by nie maskować błędów\n",
    "    return wrapper\n",
    "\n",
    "# --- Przykładowa funkcja ---\n",
    "@loguj_czas\n",
    "def policz_do(n: int):\n",
    "    \"\"\"Prosty przykład – z celowym błędem dla testu.\"\"\"\n",
    "    suma = 0\n",
    "    for i in range(n):\n",
    "        suma += i\n",
    "    return suma\n",
    "\n",
    "# --- Test ---\n",
    "\n",
    "\n",
    "@loguj_czas\n",
    "def funkcja_z_bledem(n: int):\n",
    "    suma = 0\n",
    "    for i in range(n):\n",
    "        suma += i\n",
    "        if i == n // 2:\n",
    "            raise ValueError(\"Blad blad blad\")\n",
    "    return suma\n",
    "    \n",
    "policz_do(100_000)\n",
    "\n",
    "try:\n",
    "    funkcja_z_bledem(50)\n",
    "except:\n",
    "    pass "
   ]
  },
  {
   "cell_type": "markdown",
   "id": "172b10add9036343",
   "metadata": {},
   "source": [
    "### Dekoratory z argumentami\n",
    "Dekorator przyjmujący argumenty jest funkcją zwracającą dekorator właściwy. Pozwala parametryzować zachowanie opakowania.\n"
   ]
  },
  {
   "cell_type": "code",
   "execution_count": null,
   "id": "8fb51d25a3809de6",
   "metadata": {},
   "outputs": [],
   "source": [
    "from functools import wraps\n",
    "\n",
    "def powtorz(ile_razy: int):\n",
    "    def dekorator(funkcja):\n",
    "        @wraps(funkcja)\n",
    "        def wrapper(*args, **kwargs):\n",
    "            wynik = None\n",
    "            for _ in range(ile_razy):\n",
    "                wynik = funkcja(*args, **kwargs)\n",
    "            return wynik\n",
    "        return wrapper\n",
    "    return dekorator\n",
    "\n",
    "@powtorz(3)\n",
    "def powiedz(tekst: str):\n",
    "    print(tekst)\n",
    "\n",
    "powiedz(\"Python jest super!\")\n"
   ]
  },
  {
   "cell_type": "markdown",
   "id": "26c932f676d89ebb",
   "metadata": {},
   "source": [
    "## Podsumowanie\n",
    "- Funkcje w Pythonie to obiekty pierwszej klasy, co umożliwia budowanie domknięć, generatorów i dekoratorów.\n",
    "- `lambda` i generatory ułatwiają zwięzłe przetwarzanie danych strumieniowych.\n",
    "- `functools` rozszerza możliwości funkcji o cache, częściową aplikację i operacje redukujące.\n",
    "- Dekoratory pozwalają wstrzykiwać dodatkowe działania przed/po wywołaniu funkcji, również w sposób parametryzowany.\n"
   ]
  },
  {
   "cell_type": "markdown",
   "id": "abaeb9b288071ee4",
   "metadata": {},
   "source": [
    "## Ćwiczenia\n",
    "1. Zaimplementuj dekorator, który loguje argumenty wejściowe i wynik funkcji, a następnie zastosuj go do funkcji obliczającej średnią."
   ]
  },
  {
   "cell_type": "code",
   "execution_count": null,
   "id": "39e2a9d4f50a475c",
   "metadata": {
    "ExecuteTime": {
     "end_time": "2025-10-20T16:04:08.969902Z",
     "start_time": "2025-10-20T16:04:08.956412Z"
    }
   },
   "outputs": [],
   "source": [
    "# zad 1\n",
    "import functools\n",
    "\n",
    "# ----------------------------------------------------\n",
    "# Dekorator logujący argumenty wejściowe i wynik funkcji\n",
    "# ----------------------------------------------------\n",
    "def log_calls(func):\n",
    "    \"\"\"Dekorator logujący argumenty i wynik funkcji.\"\"\"\n",
    "    @functools.wraps(func)  # zachowuje nazwę i docstring oryginalnej funkcji\n",
    "    def wrapper(*args, **kwargs):\n",
    "        print(f\"[LOG] Wywołanie funkcji: {func.__name__}\")\n",
    "        print(f\"[LOG] Argumenty pozycyjne: {args}\")\n",
    "        print(f\"[LOG] Argumenty nazwane: {kwargs}\")\n",
    "        result = func(*args, **kwargs)\n",
    "        print(f\"[LOG] Wynik: {result}\")\n",
    "        print(\"-\" * 40)\n",
    "        return result\n",
    "    return wrapper\n",
    "\n",
    "\n",
    "# ----------------------------------------------------\n",
    "# Funkcja obliczająca średnią — udekorowana logowaniem\n",
    "# ----------------------------------------------------\n",
    "@log_calls\n",
    "def average(*numbers):\n",
    "    \"\"\"Zwraca średnią z przekazanych liczb.\"\"\"\n",
    "    if not numbers:\n",
    "        raise ValueError(\"Musisz podać przynajmniej jedną liczbę.\")\n",
    "    return sum(numbers) / len(numbers)\n",
    "\n",
    "\n",
    "# ----------------------------------------------------\n",
    "# Przykładowe użycie\n",
    "# ----------------------------------------------------\n",
    "average(10, 20, 30)\n",
    "average(3.5, 4.5, 5.5)\n",
    "average(1)\n"
   ]
  },
  {
   "cell_type": "markdown",
   "id": "a3595b0a3a05ac7c",
   "metadata": {},
   "source": [
    "\n",
    "2. Stwórz generator produkujący nieskończony ciąg liczb Fibonacciego i wykorzystaj `itertools.islice`, by pobrać pierwsze 10 elementów."
   ]
  },
  {
   "cell_type": "code",
   "execution_count": null,
   "id": "5940479fb4d559e0",
   "metadata": {
    "ExecuteTime": {
     "end_time": "2025-10-20T16:06:34.782685Z",
     "start_time": "2025-10-20T16:06:34.779216Z"
    }
   },
   "outputs": [],
   "source": [
    "import itertools\n",
    "\n",
    "# ----------------------------------------------------\n",
    "# Generator nieskończonego ciągu liczb Fibonacciego\n",
    "# ----------------------------------------------------\n",
    "def fibonacci():\n",
    "    \"\"\"Generator zwracający kolejne liczby Fibonacciego.\"\"\"\n",
    "    a, b = 0, 1\n",
    "    while True:          # nieskończona pętla — generator jest \"infinite\"\n",
    "        yield a          # zwróć bieżący element\n",
    "        a, b = b, a + b  # przesuń wartości do przodu\n",
    "\n",
    "\n",
    "# ----------------------------------------------------\n",
    "# Pobranie pierwszych 10 elementów za pomocą itertools.islice\n",
    "# ----------------------------------------------------\n",
    "first_ten = list(itertools.islice(fibonacci(), 1, 15))\n",
    "\n",
    "print(first_ten)\n"
   ]
  },
  {
   "cell_type": "markdown",
   "id": "a8a7717cecbf93c7",
   "metadata": {},
   "source": [
    "3. Napisz funkcję fabrykującą, która przyjmie walidator (funkcję) i zwróci nową funkcję filtrującą listę danych zgodnie z przekazanym walidatorem. Przykladowe funkcje walidujace - to funkcje `is_even` i `is_positive`.\n"
   ]
  },
  {
   "cell_type": "code",
   "execution_count": null,
   "id": "979a51b7d1841d48",
   "metadata": {
    "ExecuteTime": {
     "end_time": "2025-10-20T16:07:30.255169Z",
     "start_time": "2025-10-20T16:07:30.249405Z"
    }
   },
   "outputs": [],
   "source": [
    "# ----------------------------------------------------\n",
    "# Funkcja fabrykująca (factory function)\n",
    "# ----------------------------------------------------\n",
    "def make_filter(validator):\n",
    "    \"\"\"\n",
    "    Przyjmuje funkcję walidującą i zwraca nową funkcję,\n",
    "    która filtruje listę danych zgodnie z przekazanym walidatorem.\n",
    "    \"\"\"\n",
    "    def filter_func(data):\n",
    "        # Używamy funkcji wbudowanej `filter`, która stosuje validator do każdego elementu\n",
    "        return list(filter(validator, data))\n",
    "    return filter_func\n",
    "\n",
    "\n",
    "# ----------------------------------------------------\n",
    "# Przykładowe walidatory\n",
    "# ----------------------------------------------------\n",
    "def is_even(x):\n",
    "    \"\"\"Sprawdza, czy liczba jest parzysta.\"\"\"\n",
    "    return x % 2 == 0\n",
    "\n",
    "def is_positive(x):\n",
    "    \"\"\"Sprawdza, czy liczba jest dodatnia.\"\"\"\n",
    "    return x > 0\n",
    "\n",
    "\n",
    "# ----------------------------------------------------\n",
    "# Tworzenie konkretnych filtrów z pomocą funkcji fabrykującej\n",
    "# ----------------------------------------------------\n",
    "even_filter = make_filter(is_even)\n",
    "positive_filter = make_filter(is_positive)\n",
    "\n",
    "\n",
    "# ----------------------------------------------------\n",
    "# Przykładowe dane i wyniki\n",
    "# ----------------------------------------------------\n",
    "data = [-3, -2, -1, 0, 1, 2, 3, 4]\n",
    "\n",
    "print(\"Parzyste:\", even_filter(data))\n",
    "print(\"Dodatnie:\", positive_filter(data))\n"
   ]
  },
  {
   "cell_type": "code",
   "execution_count": null,
   "id": "4f549e95fbed12d6",
   "metadata": {},
   "outputs": [],
   "source": []
  }
 ],
 "metadata": {
  "kernelspec": {
   "display_name": "Python 3 (ipykernel)",
   "language": "python",
   "name": "python3"
  },
  "language_info": {
   "codemirror_mode": {
    "name": "ipython",
    "version": 3
   },
   "file_extension": ".py",
   "mimetype": "text/x-python",
   "name": "python",
   "nbconvert_exporter": "python",
   "pygments_lexer": "ipython3",
   "version": "3.14.0"
  }
 },
 "nbformat": 4,
 "nbformat_minor": 5
}
