{
 "cells": [
  {
   "cell_type": "markdown",
   "id": "e299e24710319221",
   "metadata": {},
   "source": [
    "# Powtórzenie: typy wbudowane i rozszerzenia\n",
    "\n",
    "Notebook otwierający moduł powtórkowy dla uczestników kursu Python Advanced.\n"
   ]
  },
  {
   "cell_type": "markdown",
   "id": "cd851489cb36360d",
   "metadata": {},
   "source": [
    "## Cele\n",
    "- przypomnieć kluczowe typy danych i ich właściwości implementacyjne\n",
    "- ugruntować umiejętność pracy z reprezentacją liczb i sekwencji\n",
    "- pokazać praktyczne rozszerzenia z modułów `collections`, `array`, `decimal`\n"
   ]
  },
  {
   "cell_type": "markdown",
   "id": "bb8a54e31f83aadc",
   "metadata": {},
   "source": [
    "## Liczby całkowite (`int`)\n",
    "Pythonowe `int` mają precyzję arbitralną i rosną wraz z zapotrzebowaniem na bity. Poniższe przykłady pokazują konwersje między systemami liczbowymi, operacje bitowe oraz analizę rozmiaru wartości.\n"
   ]
  },
  {
   "cell_type": "code",
   "execution_count": 7,
   "id": "5a0b2085c1ac20d0",
   "metadata": {
    "ExecuteTime": {
     "end_time": "2025-10-20T15:13:23.845770Z",
     "start_time": "2025-10-20T15:13:23.805464Z"
    }
   },
   "outputs": [
    {
     "name": "stdout",
     "output_type": "stream",
     "text": [
      "Wartość: 46531388344983681457769984555620005635274427815488751368772861643065273360461098097690597702647394229975161523887729348709679192202790820272357752329882392140552515610822058736740145045150003072264722464746837070302159356661765043244993104360887623976285955058200326531849137668562738184397385361179287309286327712528995820702180594566008294593820621769951491324907014215176509758404760451335847252744697820515292329680698271481385779516652518207263143889034764775414387732372812840456880885163361037485452406176311868267428358492408075197688911053603714883403374930891951109790394269793978310190141201019287109375\n",
      "binarnie: 10111100101110010001011000011101011100101011010101100001000111110011101001101111110111100010010011111111100000000011011110100001110001100111101111001010010011001000111010100101000001110010110110101111000110101011111100011011010001100011001100010011110011001111000000101001111011010111011101000011111101100001111000000100000011100000001000011111111010111110010001101000111101100011001110101011111011001011001100011111100100100011011111101011010100010001111011101111101101010100011110101111011001110000010111111101100010010000100111100111101001000000101110000000110101000110100010001000101001110000100110000001110011110101011000011011000100000110111100010001100011010001100000000010010110010110100001100110000010101011110110111011010011101000110101001001000010000001001010001000100111010101001000100010100011100100111001110110111100111111100001111101010101110110111000011101100101001010101001010101111011001010000110000100011010010111011000000011110110101000000010001000010011111110001011111001101110111011101011100011101000010001110001110011110111110011100001110011000001011100011110011100100010011100110011100000100010101101010101010000001010101001100000111111101101111011001110000110101100101000111111101001001010001100011011010100100001001011100011010011011111110001001111010011100011101011010110100111011011110100000101001010101100110101111000011110101110110101001100101000111110010001101111010111010011001000100000101110011000100000111000100111011001000111110011111101111010011011110010100001011101100101010001111101001000010111100001010101100001111011010010100100000000111001100101010001101011011100101110111111110101010001000011111000100111101111010010011101001001000010111010111011001111110001000101111010010011101111001101101010111111110011110101100110101101111100111010100101000111110010110010110100000011011011010000010101100010000011101110010110011101000110100111100011101100010101011011111011000111111101110011000100000101010010100111110101010010000101100001110010101100110010111011101010110101100000000011111111111111011111111\n",
      "oktalnie: 27456213035345325410763515767422377400336416147571223107245016266570653743321431423631700517327350375417004034010377276215075431653731314374443375324217357552436573160277542204747510056006506421051604601636530330406742143214002262641460253667323506511020112104725104243447166747741752566703545125125731206043227300366500210237613715673534350216163676341630134363442346340425525201251407755731606545077511214332441134323376117234353264733640512546570365665145076215727231040563040704731076375723362413545217510274125417322440071452153345677652103704757223511027273176105722357155277636546557472450762626403332025420356263506474354253373077563040522476522054162546273526540037777377\n",
      "szesnastkowo: 5e5c8b0eb95ab08f9d37ef127fc01bd0e33de52647528396d78d5f8da31989e67814f6bba1fb0f0207010ff5f2347b19d5f6598fc91bf5a88f77daa3d7b382fec484f3d205c06a34445384c0e7ab0d883788c68c012cb433055edda746a48409444ea91147273b79fc3eabb70eca552af650c234bb01ed404427f17cdddd71d08e39ef9c3982e3ce44e670456aa8154c1fdbd9c35947f494636a425c69bf89e9c75ad3b7a0a559af0f5da9947c8deba64417310713b23e7ef4de50bb2a3e90bc2ac3da5201cca8d6e5dfea887c4f7a4e92175d9f88bd2779b57f9eb35be7528f965a06da0ac41dcb3a34f1d8ab7d8fee620a94faa42c395997756b007ffeff\n",
      "Konwersje wejściowe\n",
      "255\n",
      "255\n",
      "Informacje o długości\n",
      "bit_length: 2039\n",
      "liczba bajtów (little endian): 255\n"
     ]
    }
   ],
   "source": [
    "liczba = 255 ** 255\n",
    "print(f\"Wartość: {liczba}\")\n",
    "print(f\"binarnie: {liczba:b}\")\n",
    "print(f\"oktalnie: {liczba:o}\")\n",
    "print(f\"szesnastkowo: {liczba:x}\")\n",
    "\n",
    "print(\"Konwersje wejściowe\")\n",
    "print(int(\"ff\", 16))\n",
    "print(int(\"1111 1111\".replace(\" \", \"\"), 2))\n",
    "\n",
    "print(\"Informacje o długości\")\n",
    "print(f\"bit_length: {liczba.bit_length()}\")\n",
    "print(f\"liczba bajtów (little endian): {len(liczba.to_bytes(255, byteorder='little', signed=False))}\")\n"
   ]
  },
  {
   "cell_type": "code",
   "execution_count": 11,
   "id": "580822a4-9ac1-44c1-8dcd-5fdc0668a5a5",
   "metadata": {},
   "outputs": [
    {
     "data": {
      "text/plain": [
       "sys.int_info(bits_per_digit=30, sizeof_digit=4, default_max_str_digits=4300, str_digits_check_threshold=640)"
      ]
     },
     "execution_count": 11,
     "metadata": {},
     "output_type": "execute_result"
    }
   ],
   "source": [
    "import sys\n",
    "sys.int_info"
   ]
  },
  {
   "cell_type": "markdown",
   "id": "ac839159b88aca5e",
   "metadata": {},
   "source": [
    "## Liczby zmiennoprzecinkowe (`float`)\n",
    "Typ `float` wykorzystuje standard IEEE 754 (64-bit). Obsługuje notację naukową (`1.5e3`) oraz wartości specjalne `nan`, `inf`. Warto znać ograniczenia precyzji i zakres reprezentacji.\n"
   ]
  },
  {
   "cell_type": "code",
   "execution_count": 2,
   "id": "3a01656556299b47",
   "metadata": {
    "ExecuteTime": {
     "end_time": "2025-10-20T15:13:46.845353Z",
     "start_time": "2025-10-20T15:13:46.839505Z"
    }
   },
   "outputs": [
    {
     "name": "stdout",
     "output_type": "stream",
     "text": [
      "1200.0\t isfinite=True\n",
      "0.000567\t isfinite=True\n",
      "3.141592653589793\t isfinite=True\n",
      "inf\t isfinite=False\n",
      "-inf\t isfinite=False\n",
      "nan == nan: False\n",
      "math.isnan(nan): True\n",
      "Parametry środowiska float\n",
      "sys.float_info(max=1.7976931348623157e+308, max_exp=1024, max_10_exp=308, min=2.2250738585072014e-308, min_exp=-1021, min_10_exp=-307, dig=15, mant_dig=53, epsilon=2.220446049250313e-16, radix=2, rounds=1)\n"
     ]
    }
   ],
   "source": [
    "import math\n",
    "import sys\n",
    "\n",
    "wartosci = [1.2e3, 5.67e-4, math.pi, math.inf, -math.inf]\n",
    "for val in wartosci:\n",
    "    print(f\"{val!r}\t isfinite={math.isfinite(val)}\")\n",
    "\n",
    "nan = float(\"nan\")\n",
    "print(\"nan == nan:\", nan == nan)\n",
    "print(\"math.isnan(nan):\", math.isnan(nan))\n",
    "\n",
    "print(\"Parametry środowiska float\")\n",
    "print(sys.float_info)\n"
   ]
  },
  {
   "cell_type": "markdown",
   "id": "c04557a217ce696e",
   "metadata": {},
   "source": [
    "### Precyzja i alternatywy\n",
    "Operacje na `float` bywają obarczone błędem binarnego zapisu. W sytuacjach wymagających dokładności stosujemy `decimal.Decimal` lub `fractions.Fraction`.\n"
   ]
  },
  {
   "cell_type": "code",
   "execution_count": 3,
   "id": "987656f36f4cbb5c",
   "metadata": {
    "ExecuteTime": {
     "end_time": "2025-10-20T15:14:18.009896Z",
     "start_time": "2025-10-20T15:14:18.005881Z"
    }
   },
   "outputs": [
    {
     "name": "stdout",
     "output_type": "stream",
     "text": [
      "0.30000000000000004\n",
      "0.3\n",
      "0.142857\n",
      "1\n"
     ]
    }
   ],
   "source": [
    "from decimal import Decimal, getcontext\n",
    "from fractions import Fraction\n",
    "\n",
    "print(0.1 + 0.2)\n",
    "print(Decimal(\"0.1\") + Decimal(\"0.2\"))\n",
    "\n",
    "getcontext().prec = 6\n",
    "print(Decimal(\"1\") / Decimal(\"7\"))\n",
    "\n",
    "print(Fraction(1, 3) + Fraction(2, 3))\n"
   ]
  },
  {
   "cell_type": "markdown",
   "id": "4136b75e2f3a824e",
   "metadata": {},
   "source": [
    "## Liczby zespolone (`complex`)\n",
    "Typ `complex` przechowuje część rzeczywistą i urojoną (w formacie `a + bj`). Wspiera operacje arytmetyczne oraz moduł `cmath` z funkcjami trygonometrycznymi i wykładniczymi.\n"
   ]
  },
  {
   "cell_type": "code",
   "execution_count": 4,
   "id": "59c46b80ca5015f2",
   "metadata": {
    "ExecuteTime": {
     "end_time": "2025-10-20T15:14:59.324263Z",
     "start_time": "2025-10-20T15:14:59.317158Z"
    }
   },
   "outputs": [
    {
     "name": "stdout",
     "output_type": "stream",
     "text": [
      "z: (3+4j)\n",
      "moduł |z|: 5.0\n",
      "sprzężenie: (3-4j)\n",
      "argument w radianach: 0.9272952180016122\n",
      "eksponenta: (-13.128783081462158-15.200784463067954j)\n"
     ]
    }
   ],
   "source": [
    "z = complex(3, 4)\n",
    "print(\"z:\", z)\n",
    "print(\"moduł |z|:\", abs(z))\n",
    "print(\"sprzężenie:\", z.conjugate())\n",
    "\n",
    "import cmath\n",
    "print(\"argument w radianach:\", cmath.phase(z))\n",
    "print(\"eksponenta:\", cmath.exp(z))\n"
   ]
  },
  {
   "cell_type": "markdown",
   "id": "71b44ef41e46fcb9",
   "metadata": {},
   "source": [
    "## Sekwencje: listy, krotki i zakresy\n",
    "Kolekcje sekwencyjne wspierają cięcia, pakowanie i rozpakowywanie, list comprehension czy funkcje wyższego rzędu (`map`, `zip`).\n"
   ]
  },
  {
   "cell_type": "code",
   "execution_count": 5,
   "id": "e9cabb931eb95892",
   "metadata": {
    "ExecuteTime": {
     "end_time": "2025-10-20T15:15:52.625628Z",
     "start_time": "2025-10-20T15:15:52.621105Z"
    }
   },
   "outputs": [
    {
     "name": "stdout",
     "output_type": "stream",
     "text": [
      "[0, 4, 16, 36, 64]\n",
      "0 [4, 16, 36] 64\n",
      "[0, 16, 64]\n",
      "[64, 36, 16, 4, 0]\n",
      "n=0    -> 0\n",
      "n=2    -> 4\n",
      "n=4    -> 16\n",
      "n=6    -> 36\n",
      "n=8    -> 64\n"
     ]
    }
   ],
   "source": [
    "numbers = [n ** 2 for n in range(10) if n % 2 == 0]\n",
    "print(numbers)\n",
    "\n",
    "first, *middle, last = numbers\n",
    "print(first, middle, last)\n",
    "\n",
    "# Zaawansowane cięcia\n",
    "print(numbers[::2])\n",
    "print(numbers[::-1])\n",
    "\n",
    "# Łączenie sekwencji\n",
    "labels = [f\"n={i}\" for i in range(0, 10, 2)]\n",
    "for label, value in zip(labels, numbers):\n",
    "    print(f\"{label:<6} -> {value}\")\n"
   ]
  },
  {
   "cell_type": "markdown",
   "id": "8636953a346c0d32",
   "metadata": {},
   "source": [
    "## Zbiory (`set`, `frozenset`)\n",
    "Zbiory eliminują duplikaty i umożliwiają szybkie operacje teorii mnogości. `frozenset` jest niemutowalną wersją przydatną jako klucz w słowniku.\n"
   ]
  },
  {
   "cell_type": "code",
   "execution_count": 6,
   "id": "c20ff1c2748e5298",
   "metadata": {
    "ExecuteTime": {
     "end_time": "2025-10-20T15:16:04.707506Z",
     "start_time": "2025-10-20T15:16:04.703155Z"
    }
   },
   "outputs": [
    {
     "name": "stdout",
     "output_type": "stream",
     "text": [
      "{1, 2, 3}\n",
      "{1, 2, 3, 4, 5}\n",
      "{3}\n",
      "{1, 2}\n",
      "{1, 2, 4, 5}\n",
      "frozenset: frozenset({1, 2, 3})\n"
     ]
    }
   ],
   "source": [
    "A = {1, 2, 3, 3, 2}\n",
    "B = {3, 4, 5}\n",
    "print(A)\n",
    "print(A | B)  # suma\n",
    "print(A & B)  # część wspólna\n",
    "print(A - B)  # różnica\n",
    "print(A ^ B)  # różnica symetryczna\n",
    "\n",
    "immutable = frozenset({1, 2, 3})\n",
    "print(\"frozenset:\", immutable)\n"
   ]
  },
  {
   "cell_type": "markdown",
   "id": "3edbc11ee31473e7",
   "metadata": {},
   "source": [
    "## 🧭 Słowniki i mapy w Pythonie\n",
    "\n",
    "Słowniki (`dict`) to podstawowy typ mapowania klucz–wartość w Pythonie.\n",
    "Zachowują kolejność wstawiania, wspierają wygodne łączenie (`|`, `|=`),\n",
    "oraz metody takie jak `get`, `setdefault` i typy z `collections` (`defaultdict`, `ChainMap`).\n",
    "\n",
    "---\n",
    "\n",
    "### 🔹 Tworzenie słowników\n"
   ]
  },
  {
   "cell_type": "code",
   "execution_count": null,
   "id": "e24a9bd4a2e1cba7",
   "metadata": {},
   "outputs": [],
   "source": [
    "\n",
    "dane = {\"imie\": \"Ada\", \"rola\": \"mentor\"}\n",
    "dane2 = dict(email=\"ada@example.com\", aktywny=True)\n",
    "\n",
    "klucze = [\"a\", \"b\", \"c\"]\n",
    "wartosci = [1, 2, 3]\n",
    "slownik = dict(zip(klucze, wartosci))\n",
    "\n",
    "kwadraty = {x: x**2 for x in range(5)}"
   ]
  },
  {
   "cell_type": "markdown",
   "id": "84f4b7d63c444f93",
   "metadata": {},
   "source": [
    "\n",
    "---\n",
    "\n",
    "### 🔹 Łączenie słowników"
   ]
  },
  {
   "cell_type": "code",
   "execution_count": null,
   "id": "17daa8f6b61ac7de",
   "metadata": {},
   "outputs": [],
   "source": [
    "\n",
    "\n",
    "dane = {\"imie\": \"Ada\", \"rola\": \"mentor\"}\n",
    "nowe_dane = {\"rola\": \"trener\", \"email\": \"ada@example.com\"}\n",
    "polaczone = dane | nowe_dane\n",
    "print(polaczone)\n",
    "# {'imie': 'Ada', 'rola': 'trener', 'email': 'ada@example.com'}\n"
   ]
  },
  {
   "cell_type": "markdown",
   "id": "f4b4f1970e13d65b",
   "metadata": {},
   "source": [
    "\n",
    "Starsze wersje (Python <3.9):\n"
   ]
  },
  {
   "cell_type": "code",
   "execution_count": 9,
   "id": "2c25c08fc25d55f3",
   "metadata": {
    "ExecuteTime": {
     "end_time": "2025-10-20T15:23:28.380409Z",
     "start_time": "2025-10-20T15:23:28.378050Z"
    }
   },
   "outputs": [],
   "source": [
    "\n",
    "polaczone = {**dane, **nowe_dane}\n"
   ]
  },
  {
   "cell_type": "markdown",
   "id": "5838438217f64978",
   "metadata": {},
   "source": [
    "\n",
    "---\n",
    "\n",
    "### 🔹 Domyślne wartości\n",
    "\n",
    "#### `get()` — bezpieczny odczyt:"
   ]
  },
  {
   "cell_type": "code",
   "execution_count": 10,
   "id": "d8fd3041218c4f13",
   "metadata": {
    "ExecuteTime": {
     "end_time": "2025-10-20T15:23:32.418452Z",
     "start_time": "2025-10-20T15:23:32.415613Z"
    }
   },
   "outputs": [
    {
     "name": "stdout",
     "output_type": "stream",
     "text": [
      "brak danych\n"
     ]
    }
   ],
   "source": [
    "\n",
    "print(dane.get(\"wiek\", \"brak danych\"))"
   ]
  },
  {
   "cell_type": "markdown",
   "id": "eb906eb7ef96e4a8",
   "metadata": {},
   "source": [
    "\n",
    "\n",
    "#### `setdefault()` — ustawia, jeśli brak:"
   ]
  },
  {
   "cell_type": "code",
   "execution_count": null,
   "id": "aca139ccf194f09d",
   "metadata": {},
   "outputs": [],
   "source": [
    "\n",
    "uprawnienia = {}\n",
    "uprawnienia.setdefault(\"admin\", []).append(\"read\")\n",
    "uprawnienia.setdefault(\"admin\", []).append(\"write\")\n"
   ]
  },
  {
   "cell_type": "markdown",
   "id": "6d01854351770d54",
   "metadata": {},
   "source": [
    "\n",
    "#### `defaultdict()` — automatyczne wartości:"
   ]
  },
  {
   "cell_type": "code",
   "execution_count": null,
   "id": "30c89728f5f9a596",
   "metadata": {},
   "outputs": [],
   "source": [
    "\n",
    "from collections import defaultdict\n",
    "licznik = defaultdict(int)\n",
    "for litera in \"banana\":\n",
    "    licznik[litera] += 1\n",
    "# {'b': 1, 'a': 3, 'n': 2}"
   ]
  },
  {
   "cell_type": "markdown",
   "id": "86d1b2d980873644",
   "metadata": {},
   "source": [
    "\n",
    "---\n",
    "\n",
    "### 🔹 Przydatne metody\n",
    "\n",
    "| Metoda                        | Opis                               |\n",
    "| ----------------------------- | ---------------------------------- |\n",
    "| `get(k, d)`                   | zwraca wartość lub domyślną        |\n",
    "| `setdefault(k, d)`            | ustawia wartość, jeśli brak klucza |\n",
    "| `update(other)`               | łączy słowniki                     |\n",
    "| `keys() / values() / items()` | zwraca widoki danych               |\n",
    "| `pop(k[, d])`                 | usuwa i zwraca wartość             |\n",
    "| `clear()`                     | czyści słownik                     |\n",
    "\n",
    "---\n",
    "\n"
   ]
  },
  {
   "cell_type": "markdown",
   "id": "13ca422d1c1b5927",
   "metadata": {},
   "source": [
    "\n",
    "---\n",
    "\n",
    "### 🔹 ChainMap – łączenie kontekstów\n",
    "\n",
    "Pozwala nakładać kilka map (np. warstwy konfiguracji):\n"
   ]
  },
  {
   "cell_type": "code",
   "execution_count": 13,
   "id": "4bd34528a77f4bf0",
   "metadata": {
    "ExecuteTime": {
     "end_time": "2025-10-20T15:27:24.891727Z",
     "start_time": "2025-10-20T15:27:24.886717Z"
    }
   },
   "outputs": [
    {
     "name": "stdout",
     "output_type": "stream",
     "text": [
      "True\n",
      "True\n",
      "admin\n",
      "False\n",
      "True\n",
      "[{'debug': False, 'mode': 'cli'}, {'user': 'admin'}, {'debug': True}, {'debug': False, 'cache': True}]\n"
     ]
    }
   ],
   "source": [
    "from collections import ChainMap\n",
    "\n",
    "# Tworzymy kilka warstw konfiguracji\n",
    "base = {\"debug\": False, \"cache\": True}\n",
    "env = {\"debug\": True}\n",
    "session = {\"user\": \"admin\"}\n",
    "\n",
    "config = ChainMap(session, env, base)\n",
    "print(config[\"debug\"])   # -> True  (pierwsze wystąpienie wygrywa)\n",
    "print(config[\"cache\"])   # -> True  (z warstwy bazowej)\n",
    "print(config[\"user\"])    # -> admin\n",
    "\n",
    "# Dodajemy nową warstwę \"cli\" na wierzch\n",
    "cli = config.new_child({\"debug\": False, \"mode\": \"cli\"})\n",
    "print(cli[\"debug\"])      # -> False (nadpisane przez CLI)\n",
    "print(cli[\"cache\"])      # -> True  (odziedziczone z base)\n",
    "\n",
    "# Podgląd wszystkich warstw\n",
    "print(cli.maps)\n",
    "# [{'debug': False, 'mode': 'cli'}, {'user': 'admin'}, {'debug': True}, {'cache': True}]\n"
   ]
  },
  {
   "cell_type": "code",
   "execution_count": 12,
   "id": "719c94fe730409d1",
   "metadata": {
    "ExecuteTime": {
     "end_time": "2025-10-20T15:26:03.155447Z",
     "start_time": "2025-10-20T15:26:03.152465Z"
    }
   },
   "outputs": [
    {
     "name": "stdout",
     "output_type": "stream",
     "text": [
      "False\n"
     ]
    }
   ],
   "source": [
    "print(konfiguracja[\"debug\"])"
   ]
  },
  {
   "cell_type": "markdown",
   "id": "a3cd7d64c513356e",
   "metadata": {},
   "source": [
    "\n",
    "---\n",
    "\n",
    "### 🔹 Przykład w praktyce"
   ]
  },
  {
   "cell_type": "markdown",
   "id": "e8e31a1cb70b1979",
   "metadata": {
    "ExecuteTime": {
     "end_time": "2025-10-20T15:28:58.499780Z",
     "start_time": "2025-10-20T15:28:58.495703Z"
    }
   },
   "source": [
    "\n",
    "### 🧩 Wyobraź sobie taką sytuację:\n",
    "\n",
    "Pracujesz nad aplikacją, która ma różne źródła konfiguracji:\n",
    "\n",
    "* 🧱 **`defaults`** – wartości domyślne zapisane w kodzie (np. debug = False, baza lokalna)\n",
    "* 📁 **`config_file`** – wartości z pliku konfiguracyjnego (np. produkcyjna baza danych)\n",
    "* 🌍 **`env`** – zmienne środowiskowe (np. ustawione na serwerze)\n",
    "* 💻 **`cli`** – parametry przekazane przy uruchomieniu programu (np. `--debug True`)\n",
    "\n",
    "Każde z tych źródeł może **nadpisywać poprzednie**, ale nie chcesz ich scalać ani tracić oryginałów.\n",
    "\n",
    "---\n",
    "\n",
    "### 🧨 Problem:\n",
    "\n",
    "Jeśli po prostu zrobisz:\n",
    "\n",
    "```python\n",
    "merged = {**defaults, **config_file, **env, **cli}\n",
    "```\n",
    "\n",
    "to:\n",
    "\n",
    "* tracisz informację *skąd pochodzi dana wartość*,\n",
    "* każde nowe źródło musi tworzyć kopię (drogo przy dużych configach),\n",
    "* nie widzisz późniejszych zmian w oryginalnych słownikach (snapshot).\n",
    "\n",
    "---\n",
    "\n",
    "### 🪄 Rozwiązanie: `ChainMap`\n",
    "\n",
    "Zamiast scalać dane, **układasz je w warstwy** — jak przezroczyste folie jedna na drugiej:\n",
    "patrzysz przez wszystkie, ale zawsze bierzesz pierwszą, która ma daną wartość.\n",
    "\n",
    "---\n",
    "\n",
    "### 🔧 Przykład\n",
    "\n",
    "```python\n",
    "from collections import ChainMap\n",
    "\n",
    "defaults = {\"debug\": False, \"db_host\": \"localhost\"}\n",
    "config_file = {\"db_host\": \"prod-db.example.com\"}\n",
    "env = {\"debug\": True}\n",
    "\n",
    "# Tworzymy widok: najpierw środowisko, potem plik, potem domyślne\n",
    "settings = ChainMap(env, config_file, defaults)\n",
    "\n",
    "print(settings[\"debug\"])    # -> True   (z ENV)\n",
    "print(settings[\"db_host\"])  # -> prod-db.example.com (z pliku)\n",
    "```\n",
    "\n",
    "---\n",
    "\n",
    "### 🧠 Co się dzieje “pod maską”\n",
    "\n",
    "`ChainMap` mówi:\n",
    "\n",
    "> „Jeśli ktoś zapyta o klucz, sprawdzam warstwy po kolei — pierwsza wygrywa.”\n",
    "\n",
    "Nie ma tu kopiowania danych — to tylko *widok*.\n",
    "\n",
    "---\n",
    "\n",
    "### 🔄 Zmiany? Tylko w górnej warstwie\n",
    "\n",
    "```python\n",
    "settings[\"debug\"] = False\n",
    "print(env)  # {'debug': False}\n",
    "```\n",
    "\n",
    "Zmieniasz tylko **pierwszą mapę (najwyższą warstwę)** — reszta zostaje nietknięta.\n",
    "To przydaje się np. przy tymczasowych nadpisaniach w testach.\n",
    "\n",
    "---\n",
    "\n",
    "### ⚙️ Dodawanie nowej warstwy\n",
    "\n",
    "Masz np. argumenty z linii komend:\n",
    "\n",
    "```python\n",
    "cli_args = {\"db_host\": \"localhost\"}\n",
    "settings = settings.new_child(cli_args)\n",
    "print(settings[\"db_host\"])  # localhost – CLI nadpisuje\n",
    "```\n",
    "\n",
    "I dalej masz wszystkie źródła *żywe* pod spodem — bez ponownego łączenia.\n",
    "\n",
    "---\n",
    "\n",
    "### 📊 Porównanie z normalnym dict\n",
    "\n",
    "| Cecha                              | Zwykłe `dict` | `ChainMap`          |\n",
    "| ---------------------------------- | ------------- | ------------------- |\n",
    "| Tworzy kopię danych                | ✅ Tak         | ❌ Nie               |\n",
    "| Zmiany w oryginałach są widoczne   | ❌ Nie         | ✅ Tak               |\n",
    "| Łatwo dodać kolejną warstwę        | ❌ Nie         | ✅ Tak (`new_child`) |\n",
    "| Przydatne w dynamicznych configach | 😐 Raczej nie | 💪 Tak!             |\n",
    "\n",
    "---\n",
    "\n",
    "### 🔧 Kiedy to realnie pomaga:\n",
    "\n",
    "* Gdy łączysz **konfiguracje z wielu źródeł** (defaults, plik, env, CLI)\n",
    "* Gdy piszesz **testy z tymczasowymi nadpisaniami ustawień**\n",
    "* Gdy masz **hierarchię kontekstu** (np. użytkownik → projekt → globalne ustawienia)\n",
    "* Gdy chcesz **uniknąć kopiowania** dużych struktur danych\n",
    "\n",
    "---\n",
    "\n",
    "💬 **Proste podsumowanie:**\n",
    "\n",
    "> `ChainMap` nie tworzy nowego słownika — on tylko pozwala ci „patrzeć” na kilka słowników tak, jakby były jednym.\n",
    "> Gdy coś czytasz — bierze pierwszą wartość, jaką znajdzie.\n",
    "> Gdy coś zapisujesz — zapisuje do pierwszego (najważniejszego).\n",
    "> To idealne rozwiązanie, gdy masz wiele poziomów ustawień, które się nadpisują.\n",
    "\n"
   ]
  },
  {
   "cell_type": "markdown",
   "id": "2947b7c758b6c639",
   "metadata": {},
   "source": [
    "## Moduł `collections`\n",
    "\n",
    "Moduł `collections` dostarcza wyspecjalizowanych struktur zoptymalizowanych pod konkretne scenariusze, takie jak liczniki, kolejki dwustronne czy fabryki domyślnych wartości.\n"
   ]
  },
  {
   "cell_type": "code",
   "execution_count": 15,
   "id": "a081d9f2795b562a",
   "metadata": {
    "ExecuteTime": {
     "end_time": "2025-10-20T15:34:10.826933Z",
     "start_time": "2025-10-20T15:34:10.821687Z"
    }
   },
   "outputs": [
    {
     "name": "stdout",
     "output_type": "stream",
     "text": [
      "Counter({'a': 3, 'b': 2, 'c': 1})\n",
      "{'db': ['read', 'write'], 'cache': ['hit']}\n",
      "deque([2, 3, 4], maxlen=3)\n",
      "2 5\n"
     ]
    }
   ],
   "source": [
    "from collections import Counter, defaultdict, deque, namedtuple\n",
    "\n",
    "tekst = \"abbaac\" \n",
    "print(Counter(tekst))\n",
    "\n",
    "default = defaultdict(list)\n",
    "for klucz, wartosc in [(\"db\", \"read\"), (\"db\", \"write\"), (\"cache\", \"hit\")]:\n",
    "    default[klucz].append(wartosc)\n",
    "print(dict(default))\n",
    "\n",
    "kolejka = deque(maxlen=3)\n",
    "for liczba in range(5):\n",
    "    kolejka.append(liczba)\n",
    "print(kolejka)\n",
    "\n",
    "Punkt = namedtuple(\"Punkt\", [\"x\", \"y\"])\n",
    "p = Punkt(2, 5)\n",
    "print(p.x, p.y)\n"
   ]
  },
  {
   "cell_type": "markdown",
   "id": "b7aea56f1ac34737",
   "metadata": {},
   "source": [
    "## Moduł `array`\n",
    "`array.array` przechowuje jednorodne dane numeryczne o określonym typie (np. `\"I\"` dla 32-bitowych liczb całkowitych). Oszczędza pamięć i ułatwia eksport do binarnych formatów.\n"
   ]
  },
  {
   "cell_type": "code",
   "execution_count": null,
   "id": "5163ab5226371982",
   "metadata": {},
   "outputs": [],
   "source": [
    "from array import array\n",
    "\n",
    "values = array(\"I\", [10, 20, 30])\n",
    "values.append(40)\n",
    "values.byteswap()  # demonstracja operacji binarnych\n",
    "print(values.tolist())\n",
    "print(\"rozmiar bajtów:\", values.itemsize * len(values))\n"
   ]
  },
  {
   "cell_type": "markdown",
   "id": "e8355e141ff88fd5",
   "metadata": {},
   "source": [
    "## Podsumowanie\n",
    "- Liczby całkowite i zmiennoprzecinkowe w Pythonie oferują szeroki zakres reprezentacji.\n",
    "- Sekwencje i zbiory udostępniają bogaty zestaw operacji transformujących.\n",
    "- Moduły `collections`, `array`, `decimal` i `fractions` rozszerzają podstawowe typy o funkcje wysokiej specjalizacji.\n"
   ]
  },
  {
   "cell_type": "markdown",
   "id": "5d4f39448565bf66",
   "metadata": {},
   "source": [
    "## Ćwiczenia do wykonania\n",
    "1. Napisz funkcję konwertującą liczbę z dowolnego systemu (2–16) na dziesiętny i odwrotnie, z walidacją wejścia. (W systemie dziesietnym nie ma np cyfry 'a' a w ósemkowym cyfry 9)\n",
    "2. Porównaj wyniki obliczeń procentowych dla `float`, `Decimal` i `Fraction` w scenariuszu rozliczeń finansowych (np. rabat 17,5% od kwoty 319,99).\n",
    "3. Świetnie 👏 — oto **proste, praktyczne ćwiczenie na `ChainMap`**, idealne dla juniora lub na warsztat:\n",
    "\n",
    "---\n",
    "\n",
    "## 🧩 Ćwiczenie: konfiguracja sklepu internetowego\n",
    "\n",
    "Masz trzy źródła ustawień dla aplikacji sklepu:\n",
    "\n",
    "```python\n",
    "defaults = {\n",
    "    \"currency\": \"PLN\",\n",
    "    \"discount\": 0.0,\n",
    "    \"debug\": False,\n",
    "}\n",
    "\n",
    "env_config = {\n",
    "    \"debug\": True,\n",
    "}\n",
    "\n",
    "user_config = {\n",
    "    \"discount\": 0.15,\n",
    "}\n",
    "```\n",
    "\n",
    "Twoim zadaniem jest:\n",
    "\n",
    "1. 🔹 Utworzyć `ChainMap`, który **łączy** te konfiguracje w kolejności:\n",
    "   `user_config > env_config > defaults`\n",
    "   (czyli użytkownik ma najwyższy priorytet).\n",
    "\n",
    "2. 🔹 Wypisać:\n",
    "\n",
    "   * aktualną walutę (`currency`)\n",
    "   * rabat (`discount`)\n",
    "   * tryb debug (`debug`)\n",
    "\n",
    "3. 🔹 Dodać nową warstwę tymczasową (np. `{\"currency\": \"EUR\"}`),\n",
    "   i sprawdzić, **czy waluta** zmieni się tylko w tej warstwie.\n",
    "\n",
    "---\n",
    "\n",
    "### 💡 Podpowiedź\n",
    "\n",
    "Użyj:\n",
    "\n",
    "```python\n",
    "from collections import ChainMap\n",
    "\n",
    "settings = ChainMap(user_config, env_config, defaults)\n",
    "print(settings[\"discount\"])  # powinno dać 0.15\n",
    "```\n",
    "\n",
    "Nową warstwę dodasz tak:\n",
    "\n",
    "```python\n",
    "temp = settings.new_child({\"currency\": \"EUR\"})\n",
    "```\n",
    "\n",
    "---\n",
    "\n",
    "### ✅ Oczekiwany wynik\n",
    "\n",
    "```\n",
    "discount: 0.15\n",
    "currency: PLN\n",
    "debug: True\n",
    "---\n",
    "po dodaniu warstwy tymczasowej:\n",
    "currency: EUR\n",
    "```\n",
    "\n",
    "---\n",
    "\n",
    "### 💬 Dla chętnych:\n",
    "\n",
    "* Spróbuj zmienić `settings[\"discount\"] = 0.2`\n",
    "  i sprawdź, **który słownik** w `settings.maps` został zmodyfikowany.\n",
    "* Wyświetl `settings.maps`, żeby zobaczyć kolejność warstw.\n",
    "\n",
    "---\n"
   ]
  },
  {
   "cell_type": "markdown",
   "id": "7ce295b41ad442ff",
   "metadata": {},
   "source": [
    "\n",
    "4. Za pomocą `deque` stwórz strukturę przechowującą ostatnich N zdarzeń (log), a następnie dodaj metrykę liczoną przez `Counter`.\n"
   ]
  },
  {
   "cell_type": "code",
   "execution_count": 17,
   "id": "2c2cdfcdf1b197ed",
   "metadata": {
    "ExecuteTime": {
     "end_time": "2025-10-20T15:42:30.341762Z",
     "start_time": "2025-10-20T15:42:30.335516Z"
    }
   },
   "outputs": [
    {
     "data": {
      "text/plain": [
       "'157'"
      ]
     },
     "execution_count": 17,
     "metadata": {},
     "output_type": "execute_result"
    }
   ],
   "source": [
    "# zad 1\n",
    "def convert_number(value, base_from, base_to):\n",
    "    \"\"\"\n",
    "    Konwertuje liczbę z systemu base_from (2–16) na base_to (2–16).\n",
    "    Zwraca wynik jako string.\n",
    "    \"\"\"\n",
    "\n",
    "    # --- Walidacja ---\n",
    "    if not (2 <= base_from <= 16 and 2 <= base_to <= 16):\n",
    "        raise ValueError(\"Bazy muszą być w zakresie 2–16\")\n",
    "\n",
    "    # Dozwolone znaki dla systemów do 16\n",
    "    valid_digits = \"0123456789ABCDEF\"\n",
    "\n",
    "    # Normalizujemy wartość (wielkie litery)\n",
    "    value = str(value).strip().upper()\n",
    "\n",
    "    # Sprawdzenie poprawności znaków\n",
    "    allowed = valid_digits[:base_from]\n",
    "    if any(ch not in allowed for ch in value):\n",
    "        raise ValueError(f\"Wartość '{value}' nie pasuje do systemu {base_from}\")\n",
    "\n",
    "    # --- Konwersja na dziesiętny ---\n",
    "    decimal_value = int(value, base_from)\n",
    "\n",
    "    # --- Jeśli cel to dziesiętny ---\n",
    "    if base_to == 10:\n",
    "        return str(decimal_value)\n",
    "\n",
    "    # --- Konwersja z dziesiętnego na docelowy ---\n",
    "    digits = []\n",
    "    while decimal_value > 0:\n",
    "        remainder = decimal_value % base_to\n",
    "        digits.append(valid_digits[remainder])\n",
    "        decimal_value //= base_to\n",
    "\n",
    "    # 0 to przypadek specjalny\n",
    "    if not digits:\n",
    "        return \"0\"\n",
    "\n",
    "    # Odwracamy kolejność cyfr\n",
    "    return \"\".join(reversed(digits))\n",
    "\n",
    "\n",
    "convert_number(111, 10, 8)"
   ]
  },
  {
   "cell_type": "code",
   "execution_count": 18,
   "id": "36ea3709628d91c1",
   "metadata": {
    "ExecuteTime": {
     "end_time": "2025-10-20T15:42:51.780707Z",
     "start_time": "2025-10-20T15:42:51.776507Z"
    }
   },
   "outputs": [
    {
     "name": "stdout",
     "output_type": "stream",
     "text": [
      "10\n",
      "255\n",
      "FF\n",
      "111111111\n",
      "0\n"
     ]
    }
   ],
   "source": [
    "print(convert_number(\"1010\", 2, 10))    # binarny → dziesiętny → 10\n",
    "print(convert_number(\"FF\", 16, 10))     # szesnastkowy → dziesiętny → 255\n",
    "print(convert_number(\"255\", 10, 16))    # dziesiętny → szesnastkowy → FF\n",
    "print(convert_number(\"777\", 8, 2))      # ósemkowy → binarny → 111111111\n",
    "print(convert_number(\"0\", 10, 2))       # specjalny przypadek → 0\n"
   ]
  },
  {
   "cell_type": "code",
   "execution_count": 19,
   "id": "3aeffd448da1dfd2",
   "metadata": {
    "ExecuteTime": {
     "end_time": "2025-10-20T15:43:38.535444Z",
     "start_time": "2025-10-20T15:43:38.529563Z"
    }
   },
   "outputs": [
    {
     "name": "stdout",
     "output_type": "stream",
     "text": [
      "float:    263.99174999999997\n",
      "decimal:  263.99175\n",
      "fraction: 263.99175\n",
      "fraction exact: 1055967/4000\n"
     ]
    }
   ],
   "source": [
    "# zad 2\n",
    "from decimal import Decimal, getcontext\n",
    "from fractions import Fraction\n",
    "\n",
    "# ustawiamy precyzję dla Decimal\n",
    "getcontext().prec = 10\n",
    "\n",
    "kwota_f = 319.99\n",
    "rabat_f = 0.175\n",
    "\n",
    "kwota_d = Decimal(\"319.99\")\n",
    "rabat_d = Decimal(\"0.175\")\n",
    "\n",
    "kwota_fr = Fraction(31999, 100)  # 319.99\n",
    "rabat_fr = Fraction(175, 1000)   # 0.175\n",
    "\n",
    "# obliczenia\n",
    "wynik_float = kwota_f * (1 - rabat_f)\n",
    "wynik_decimal = kwota_d * (Decimal(1) - rabat_d)\n",
    "wynik_fraction = kwota_fr * (1 - rabat_fr)\n",
    "\n",
    "print(\"float:   \", wynik_float)\n",
    "print(\"decimal: \", wynik_decimal)\n",
    "print(\"fraction:\", float(wynik_fraction))\n",
    "print(\"fraction exact:\", wynik_fraction)\n"
   ]
  },
  {
   "cell_type": "code",
   "execution_count": 17,
   "id": "1980a06ac718431f",
   "metadata": {
    "ExecuteTime": {
     "end_time": "2025-10-20T15:45:42.428952Z",
     "start_time": "2025-10-20T15:45:42.422720Z"
    }
   },
   "outputs": [
    {
     "name": "stdout",
     "output_type": "stream",
     "text": [
      "discount: 0.15\n",
      "currency: PLN\n",
      "debug: True\n",
      "\n",
      "--- Po dodaniu warstwy tymczasowej ---\n",
      "currency: EUR\n",
      "discount: 0.15\n",
      "\n",
      "Warstwy w ChainMap:\n",
      "{'currency': 'EUR'}\n",
      "{'discount': 0.15}\n",
      "{'debug': True}\n",
      "{'currency': 'PLN', 'discount': 0.0, 'debug': False}\n",
      "PLN\n",
      "EUR\n",
      "\n",
      "Po usunięciu warstwy:\n",
      "PLN\n"
     ]
    }
   ],
   "source": [
    "# zad 3\n",
    "from collections import ChainMap\n",
    "\n",
    "# --- Źródła konfiguracji ---\n",
    "defaults = {\n",
    "    \"currency\": \"PLN\",\n",
    "    \"discount\": 0.0,\n",
    "    \"debug\": False,\n",
    "}\n",
    "\n",
    "env_config = {\n",
    "    \"debug\": True,\n",
    "}\n",
    "\n",
    "user_config = {\n",
    "    \"discount\": 0.15,\n",
    "}\n",
    "\n",
    "# --- 1️⃣ Tworzymy ChainMap: użytkownik > środowisko > domyślne ---\n",
    "settings = ChainMap(user_config, env_config, defaults)\n",
    "\n",
    "# --- 2️⃣ Odczyt wartości z połączonych warstw ---\n",
    "print(\"discount:\", settings[\"discount\"])   # 0.15 → z user_config\n",
    "print(\"currency:\", settings[\"currency\"])   # PLN  → z defaults\n",
    "print(\"debug:\", settings[\"debug\"])         # True → z env_config\n",
    "\n",
    "# --- 3️⃣ Dodajemy nową, tymczasową warstwę (np. dla sesji testowej) ---\n",
    "temp_settings = settings.new_child({\"currency\": \"EUR\"})\n",
    "\n",
    "print(\"\\n--- Po dodaniu warstwy tymczasowej ---\")\n",
    "print(\"currency:\", temp_settings[\"currency\"])  # EUR  → z nowej warstwy\n",
    "print(\"discount:\", temp_settings[\"discount\"])  # 0.15 → z user_config\n",
    "\n",
    "# --- 4️⃣ Podgląd wszystkich warstw (od najwyższej do najniższej) ---\n",
    "print(\"\\nWarstwy w ChainMap:\")\n",
    "for layer in temp_settings.maps:\n",
    "    print(layer)\n",
    "\n",
    "print(settings[\"currency\"])\n",
    "print(temp_settings[\"currency\"])\n",
    "\n",
    "# Usuwamy (wracamy do poprzedniego ChainMap)\n",
    "restored = temp_settings.parents\n",
    "\n",
    "print(\"\\nPo usunięciu warstwy:\")\n",
    "print(restored[\"currency\"])  # PLN\n",
    "\n",
    "# print(restored == settings)\n"
   ]
  },
  {
   "cell_type": "code",
   "execution_count": null,
   "id": "ec8ed013d8198bda",
   "metadata": {},
   "outputs": [],
   "source": []
  }
 ],
 "metadata": {
  "kernelspec": {
   "display_name": "Python 3 (ipykernel)",
   "language": "python",
   "name": "python3"
  },
  "language_info": {
   "codemirror_mode": {
    "name": "ipython",
    "version": 3
   },
   "file_extension": ".py",
   "mimetype": "text/x-python",
   "name": "python",
   "nbconvert_exporter": "python",
   "pygments_lexer": "ipython3",
   "version": "3.14.0"
  }
 },
 "nbformat": 4,
 "nbformat_minor": 5
}
