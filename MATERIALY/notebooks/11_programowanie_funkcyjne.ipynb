{
 "cells": [
  {
   "cell_type": "markdown",
   "id": "f1a66758",
   "metadata": {},
   "source": [
    "# Programowanie funkcyjne w Pythonie\n",
    "\n",
    "Od funkcji wyższego rzędu do `itertools` i narzędzi zwiększających deklaratywność.\n"
   ]
  },
  {
   "cell_type": "markdown",
   "id": "6b026247",
   "metadata": {},
   "source": [
    "## Cele\n",
    "- przypomnieć kluczowe funkcje wbudowane (`map`, `filter`, `reduce`)\n",
    "- zademonstrować moduły `functools`, `itertools`, `operator`\n",
    "- łączyć funkcje w potoki transformacji danych\n"
   ]
  },
  {
   "cell_type": "markdown",
   "id": "deccf9f2",
   "metadata": {},
   "source": [
    "## Wbudowane funkcje wyższego rzędu\n",
    "`map`, `filter`, `sorted` z `key` umożliwiają deklaratywne transformacje.\n"
   ]
  },
  {
   "cell_type": "code",
   "execution_count": null,
   "id": "8020257d",
   "metadata": {},
   "outputs": [],
   "source": [
    "from operator import itemgetter\n",
    "\n",
    "players = [\n",
    "    {\"name\": \"Ada\", \"score\": 120},\n",
    "    {\"name\": \"Bartek\", \"score\": 85},\n",
    "    {\"name\": \"Celina\", \"score\": 150},\n",
    "]\n",
    "\n",
    "scores = list(map(itemgetter(\"score\"), players))\n",
    "print(scores)\n",
    "\n",
    "high_scores = list(filter(lambda player: player[\"score\"] >= 100, players))\n",
    "print(high_scores)\n",
    "\n",
    "rank = sorted(players, key=itemgetter(\"score\"), reverse=True)\n",
    "print(rank)\n"
   ]
  },
  {
   "cell_type": "markdown",
   "id": "148c2eb0",
   "metadata": {},
   "source": [
    "## `itertools`: potoki danych\n",
    "Biblioteka `itertools` dostarcza efektywnych iteratorów.\n"
   ]
  },
  {
   "cell_type": "code",
   "execution_count": null,
   "id": "4c4e1009",
   "metadata": {},
   "outputs": [],
   "source": [
    "from itertools import islice, cycle\n",
    "\n",
    "colors = cycle([\"red\", \"green\", \"blue\"])\n",
    "print([next(colors) for _ in range(5)])\n",
    "\n",
    "numbers = (n for n in range(100) if n % 7 == 0)\n",
    "print(list(islice(numbers, 5)))\n"
   ]
  },
  {
   "cell_type": "markdown",
   "id": "e2c4855b",
   "metadata": {},
   "source": [
    "## `reduce`, `partial` i kompozycja\n",
    "`functools.reduce` i `partial` pomagają budować funkcje specjalistyczne.\n"
   ]
  },
  {
   "cell_type": "code",
   "execution_count": 1,
   "id": "e7ec7869",
   "metadata": {},
   "outputs": [
    {
     "name": "stdout",
     "output_type": "stream",
     "text": [
      "120\n",
      "81\n"
     ]
    }
   ],
   "source": [
    "from functools import reduce, partial\n",
    "from operator import mul\n",
    "\n",
    "factorial = lambda n: reduce(mul, range(1, n + 1), 1)\n",
    "print(factorial(5))\n",
    "\n",
    "def power(base, exponent):\n",
    "    return base ** exponent\n",
    "\n",
    "square = partial(power, exponent=2)\n",
    "print(square(9))\n"
   ]
  },
  {
   "cell_type": "markdown",
   "id": "9d12304d",
   "metadata": {},
   "source": [
    "**Podsumowanie:** Programowanie funkcyjne pozwala budować zwięzłe potoki transformacji.\n",
    "\n",
    "**Pytanie kontrolne:** W jakich scenariuszach generator wygrywa z listą?\n"
   ]
  },
  {
   "cell_type": "markdown",
   "id": "4e6b1399",
   "metadata": {},
   "source": [
    "### 🧩 Zadanie 1\n",
    "Przyjmij listę słowników z zakupami (`name`, `price`, `quantity`) i oblicz\n",
    "łączną wartość paragonu oraz listę produktów droższych niż 100 zł, używając\n",
    "funkcji funkcyjnych (`map`, `filter`, `reduce`).\n"
   ]
  },
  {
   "cell_type": "code",
   "execution_count": null,
   "id": "9209d3d0",
   "metadata": {},
   "outputs": [],
   "source": [
    "# Rozwiązanie Zadania 1\n",
    "from functools import reduce\n",
    "\n",
    "shopping = [\n",
    "    {\"name\": \"Monitor\", \"price\": 799, \"quantity\": 1},\n",
    "    {\"name\": \"Kabel\", \"price\": 30, \"quantity\": 2},\n",
    "    {\"name\": \"Płyta\", \"price\": 120, \"quantity\": 3},\n",
    "]\n",
    "\n",
    "values = list(map(lambda item: item[\"price\"] * item[\"quantity\"], shopping))\n",
    "receipt_total = reduce(lambda acc, value: acc + value, values, 0)\n",
    "print(\"Suma paragonu:\", receipt_total)\n",
    "\n",
    "expensive = list(filter(lambda item: item[\"price\"] > 100, shopping))\n",
    "print(expensive)\n"
   ]
  },
  {
   "cell_type": "markdown",
   "id": "7506dc7f",
   "metadata": {},
   "source": [
    "### 🧩 Zadanie 2\n",
    "Za pomocą `itertools.groupby` pogrupuj listę słów według długości.\n"
   ]
  },
  {
   "cell_type": "code",
   "execution_count": null,
   "id": "f5b94255",
   "metadata": {},
   "outputs": [],
   "source": [
    "# Rozwiązanie Zadania 2\n",
    "from itertools import groupby\n",
    "\n",
    "words = [\"ala\", \"python\", \"kod\", \"lista\", \"obserwator\"]\n",
    "\n",
    "for length, group in groupby(sorted(words, key=len), key=len):\n",
    "    group_list = list(group)\n",
    "    print(length, group_list)\n"
   ]
  },
  {
   "metadata": {},
   "cell_type": "markdown",
   "source": [
    "## Paradygmat: czyste funkcje i transparentność referencyjna\n",
    "Czysta funkcja to taka, która:\n",
    "- dla tych samych argumentów zawsze zwraca ten sam wynik (deterministyczność),\n",
    "- nie ma efektów ubocznych (nie modyfikuje stanu zewnętrznego, nie I/O),\n",
    "- jest łatwa do testowania i komponowania.\n",
    "\n",
    "Transparentność referencyjna oznacza, że wywołanie funkcji można zastąpić jej wynikiem\n",
    "bez zmiany zachowania programu.\n",
    "\n",
    "Przykład funkcji czystej vs nieczystej:\n"
   ],
   "id": "98b92bd7a1c63808"
  },
  {
   "metadata": {},
   "cell_type": "code",
   "outputs": [],
   "execution_count": null,
   "source": [
    "from datetime import datetime\n",
    "\n",
    "# Funkcja czysta: nie korzysta ze stanu zewnętrznego, tylko z argumentów\n",
    "# i nie ma efektów ubocznych.\n",
    "def add_tax(price: float, tax_rate: float) -> float:\n",
    "    return round(price * (1 + tax_rate), 2)\n",
    "\n",
    "# Funkcja nieczysta: polega na aktualnym czasie (stan zewnętrzny),\n",
    "# więc ten sam kod może zwrócić inny wynik o innej godzinie.\n",
    "def greeting(name: str) -> str:\n",
    "    current_hour = datetime.now().hour  # efekt uboczny: odczyt systemowego czasu\n",
    "    return (\"Dzień dobry \" if 6 <= current_hour < 18 else \"Dobry wieczór \") + name\n",
    "\n",
    "print(add_tax(100, 0.23))  # zawsze 123.0 dla tych samych argumentów\n",
    "print(greeting(\"Ada\"))    # zależy od godziny\n"
   ],
   "id": "cc8d8dd7b4cdbb83"
  },
  {
   "metadata": {},
   "cell_type": "markdown",
   "source": [
    "## Niezmienność (immutability) i struktury danych\n",
    "W FP częściej preferujemy niezmienność. W Pythonie listy i słowniki są mutowalne, \n",
    "ale krotki (tuple) i `frozenset` już nie. Niezmienność ogranicza błędy związane\n",
    "z przypadkową modyfikacją danych.\n"
   ],
   "id": "68755a9907a92dce"
  },
  {
   "metadata": {},
   "cell_type": "code",
   "outputs": [],
   "execution_count": null,
   "source": [
    "# Przykład: zamiast mutować listę, tworzymy nową wersję\n",
    "nums = [1, 2, 3]\n",
    "# Mutująca operacja (impure style):\n",
    "nums.append(4)  # modyfikuje istniejącą strukturę\n",
    "# Styl funkcyjny: tworzymy nową listę na podstawie starej (bez modyfikacji oryginału)\n",
    "nums2 = nums + [5]  # nowy obiekt\n",
    "print(\"oryginał:\", nums)\n",
    "print(\"nowa    :\", nums2)\n"
   ],
   "id": "f386df9a33e462a6"
  },
  {
   "metadata": {},
   "cell_type": "markdown",
   "source": [
    "## Funkcje wyższego rzędu i domknięcia (closures)\n",
    "Funkcja wyższego rzędu (HOF) przyjmuje inne funkcje lub zwraca funkcję. Domknięcie\n",
    "zapamiętuje otoczenie zmiennych w chwili definicji.\n"
   ],
   "id": "986270872334c097"
  },
  {
   "metadata": {},
   "cell_type": "code",
   "outputs": [],
   "execution_count": null,
   "source": [
    "from typing import Callable\n",
    "\n",
    "# HOF, który zwraca funkcję skalującą\n",
    "# Wewnętrzna funkcja scale korzysta ze zmiennej factor ze scope zewnętrznego (closure)\n",
    "def make_scaler(factor: float) -> Callable[[float], float]:\n",
    "    def scale(x: float) -> float:\n",
    "        return x * factor  # użycie wartości spoza lokalnego scope => domknięcie\n",
    "    return scale\n",
    "\n",
    "by2 = make_scaler(2)\n",
    "by10 = make_scaler(10)\n",
    "print(by2(3), by10(3))  # 6 30\n"
   ],
   "id": "62f3a4fb20643a0c"
  },
  {
   "metadata": {},
   "cell_type": "markdown",
   "source": [
    "## `map`, `filter` i porównanie z list comprehensions\n",
    "`map` i `filter` działają leniwie (zwroty iteratorów), a list comprehensions są bardzo czytelne\n",
    "i idiomatyczne w Pythonie. Często LC są preferowane dla prostych przypadków.\n"
   ],
   "id": "b4286bdc264a790c"
  },
  {
   "metadata": {},
   "cell_type": "code",
   "outputs": [],
   "execution_count": null,
   "source": [
    "# Transformacja: kwadraty liczb parzystych\n",
    "nums = list(range(10))\n",
    "# map + filter (FP):\n",
    "res_fp = list(map(lambda x: x * x, filter(lambda x: x % 2 == 0, nums)))\n",
    "# List comprehension (idiomatyczne w Py):\n",
    "res_lc = [x * x for x in nums if x % 2 == 0]\n",
    "print(res_fp, res_lc)\n"
   ],
   "id": "464dc4a88d3b2060"
  },
  {
   "metadata": {},
   "cell_type": "markdown",
   "source": [
    "## `functools`: `reduce`, `partial`, `lru_cache`\n",
    "`reduce` składa elementy do jednej wartości; `partial` pozwala tworzyć wyspecjalizowane\n",
    "funkcje; `lru_cache` dodaje memoizację (zapamiętywanie wyników) do funkcji czystych.\n"
   ],
   "id": "1ee7b9e927cbefd5"
  },
  {
   "metadata": {},
   "cell_type": "code",
   "outputs": [],
   "execution_count": null,
   "source": [
    "from functools import reduce, partial, lru_cache\n",
    "from operator import mul\n",
    "\n",
    "# reduce: iloczyn elementów (z wartością początkową 1, aby pusta lista dała 1)\n",
    "product = reduce(mul, [2, 3, 4], 1)\n",
    "print(\"product:\", product)\n",
    "\n",
    "# partial: selektor z góry ustalonym polem\n",
    "from operator import itemgetter\n",
    "get_price = itemgetter(\"price\")\n",
    "\n",
    "# Tworzymy funkcję rabatu 10% poprzez cząstkowe związanie argumentu tax_rate\n",
    "apply_vat_23 = partial(add_tax, tax_rate=0.23)\n",
    "print(apply_vat_23(100))\n",
    "\n",
    "# lru_cache: memoizacja kosztownej funkcji czystej\n",
    "@lru_cache(maxsize=128)\n",
    "def fib(n: int) -> int:\n",
    "    # Prosty (nieefektywny) fib z memoizacją – na potrzeby demonstracji\n",
    "    if n < 2:\n",
    "        return n\n",
    "    return fib(n - 1) + fib(n - 2)\n",
    "\n",
    "print([fib(i) for i in range(10)])\n"
   ],
   "id": "840210018e1c1579"
  },
  {
   "metadata": {},
   "cell_type": "markdown",
   "source": [
    "## `itertools`: więcej przykładów\n",
    "Kombinowanie iteratorów bez tworzenia pośrednich list oszczędza pamięć i CPU.\n"
   ],
   "id": "8bf83ef4d92e02ca"
  },
  {
   "metadata": {},
   "cell_type": "code",
   "outputs": [],
   "execution_count": null,
   "source": [
    "from itertools import chain, accumulate, groupby, islice\n",
    "from operator import add\n",
    "\n",
    "# chain: łączenie wielu sekwencji w jeden strumień\n",
    "stream = chain(range(3), \"ab\", [10, 11])\n",
    "print(list(stream))\n",
    "\n",
    "# accumulate: akumulator prefiksowy (tu: suma prefiksowa)\n",
    "print(list(accumulate([1, 2, 3, 4], func=add)))  # [1, 3, 6, 10]\n",
    "\n",
    "# groupby: grupowanie po kluczu – uwaga: wymaga posortowania po kluczu!\n",
    "words = [\"ala\", \"python\", \"kod\", \"lista\", \"obserwator\"]\n",
    "for length, group in groupby(sorted(words, key=len), key=len):\n",
    "    print(length, list(group))\n"
   ],
   "id": "ea4e80374163368f"
  },
  {
   "metadata": {},
   "cell_type": "markdown",
   "source": [
    "## `operator`: szybkie funkcje jednoargumentowe i wieloargumentowe\n",
    "Moduł `operator` udostępnia gotowe funkcje, które często są czytelniejsze niż lambdy.\n"
   ],
   "id": "18cfb370fbf14864"
  },
  {
   "metadata": {},
   "cell_type": "code",
   "outputs": [],
   "execution_count": null,
   "source": [
    "from operator import attrgetter, itemgetter, methodcaller\n",
    "\n",
    "people = [\n",
    "    {\"name\": \"Ada\", \"age\": 34},\n",
    "    {\"name\": \"Bartek\", \"age\": 28},\n",
    "    {\"name\": \"Celina\", \"age\": 34},\n",
    "]\n",
    "\n",
    "# itemgetter po kluczu\n",
    "print(sorted(people, key=itemgetter(\"age\", \"name\")))\n",
    "\n",
    "class User:\n",
    "    def __init__(self, name: str):\n",
    "        self.name = name\n",
    "    def greet(self) -> str:\n",
    "        return f\"Hello {self.name}\"\n",
    "\n",
    "users = [User(\"Zoe\"), User(\"Adam\")]\n",
    "print(list(map(attrgetter(\"name\"), users)))  # ['Zoe', 'Adam']\n",
    "print(list(map(methodcaller(\"greet\"), users)))  # wywołuje metodę na każdym obiekcie\n"
   ],
   "id": "e9a6ddb95d737ae2"
  },
  {
   "metadata": {},
   "cell_type": "markdown",
   "source": [
    "## Kompozycja funkcji i potoki (pipelines)\n",
    "W FP łączymy małe funkcje w większe potoki. W Pythonie możemy zaimplementować prosty\n",
    "kompozytor.\n"
   ],
   "id": "38eed5bb87f2b47b"
  },
  {
   "metadata": {},
   "cell_type": "code",
   "outputs": [],
   "execution_count": null,
   "source": [
    "from functools import reduce\n",
    "from typing import Iterable, Any, Callable\n",
    "\n",
    "# prosta kompozycja: compose(f, g)(x) == f(g(x))\n",
    "def compose(*funcs: Callable[[Any], Any]) -> Callable[[Any], Any]:\n",
    "    def composed(arg: Any) -> Any:\n",
    "        return reduce(lambda acc, f: f(acc), reversed(funcs), arg)\n",
    "    return composed\n",
    "\n",
    "strip = str.strip\n",
    "lower = str.lower\n",
    "remove_hash = lambda s: s.replace(\"#\", \"\")  # funkcja anonimowa (lambda) do prostego czyszczenia\n",
    "\n",
    "clean_hashtag = compose(remove_hash, strip, lower)  # najpierw lower, potem strip, na końcu remove_hash\n",
    "print(clean_hashtag(\"  #Python  \"))  # 'python'\n"
   ],
   "id": "3912d5894df71999"
  },
  {
   "metadata": {},
   "cell_type": "markdown",
   "source": [
    "## Obsługa błędów w stylu funkcyjnym: walidacja jako funkcje\n",
    "Zamiast `try/except` w wielu miejscach, można budować potoki walidatorów.\n"
   ],
   "id": "f941306880975cd7"
  },
  {
   "metadata": {},
   "cell_type": "code",
   "outputs": [],
   "execution_count": null,
   "source": [
    "from typing import Tuple\n",
    "\n",
    "Validation = Tuple[bool, str]\n",
    "\n",
    "def not_empty(s: str) -> Validation:\n",
    "    return (len(s.strip()) > 0, \"Pole nie może być puste\")\n",
    "\n",
    "def min_length(n: int) -> Callable[[str], Validation]:\n",
    "    def check(s: str) -> Validation:\n",
    "        return (len(s) >= n, f\"Minimalna długość to {n}\")\n",
    "    return check\n",
    "\n",
    "validators = [not_empty, min_length(3)]\n",
    "\n",
    "def validate(s: str, validators) -> Validation:\n",
    "    # Zwraca (True, \"\") jeśli wszystko ok lub (False, message) dla pierwszego błędu\n",
    "    for v in validators:\n",
    "        ok, msg = v(s)\n",
    "        if not ok:\n",
    "            return False, msg\n",
    "    return True, \"\"\n",
    "\n",
    "print(validate(\"\", validators))        # (False, 'Pole nie może być puste')\n",
    "print(validate(\"ab\", validators))      # (False, 'Minimalna długość to 3')\n",
    "print(validate(\"python\", validators))  # (True, '')\n"
   ],
   "id": "db3a1c51296a00b0"
  },
  {
   "metadata": {},
   "cell_type": "markdown",
   "source": [
    "## Efekty uboczne a FP: kiedy są w porządku?\n",
    "FP preferuje brak efektów ubocznych, ale w praktyce musimy robić I/O. Kluczowe jest\n",
    "izolowanie efektów na krawędziach systemu i utrzymywanie rdzenia obliczeń jako czystych funkcji.\n"
   ],
   "id": "2bbc0a02d73b2386"
  },
  {
   "metadata": {},
   "cell_type": "markdown",
   "source": [
    "### 🧩 Zadanie 3\n",
    "Zbuduj potok czyszczący listę wpisów tekstowych: usuń `None`, przytnij spacje,\n",
    "usuwaj puste wpisy i zwróć posortowaną (case-insensitive) listę unikatowych wartości.\n",
    "Użyj `filter`, `map`, `str.strip`, `str.lower`, `set` i `sorted`.\n"
   ],
   "id": "2fb8c9f82569a933"
  },
  {
   "metadata": {},
   "cell_type": "code",
   "outputs": [],
   "execution_count": null,
   "source": [
    "# Rozwiązanie Zadania 3\n",
    "entries = [\"  Python\", None, \"\", \" PYTHON \", \"fp\", \"Fp  \", \"  \"]\n",
    "\n",
    "cleaned = sorted(\n",
    "    set(\n",
    "        map(\n",
    "            str.lower,  # zamiana na małe litery\n",
    "            filter(\n",
    "                None,  # odfiltruj False'y: None, \"\", \"  \" po strip -> patrz krok niżej\n",
    "                map(\n",
    "                    str.strip,  # przytnij spacje\n",
    "                    filter(lambda x: x is not None, entries),  # usuń None\n",
    "                ),\n",
    "            ),\n",
    "        )\n",
    "    )\n",
    ")\n",
    "print(cleaned)  # ['fp', 'python']\n"
   ],
   "id": "3391504c4939fdfb"
  },
  {
   "metadata": {},
   "cell_type": "markdown",
   "source": [
    "### 🧩 Zadanie 4\n",
    "Wykorzystaj `lru_cache`, aby przyspieszyć funkcję obliczającą koszty dostawy, która jest\n",
    "funkcją czystą zależną od (wagi, dystansu). Porównaj czasy dla wielokrotnych wywołań\n",
    "z tymi samymi parametrami.\n"
   ],
   "id": "6628cc85a50d43e3"
  },
  {
   "metadata": {},
   "cell_type": "code",
   "outputs": [],
   "execution_count": null,
   "source": [
    "# Rozwiązanie Zadania 4\n",
    "import time\n",
    "from functools import lru_cache\n",
    "\n",
    "@lru_cache(maxsize=None)\n",
    "def shipping_cost(weight: float, distance: int) -> float:\n",
    "    # Udajemy kosztowną funkcję – np. symulacja złożonego algorytmu\n",
    "    time.sleep(0.05)  # opóźnienie\n",
    "    base = 5.0\n",
    "    return base + 0.4 * weight + 0.02 * distance\n",
    "\n",
    "start = time.perf_counter()\n",
    "for _ in range(5):\n",
    "    shipping_cost(10, 100)  # te same argumenty\n",
    "print(\"z cache:\", time.perf_counter() - start)\n",
    "\n",
    "shipping_cost.cache_clear()\n",
    "start = time.perf_counter()\n",
    "for _ in range(5):\n",
    "    shipping_cost.__wrapped__(10, 100)  # wywołanie bez cache dla porównania\n",
    "print(\"bez cache:\", time.perf_counter() - start)\n"
   ],
   "id": "3beaedef81f08b08"
  },
  {
   "metadata": {},
   "cell_type": "markdown",
   "source": [
    "### 🧩 Zadanie 5\n",
    "Porównaj dwa style: `map`/`filter` vs list/dict comprehensions, implementując:\n",
    "- słownik {litera: liczba_wystąpień} dla liter w tekście (tylko alfanumeryczne, małe litery),\n",
    "- uporządkowaną listę par (litera, licznik) malejąco po liczniku.\n"
   ],
   "id": "2ffb50cb5a72962d"
  },
  {
   "metadata": {},
   "cell_type": "code",
   "outputs": [],
   "execution_count": null,
   "source": [
    "# Rozwiązanie Zadania 5\n",
    "from collections import Counter\n",
    "text = \"Functional Programming in Python 3.12!!!\"\n",
    "letters = [ch.lower() for ch in text if ch.isalnum()]  # idiomatycznie\n",
    "counts = Counter(letters)\n",
    "result = sorted(counts.items(), key=lambda kv: kv[1], reverse=True)\n",
    "print(result)\n"
   ],
   "id": "c9d6defdfef8ac2f"
  },
  {
   "metadata": {},
   "cell_type": "markdown",
   "source": [
    "**Podsumowanie rozszerzenia:**\n",
    "- Czeste preferowanie czystych funkcji ułatwia testowanie i kompozycję.\n",
    "- `functools` i `itertools` dostarczają potężnych klocków do budowy potoków.\n",
    "- Immutability zmniejsza klasę błędów związanych ze współdzieleniem stanu.\n",
    "- W Pythonie pamiętaj o idiomach (comprehensions), jednocześnie korzystając z idei FP tam, gdzie to pomaga.\n"
   ],
   "id": "7dfddec6bcc1122c"
  }
 ],
 "metadata": {
  "kernelspec": {
   "display_name": "Python 3 (ipykernel)",
   "language": "python",
   "name": "python3"
  },
  "language_info": {
   "codemirror_mode": {
    "name": "ipython",
    "version": 3
   },
   "file_extension": ".py",
   "mimetype": "text/x-python",
   "name": "python",
   "nbconvert_exporter": "python",
   "pygments_lexer": "ipython3",
   "version": "3.14.0"
  }
 },
 "nbformat": 4,
 "nbformat_minor": 5
}
