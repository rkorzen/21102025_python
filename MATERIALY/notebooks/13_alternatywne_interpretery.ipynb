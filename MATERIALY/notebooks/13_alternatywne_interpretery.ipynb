{
  "cells": [
    {
      "cell_type": "markdown",
      "metadata": {},
      "source": [
        "# Alternatywne interpretery i kompilatory Pythona\n",
        "\n",
        "Przegląd środowisk przyspieszających lub rozszerzających CPythona.\n"
      ]
    },
    {
      "cell_type": "markdown",
      "metadata": {},
      "source": [
        "## Cele\n",
        "- porównać CPython, PyPy, MicroPython, Cython, Numba\n",
        "- zrozumieć, kiedy warto sięgnąć po alternatywny runtime\n",
        "- poznać podstawowe kroki integracji\n"
      ]
    },
    {
      "cell_type": "markdown",
      "metadata": {},
      "source": [
        "## CPython i PyPy\n",
        "CPython to domyślna implementacja (C). PyPy używa JIT, przyspieszając pętle.\n"
      ]
    },
    {
      "cell_type": "code",
      "execution_count": null,
      "metadata": {},
      "outputs": [],
      "source": [
        "import platform\n",
        "\n",
        "print(\"Aktualny interpreter:\", platform.python_implementation())\n"
      ]
    },
    {
      "cell_type": "markdown",
      "metadata": {},
      "source": [
        "## Cython\n",
        "Cython pozwala statycznie typować fragmenty kodu i kompilować je do C.\n"
      ]
    },
    {
      "cell_type": "code",
      "execution_count": null,
      "metadata": {},
      "outputs": [],
      "source": [
        "cython_example = \"\"\"\n",
        "# plik: fib.pyx\n",
        "cpdef long fib(long n):\n",
        "    cdef long a = 0\n",
        "    cdef long b = 1\n",
        "    cdef long i\n",
        "    for i in range(n):\n",
        "        a, b = b, a + b\n",
        "    return a\n",
        "\"\"\"\n",
        "print(cython_example)\n"
      ]
    },
    {
      "cell_type": "markdown",
      "metadata": {},
      "source": [
        "## Numba\n",
        "Dekorator `@njit` kompiluje funkcje numeryczne do kodu maszynowego w locie.\n"
      ]
    },
    {
      "cell_type": "code",
      "execution_count": null,
      "metadata": {},
      "outputs": [],
      "source": [
        "numba_example = \"\"\"\n",
        "from numba import njit\n",
        "\n",
        "@njit\n",
        "def accumulate(values):\n",
        "    total = 0\n",
        "    for value in values:\n",
        "        total += value\n",
        "    return total\n",
        "\"\"\"\n",
        "print(numba_example)\n"
      ]
    },
    {
      "cell_type": "markdown",
      "metadata": {},
      "source": [
        "## MicroPython\n",
        "MicroPython to okrojona wersja CPythona na urządzenia IoT.\n"
      ]
    },
    {
      "cell_type": "code",
      "execution_count": null,
      "metadata": {},
      "outputs": [],
      "source": [
        "micropy_snippet = \"\"\"\n",
        "# na MicroPythonie dostępne są moduły specyficzne dla sprzętu\n",
        "from machine import Pin\n",
        "led = Pin(2, Pin.OUT)\n",
        "led.on()\n",
        "\"\"\"\n",
        "print(micropy_snippet)\n"
      ]
    },
    {
      "cell_type": "markdown",
      "metadata": {},
      "source": [
        "**Podsumowanie:** Alternatywne interpretery wybieramy w zależności od potrzeb: wydajność, sprzęt, statyczna analiza.\n",
        "\n",
        "**Pytanie kontrolne:** Co należy zmierzyć przed migracją na PyPy?\n"
      ]
    },
    {
      "cell_type": "markdown",
      "metadata": {},
      "source": [
        "### 🧩 Zadanie 1\n",
        "Napisz skrypt porównujący `sys.implementation` i dostępne moduły, aby wykryć środowisko.\n"
      ]
    },
    {
      "cell_type": "code",
      "execution_count": null,
      "metadata": {},
      "outputs": [],
      "source": [
        "# Rozwiązanie Zadania 1\n",
        "import sys\n",
        "import pkgutil\n",
        "\n",
        "print(\"Implementacja:\", sys.implementation.name)\n",
        "modules = {module.name for module in pkgutil.iter_modules()}\n",
        "for name in [\"numpy\", \"machine\", \"cpython\"]:\n",
        "    print(f\"Moduł {name} dostępny?\", name in modules)\n"
      ]
    },
    {
      "cell_type": "markdown",
      "metadata": {},
      "source": [
        "### 🧩 Zadanie 2\n",
        "Przygotuj instrukcję (napis) do uruchomienia modułu Cython: komendy `cythonize` oraz `python setup.py build_ext --inplace`.\n"
      ]
    },
    {
      "cell_type": "code",
      "execution_count": null,
      "metadata": {},
      "outputs": [],
      "source": [
        "# Rozwiązanie Zadania 2\n",
        "instructions = \"\"\"\n",
        "# plik setup.py\n",
        "from setuptools import setup\n",
        "from Cython.Build import cythonize\n",
        "\n",
        "setup(ext_modules=cythonize(\"fib.pyx\"))\n",
        "\n",
        "# budowanie\n",
        "python setup.py build_ext --inplace\n",
        "\"\"\"\n",
        "print(instructions)\n"
      ]
    }
  ],
  "metadata": {
    "kernelspec": {
      "display_name": "Python 3",
      "language": "python",
      "name": "python3"
    },
    "language_info": {
      "name": "python",
      "version": "3.10"
    }
  },
  "nbformat": 4,
  "nbformat_minor": 5
}