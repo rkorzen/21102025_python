{
 "cells": [
  {
   "cell_type": "markdown",
   "id": "fdad92ceb5a53100",
   "metadata": {},
   "source": [
    "# Performance i debugging\n",
    "\n",
    "Techniki pomiaru wydajności, profilowania oraz narzędzia debuggera.\n"
   ]
  },
  {
   "cell_type": "markdown",
   "id": "e239a60a74a7883e",
   "metadata": {},
   "source": [
    "## Cele\n",
    "- nauczyć się świadomie mierzyć wydajność (`timeit`, `perf_counter`)\n",
    "- wykorzystać `cProfile` i `pstats` do analizy\n",
    "- poznać podstawy debuggera (`pdb`) i narzędzi wizualnych\n"
   ]
  },
  {
   "cell_type": "markdown",
   "id": "2261410bc3f075d1",
   "metadata": {},
   "source": [
    "## Szybkie pomiary `timeit`\n",
    "`timeit` uruchamia kod wielokrotnie, by uśrednić wyniki.\n"
   ]
  },
  {
   "cell_type": "code",
   "execution_count": 1,
   "id": "1e492d515a304359",
   "metadata": {},
   "outputs": [
    {
     "name": "stdout",
     "output_type": "stream",
     "text": [
      "Średni czas: 5.67 µs\n"
     ]
    }
   ],
   "source": [
    "import timeit\n",
    "\n",
    "# Tworzymy dane wejściowe tylko raz, poza pętlą pomiarową\n",
    "setup = \"nums = list(range(1000))\"\n",
    "\n",
    "# Mierzymy możliwie krótki fragment kodu, bez dodatkowych wywołań funkcji\n",
    "stmt = \"sum(nums)\"\n",
    "\n",
    "# Większa liczba powtórzeń zmniejsza wpływ szumu i planera\n",
    "result = timeit.timeit(stmt=stmt, setup=setup, number=1000)\n",
    "print(f'Średni czas: {result * 1e6/1000:.2f} µs')"
   ]
  },
  {
   "cell_type": "markdown",
   "id": "7d38bfd0e0c103a4",
   "metadata": {},
   "source": [
    "## Profilowanie `cProfile`\n",
    "`cProfile` to deterministyczny profiler napisany w C. Mierzy czas wykonania każdej funkcji i buduje drzewo wywołań, dzięki czemu szybko wyłapiesz sekcje kodu pochłaniające najwięcej czasu."
   ]
  },
  {
   "cell_type": "code",
   "id": "c9ea7d665e65113",
   "metadata": {
    "ExecuteTime": {
     "end_time": "2025-10-24T11:04:37.454540Z",
     "start_time": "2025-10-24T11:04:37.395468Z"
    }
   },
   "source": [
    "import cProfile\n",
    "import pstats\n",
    "\n",
    "\n",
    "def slow_function():\n",
    "    total = 0\n",
    "    for _ in range(10_000):\n",
    "        subtotal = sum(range(100))  # sztuczne obciążenie CPU\n",
    "        total += subtotal\n",
    "    return total\n",
    "\n",
    "\n",
    "with cProfile.Profile() as profiler:\n",
    "    slow_function()  # kod, który chcemy przeanalizować\n",
    "\n",
    "stats = pstats.Stats(profiler)\n",
    "stats.strip_dirs()  # usuwa pełne ścieżki plików z raportu\n",
    "stats.sort_stats(pstats.SortKey.CUMULATIVE).print_stats(8)"
   ],
   "outputs": [
    {
     "name": "stdout",
     "output_type": "stream",
     "text": [
      "         10338 function calls (10334 primitive calls) in 0.035 seconds\n",
      "\n",
      "   Ordered by: cumulative time\n",
      "   List reduced from 100 to 8 due to restriction <8>\n",
      "\n",
      "   ncalls  tottime  percall  cumtime  percall filename:lineno(function)\n",
      "        1    0.000    0.000    0.034    0.034 events.py:92(_run)\n",
      "        1    0.000    0.000    0.034    0.034 {method 'run' of '_contextvars.Context' objects}\n",
      "        1    0.000    0.000    0.034    0.034 asyncio.py:206(_handle_events)\n",
      "        1    0.000    0.000    0.034    0.034 zmqstream.py:573(_handle_events)\n",
      "        1    0.000    0.000    0.034    0.034 zmqstream.py:614(_handle_recv)\n",
      "        1    0.000    0.000    0.034    0.034 zmqstream.py:546(_run_callback)\n",
      "    10000    0.024    0.000    0.024    0.000 {built-in method builtins.sum}\n",
      "        1    0.000    0.000    0.021    0.021 threading.py:651(wait)\n",
      "\n",
      "\n"
     ]
    },
    {
     "data": {
      "text/plain": [
       "<pstats.Stats at 0x106c6c910>"
      ]
     },
     "execution_count": 2,
     "metadata": {},
     "output_type": "execute_result"
    }
   ],
   "execution_count": 2
  },
  {
   "cell_type": "markdown",
   "id": "a0a25817",
   "metadata": {},
   "source": [
    "## Jak czytać raport `pstats`\n",
    "Typowe kolumny w raporcie `print_stats` to:\n",
    "- `ncalls` – liczba wywołań funkcji (druga liczba w nawiasie to tylko wywołania pierwotne).\n",
    "- `tottime` – czas spędzony w funkcji, bez czasu funkcji wywoływanych z jej wnętrza.\n",
    "- `percall` – `tottime / ncalls`, czyli średni koszt pojedynczego wywołania funkcji.\n",
    "- `cumtime` – łączny czas funkcji wraz z funkcjami podrzędnymi.\n",
    "- `percall` (druga kolumna) – `cumtime / primitive_calls`, przydatne przy rekurencji.\n",
    "- `filename:lineno(function)` – miejsce w kodzie, które warto odwiedzić, aby zoptymalizować działanie.\n",
    "\n",
    "`SortKey.CUMULATIVE` pomaga znaleźć funkcje, które spowalniają nasz program pośrednio, a `SortKey.TIME` skupia się na samym kodzie funkcji."
   ]
  },
  {
   "cell_type": "code",
   "execution_count": null,
   "id": "1fb416e9",
   "metadata": {},
   "outputs": [],
   "source": [
    "# Sprawdźmy również, kto wywołuje najwolniejsze funkcje\n",
    "stats.sort_stats(pstats.SortKey.TIME).print_callers(5)"
   ]
  },
  {
   "cell_type": "markdown",
   "id": "ca7dafb0",
   "metadata": {},
   "source": [
    "## `cProfile` vs `profile` (czasem nazywanym `Profiler`)\n",
    "- `cProfile` ma minimalny narzut (kod w C) i doskonale nadaje się do codziennej pracy.\n",
    "- `profile` jest napisany w Pythonie, łatwo go rozszerzyć lub zmodyfikować, lecz spowalnia profilowany kod nawet kilkanaście razy.\n",
    "- Oba moduły zwracają identyczne statystyki, więc możesz zaczynać od `cProfile`, a po prototypowaniu przełączyć się na `profile`, gdy potrzebujesz własnych haków.\n",
    "- CLI: `python -m cProfile -o raport.prof skrypt.py` i później `snakeviz raport.prof` lub `python -m pstats raport.prof` do analizy offline."
   ]
  },
  {
   "cell_type": "code",
   "execution_count": null,
   "id": "191a0eb7",
   "metadata": {},
   "outputs": [],
   "source": [
    "import profile\n",
    "\n",
    "# `profile` działa identycznie jak `cProfile`, ale dodaje większy narzut czasowy\n",
    "profile_profiler = profile.Profile()\n",
    "profile_profiler.runcall(slow_function)\n",
    "\n",
    "stats_py = pstats.Stats(profile_profiler)\n",
    "stats_py.strip_dirs()\n",
    "stats_py.sort_stats(pstats.SortKey.CUMULATIVE).print_stats(5)"
   ]
  },
  {
   "cell_type": "markdown",
   "id": "d07267526eb78b7a",
   "metadata": {},
   "source": [
    "## Debugowanie z `pdb`\n",
    "Debugger pozwala zatrzymać program, obejrzeć stan i kontynuować.\n"
   ]
  },
  {
   "cell_type": "code",
   "execution_count": null,
   "id": "b83bfb82967455d4",
   "metadata": {},
   "outputs": [
    {
     "name": "stdout",
     "output_type": "stream",
     "text": [
      "\u001B[31m    [... skipping 21 hidden frame(s)]\u001B[39m\n",
      "  \u001B[32m/var/folders/pd/gsgbf0fd4tv7ntlsxt53r0sh0000gn/T/ipykernel_34263/3958656088.py\u001B[39m(\u001B[92m11\u001B[39m)\u001B[36m<module>\u001B[39m\u001B[34m()\u001B[39m\n",
      "\u001B[92m      9\u001B[39m \n",
      "\u001B[92m     10\u001B[39m \u001B[31m\u001B[38;5;28;01mtry\u001B[39;00m:\u001B[39m\n",
      "\u001B[32m---> 11\u001B[39m     buggy([\u001B[32m2\u001B[39m, \u001B[32m4\u001B[39m, \u001B[32m5\u001B[39m])\n",
      "\u001B[92m     12\u001B[39m \u001B[31m\u001B[38;5;28;01mexcept\u001B[39;00m BdbQuit:\u001B[39m\n",
      "\u001B[92m     13\u001B[39m \u001B[31m    \u001B[38;5;28;01mpass\u001B[39;00m\u001B[39m\n",
      "> \u001B[32m/var/folders/pd/gsgbf0fd4tv7ntlsxt53r0sh0000gn/T/ipykernel_34263/3958656088.py\u001B[39m(\u001B[92m7\u001B[39m)\u001B[36mbuggy\u001B[39m\u001B[34m()\u001B[39m\n",
      "\u001B[32m      5\u001B[39m             total += value\n",
      "\u001B[32m      6\u001B[39m         \u001B[38;5;28;01melse\u001B[39;00m:\n",
      "\u001B[32m----> 7\u001B[39m             \u001B[38;5;28;01mimport\u001B[39;00m pdb; pdb.set_trace()  \u001B[38;5;66;03m# pułapka na nieparzyste wartości\u001B[39;00m\n",
      "\u001B[32m      8\u001B[39m     \u001B[38;5;28;01mreturn\u001B[39;00m total\n",
      "\u001B[32m      9\u001B[39m \n",
      "\n"
     ]
    },
    {
     "name": "stdin",
     "output_type": "stream",
     "text": [
      "ipdb>  \n"
     ]
    }
   ],
   "source": [
    "from bdb import BdbQuit\n",
    "\n",
    "\n",
    "def buggy(numbers):\n",
    "    total = 0\n",
    "    for value in numbers:\n",
    "        if value % 2 == 0:\n",
    "            total += value\n",
    "        else:\n",
    "            import pdb; pdb.set_trace()  # pułapka na nieparzyste wartości\n",
    "    return total\n",
    "\n",
    "\n",
    "try:\n",
    "    buggy([2, 4, 5])  # debugger zatrzyma się na pierwszej liczbie nieparzystej\n",
    "except BdbQuit:\n",
    "    pass  # użytkownik zakończył sesję debuggera"
   ]
  },
  {
   "cell_type": "markdown",
   "id": "df612837a62bba2c",
   "metadata": {},
   "source": [
    "**Podsumowanie:** Regularne pomiary i profilowanie pomagają zlokalizować wąskie gardła.\n",
    "\n",
    "**Pytanie kontrolne:** Dlaczego `print` nie wystarcza do debugowania złożonych aplikacji?\n"
   ]
  },
  {
   "cell_type": "markdown",
   "id": "1fe65d0d905eeba6",
   "metadata": {},
   "source": [
    "### 🧩 Zadanie 1\n",
    "Napisz funkcję, która porównuje wydajność dwóch implementacji algorytmu i raportuje różnicę procentową.\n"
   ]
  },
  {
   "cell_type": "code",
   "execution_count": null,
   "id": "d5c64d39ff7c7306",
   "metadata": {},
   "outputs": [],
   "source": [
    "# Rozwiązanie Zadania 1\n",
    "import timeit\n",
    "\n",
    "\n",
    "def benchmark(func_a, func_b, number=1000):\n",
    "    # Mierzymy obie funkcje w izolacji, aby wynik nie zależał od siebie nawzajem\n",
    "    time_a = timeit.timeit(func_a, number=number)\n",
    "    time_b = timeit.timeit(func_b, number=number)\n",
    "    diff = ((time_b - time_a) / time_a) * 100\n",
    "    print(f'A: {time_a:.6f}s, B: {time_b:.6f}s, różnica: {diff:.2f}%')\n",
    "\n",
    "\n",
    "benchmark(lambda: sum(range(1000)), lambda: sum([*range(1000)]))"
   ]
  },
  {
   "cell_type": "markdown",
   "id": "82f61c39ab17698e",
   "metadata": {},
   "source": [
    "### 🧩 Zadanie 2\n",
    "Stwórz funkcję, która profiluje dowolną funkcję i zwraca pięć najbardziej czasochłonnych wpisów.\n"
   ]
  },
  {
   "cell_type": "code",
   "id": "fc58623c9588bc03",
   "metadata": {
    "ExecuteTime": {
     "end_time": "2025-10-24T11:03:41.273610Z",
     "start_time": "2025-10-24T11:03:41.243144Z"
    }
   },
   "source": [
    "# Rozwiązanie Zadania 2\n",
    "import cProfile\n",
    "import pstats\n",
    "from io import StringIO\n",
    "\n",
    "\n",
    "def profile_top(func, *args, **kwargs):\n",
    "    with cProfile.Profile() as pr:\n",
    "        func(*args, **kwargs)\n",
    "    s = StringIO()\n",
    "    stats = pstats.Stats(pr, stream=s)\n",
    "    stats.sort_stats(pstats.SortKey.CUMULATIVE).print_stats(5)\n",
    "    print(s.getvalue())  # raport jako tekst, gotowy do logów lub e-maili\n",
    "\n",
    "\n",
    "def busy_work():\n",
    "    total = 0\n",
    "    for _ in range(1000):\n",
    "        total += sum(range(500))  # intensywna pętla do profilowania\n",
    "    return total\n",
    "\n",
    "\n",
    "profile_top(busy_work)"
   ],
   "outputs": [
    {
     "name": "stdout",
     "output_type": "stream",
     "text": [
      "         1109 function calls in 0.015 seconds\n",
      "\n",
      "   Ordered by: cumulative time\n",
      "   List reduced from 46 to 5 due to restriction <5>\n",
      "\n",
      "   ncalls  tottime  percall  cumtime  percall filename:lineno(function)\n",
      "     1000    0.014    0.000    0.014    0.000 {built-in method builtins.sum}\n",
      "        1    0.000    0.000    0.011    0.011 /Users/rkorzen/.local/share/uv/python/cpython-3.14.0-macos-x86_64-none/lib/python3.14/threading.py:651(wait)\n",
      "        1    0.000    0.000    0.011    0.011 /Users/rkorzen/.local/share/uv/python/cpython-3.14.0-macos-x86_64-none/lib/python3.14/threading.py:337(wait)\n",
      "        1    0.001    0.001    0.011    0.011 /var/folders/pd/gsgbf0fd4tv7ntlsxt53r0sh0000gn/T/ipykernel_7762/4138807054.py:16(busy_work)\n",
      "        2    0.000    0.000    0.000    0.000 /Users/rkorzen/workspace/.venv/lib/python3.14/site-packages/traitlets/traitlets.py:708(__set__)\n",
      "\n",
      "\n",
      "\n"
     ]
    }
   ],
   "execution_count": 1
  },
  {
   "metadata": {},
   "cell_type": "code",
   "outputs": [],
   "execution_count": null,
   "source": "",
   "id": "90eca43bac6998ae"
  }
 ],
 "metadata": {
  "kernelspec": {
   "display_name": "Python 3 (ipykernel)",
   "language": "python",
   "name": "python3"
  },
  "language_info": {
   "codemirror_mode": {
    "name": "ipython",
    "version": 3
   },
   "file_extension": ".py",
   "mimetype": "text/x-python",
   "name": "python",
   "nbconvert_exporter": "python",
   "pygments_lexer": "ipython3",
   "version": "3.14.0"
  }
 },
 "nbformat": 4,
 "nbformat_minor": 5
}
