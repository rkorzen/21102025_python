{
  "cells": [
    {
      "cell_type": "markdown",
      "metadata": {},
      "source": [
        "# Menedżery kontekstu\n",
        "\n",
        "Od podstaw `with` po zaawansowane konstrukcje i własne implementacje.\n"
      ]
    },
    {
      "cell_type": "markdown",
      "metadata": {},
      "source": [
        "## Cele\n",
        "- przypomnieć działanie protokołu kontekstowego (`__enter__` / `__exit__`)\n",
        "- stworzyć własny menedżer przy użyciu klasy i dekoratora `contextmanager`\n",
        "- wykorzystać konteksty do obsługi zasobów i transakcji\n"
      ]
    },
    {
      "cell_type": "markdown",
      "metadata": {},
      "source": [
        "## Podstawy `with`\n",
        "Menedżer kontekstu zapewnia deterministyczne sprzątanie zasobów.\n",
        "Najczęściej spotykamy go przy pracy z plikami.\n"
      ]
    },
    {
      "cell_type": "code",
      "execution_count": null,
      "metadata": {},
      "outputs": [],
      "source": [
        "from pathlib import Path\n",
        "\n",
        "path = Path(\"notes.txt\")\n",
        "\n",
        "with path.open(\"w\", encoding=\"utf-8\") as handle:\n",
        "    handle.write(\"Linia 1\n",
        "\")\n",
        "\n",
        "print(path.read_text(encoding=\"utf-8\"))\n"
      ]
    },
    {
      "cell_type": "markdown",
      "metadata": {},
      "source": [
        "## Własny menedżer w formie klasy\n",
        "Implementacja wymaga metod `__enter__` oraz `__exit__`.\n"
      ]
    },
    {
      "cell_type": "code",
      "execution_count": null,
      "metadata": {},
      "outputs": [],
      "source": [
        "class suppress:\n",
        "    def __init__(self, *exceptions):\n",
        "        self.exceptions = exceptions\n",
        "\n",
        "    def __enter__(self):\n",
        "        return self\n",
        "\n",
        "    def __exit__(self, exc_type, exc, tb):\n",
        "        if exc_type and issubclass(exc_type, self.exceptions):\n",
        "            print(\"Wyjątek został stłumiony:\", exc)\n",
        "            return True  # sygnalizujemy, że wyjątek obsłużony\n",
        "        return False\n",
        "\n",
        "with suppress(ZeroDivisionError):\n",
        "    1 / 0\n"
      ]
    },
    {
      "cell_type": "markdown",
      "metadata": {},
      "source": [
        "## Dekorator `contextmanager`\n",
        "Moduł `contextlib` pozwala definiować menedżery jako generatory.\n"
      ]
    },
    {
      "cell_type": "code",
      "execution_count": null,
      "metadata": {},
      "outputs": [],
      "source": [
        "from contextlib import contextmanager\n",
        "\n",
        "@contextmanager\n",
        "def temporary_directory(path: Path):\n",
        "    path.mkdir(exist_ok=False)\n",
        "    try:\n",
        "        yield path\n",
        "    finally:\n",
        "        for child in path.iterdir():\n",
        "            child.unlink()\n",
        "        path.rmdir()\n",
        "\n",
        "with temporary_directory(Path(\"sandbox\")) as tmp:\n",
        "    file_path = tmp / \"data.txt\"\n",
        "    file_path.write_text(\"próba\", encoding=\"utf-8\")\n",
        "    print(file_path.read_text(encoding=\"utf-8\"))\n",
        "print(\"Czy katalog istnieje?\", Path(\"sandbox\").exists())\n"
      ]
    },
    {
      "cell_type": "markdown",
      "metadata": {},
      "source": [
        "**Podsumowanie:** Menedżery kontekstu standaryzują zarządzanie zasobami.\n",
        "\n",
        "**Pytanie kontrolne:** Kiedy warto użyć `contextmanager`, a kiedy klasy?\n"
      ]
    },
    {
      "cell_type": "markdown",
      "metadata": {},
      "source": [
        "### 🧩 Zadanie 1\n",
        "Zaimplementuj menedżer kontekstu, który mierzy czas wykonania bloku i raportuje wynik.\n"
      ]
    },
    {
      "cell_type": "code",
      "execution_count": null,
      "metadata": {},
      "outputs": [],
      "source": [
        "# Rozwiązanie Zadania 1\n",
        "import time\n",
        "from contextlib import contextmanager\n",
        "\n",
        "@contextmanager\n",
        "def timer(name: str):\n",
        "    start = time.perf_counter()\n",
        "    try:\n",
        "        yield\n",
        "    finally:\n",
        "        elapsed = (time.perf_counter() - start) * 1000\n",
        "        print(f\"[{name}] {elapsed:.2f} ms\")\n",
        "\n",
        "with timer(\"operacja ciężka\"):\n",
        "    sum(range(1_000_000))\n"
      ]
    },
    {
      "cell_type": "markdown",
      "metadata": {},
      "source": [
        "### 🧩 Zadanie 2\n",
        "Stwórz menedżer `transaction`, który pracując na słowniku symuluje transakcję:\n",
        "zmiany są widoczne w bloku, a po wyjściu albo się zatwierdzają (`commit=True`),\n",
        "albo wycofują.\n"
      ]
    },
    {
      "cell_type": "code",
      "execution_count": null,
      "metadata": {},
      "outputs": [],
      "source": [
        "# Rozwiązanie Zadania 2\n",
        "class transaction:\n",
        "    def __init__(self, storage: dict, commit: bool):\n",
        "        self.storage = storage\n",
        "        self.commit = commit\n",
        "\n",
        "    def __enter__(self):\n",
        "        self._snapshot = self.storage.copy()\n",
        "        return self.storage\n",
        "\n",
        "    def __exit__(self, exc_type, exc, tb):\n",
        "        if exc_type or not self.commit:\n",
        "            self.storage.clear()\n",
        "            self.storage.update(self._snapshot)\n",
        "        # brak zwrotu True -> wyjątek ewentualnie propaguje dalej\n",
        "\n",
        "store = {\"balance\": 100}\n",
        "with transaction(store, commit=True) as data:\n",
        "    data[\"balance\"] += 50\n",
        "print(store)\n",
        "\n",
        "with transaction(store, commit=False) as data:\n",
        "    data[\"balance\"] += 999\n",
        "print(store)\n"
      ]
    }
  ],
  "metadata": {
    "kernelspec": {
      "display_name": "Python 3",
      "language": "python",
      "name": "python3"
    },
    "language_info": {
      "name": "python",
      "version": "3.10"
    }
  },
  "nbformat": 4,
  "nbformat_minor": 5
}