{
 "cells": [
  {
   "cell_type": "markdown",
   "id": "a35609d1",
   "metadata": {},
   "source": [
    "# Serializacja, walidacja i bazy danych w Pythonie\n",
    "\n",
    "Notebook prowadzi przez techniki serializacji, walidacji oraz pracy z bazą danych.\n"
   ]
  },
  {
   "cell_type": "markdown",
   "id": "faa97a6c",
   "metadata": {},
   "source": [
    "## Cele\n",
    "- utrwalić podstawy serializacji w formatach JSON, Pickle i CSV\n",
    "- przećwiczyć pracę z bazą SQLite oraz ORM-ami (Pony ORM, SQLAlchemy)\n",
    "- zrozumieć rolę Pydantic w walidacji i serializacji danych\n"
   ]
  },
  {
   "cell_type": "markdown",
   "id": "87742b77",
   "metadata": {},
   "source": [
    "## 1. Wprowadzenie\n",
    "- **Serializacja**: zamiana obiektu Pythona na format tekstowy/binarny do przechowywania lub przesyłania.\n",
    "- **Walidacja**: upewnienie się, że dane spełniają wymagany schemat.\n",
    "- **Trwałość**: zapis danych poza pamięcią procesu (pliki, bazy danych).\n",
    "- Wspólne formaty: JSON (tekstowy, interoperacyjny), Pickle (binarny specyficzny dla Pythona), CSV (prostota dla tabel).\n",
    "- Bazy danych stosujemy, gdy potrzebujemy zapytań, relacji, równoległego dostępu i transakcji.\n"
   ]
  },
  {
   "cell_type": "markdown",
   "id": "655ada27",
   "metadata": {},
   "source": [
    "**Podsumowanie:** Serializacja i bazy to fundamenty pracy z danymi; walidacja pilnuje jakości informacji przed utrwaleniem.\n",
    "\n",
    "**Pytanie kontrolne:** Kiedy warto przenieść dane z pliku JSON do bazy SQL?\n"
   ]
  },
  {
   "cell_type": "markdown",
   "id": "3ca0abfb",
   "metadata": {},
   "source": [
    "## 2. Serializacja w Pythonie\n"
   ]
  },
  {
   "cell_type": "markdown",
   "id": "a5200fa3",
   "metadata": {},
   "source": [
    "### 2.1 JSON: podstawy i typy niestandardowe\n",
    "`json` obsługuje typy proste (słowniki, listy, liczby, łańcuchy, `bool`, `None`).\n",
    "Dla typów niestandardowych (np. `datetime`) używamy `default` lub własnego enkodera.\n"
   ]
  },
  {
   "cell_type": "code",
   "execution_count": null,
   "id": "968d430e",
   "metadata": {},
   "outputs": [],
   "source": [
    "import json\n",
    "from datetime import datetime\n",
    "\n",
    "user = {\n",
    "    \"name\": \"Ada\",\n",
    "    \"age\": 28,\n",
    "    \"registered_at\": datetime(2023, 5, 4, 12, 30),\n",
    "    \"tags\": [\"python\", \"mentor\"],\n",
    "}\n",
    "\n",
    "# json.dumps -> serializacja do łańcucha, default=str zapewnia obsługę datetime\n",
    "payload = json.dumps(user, default=str, ensure_ascii=False, indent=2)\n",
    "print(payload)\n",
    "\n",
    "# json.loads -> odczyt do struktur Pythona\n",
    "parsed = json.loads(payload)\n",
    "print(\"Typ daty po odczycie:\", type(parsed[\"registered_at\"]))\n"
   ]
  },
  {
   "cell_type": "markdown",
   "id": "f8087b15",
   "metadata": {},
   "source": [
    "#### Własny enkoder JSON\n",
    "Możemy rozszerzyć serializację przez podklasę `json.JSONEncoder`.\n"
   ]
  },
  {
   "cell_type": "code",
   "execution_count": null,
   "id": "426c0702",
   "metadata": {},
   "outputs": [],
   "source": [
    "class DateTimeEncoder(json.JSONEncoder):\n",
    "    def default(self, obj):\n",
    "        if isinstance(obj, datetime):\n",
    "            return obj.isoformat()  # konwersja do standardu ISO 8601\n",
    "        return super().default(obj)\n",
    "\n",
    "encoded = json.dumps(user, cls=DateTimeEncoder, indent=2, ensure_ascii=False)\n",
    "print(encoded)\n"
   ]
  },
  {
   "cell_type": "markdown",
   "id": "44e054b1",
   "metadata": {},
   "source": [
    "### 2.2 Pickle: serializacja dowolnych obiektów\n",
    "`pickle` zapisuje obiekty Pythona w formacie binarnym. Jest szybki, ale niebezpieczny dla niezaufanych danych.\n"
   ]
  },
  {
   "cell_type": "code",
   "execution_count": null,
   "id": "a4ba6baf",
   "metadata": {},
   "outputs": [],
   "source": [
    "import pickle\n",
    "\n",
    "settings = {\n",
    "    \"feature_flag\": True,\n",
    "    \"callback\": lambda x: x * 2,  # funkcje również mogą być serializowane\n",
    "}\n",
    "\n",
    "# dumps -> bajty w pamięci\n",
    "blob = pickle.dumps(settings)\n",
    "print(\"Rozmiar bajtów:\", len(blob))\n",
    "\n",
    "# loads -> odtworzenie obiektu\n",
    "loaded = pickle.loads(blob)\n",
    "print(loaded[\"callback\"](5))\n",
    "print(\"UWAGA: nigdy nie ładuj pickle z niezaufanego źródła!\")\n"
   ]
  },
  {
   "cell_type": "markdown",
   "id": "60940b87",
   "metadata": {},
   "source": [
    "### 2.3 CSV: format tabelaryczny\n",
    "Dla prostych tabel używamy `csv.DictWriter` i `csv.DictReader`.\n"
   ]
  },
  {
   "cell_type": "code",
   "execution_count": null,
   "id": "a882c050",
   "metadata": {},
   "outputs": [],
   "source": [
    "import csv\n",
    "from pathlib import Path\n",
    "\n",
    "users = [\n",
    "    {\"name\": \"Adam\", \"email\": \"adam@example.com\", \"age\": 30},\n",
    "    {\"name\": \"Beata\", \"email\": \"beata@example.com\", \"age\": 24},\n",
    "]\n",
    "\n",
    "csv_path = Path(\"users.csv\")\n",
    "\n",
    "# Zapis danych do pliku CSV\n",
    "with csv_path.open(\"w\", newline=\"\", encoding=\"utf-8\") as handle:\n",
    "    writer = csv.DictWriter(handle, fieldnames=[\"name\", \"email\", \"age\"])\n",
    "    writer.writeheader()\n",
    "    writer.writerows(users)\n",
    "\n",
    "# Odczyt danych z pliku CSV\n",
    "with csv_path.open(\"r\", newline=\"\", encoding=\"utf-8\") as handle:\n",
    "    reader = csv.DictReader(handle)\n",
    "    loaded_rows = list(reader)\n",
    "\n",
    "print(loaded_rows)\n"
   ]
  },
  {
   "cell_type": "markdown",
   "id": "80714020",
   "metadata": {},
   "source": [
    "**Podsumowanie:** JSON służy do interoperacyjnej wymiany, Pickle przechowuje skomplikowane obiekty, a CSV jest zwięzły dla tabel.\n",
    "\n",
    "**Pytanie kontrolne:** Który format wybierzesz do wymiany danych między usługami HTTP i dlaczego?\n"
   ]
  },
  {
   "cell_type": "markdown",
   "id": "1b63e4d9",
   "metadata": {},
   "source": [
    "### 🧩 Zadanie 1\n",
    "Zapisz listę użytkowników (słowniki z polami `name`, `email`, `age`) do JSON i CSV, odczytaj je ponownie i policz średni wiek.\n"
   ]
  },
  {
   "cell_type": "code",
   "execution_count": null,
   "id": "722a17a2",
   "metadata": {},
   "outputs": [],
   "source": [
    "# Rozwiązanie Zadania 1\n",
    "import json\n",
    "import csv\n",
    "from pathlib import Path\n",
    "\n",
    "people = [\n",
    "    {\"name\": \"Ania\", \"email\": \"ania@example.com\", \"age\": 26},\n",
    "    {\"name\": \"Kuba\", \"email\": \"kuba@example.com\", \"age\": 34},\n",
    "    {\"name\": \"Ola\", \"email\": \"ola@example.com\", \"age\": 29},\n",
    "]\n",
    "\n",
    "json_file = Path(\"zad1_users.json\")\n",
    "csv_file = Path(\"zad1_users.csv\")\n",
    "\n",
    "# Zapis JSON\n",
    "json_file.write_text(json.dumps(people, indent=2, ensure_ascii=False), encoding=\"utf-8\")\n",
    "\n",
    "# Zapis CSV\n",
    "with csv_file.open(\"w\", newline=\"\", encoding=\"utf-8\") as handle:\n",
    "    writer = csv.DictWriter(handle, fieldnames=[\"name\", \"email\", \"age\"])\n",
    "    writer.writeheader()\n",
    "    writer.writerows(people)\n",
    "\n",
    "# Odczyt JSON\n",
    "data_json = json.loads(json_file.read_text(encoding=\"utf-8\"))\n",
    "\n",
    "# Odczyt CSV\n",
    "data_csv = []\n",
    "with csv_file.open(\"r\", newline=\"\", encoding=\"utf-8\") as handle:\n",
    "    reader = csv.DictReader(handle)\n",
    "    for row in reader:\n",
    "        row[\"age\"] = int(row[\"age\"])  # konwersja tekstu na int\n",
    "        data_csv.append(row)\n",
    "\n",
    "# Średni wiek (na podstawie danych JSON)\n",
    "avg_age = sum(item[\"age\"] for item in data_json) / len(data_json)\n",
    "print(f\"Średni wiek: {avg_age:.1f}\")\n"
   ]
  },
  {
   "cell_type": "markdown",
   "id": "517c1dd8",
   "metadata": {},
   "source": [
    "## 3. Bazy danych – niski poziom (sqlite3)\n",
    "`sqlite3` pozwala tworzyć lokalne bazy SQL bez serwera. Używamy połączenia, kursora i zapytań z parametrami (`?`).\n"
   ]
  },
  {
   "cell_type": "code",
   "execution_count": null,
   "id": "a77905a2",
   "metadata": {},
   "outputs": [],
   "source": [
    "import sqlite3\n",
    "from pathlib import Path\n",
    "\n",
    "db_path = Path(\"users.db\")\n",
    "db_path.unlink(missing_ok=True)  # czyszczenie poprzedniej bazy\n",
    "\n",
    "with sqlite3.connect(db_path) as conn:\n",
    "    cursor = conn.cursor()\n",
    "    cursor.execute(\n",
    "        \"\"\"\n",
    "        CREATE TABLE users (\n",
    "            name TEXT,\n",
    "            age INTEGER,\n",
    "            email TEXT UNIQUE\n",
    "        )\n",
    "        \"\"\"\n",
    "    )\n",
    "    cursor.executemany(\n",
    "        \"INSERT INTO users VALUES (?, ?, ?)\",\n",
    "        [\n",
    "            (\"Adam\", 30, \"adam@example.com\"),\n",
    "            (\"Beata\", 25, \"beata@example.com\"),\n",
    "            (\"Celina\", 35, \"celina@example.com\"),\n",
    "        ],\n",
    "    )\n",
    "    conn.commit()  # zatwierdzamy transakcję\n",
    "\n",
    "with sqlite3.connect(db_path) as conn:\n",
    "    cursor = conn.cursor()\n",
    "    cursor.execute(\"SELECT name, age FROM users WHERE age >= ?\", (30,))\n",
    "    print(cursor.fetchall())\n"
   ]
  },
  {
   "cell_type": "markdown",
   "id": "f6106adb",
   "metadata": {},
   "source": [
    "**Podsumowanie:** `sqlite3` daje pełną kontrolę nad SQL, ale wymaga ręcznego mapowania rekordów na obiekty.\n",
    "\n",
    "**Pytanie kontrolne:** Po co używamy `?` w zapytaniach SQL zamiast wstrzykiwać wartości przez f-string?\n"
   ]
  },
  {
   "cell_type": "markdown",
   "id": "ff435df5",
   "metadata": {},
   "source": [
    "### 🧩 Zadanie 2\n",
    "Utwórz bazę `library.db`, tabela `books(title, author, year)`, dodaj kilka rekordów i wypisz książki z ostatnich pięciu lat.\n"
   ]
  },
  {
   "cell_type": "code",
   "execution_count": null,
   "id": "7284f605",
   "metadata": {},
   "outputs": [],
   "source": [
    "# Rozwiązanie Zadania 2\n",
    "import sqlite3\n",
    "from pathlib import Path\n",
    "from datetime import datetime\n",
    "\n",
    "current_year = datetime.now().year\n",
    "lib_path = Path(\"library.db\")\n",
    "lib_path.unlink(missing_ok=True)\n",
    "\n",
    "with sqlite3.connect(lib_path) as conn:\n",
    "    cur = conn.cursor()\n",
    "    cur.execute(\n",
    "        \"\"\"\n",
    "        CREATE TABLE books (\n",
    "            title TEXT,\n",
    "            author TEXT,\n",
    "            year INTEGER\n",
    "        )\n",
    "        \"\"\"\n",
    "    )\n",
    "    cur.executemany(\n",
    "        \"INSERT INTO books VALUES (?, ?, ?)\",\n",
    "        [\n",
    "            (\"Python Tricks\", \"Dan Bader\", current_year - 1),\n",
    "            (\"Clean Code\", \"Robert C. Martin\", 2008),\n",
    "            (\"Effective Python\", \"Brett Slatkin\", current_year - 3),\n",
    "        ],\n",
    "    )\n",
    "    conn.commit()\n",
    "\n",
    "with sqlite3.connect(lib_path) as conn:\n",
    "    cur = conn.cursor()\n",
    "    cur.execute(\n",
    "        \"SELECT title, author, year FROM books WHERE year >= ?\",\n",
    "        (current_year - 5,),\n",
    "    )\n",
    "    print(cur.fetchall())\n"
   ]
  },
  {
   "cell_type": "markdown",
   "id": "c670fab4",
   "metadata": {},
   "source": [
    "## 4. ORM-y: Pony ORM i SQLAlchemy\n",
    "ORM mapuje tabele na klasy i pozwala pracować na obiektach zamiast na SQL.\n"
   ]
  },
  {
   "cell_type": "markdown",
   "id": "7dec2f4d",
   "metadata": {},
   "source": [
    "### 4.1 Pony ORM: konfiguracja i CRUD\n"
   ]
  },
  {
   "cell_type": "code",
   "execution_count": null,
   "id": "76586cc1",
   "metadata": {},
   "outputs": [],
   "source": [
    "from pony.orm import Database, Required, db_session, select\n",
    "\n",
    "pony_db = Database()\n",
    "\n",
    "class PonyUser(pony_db.Entity):\n",
    "    name = Required(str)\n",
    "    age = Required(int)\n",
    "    email = Required(str)\n",
    "\n",
    "pony_db.bind(provider=\"sqlite\", filename=\":memory:\")\n",
    "pony_db.generate_mapping(create_tables=True)\n",
    "\n",
    "with db_session:\n",
    "    PonyUser(name=\"Adam\", age=28, email=\"adam@example.com\")\n",
    "    PonyUser(name=\"Beata\", age=34, email=\"beata@example.com\")\n",
    "\n",
    "with db_session:\n",
    "    seniors = select(u for u in PonyUser if u.age > 30)[:]\n",
    "    print([(user.name, user.age) for user in seniors])\n"
   ]
  },
  {
   "cell_type": "markdown",
   "id": "1448c071",
   "metadata": {},
   "source": [
    "### 4.2 SQLAlchemy: modele i relacje One-to-Many\n"
   ]
  },
  {
   "cell_type": "code",
   "execution_count": null,
   "id": "b541d08a",
   "metadata": {},
   "outputs": [],
   "source": [
    "from sqlalchemy import Column, Integer, String, ForeignKey, create_engine\n",
    "from sqlalchemy.orm import declarative_base, relationship, Session\n",
    "\n",
    "engine = create_engine(\"sqlite+pysqlite:///:memory:\", echo=False)\n",
    "Base = declarative_base()\n",
    "\n",
    "class Department(Base):\n",
    "    __tablename__ = \"departments\"\n",
    "    id = Column(Integer, primary_key=True)\n",
    "    name = Column(String, nullable=False)\n",
    "    employees = relationship(\"Employee\", back_populates=\"department\")\n",
    "\n",
    "class Employee(Base):\n",
    "    __tablename__ = \"employees\"\n",
    "    id = Column(Integer, primary_key=True)\n",
    "    name = Column(String, nullable=False)\n",
    "    salary = Column(Integer, nullable=False)\n",
    "    department_id = Column(Integer, ForeignKey(\"departments.id\"))\n",
    "    department = relationship(\"Department\", back_populates=\"employees\")\n",
    "\n",
    "Base.metadata.create_all(engine)\n",
    "\n",
    "with Session(engine) as session:\n",
    "    dev = Department(name=\"Development\")\n",
    "    session.add_all(\n",
    "        [\n",
    "            Employee(name=\"Ania\", salary=6000, department=dev),\n",
    "            Employee(name=\"Kuba\", salary=4500, department=dev),\n",
    "        ]\n",
    "    )\n",
    "    session.commit()\n",
    "\n",
    "with Session(engine) as session:\n",
    "    high_paid = session.query(Employee).filter(Employee.salary > 5000).all()\n",
    "    print([(emp.name, emp.salary) for emp in high_paid])\n"
   ]
  },
  {
   "cell_type": "markdown",
   "id": "21199ec5",
   "metadata": {},
   "source": [
    "**Podsumowanie:** ORM-y automatyzują konwersję danych między SQL a obiektami, upraszczając logikę aplikacji.\n",
    "\n",
    "**Pytanie kontrolne:** Kiedy warto pozostać przy `sqlite3` zamiast sięgać po ORM?\n"
   ]
  },
  {
   "cell_type": "markdown",
   "id": "ac9e6e13",
   "metadata": {},
   "source": [
    "### 🧩 Zadanie 3\n",
    "Zdefiniuj model `Employee` w SQLAlchemy z polami `id`, `name`, `salary`, dodaj 3 rekordy i wypisz pracowników o pensji powyżej 5000.\n"
   ]
  },
  {
   "cell_type": "code",
   "execution_count": null,
   "id": "221db5ca",
   "metadata": {},
   "outputs": [],
   "source": [
    "# Rozwiązanie Zadania 3\n",
    "from sqlalchemy import Column, Integer, String, create_engine\n",
    "from sqlalchemy.orm import declarative_base, Session\n",
    "\n",
    "sa_engine = create_engine(\"sqlite+pysqlite:///:memory:\", echo=False)\n",
    "SA_Base = declarative_base()\n",
    "\n",
    "class EmployeeModel(SA_Base):\n",
    "    __tablename__ = \"employees_task\"\n",
    "    id = Column(Integer, primary_key=True)\n",
    "    name = Column(String, nullable=False)\n",
    "    salary = Column(Integer, nullable=False)\n",
    "\n",
    "SA_Base.metadata.create_all(sa_engine)\n",
    "\n",
    "with Session(sa_engine) as session:\n",
    "    session.add_all(\n",
    "        [\n",
    "            EmployeeModel(name=\"Adam\", salary=4800),\n",
    "            EmployeeModel(name=\"Beata\", salary=5200),\n",
    "            EmployeeModel(name=\"Celina\", salary=6500),\n",
    "        ]\n",
    "    )\n",
    "    session.commit()\n",
    "\n",
    "with Session(sa_engine) as session:\n",
    "    rich = session.query(EmployeeModel).filter(EmployeeModel.salary > 5000).all()\n",
    "    print([(emp.name, emp.salary) for emp in rich])\n"
   ]
  },
  {
   "cell_type": "markdown",
   "id": "01132497",
   "metadata": {},
   "source": [
    "## 5. Walidacja i serializacja z Pydantic\n",
    "Pydantic automatycznie waliduje dane na podstawie adnotacji typów i wspiera integrację z ORM.\n"
   ]
  },
  {
   "cell_type": "code",
   "execution_count": null,
   "id": "78c6e644",
   "metadata": {},
   "outputs": [],
   "source": [
    "from pydantic import BaseModel, EmailStr, ValidationError, Field\n",
    "from typing import List\n",
    "from datetime import datetime\n",
    "\n",
    "class Profile(BaseModel):\n",
    "    bio: str = Field(max_length=140)\n",
    "    tags: List[str]\n",
    "\n",
    "class UserModel(BaseModel):\n",
    "    name: str\n",
    "    email: EmailStr\n",
    "    age: int\n",
    "    joined_at: datetime | None = None\n",
    "    profile: Profile | None = None\n",
    "\n",
    "payload = {\n",
    "    \"name\": \"Ada\",\n",
    "    \"email\": \"ada@example.com\",\n",
    "    \"age\": 28,\n",
    "    \"joined_at\": \"2023-05-05T10:00:00\",\n",
    "    \"profile\": {\"bio\": \"Mentorka Pythona\", \"tags\": [\"python\", \"mentor\"]},\n",
    "}\n",
    "\n",
    "user = UserModel(**payload)\n",
    "print(user.dict())\n",
    "\n",
    "invalid_payload = {\"name\": \"Beata\", \"email\": \"wrong\", \"age\": \"trzydzieści\"}\n",
    "try:\n",
    "    UserModel(**invalid_payload)\n",
    "except ValidationError as exc:\n",
    "    print(exc)\n"
   ]
  },
  {
   "cell_type": "markdown",
   "id": "b5f78c70",
   "metadata": {},
   "source": [
    "### Integracja z ORM (`orm_mode`)\n"
   ]
  },
  {
   "cell_type": "code",
   "execution_count": null,
   "id": "3028b318",
   "metadata": {},
   "outputs": [],
   "source": [
    "from pydantic import BaseModel\n",
    "from sqlalchemy import Column, Integer, String, create_engine\n",
    "from sqlalchemy.orm import declarative_base, Session\n",
    "\n",
    "orm_engine = create_engine(\"sqlite+pysqlite:///:memory:\")\n",
    "OrmBase = declarative_base()\n",
    "\n",
    "class OrmUser(OrmBase):\n",
    "    __tablename__ = \"orm_users\"\n",
    "    id = Column(Integer, primary key=True)\n",
    "    name = Column(String)\n",
    "    email = Column(String)\n",
    "\n",
    "OrmBase.metadata.create_all(orm_engine)\n",
    "with Session(orm_engine) as session:\n",
    "    session.add_all([\n",
    "        OrmUser(name=\"Ania\", email=\"ania@example.com\"),\n",
    "        OrmUser(name=\"Kuba\", email=\"kuba@example.com\"),\n",
    "    ])\n",
    "    session.commit()\n",
    "\n",
    "class OrmUserModel(BaseModel):\n",
    "    id: int\n",
    "    name: str\n",
    "    email: EmailStr\n",
    "\n",
    "    class Config:\n",
    "        orm_mode = True\n",
    "\n",
    "with Session(orm_engine) as session:\n",
    "    users = session.query(OrmUser).all()\n",
    "    payload = [OrmUserModel.from_orm(u).dict() for u in users]\n",
    "    print(payload)\n"
   ]
  },
  {
   "cell_type": "markdown",
   "id": "84fc8197",
   "metadata": {},
   "source": [
    "**Podsumowanie:** Pydantic zapewnia walidację i serializację, a tryb `orm_mode` pozwala łatwo mapować obiekty ORM.\n",
    "\n",
    "**Pytanie kontrolne:** Co się stanie, gdy Pydantic dostanie dane niezgodne z typem?\n"
   ]
  },
  {
   "cell_type": "markdown",
   "id": "524c547a",
   "metadata": {},
   "source": [
    "### 🧩 Zadanie 4\n",
    "Utwórz model `UserModel` (Pydantic) z polami `name`, `email`, `age`. Zwaliduj dane z JSON-a i zapisz poprawnych użytkowników do SQLite.\n"
   ]
  },
  {
   "cell_type": "code",
   "execution_count": null,
   "id": "7955f56f",
   "metadata": {},
   "outputs": [],
   "source": [
    "# Rozwiązanie Zadania 4\n",
    "import json\n",
    "import sqlite3\n",
    "from pathlib import Path\n",
    "from pydantic import BaseModel, EmailStr, ValidationError\n",
    "\n",
    "class SimpleUser(BaseModel):\n",
    "    name: str\n",
    "    email: EmailStr\n",
    "    age: int\n",
    "\n",
    "json_payload = json.dumps([\n",
    "    {\"name\": \"Adam\", \"email\": \"adam@example.com\", \"age\": 32},\n",
    "    {\"name\": \"Beata\", \"email\": \"invalid\", \"age\": 29},\n",
    "])\n",
    "\n",
    "records = json.loads(json_payload)\n",
    "validated: list[SimpleUser] = []\n",
    "for record in records:\n",
    "    try:\n",
    "        validated.append(SimpleUser(**record))\n",
    "    except ValidationError as exc:\n",
    "        print(\"Błędny rekord:\", record, exc)\n",
    "\n",
    "db_file = Path(\"zad4_users.db\")\n",
    "db_file.unlink(missing_ok=True)\n",
    "\n",
    "with sqlite3.connect(db_file) as conn:\n",
    "    cur = conn.cursor()\n",
    "    cur.execute(\"CREATE TABLE users (name TEXT, email TEXT, age INTEGER)\")\n",
    "    cur.executemany(\n",
    "        \"INSERT INTO users VALUES (?, ?, ?)\",\n",
    "        [(u.name, u.email, u.age) for u in validated],\n",
    "    )\n",
    "    conn.commit()\n",
    "\n",
    "with sqlite3.connect(db_file) as conn:\n",
    "    cur = conn.cursor()\n",
    "    cur.execute(\"SELECT * FROM users\")\n",
    "    print(cur.fetchall())\n"
   ]
  },
  {
   "cell_type": "markdown",
   "id": "7faf101f",
   "metadata": {},
   "source": [
    "## 6. Połączenie: ORM + Pydantic + JSON\n",
    "Tworzymy pipeline: baza → Pydantic → JSON oraz JSON → Pydantic → baza.\n"
   ]
  },
  {
   "cell_type": "code",
   "execution_count": null,
   "id": "2daf83ac",
   "metadata": {},
   "outputs": [],
   "source": [
    "from pony.orm import Database, Required, db_session, select\n",
    "from pydantic import BaseModel, EmailStr\n",
    "import json\n",
    "from pathlib import Path\n",
    "\n",
    "combo_db = Database()\n",
    "\n",
    "class ComboUser(combo_db.Entity):\n",
    "    name = Required(str)\n",
    "    email = Required(str)\n",
    "    age = Required(int)\n",
    "\n",
    "combo_db.bind(provider=\"sqlite\", filename=\":memory:\")\n",
    "combo_db.generate_mapping(create_tables=True)\n",
    "\n",
    "with db_session:\n",
    "    ComboUser(name=\"Ania\", email=\"ania@example.com\", age=25)\n",
    "    ComboUser(name=\"Kuba\", email=\"kuba@example.com\", age=31)\n",
    "\n",
    "class ComboUserModel(BaseModel):\n",
    "    name: str\n",
    "    email: EmailStr\n",
    "    age: int\n",
    "\n",
    "    class Config:\n",
    "        orm_mode = True\n",
    "\n",
    "with db_session:\n",
    "    users = select(u for u in ComboUser)[:]\n",
    "    validated = [ComboUserModel.from_orm(u) for u in users]\n",
    "\n",
    "json_path = Path(\"combo_users.json\")\n",
    "json_path.write_text(\n",
    "    json.dumps([user.dict() for user in validated], indent=2, ensure_ascii=False),\n",
    "    encoding=\"utf-8\",\n",
    ")\n",
    "print(json_path.read_text(encoding=\"utf-8\"))\n"
   ]
  },
  {
   "cell_type": "markdown",
   "id": "f49a4b3c",
   "metadata": {},
   "source": [
    "**Podsumowanie:** Walidacja przed serializacją do JSON chroni przed błędnymi danymi i ułatwia integrację.\n",
    "\n",
    "**Pytanie kontrolne:** Dlaczego warto walidować dane wychodzące z bazy przed zapisaniem do pliku?\n"
   ]
  },
  {
   "cell_type": "markdown",
   "id": "05311a0b",
   "metadata": {},
   "source": [
    "### 🧩 Zadanie 5\n",
    "Pobierz wszystkich użytkowników z Pony ORM, przekształć ich w modele Pydantic i zapisz do pliku `users.json`.\n"
   ]
  },
  {
   "cell_type": "code",
   "execution_count": null,
   "id": "3958015e",
   "metadata": {},
   "outputs": [],
   "source": [
    "# Rozwiązanie Zadania 5\n",
    "from pony.orm import Database, Required, db_session, select\n",
    "from pydantic import BaseModel, EmailStr\n",
    "import json\n",
    "from pathlib import Path\n",
    "\n",
    "user_db = Database()\n",
    "\n",
    "class UserEntity(user_db.Entity):\n",
    "    name = Required(str)\n",
    "    email = Required(str)\n",
    "    age = Required(int)\n",
    "\n",
    "user_db.bind(provider=\"sqlite\", filename=\":memory:\")\n",
    "user_db.generate_mapping(create_tables=True)\n",
    "\n",
    "with db_session:\n",
    "    UserEntity(name=\"Adam\", email=\"adam@example.com\", age=30)\n",
    "    UserEntity(name=\"Beata\", email=\"beata@example.com\", age=27)\n",
    "\n",
    "class UserSchema(BaseModel):\n",
    "    name: str\n",
    "    email: EmailStr\n",
    "    age: int\n",
    "\n",
    "    class Config:\n",
    "        orm_mode = True\n",
    "\n",
    "with db_session:\n",
    "    users = select(u for u in UserEntity)[:]\n",
    "    payload = [UserSchema.from_orm(u).dict() for u in users]\n",
    "\n",
    "outfile = Path(\"users.json\")\n",
    "outfile.write_text(json.dumps(payload, indent=2, ensure_ascii=False), encoding=\"utf-8\")\n",
    "print(outfile.read_text(encoding=\"utf-8\"))\n"
   ]
  },
  {
   "cell_type": "markdown",
   "id": "43ec0a07",
   "metadata": {},
   "source": [
    "## 7. Dobre praktyki i podsumowanie\n",
    "- JSON + Pydantic do wymiany i walidacji danych.\n",
    "- SQLite do prototypów; rozważ migrację do pełnych baz dla większych projektów.\n",
    "- ORM-y (Pony, SQLAlchemy) upraszczają logikę domenową i relacje.\n",
    "- Nie ładuj niezaufanych plików Pickle.\n",
    "- Rozdzielaj walidację (Pydantic) od warstwy trwałości (ORM/baza).\n"
   ]
  },
  {
   "cell_type": "markdown",
   "id": "a4e781f4",
   "metadata": {},
   "source": [
    "**Podsumowanie:** Zintegrowane podejście do danych (serializacja + walidacja + trwałość) zwiększa bezpieczeństwo i jakość aplikacji.\n",
    "\n",
    "**Pytanie kontrolne:** Co ryzykujesz, przechowując krytyczne dane tylko w plikach JSON?\n"
   ]
  },
  {
   "cell_type": "markdown",
   "id": "2a09d6ac",
   "metadata": {},
   "source": [
    "## Sprawdź swoją wiedzę\n",
    "1. Czym różni się `pickle` od `json`?\n",
    "2. Po co używać `orm_mode=True` w Pydantic?\n",
    "3. Jakie zalety oferuje ORM w porównaniu z bezpośrednim `sqlite3`?\n"
   ]
  }
 ],
 "metadata": {
  "kernelspec": {
   "display_name": "Python 3 (ipykernel)",
   "language": "python",
   "name": "python3"
  },
  "language_info": {
   "codemirror_mode": {
    "name": "ipython",
    "version": 3
   },
   "file_extension": ".py",
   "mimetype": "text/x-python",
   "name": "python",
   "nbconvert_exporter": "python",
   "pygments_lexer": "ipython3",
   "version": "3.14.0"
  }
 },
 "nbformat": 4,
 "nbformat_minor": 5
}
