{
  "cells": [
    {
      "cell_type": "markdown",
      "metadata": {},
      "source": [
        "# Dobre praktyki, testy i jakość\n",
        "\n",
        "Od stylu kodu po testy automatyczne i statyczną analizę.\n"
      ]
    },
    {
      "cell_type": "markdown",
      "metadata": {},
      "source": [
        "## Cele\n",
        "- przypomnieć kluczowe narzędzia jakości (flake8, black, mypy)\n",
        "- zademonstrować podstawy testów w pytest\n",
        "- przedstawić techniki Code Review i CI\n"
      ]
    },
    {
      "cell_type": "markdown",
      "metadata": {},
      "source": [
        "## Styl i formatowanie\n",
        "PEP 8 definiuje konwencje stylu. `black` automatyzuje formatowanie.\n"
      ]
    },
    {
      "cell_type": "code",
      "execution_count": null,
      "metadata": {},
      "outputs": [],
      "source": [
        "bad = \"def add(x,y): return x+y\"\n",
        "print(bad)\n",
        "\n",
        "# black uformatuje funkcję do czytelnej postaci:\n",
        "print(\"Po black:\")\n",
        "print(\"def add(x, y):\n",
        "    return x + y\")\n"
      ]
    },
    {
      "cell_type": "markdown",
      "metadata": {},
      "source": [
        "## Linting i mypy\n",
        "`ruff`/`flake8` wykrywają problemy stylistyczne, `mypy` sprawdza typy.\n"
      ]
    },
    {
      "cell_type": "code",
      "execution_count": null,
      "metadata": {},
      "outputs": [],
      "source": [
        "example = \"\"\"\n",
        "# mypy wykryje błąd: przypisanie str do zmiennej oczekiwanej jako int\n",
        "value: int = \"42\"\n",
        "\"\"\"\n",
        "print(example)\n"
      ]
    },
    {
      "cell_type": "markdown",
      "metadata": {},
      "source": [
        "## Testowanie z pytest\n",
        "Testy piszemy jako funkcje `test_*`. Używamy asercji i fixture.\n"
      ]
    },
    {
      "cell_type": "code",
      "execution_count": null,
      "metadata": {},
      "outputs": [],
      "source": [
        "test_example = \"\"\"\n",
        "import pytest\n",
        "\n",
        "@pytest.fixture\n",
        "def sample_user():\n",
        "    return {\"name\": \"Ada\", \"age\": 28}\n",
        "\n",
        "def test_age(sample_user):\n",
        "    assert sample_user[\"age\"] >= 18\n",
        "\"\"\"\n",
        "print(test_example)\n"
      ]
    },
    {
      "cell_type": "markdown",
      "metadata": {},
      "source": [
        "**Podsumowanie:** Automatyzacja jakości skraca feedback loop i ogranicza regresje.\n",
        "\n",
        "**Pytanie kontrolne:** Dlaczego warto uruchamiać lint i testy w CI?\n"
      ]
    },
    {
      "cell_type": "markdown",
      "metadata": {},
      "source": [
        "### 🧩 Zadanie 1\n",
        "Przygotuj konfigurację `pyproject.toml` dla `black` i `ruff`, ustawiając maksymalną długość linii na 88 znaków.\n"
      ]
    },
    {
      "cell_type": "code",
      "execution_count": null,
      "metadata": {},
      "outputs": [],
      "source": [
        "# Rozwiązanie Zadania 1\n",
        "pyproject = \"\"\"\n",
        "[tool.black]\n",
        "line-length = 88\n",
        "target-version = [\"py310\"]\n",
        "\n",
        "[tool.ruff]\n",
        "line-length = 88\n",
        "select = [\"E\", \"F\", \"I\"]\n",
        "ignore = [\"E203\"]\n",
        "\"\"\"\n",
        "print(pyproject)\n"
      ]
    },
    {
      "cell_type": "markdown",
      "metadata": {},
      "source": [
        "### 🧩 Zadanie 2\n",
        "Napisz dwa testy w pytest: jeden przechodzący, drugi oczekujący wyjątku (`pytest.raises`).\n"
      ]
    },
    {
      "cell_type": "code",
      "execution_count": null,
      "metadata": {},
      "outputs": [],
      "source": [
        "# Rozwiązanie Zadania 2\n",
        "pytest_snippet = \"\"\"\n",
        "import pytest\n",
        "\n",
        "def divide(a, b):\n",
        "    return a / b\n",
        "\n",
        "def test_divide_positive():\n",
        "    assert divide(10, 2) == 5\n",
        "\n",
        "def test_divide_zero():\n",
        "    with pytest.raises(ZeroDivisionError):\n",
        "        divide(1, 0)\n",
        "\"\"\"\n",
        "print(pytest_snippet)\n"
      ]
    }
  ],
  "metadata": {
    "kernelspec": {
      "display_name": "Python 3",
      "language": "python",
      "name": "python3"
    },
    "language_info": {
      "name": "python",
      "version": "3.10"
    }
  },
  "nbformat": 4,
  "nbformat_minor": 5
}