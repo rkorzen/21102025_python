{
 "cells": [
  {
   "cell_type": "markdown",
   "metadata": {},
   "source": [
    "# Programowanie wielowątkowe\n",
    "\n",
    "Od GIL po bezpieczną współbieżność i `concurrent.futures`.\n"
   ],
   "id": "b8b4462c1d2304cf"
  },
  {
   "cell_type": "markdown",
   "metadata": {},
   "source": [
    "## Cele\n",
    "- zrozumieć ograniczenia GIL i kiedy wątki mają sens\n",
    "- nauczyć się korzystać z modułów `threading` i `concurrent.futures`\n",
    "- zarządzać współdzielonym stanem przy pomocy blokad\n"
   ],
   "id": "b4b13f23ea122c5a"
  },
  {
   "cell_type": "markdown",
   "metadata": {},
   "source": [
    "## Wątki i GIL\n",
    "Python umożliwia współbieżność I/O mimo blokady interpretacji.\n"
   ],
   "id": "42925d0420c9bd84"
  },
  {
   "cell_type": "code",
   "metadata": {
    "ExecuteTime": {
     "end_time": "2025-10-24T11:05:35.484202Z",
     "start_time": "2025-10-24T11:05:35.480736Z"
    }
   },
   "source": [
    "import threading\n",
    "\n",
    "print(\"Liczba aktywnych wątków:\", threading.active_count())\n"
   ],
   "id": "a303851692c8b5d5",
   "outputs": [
    {
     "name": "stdout",
     "output_type": "stream",
     "text": [
      "Liczba aktywnych wątków: 9\n"
     ]
    }
   ],
   "execution_count": 2
  },
  {
   "cell_type": "markdown",
   "metadata": {},
   "source": [
    "## Podstawowy przykład z `threading`\n",
    "Tworzymy wątki do zadań I/O, używając `Lock` dla bezpieczeństwa.\n"
   ],
   "id": "8a485c2d20ea1636"
  },
  {
   "cell_type": "code",
   "metadata": {
    "ExecuteTime": {
     "end_time": "2025-10-24T11:05:37.926656Z",
     "start_time": "2025-10-24T11:05:37.718723Z"
    }
   },
   "source": [
    "import time\n",
    "from threading import Thread, Lock\n",
    "\n",
    "lock = Lock()\n",
    "\n",
    "results = []\n",
    "\n",
    "def fetch(name: str, delay: float):\n",
    "    time.sleep(delay)  # symulacja oczekiwania I/O\n",
    "    with lock:  # sekcja krytyczna\n",
    "        results.append((name, delay))\n",
    "\n",
    "threads = [Thread(target=fetch, args=(f\"t{i}\", i * 0.1)) for i in range(3)]\n",
    "for thread in threads:\n",
    "    thread.start()\n",
    "for thread in threads:\n",
    "    thread.join()\n",
    "\n",
    "print(results)\n"
   ],
   "id": "41460da6b758f66f",
   "outputs": [
    {
     "name": "stdout",
     "output_type": "stream",
     "text": [
      "[('t0', 0.0), ('t1', 0.1), ('t2', 0.2)]\n"
     ]
    }
   ],
   "execution_count": 3
  },
  {
   "cell_type": "markdown",
   "metadata": {},
   "source": [
    "## `ThreadPoolExecutor`\n",
    "Wyższy poziom abstrakcji do równoległego uruchamiania funkcji.\n"
   ],
   "id": "e346fd1e706de50b"
  },
  {
   "cell_type": "code",
   "metadata": {
    "ExecuteTime": {
     "end_time": "2025-10-24T11:05:46.562270Z",
     "start_time": "2025-10-24T11:05:46.453931Z"
    }
   },
   "source": [
    "from concurrent.futures import ThreadPoolExecutor, as_completed\n",
    "\n",
    "urls = [\"https://example.com\", \"https://python.org\", \"https://openai.com\"]\n",
    "\n",
    "def download(url):\n",
    "    time.sleep(0.1)\n",
    "    return url, len(url)\n",
    "\n",
    "with ThreadPoolExecutor(max_workers=3) as executor:\n",
    "    futures = [executor.submit(download, url) for url in urls]\n",
    "    for future in as_completed(futures):\n",
    "        print(future.result())\n"
   ],
   "id": "305660d8329e2daf",
   "outputs": [
    {
     "name": "stdout",
     "output_type": "stream",
     "text": [
      "('https://example.com', 19)\n",
      "('https://python.org', 18)\n",
      "('https://openai.com', 18)\n"
     ]
    }
   ],
   "execution_count": 4
  },
  {
   "cell_type": "markdown",
   "metadata": {},
   "source": [
    "**Podsumowanie:** Wątki przyspieszają operacje I/O, lecz wymagają ochrony stanu.\n",
    "\n",
    "**Pytanie kontrolne:** Dlaczego wątki nie przyspieszą obliczeń CPU-bound w CPythonie?\n"
   ],
   "id": "9c7d1703aaab70d7"
  },
  {
   "cell_type": "markdown",
   "metadata": {},
   "source": [
    "### 🧩 Zadanie 1\n",
    "Zaimplementuj pulę wątków, która pobiera dane z listy URL-i (symulacja `sleep`) i mierzy całkowity czas wykonania.\n"
   ],
   "id": "2c98d7498a1834be"
  },
  {
   "cell_type": "code",
   "metadata": {
    "ExecuteTime": {
     "end_time": "2025-10-24T11:06:11.230757Z",
     "start_time": "2025-10-24T11:06:11.018777Z"
    }
   },
   "source": [
    "# Rozwiązanie Zadania 1\n",
    "import time\n",
    "from concurrent.futures import ThreadPoolExecutor\n",
    "\n",
    "urls = [f\"https://service/{i}\" for i in range(5)]\n",
    "\n",
    "def fake_request(url):\n",
    "    time.sleep(0.2)\n",
    "    return url\n",
    "\n",
    "start = time.perf_counter()\n",
    "with ThreadPoolExecutor(max_workers=5) as executor:\n",
    "    list(executor.map(fake_request, urls))\n",
    "elapsed = time.perf_counter() - start\n",
    "print(f\"Czas całkowity: {elapsed:.2f}s\")\n"
   ],
   "id": "b275186a181a1a37",
   "outputs": [
    {
     "name": "stdout",
     "output_type": "stream",
     "text": [
      "Czas całkowity: 0.21s\n"
     ]
    }
   ],
   "execution_count": 5
  },
  {
   "cell_type": "markdown",
   "metadata": {},
   "source": [
    "### 🧩 Zadanie 2\n",
    "Stwórz licznik współdzielony między wątkami, zabezpieczony blokadą, i zademonstruj\n",
    "problem bez blokady.\n"
   ],
   "id": "e045427a3295a6ae"
  },
  {
   "cell_type": "code",
   "metadata": {
    "ExecuteTime": {
     "end_time": "2025-10-24T11:06:15.736405Z",
     "start_time": "2025-10-24T11:06:15.674721Z"
    }
   },
   "source": [
    "# Rozwiązanie Zadania 2\n",
    "from threading import Thread, Lock\n",
    "\n",
    "counter = 0\n",
    "lock = Lock()\n",
    "\n",
    "def increment(use_lock):\n",
    "    global counter\n",
    "    for _ in range(100_000):\n",
    "        if use_lock:\n",
    "            with lock:\n",
    "                counter += 1\n",
    "        else:\n",
    "            counter += 1\n",
    "\n",
    "for mode in (False, True):\n",
    "    counter = 0\n",
    "    threads = [Thread(target=increment, args=(mode,)) for _ in range(2)]\n",
    "    for thread in threads:\n",
    "        thread.start()\n",
    "    for thread in threads:\n",
    "        thread.join()\n",
    "    print(\"Z blokadą\" if mode else \"Bez blokady\", counter)\n"
   ],
   "id": "33791e1b5742f4e7",
   "outputs": [
    {
     "name": "stdout",
     "output_type": "stream",
     "text": [
      "Bez blokady 200000\n",
      "Z blokadą 200000\n"
     ]
    }
   ],
   "execution_count": 6
  },
  {
   "metadata": {},
   "cell_type": "code",
   "outputs": [],
   "execution_count": null,
   "source": "",
   "id": "6c3cf5a740ac045"
  }
 ],
 "metadata": {
  "kernelspec": {
   "display_name": "Python 3",
   "language": "python",
   "name": "python3"
  },
  "language_info": {
   "name": "python",
   "version": "3.10"
  }
 },
 "nbformat": 4,
 "nbformat_minor": 5
}
